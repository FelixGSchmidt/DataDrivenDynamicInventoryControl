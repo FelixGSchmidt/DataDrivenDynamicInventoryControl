{
 "cells": [
  {
   "cell_type": "markdown",
   "id": "5dd648f4-d213-4288-a8a7-2dfacb420889",
   "metadata": {},
   "source": [
    "# Imports"
   ]
  },
  {
   "cell_type": "code",
   "execution_count": 1,
   "id": "ec6f6426-35da-47c6-b50f-269f72aca747",
   "metadata": {},
   "outputs": [],
   "source": [
    "# Import utils\n",
    "import numpy as np\n",
    "import pandas as pd\n",
    "import copy\n",
    "import time\n",
    "import datetime as dt\n",
    "import pickle\n",
    "import json\n",
    "from pathlib import Path\n",
    "import joblib\n",
    "from joblib import dump, load, Parallel, delayed\n",
    "import os\n",
    "import itertools\n",
    "import contextlib\n",
    "from tqdm import tqdm\n",
    "\n",
    "from Experiment import Evaluation"
   ]
  },
  {
   "cell_type": "code",
   "execution_count": 2,
   "id": "1a4eb4aa-5ce0-426f-b727-26e2a89d411b",
   "metadata": {},
   "outputs": [],
   "source": [
    "# Setup the experiment\n",
    "experiment_setup = dict(\n",
    "\n",
    "    # Set paths\n",
    "    path_data = '/home/fesc/DDDInventoryControl/Data',\n",
    "    path_weightsmodel = '/home/fesc/DDDInventoryControl/Data/WeightsModel',\n",
    "    path_results = '/home/fesc/DDDInventoryControl/Data/Results',\n",
    "    \n",
    "    # Weights models\n",
    "    global_weightsmodel = 'rfwm_global', \n",
    "    local_weightsmodel = 'rfwm_local', \n",
    "\n",
    "    # Optimization models\n",
    "    GwSAA = 'GwSAA',\n",
    "    GwSAAR = 'GwSAAR',\n",
    "    wSAA = 'wSAA',\n",
    "    wSAAR = 'wSAAR',\n",
    "    SAA = 'SAA',\n",
    "    ExPost = 'ExPost',\n",
    "    \n",
    "    # Set identifier of start period of testing horizon\n",
    "    timePeriodsTestStart = 114,\n",
    "\n",
    "    # Set product identifiers\n",
    "    products = range(1,460+1),   # Products (SKUs) k=1,...,M\n",
    "    \n",
    "    # Set problem params\n",
    "    T = 13,             # Planning horizon T\n",
    "    ts = range(1,13+1), # Periods t=1,...,T of the planning horizon\n",
    "    taus = [0,1,2,3,4], # Look-aheads tau=0,...,4\n",
    "    es = [1,3,6,9,12],  # Uncertainty set specifications e=1,...,12\n",
    "       \n",
    "    # Set cost params\n",
    "    cost_params = [\n",
    "        {'CR': 0.50, 'K': 100, 'u': 0.5, 'h': 1, 'b': 1},\n",
    "        {'CR': 0.75, 'K': 100, 'u': 0.5, 'h': 1, 'b': 3},\n",
    "        {'CR': 0.90, 'K': 100, 'u': 0.5, 'h': 1, 'b': 9}\n",
    "    ]\n",
    ")\n",
    "\n",
    "# Make all experiment variables visible locally\n",
    "locals().update(experiment_setup)\n",
    "\n",
    "# Initialize Evaluation\n",
    "evaluation = Evaluation()"
   ]
  },
  {
   "cell_type": "markdown",
   "id": "27d945cf-5038-44f8-9efb-dbe7a90218cf",
   "metadata": {},
   "source": [
    "# Experiment post-processing"
   ]
  },
  {
   "cell_type": "markdown",
   "id": "da9232b7-1771-4494-ad5c-49a6a654dc6a",
   "metadata": {},
   "source": [
    "## Concatenate and aggregate results per model\n",
    "\n",
    "Concatenate all results per model (for different $\\tau=0,...,4$ and different $e=\\{1,3,6,9,12\\}$ for robust models). Aggregate over periods $t=1,...,T$ for each cost parameter setting, look-ahead, uncertainty parameter, and product."
   ]
  },
  {
   "cell_type": "code",
   "execution_count": null,
   "id": "5c0d6001-6d9f-4d9a-88ff-2687529a6964",
   "metadata": {},
   "outputs": [],
   "source": [
    "# Rolling Horizon Global Weighted SAA (GwSAA)\n",
    "results = evaluation.concatenate_results(path_results+'/'+GwSAA, GwSAA, products, taus)\n",
    "results.to_csv(path_results+'/'+GwSAA+'_results.csv', sep=',', index=False)\n",
    "results_agg = evaluation.aggregate_results(results, ['CR', 'tau', 'product'])\n",
    "results_agg.to_csv(path_results+'/'+GwSAA+'_results_summary.csv', sep=',', index=False)"
   ]
  },
  {
   "cell_type": "code",
   "execution_count": null,
   "id": "76ee1eb7-d6eb-496e-8333-e3f0e9d1f2b0",
   "metadata": {},
   "outputs": [],
   "source": [
    "# Rolling Horizon Local Weighted SAA (wSAA)\n",
    "results = evaluation.concatenate_results(path_results+'/'+wSAA, wSAA, products, taus)\n",
    "results.to_csv(path_results+'/'+wSAA+'_results.csv', sep=',', index=False)\n",
    "results_agg = evaluation.aggregate_results(results, ['CR', 'tau', 'product'])\n",
    "results_agg.to_csv(path_results+'/'+wSAA+'_results_summary.csv', sep=',', index=False)"
   ]
  },
  {
   "cell_type": "code",
   "execution_count": null,
   "id": "083b6921-d1c3-406d-9811-72aff22c389a",
   "metadata": {},
   "outputs": [],
   "source": [
    "# Rolling Horizon Global Robust Weighted SAA (GwSAA-R)\n",
    "results = evaluation.concatenate_results(path_results+'/'+GwSAAR, GwSAAR, products, taus, es)\n",
    "results.to_csv(path_results+'/'+GwSAAR+'_results.csv', sep=',', index=False)\n",
    "results_agg = evaluation.aggregate_results(results, ['CR', 'tau', 'e', 'product'])\n",
    "results_agg.to_csv(path_results+'/'+GwSAAR+'_results_summary.csv', sep=',', index=False)"
   ]
  },
  {
   "cell_type": "code",
   "execution_count": null,
   "id": "c3e23703-a628-461f-ab93-3c33d3adb718",
   "metadata": {},
   "outputs": [],
   "source": [
    "# Rolling Horizon Local Robust Weighted SAA (wSAA-R)\n",
    "results = evaluation.concatenate_results(path_results+'/'+wSAAR, wSAAR, products, taus, es)\n",
    "results.to_csv(path_results+'/'+wSAAR+'_results.csv', sep=',', index=False)\n",
    "results_agg = evaluation.aggregate_results(results, ['CR', 'tau', 'e', 'product'])\n",
    "results_agg.to_csv(path_results+'/'+wSAAR+'_results_summary.csv', sep=',', index=False)"
   ]
  },
  {
   "cell_type": "code",
   "execution_count": null,
   "id": "c41594a0-5a67-4114-8982-5ee8159c1b0a",
   "metadata": {},
   "outputs": [],
   "source": [
    "# Rolling Horizon Local SAA (SAA)\n",
    "results = evaluation.concatenate_results(path_results+'/'+SAA, SAA, products, taus)\n",
    "results.to_csv(path_results+'/'+SAA+'_results.csv', sep=',', index=False)\n",
    "results_agg = evaluation.aggregate_results(results, ['CR', 'tau', 'product'])\n",
    "results_agg.to_csv(path_results+'/'+SAA+'_results_summary.csv', sep=',', index=False)"
   ]
  },
  {
   "cell_type": "code",
   "execution_count": null,
   "id": "cdc7de99-7ca5-48f3-9c1b-5db7fa7be0dd",
   "metadata": {},
   "outputs": [],
   "source": [
    "# Ex-post Clairvoyant (ExPost)\n",
    "results = evaluation.concatenate_results(path_results+'/'+ExPost, ExPost, products, taus=[None])\n",
    "results.to_csv(path_results+'/'+ExPost+'_results.csv', sep=',', index=False)\n",
    "results_agg = evaluation.aggregate_results(results, ['CR', 'product'])\n",
    "results_agg.to_csv(path_results+'/'+ExPost+'_results_summary.csv', sep=',', index=False)"
   ]
  },
  {
   "cell_type": "markdown",
   "id": "aa601707-7ac4-4203-abdf-96b8c303cb21",
   "metadata": {},
   "source": [
    "## Select ex-post best model parameters per model\n",
    "\n",
    "For each model we select the ex-post best model parameters $\\tau$ and $e$ that minimize cost over the test planning horizon for our empirical evaluation. That is, for a given model we select the ex-post best $\\tau$ and $e$ for each product and for each cost paramater setting."
   ]
  },
  {
   "cell_type": "code",
   "execution_count": null,
   "id": "456b1aa5-363d-4f85-8d95-d52a79732473",
   "metadata": {},
   "outputs": [],
   "source": [
    "# Load aggregated results\n",
    "results_GwSAA = pd.read_csv(path_results+'/'+GwSAA+'_results_summary.csv')\n",
    "results_wSAA = pd.read_csv(path_results+'/'+wSAA+'_results_summary.csv')\n",
    "results_GwSAAR = pd.read_csv(path_results+'/'+GwSAAR+'_results_summary.csv')\n",
    "results_wSAAR = pd.read_csv(path_results+'/'+wSAAR+'_results_summary.csv')\n",
    "results_SAA = pd.read_csv(path_results+'/'+SAA+'_results_summary.csv')\n",
    "results_ExPost = pd.read_csv(path_results+'/'+ExPost+'_results_summary.csv')"
   ]
  },
  {
   "cell_type": "code",
   "execution_count": null,
   "id": "aeaa5ff0-dbc7-45a7-86d3-b280722909b8",
   "metadata": {},
   "outputs": [],
   "source": [
    "# Find best tau\n",
    "results_GwSAA_best = evaluation.best_tau(results_GwSAA, results_ExPost, groupby=['CR', 'product'])\n",
    "results_wSAA_best = evaluation.best_tau(results_wSAA, results_ExPost, groupby=['CR', 'product'])\n",
    "results_GwSAAR_best = evaluation.best_tau(results_GwSAAR, results_ExPost, groupby=['CR', 'product', 'e'])\n",
    "results_wSAAR_best = evaluation.best_tau(results_wSAAR, results_ExPost, groupby=['CR', 'product', 'e'])\n",
    "results_SAA_best = evaluation.best_tau(results_SAA, results_ExPost, groupby=['CR', 'product'])"
   ]
  },
  {
   "cell_type": "code",
   "execution_count": null,
   "id": "b161b722-c69d-4d60-8176-0cc8f2b152d5",
   "metadata": {},
   "outputs": [],
   "source": [
    "# Find best e given best tau for robust models\n",
    "results_GwSAAR_best = evaluation.best_e(results_GwSAAR_best, results_ExPost, groupby=['CR', 'product'])\n",
    "results_wSAAR_best = evaluation.best_e(results_wSAAR_best, results_ExPost, groupby=['CR', 'product'])"
   ]
  },
  {
   "cell_type": "code",
   "execution_count": null,
   "id": "a5b0efb7-07e8-4608-ac4b-263bf361f53c",
   "metadata": {},
   "outputs": [],
   "source": [
    "# Combine to one results data set\n",
    "cols = ['model', 'CR', 'tau', 'e', 'product', 'K', 'u', 'h', 'b', \n",
    "        'I', 'q', 'I_q', 'y', 'I_q_y', 'c_o', 'c_s', 'cost',\n",
    "       'defaulted', 'solutions', 'gap', 'exec_time_sec', 'cpu_time_sec']\n",
    "\n",
    "results_GwSAA_best['model'] = copy.deepcopy(GwSAA)\n",
    "results_GwSAA_best['e'] = None\n",
    "results_GwSAA_best = results_GwSAA_best[cols]\n",
    "\n",
    "results_wSAA_best['model'] = copy.deepcopy(wSAA)\n",
    "results_wSAA_best['e'] = None\n",
    "results_wSAA_best = results_wSAA_best[cols]\n",
    "\n",
    "results_GwSAAR_best['model'] = copy.deepcopy(GwSAAR)\n",
    "results_GwSAAR_best = results_GwSAAR_best[cols]\n",
    "\n",
    "results_wSAAR_best['model'] = copy.deepcopy(wSAAR) \n",
    "results_wSAAR_best = results_wSAAR_best[cols]\n",
    "\n",
    "results = pd.concat([results_GwSAA_best, results_wSAA_best, results_GwSAAR_best, results_wSAAR_best])"
   ]
  },
  {
   "cell_type": "code",
   "execution_count": null,
   "id": "feb9102e-0833-4665-84a1-c52664b07e46",
   "metadata": {},
   "outputs": [],
   "source": [
    "# Add SAA and ExPost\n",
    "results = pd.merge(left=results,\n",
    "                   right=results_SAA_best[['CR', 'product', 'cost']],\n",
    "                   on=['CR', 'product'],\n",
    "                   suffixes=('', '_SAA'))\n",
    "results = pd.merge(left=results,\n",
    "                   right=results_ExPost[['CR', 'product', 'cost']],\n",
    "                   on=['CR', 'product'],\n",
    "                   suffixes=('', '_ExPost'))"
   ]
  },
  {
   "cell_type": "code",
   "execution_count": null,
   "id": "471901d4-a4b7-41ba-a7da-a0c825e9a848",
   "metadata": {},
   "outputs": [],
   "source": [
    "# Save\n",
    "results.to_csv(path_results+'/Results_summary.csv', sep=',', index=False)"
   ]
  },
  {
   "cell_type": "code",
   "execution_count": null,
   "id": "728f37b8-a47d-4745-a69a-e04ef4245c1d",
   "metadata": {},
   "outputs": [],
   "source": []
  },
  {
   "cell_type": "code",
   "execution_count": null,
   "id": "15744ea8-7cb3-45bf-8fa7-ea3d020c068d",
   "metadata": {},
   "outputs": [],
   "source": []
  },
  {
   "cell_type": "code",
   "execution_count": null,
   "id": "ffff5fcb-2fac-4161-9ede-bcb5042d8dee",
   "metadata": {},
   "outputs": [],
   "source": []
  },
  {
   "cell_type": "code",
   "execution_count": null,
   "id": "01635ad6-2221-4f62-8eb5-021bafe42357",
   "metadata": {},
   "outputs": [],
   "source": []
  },
  {
   "cell_type": "code",
   "execution_count": null,
   "id": "1748e281-aa8b-4249-a870-e7689e63e0b6",
   "metadata": {},
   "outputs": [],
   "source": []
  },
  {
   "cell_type": "code",
   "execution_count": null,
   "id": "fe739e5e-a4f2-4972-ad74-fdeb5d6b413b",
   "metadata": {},
   "outputs": [],
   "source": []
  },
  {
   "cell_type": "code",
   "execution_count": null,
   "id": "6f8dd92b-65c2-4d26-8bca-96e01e0d7b68",
   "metadata": {},
   "outputs": [],
   "source": []
  },
  {
   "cell_type": "code",
   "execution_count": null,
   "id": "ef635888-2b65-49f5-9a91-300d60ecf807",
   "metadata": {},
   "outputs": [],
   "source": []
  },
  {
   "cell_type": "code",
   "execution_count": null,
   "id": "d59f8f89-31e9-4927-be86-bbbe8b59eedf",
   "metadata": {},
   "outputs": [],
   "source": []
  },
  {
   "cell_type": "markdown",
   "id": "1a941ebb-ab74-4efc-8f11-e79e7ad937ff",
   "metadata": {},
   "source": [
    "# Empirical Evaluation"
   ]
  },
  {
   "cell_type": "code",
   "execution_count": null,
   "id": "d38a85d0-cf98-4805-a486-e639e99a1679",
   "metadata": {},
   "outputs": [],
   "source": [
    "# Load\n",
    "results = pd.read_csv(path_results+'/Results_summary.csv')"
   ]
  },
  {
   "cell_type": "code",
   "execution_count": null,
   "id": "63e1ced3-77ac-4b20-a89f-276e1bc5c9b7",
   "metadata": {},
   "outputs": [],
   "source": [
    "## Total relative cost"
   ]
  },
  {
   "cell_type": "code",
   "execution_count": null,
   "id": "e8147065-68e6-4287-b3be-21455171d992",
   "metadata": {},
   "outputs": [],
   "source": [
    "results_total = results.groupby(['CR', 'model']).agg({'cost': sum, 'cost_SAA': sum}).reset_index()\n",
    "results_total['relTotalCost'] = results_total.cost / results_total.cost_SAA\n",
    "results_total['diffToSAAinPercent'] = np.around((results_total.relTotalCost - 1)*100, 1)\n",
    "results_total[['CR', 'model', 'relTotalCost', 'diffToSAAinPercent']]"
   ]
  },
  {
   "cell_type": "code",
   "execution_count": null,
   "id": "fa59e8fc-5779-4b55-a041-add3af8defcd",
   "metadata": {},
   "outputs": [],
   "source": []
  },
  {
   "cell_type": "code",
   "execution_count": null,
   "id": "10982ee2-99f9-4d8f-9ede-082244956120",
   "metadata": {},
   "outputs": [],
   "source": [
    "## Per product relative cost"
   ]
  },
  {
   "cell_type": "code",
   "execution_count": null,
   "id": "09899f14-622a-4490-9232-48d8e27ec882",
   "metadata": {},
   "outputs": [],
   "source": [
    "results_perProduct = copy.deepcopy(results)\n",
    "results_perProduct['medianRelCost'] = (\n",
    "    (results_perProduct.cost == results_perProduct.cost_SAA) * 1  \n",
    "    + (results_perProduct.cost != results_perProduct.cost_SAA) * (results_perProduct.cost / results_perProduct.cost_SAA)\n",
    ")\n",
    "results_perProduct = results_perProduct.groupby(['CR', 'model']).agg({'medianRelCost': np.median}).reset_index()\n",
    "results_perProduct['diffToSAAinPercent'] = np.around((results_perProduct.medianRelCost - 1)*100, 1)\n",
    "results_perProduct[['CR', 'model', 'medianRelCost', 'diffToSAAinPercent']]"
   ]
  },
  {
   "cell_type": "code",
   "execution_count": null,
   "id": "4ed449d2-791f-4542-b95e-92e2c34709fa",
   "metadata": {},
   "outputs": [],
   "source": []
  },
  {
   "cell_type": "code",
   "execution_count": null,
   "id": "f3be5248-16b9-40b1-af9e-7f6f54355c0d",
   "metadata": {},
   "outputs": [],
   "source": []
  },
  {
   "cell_type": "markdown",
   "id": "3e2bd6eb-1ebd-40be-b53c-89bdac2570dc",
   "metadata": {},
   "source": [
    "## Total relative costs and relative costs per product"
   ]
  },
  {
   "cell_type": "markdown",
   "id": "528b0d5c-32f4-4066-bbc1-2cb97abeb365",
   "metadata": {},
   "source": [
    "### Total relative cost"
   ]
  },
  {
   "cell_type": "code",
   "execution_count": null,
   "id": "b484c3b6-9f9e-4584-b81a-5693bae75247",
   "metadata": {},
   "outputs": [],
   "source": []
  },
  {
   "cell_type": "code",
   "execution_count": null,
   "id": "e5867945-fd56-418e-9680-85006b8cc362",
   "metadata": {},
   "outputs": [],
   "source": []
  },
  {
   "cell_type": "markdown",
   "id": "231a3587-d7ea-4d1b-9042-432906fe25c2",
   "metadata": {},
   "source": [
    "### Per product relative cost"
   ]
  },
  {
   "cell_type": "code",
   "execution_count": null,
   "id": "98ed0341-2ec4-451f-b508-bbe6eb83373d",
   "metadata": {},
   "outputs": [],
   "source": []
  },
  {
   "cell_type": "code",
   "execution_count": null,
   "id": "1a853423-5a4c-40d3-84a4-186ef4fc7ba9",
   "metadata": {},
   "outputs": [],
   "source": []
  },
  {
   "cell_type": "markdown",
   "id": "ff8e0a07-d2ac-4247-9f6e-304bae3405a0",
   "metadata": {},
   "source": [
    "### Achieved service level"
   ]
  },
  {
   "cell_type": "code",
   "execution_count": null,
   "id": "d6ea591b-7ed7-4bdf-b76d-28e02a69d774",
   "metadata": {},
   "outputs": [],
   "source": []
  },
  {
   "cell_type": "code",
   "execution_count": null,
   "id": "abe63fbe-9576-4ec6-98ef-799261ebbec7",
   "metadata": {},
   "outputs": [],
   "source": []
  },
  {
   "cell_type": "markdown",
   "id": "a1ad001f-a991-4a49-8a41-f60fee021307",
   "metadata": {},
   "source": [
    "### Differences of per product relative costs"
   ]
  },
  {
   "cell_type": "code",
   "execution_count": null,
   "id": "db09aaf5-707a-450e-aef9-0eb0755ba79a",
   "metadata": {},
   "outputs": [],
   "source": []
  },
  {
   "cell_type": "code",
   "execution_count": null,
   "id": "b3e7549a-d4f2-467e-b3c7-f8711e83971f",
   "metadata": {},
   "outputs": [],
   "source": []
  },
  {
   "cell_type": "markdown",
   "id": "89e8a7ec-6693-48af-9e79-d3a6d2c10f40",
   "metadata": {},
   "source": [
    "### Statistical significance of differences of per product relative costs"
   ]
  },
  {
   "cell_type": "code",
   "execution_count": null,
   "id": "8d995ef4-de00-4dd2-b572-13e081879096",
   "metadata": {},
   "outputs": [],
   "source": []
  },
  {
   "cell_type": "code",
   "execution_count": null,
   "id": "58b1e7d2-d025-48ac-88ac-5647d4761183",
   "metadata": {},
   "outputs": [],
   "source": []
  },
  {
   "cell_type": "code",
   "execution_count": null,
   "id": "58ee2d1c-2ed7-4077-a5e8-14001e4a72ea",
   "metadata": {},
   "outputs": [],
   "source": []
  },
  {
   "cell_type": "markdown",
   "id": "4405a9fd-7d9c-42fc-9c1d-b07d7a0d2aff",
   "metadata": {},
   "source": [
    "## Ex-post model selection"
   ]
  },
  {
   "cell_type": "markdown",
   "id": "d497c7f4-898e-4ba3-8235-358d9f7e74f0",
   "metadata": {},
   "source": [
    "### Frequency of selected model"
   ]
  },
  {
   "cell_type": "code",
   "execution_count": null,
   "id": "c6a92f8b-ff6f-408e-9662-579c559e3be1",
   "metadata": {},
   "outputs": [],
   "source": []
  },
  {
   "cell_type": "code",
   "execution_count": null,
   "id": "de881075-d482-480a-b452-c97c973c5ed6",
   "metadata": {},
   "outputs": [],
   "source": []
  },
  {
   "cell_type": "code",
   "execution_count": null,
   "id": "3bb2afa0-356c-4d3d-8548-3e0318fe6aad",
   "metadata": {},
   "outputs": [],
   "source": []
  },
  {
   "cell_type": "markdown",
   "id": "66f8e915-1edf-4720-b55c-6f69c9f094dd",
   "metadata": {},
   "source": [
    "### Differences to model selection"
   ]
  },
  {
   "cell_type": "code",
   "execution_count": null,
   "id": "98557a91-5713-4666-bdd6-6392491b8f13",
   "metadata": {},
   "outputs": [],
   "source": []
  },
  {
   "cell_type": "code",
   "execution_count": null,
   "id": "e0a07f66-114c-4d3e-b500-5954ad956f8d",
   "metadata": {},
   "outputs": [],
   "source": []
  },
  {
   "cell_type": "code",
   "execution_count": null,
   "id": "116b4cea-a489-4c73-9a2f-b707bdbe214d",
   "metadata": {},
   "outputs": [],
   "source": []
  },
  {
   "cell_type": "markdown",
   "id": "5c96b739-6ded-4719-b60a-49a38af572c4",
   "metadata": {},
   "source": [
    "## CV model selection"
   ]
  },
  {
   "cell_type": "code",
   "execution_count": null,
   "id": "5a48061e-d654-400e-9aaa-5cde3ccd5c48",
   "metadata": {},
   "outputs": [],
   "source": [
    "# TBD"
   ]
  },
  {
   "cell_type": "code",
   "execution_count": null,
   "id": "100dfef7-ce78-42fe-bfdf-c5d668b0d0a0",
   "metadata": {},
   "outputs": [],
   "source": []
  },
  {
   "cell_type": "markdown",
   "id": "71546680-b837-4ba9-aeec-508be78ba2e8",
   "metadata": {},
   "source": [
    "## Structural Insights: From Predictive To Prescriptive Performance"
   ]
  },
  {
   "cell_type": "code",
   "execution_count": null,
   "id": "fa7b3953-1271-4804-9889-d9b594becc4d",
   "metadata": {},
   "outputs": [],
   "source": []
  },
  {
   "cell_type": "code",
   "execution_count": null,
   "id": "1c000493-7f0e-44a0-9f51-a07c2dd12ba5",
   "metadata": {},
   "outputs": [],
   "source": [
    "### RMSSE"
   ]
  },
  {
   "cell_type": "code",
   "execution_count": null,
   "id": "8de276db-b653-42e8-aa45-7d652a5243ce",
   "metadata": {},
   "outputs": [],
   "source": []
  },
  {
   "cell_type": "code",
   "execution_count": null,
   "id": "5ab31140-c502-4287-aa10-df7fda382047",
   "metadata": {},
   "outputs": [],
   "source": [
    "### SPL"
   ]
  },
  {
   "cell_type": "code",
   "execution_count": null,
   "id": "ddcf9914-dc6d-4d4c-b8e7-b579a0f4e5e4",
   "metadata": {},
   "outputs": [],
   "source": [
    "# For each look-ahead tau=0,...,4\n",
    "for tau in taus:\n",
    "\n",
    "    # Print:\n",
    "    print('...look-ahead tau='+str(tau)+'...')\n",
    "\n",
    "    # Initialize Experiment\n",
    "    experiment = Experiment(global_weightsmodel+'_for_model_cv', GwSAAR+'_for_model_cv_maxnorm', **experiment_setup)\n",
    "\n",
    "    # Load preprocessed data (alternatively, data can be preprocessed here)\n",
    "    data = load(path_weightsmodel+'/global_data_for_model_cv_tau'+str(tau)+'.joblib')\n",
    "\n",
    "    # Load weights\n",
    "    weights = load(path_weightsmodel+'/'+global_weightsmodel+'_weights_for_model_cv_tau'+str(tau)+'.joblib') \n",
    "\n",
    "    # Preprocess experiment data\n",
    "    weights_, samples_, actuals_, epsilons_ = experiment.preprocess_data(data, weights, e, maxnorm=True)\n"
   ]
  },
  {
   "cell_type": "code",
   "execution_count": 3,
   "id": "027cbbdd-6c2f-4636-b340-09f0bee0e229",
   "metadata": {},
   "outputs": [],
   "source": [
    "def getWassersteinDistances(densities, yTest, p):\n",
    "    \n",
    "    wassersteinDists = list()\n",
    "    \n",
    "    for i in range(len(yTest)):\n",
    "        y = yTest[i]\n",
    "        values = densities[i][1]\n",
    "        probs = densities[i][0]\n",
    "\n",
    "        if len(values.shape) == 1:\n",
    "            values = values.reshape(-1, 1)\n",
    "            y = y.reshape(-1, 1)\n",
    "\n",
    "        wassersteinDists.append(np.sum(probs * np.sum(np.abs(values - y)**p, axis = 1))**(1/p))\n",
    "\n",
    "    return np.array(wassersteinDists)"
   ]
  },
  {
   "cell_type": "code",
   "execution_count": null,
   "id": "1cd5383d-da28-40a1-85e3-68630e29c698",
   "metadata": {},
   "outputs": [],
   "source": [
    "from Experiment import Experiment"
   ]
  },
  {
   "cell_type": "code",
   "execution_count": null,
   "id": "697fb793-4b2b-458d-8ce9-582499aaceab",
   "metadata": {},
   "outputs": [],
   "source": [
    "tau=2"
   ]
  },
  {
   "cell_type": "code",
   "execution_count": 4,
   "id": "7d8e5de5-48e3-4e32-8728-33f1b89769be",
   "metadata": {},
   "outputs": [],
   "source": [
    "## GwSAA\n",
    "\n",
    "# Initialize Experiment\n",
    "experiment = Experiment(global_weightsmodel, GwSAA, **experiment_setup)\n",
    "\n",
    "# Load preprocessed data (alternatively, data can be preprocessed here)\n",
    "data = load(path_weightsmodel+'/global_data_tau'+str(tau)+'.joblib')\n",
    "\n",
    "# Load weights\n",
    "weights = load(path_weightsmodel+'/'+global_weightsmodel+'_weights_tau'+str(tau)+'.joblib') "
   ]
  },
  {
   "cell_type": "code",
   "execution_count": 5,
   "id": "fbf065a6-101e-4a81-b929-9fe38c8e1e44",
   "metadata": {},
   "outputs": [],
   "source": [
    "# Preprocess experiment data\n",
    "weights_, samples_, actuals_ = experiment.preprocess_data(data, weights)"
   ]
  },
  {
   "cell_type": "code",
   "execution_count": 6,
   "id": "ccab1072-3be8-498b-ab63-727b86100b9d",
   "metadata": {},
   "outputs": [],
   "source": [
    "W1 = {}\n",
    "for product in products:\n",
    "    \n",
    "    densities = [(weights_[product][w], samples_[product][s]) for (w,s) in zip(weights_[product], samples_[product])]\n",
    "    \n",
    "    yTest = [actuals_[product][a] for a in actuals_[product]]\n",
    "    \n",
    "    W1[product] = getWassersteinDistances(densities, yTest, 1)"
   ]
  },
  {
   "cell_type": "code",
   "execution_count": null,
   "id": "98e36b92-d228-4770-bd9f-9a2ea2e7b463",
   "metadata": {},
   "outputs": [],
   "source": []
  },
  {
   "cell_type": "code",
   "execution_count": null,
   "id": "7fb0715e-8615-46a3-aeb8-144495488f42",
   "metadata": {},
   "outputs": [],
   "source": []
  },
  {
   "cell_type": "code",
   "execution_count": null,
   "id": "7497c04b-3f5c-4023-b27a-1b55f8d8f604",
   "metadata": {},
   "outputs": [],
   "source": []
  },
  {
   "cell_type": "code",
   "execution_count": 7,
   "id": "81c1259f-4f8c-403c-ae7a-1226e7ef9931",
   "metadata": {},
   "outputs": [],
   "source": [
    "## SAA\n",
    "\n",
    "# Initialize Experiment\n",
    "experiment = Experiment(local_weightsmodel, SAA, **experiment_setup)\n",
    "\n",
    "# Load preprocessed data (alternatively, data can be preprocessed here)\n",
    "data = load(path_weightsmodel+'/local_data_tau'+str(tau)+'.joblib')"
   ]
  },
  {
   "cell_type": "code",
   "execution_count": 8,
   "id": "8258ab5e-ea9b-4cea-9125-0b9c915106b8",
   "metadata": {},
   "outputs": [],
   "source": [
    "# Preprocess experiment data\n",
    "samples_, actuals_ = experiment.preprocess_data(data)"
   ]
  },
  {
   "cell_type": "code",
   "execution_count": 9,
   "id": "84460b16-7067-4b6f-8452-5578770db0c9",
   "metadata": {},
   "outputs": [],
   "source": [
    "W1_SAA = {}\n",
    "for product in products:\n",
    "    \n",
    "    densities = [(1/len(samples_[product][w]), samples_[product][s]) for (w,s) in zip(samples_[product], samples_[product])]\n",
    "    \n",
    "    yTest = [actuals_[product][a] for a in actuals_[product]]\n",
    "    \n",
    "    W1_SAA[product] = getWassersteinDistances(densities, yTest, 1)"
   ]
  },
  {
   "cell_type": "code",
   "execution_count": 13,
   "id": "e432d7ea-58b4-426c-a370-02af547f968f",
   "metadata": {},
   "outputs": [],
   "source": [
    "## Normalize\n",
    "W1_normalized = {}\n",
    "W1_normalized_median = {}\n",
    "W1_normalized_mean = {}\n",
    "\n",
    "for product in products:\n",
    "    \n",
    "    W1_normalized[product] = W1[product] / W1_SAA[product]\n",
    "    \n",
    "    W1_normalized_median[product] = np.median(W1[product] / W1_SAA[product])\n",
    "    \n",
    "    W1_normalized_mean[product] = np.mean(W1[product] / W1_SAA[product])"
   ]
  },
  {
   "cell_type": "code",
   "execution_count": 17,
   "id": "4ec4348c-6fca-47e8-9879-1c2b2e9be606",
   "metadata": {},
   "outputs": [],
   "source": [
    "w = np.array([W1_normalized_mean[w] for w in W1_normalized_mean])"
   ]
  },
  {
   "cell_type": "code",
   "execution_count": 18,
   "id": "1bf21eb3-abbc-4201-b486-344e32e67675",
   "metadata": {},
   "outputs": [],
   "source": [
    "import matplotlib.pyplot as plt"
   ]
  },
  {
   "cell_type": "code",
   "execution_count": 27,
   "id": "33c5f8ba-1a73-44e2-9431-8fe1d5976916",
   "metadata": {},
   "outputs": [
    {
     "data": {
      "text/plain": [
       "<matplotlib.lines.Line2D at 0x7f50d869ad60>"
      ]
     },
     "execution_count": 27,
     "metadata": {},
     "output_type": "execute_result"
    },
    {
     "data": {
      "image/png": "[encoded data removed]",
      "text/plain": [
       "<Figure size 432x288 with 1 Axes>"
      ]
     },
     "metadata": {
      "needs_background": "light"
     },
     "output_type": "display_data"
    }
   ],
   "source": [
    "fig1, ax1 = plt.subplots()\n",
    "ax1.set_title('Basic Plot')\n",
    "ax1.boxplot(w)\n",
    "ax1.set_ylim((0,2))\n",
    "plt.axhline(y = 1, color = 'r', linestyle = '--')"
   ]
  },
  {
   "cell_type": "code",
   "execution_count": 32,
   "id": "5fba6ac9-4269-4928-adc4-1b97f73ff8dc",
   "metadata": {},
   "outputs": [
    {
     "data": {
      "text/plain": [
       "(0.8028399780472102, 0.6869565217391305)"
      ]
     },
     "execution_count": 32,
     "metadata": {},
     "output_type": "execute_result"
    }
   ],
   "source": [
    "np.median(w), sum(w<1)/len(w)"
   ]
  },
  {
   "cell_type": "code",
   "execution_count": null,
   "id": "ae5c8c22-611f-43a9-9327-825c824b3540",
   "metadata": {},
   "outputs": [],
   "source": []
  },
  {
   "cell_type": "code",
   "execution_count": null,
   "id": "d38a0a8e-ee6e-42ae-a1c9-96bd799a6b3f",
   "metadata": {},
   "outputs": [],
   "source": []
  },
  {
   "cell_type": "code",
   "execution_count": 29,
   "id": "a772dcf6-af21-486b-b29c-ccdbdc0662c1",
   "metadata": {},
   "outputs": [],
   "source": [
    "## wSAA\n",
    "\n",
    "# Initialize Experiment\n",
    "experiment = Experiment(global_weightsmodel, wSAA, **experiment_setup)\n",
    "\n",
    "# Load preprocessed data (alternatively, data can be preprocessed here)\n",
    "data = load(path_weightsmodel+'/local_data_tau'+str(tau)+'.joblib')\n",
    "\n",
    "# Load weights\n",
    "weights = load(path_weightsmodel+'/'+local_weightsmodel+'_weights_tau'+str(tau)+'.joblib') "
   ]
  },
  {
   "cell_type": "code",
   "execution_count": 33,
   "id": "536eaa7f-8928-4c1c-b1c3-b6218152bc1a",
   "metadata": {},
   "outputs": [],
   "source": [
    "# Preprocess experiment data\n",
    "weights_, samples_, actuals_ = experiment.preprocess_data(data, weights)"
   ]
  },
  {
   "cell_type": "code",
   "execution_count": 36,
   "id": "6f72b87d-82ef-4925-9383-c172b09b9005",
   "metadata": {},
   "outputs": [],
   "source": [
    "W1 = {}\n",
    "for product in products:\n",
    "    \n",
    "    densities = [(weights_[product][w], samples_[product][s]) for (w,s) in zip(weights_[product], samples_[product])]\n",
    "    \n",
    "    yTest = [actuals_[product][a] for a in actuals_[product]]\n",
    "    \n",
    "    W1[product] = getWassersteinDistances(densities, yTest, 1)"
   ]
  },
  {
   "cell_type": "code",
   "execution_count": 37,
   "id": "d0d55fbb-fd73-4a9c-a443-1b5183ec5349",
   "metadata": {},
   "outputs": [],
   "source": [
    "## Normalize\n",
    "W1_normalized = {}\n",
    "W1_normalized_median = {}\n",
    "W1_normalized_mean = {}\n",
    "\n",
    "for product in products:\n",
    "    \n",
    "    W1_normalized[product] = W1[product] / W1_SAA[product]\n",
    "    \n",
    "    W1_normalized_median[product] = np.median(W1[product] / W1_SAA[product])\n",
    "    \n",
    "    W1_normalized_mean[product] = np.mean(W1[product] / W1_SAA[product])"
   ]
  },
  {
   "cell_type": "code",
   "execution_count": 38,
   "id": "1a13e6cc-ecce-4a76-a340-081cef325cc4",
   "metadata": {},
   "outputs": [],
   "source": [
    "w = np.array([W1_normalized_mean[w] for w in W1_normalized_mean])"
   ]
  },
  {
   "cell_type": "code",
   "execution_count": 39,
   "id": "aee5deaa-bc42-4556-a5a1-4cc0f92af02d",
   "metadata": {},
   "outputs": [
    {
     "data": {
      "text/plain": [
       "<matplotlib.lines.Line2D at 0x7f50d3b06fa0>"
      ]
     },
     "execution_count": 39,
     "metadata": {},
     "output_type": "execute_result"
    },
    {
     "data": {
      "image/png": "[encoded data removed]",
      "text/plain": [
       "<Figure size 432x288 with 1 Axes>"
      ]
     },
     "metadata": {
      "needs_background": "light"
     },
     "output_type": "display_data"
    }
   ],
   "source": [
    "fig1, ax1 = plt.subplots()\n",
    "ax1.set_title('Basic Plot')\n",
    "ax1.boxplot(w)\n",
    "ax1.set_ylim((0,2))\n",
    "plt.axhline(y = 1, color = 'r', linestyle = '--')"
   ]
  },
  {
   "cell_type": "code",
   "execution_count": 40,
   "id": "265f5393-59b4-46ad-af94-7df6e7a34a9a",
   "metadata": {},
   "outputs": [
    {
     "data": {
      "text/plain": [
       "(0.7793374337176534, 0.7673913043478261)"
      ]
     },
     "execution_count": 40,
     "metadata": {},
     "output_type": "execute_result"
    }
   ],
   "source": [
    "np.median(w), sum(w<1)/len(w)"
   ]
  },
  {
   "cell_type": "code",
   "execution_count": null,
   "id": "0e33d53f-486e-4e83-8ad4-ce3d64a93415",
   "metadata": {},
   "outputs": [],
   "source": [
    "#####################################################################################################"
   ]
  },
  {
   "cell_type": "code",
   "execution_count": 44,
   "id": "8e3deebf-48bc-4bfd-a392-2fa04358dc6b",
   "metadata": {},
   "outputs": [],
   "source": [
    "### GwSAA"
   ]
  },
  {
   "cell_type": "code",
   "execution_count": 48,
   "id": "8bd08b3f-9068-4e24-8e8b-1d3e77e02f86",
   "metadata": {},
   "outputs": [],
   "source": [
    "# Get best tau per product per CR\n",
    "results_GwSAA = pd.read_csv(path_results+'/WithModelCV/GwSAA_for_model_cv_results_summary.csv')\n",
    "results_ExPost = pd.read_csv(path_results+'/ExPost_results_summary.csv')"
   ]
  },
  {
   "cell_type": "code",
   "execution_count": 49,
   "id": "f64d32af-04a7-4698-8eec-b1c6414e50bd",
   "metadata": {},
   "outputs": [],
   "source": [
    "results_GwSAA_best = evaluation.best_tau(results_GwSAA, results_ExPost, groupby=['CR', 'product'])"
   ]
  },
  {
   "cell_type": "code",
   "execution_count": 50,
   "id": "0a4b2216-20e3-4702-bf1c-daee6cf40b2e",
   "metadata": {},
   "outputs": [],
   "source": [
    "W1 = {}\n",
    "meta = {}\n",
    "\n",
    "for tau in taus:   \n",
    "    \n",
    "    W1[tau] = {}\n",
    "    meta[tau] = {}\n",
    "\n",
    "    # Load preprocessed data (alternatively, data can be preprocessed here)\n",
    "    data = load(path_weightsmodel+'/global_data_tau'+str(tau)+'.joblib')\n",
    "\n",
    "    # Load weights\n",
    "    weights = load(path_weightsmodel+'/'+global_weightsmodel+'_weights_tau'+str(tau)+'.joblib') \n",
    "\n",
    "    # Preprocess experiment data\n",
    "    weights_, samples_, actuals_ = experiment.preprocess_data(data, weights)\n",
    "    \n",
    "    for cost_params_ in cost_params:\n",
    "        \n",
    "        W1[tau][cost_params_['CR']] = {}\n",
    "        meta[tau][cost_params_['CR']] = {}\n",
    "        \n",
    "        which = (results_GwSAA_best.CR==cost_params_['CR']) & (results_GwSAA_best.tau==tau)\n",
    "        products_ = list(results_GwSAA_best.loc[which]['product'])\n",
    "        \n",
    "        experiment_setup_ = copy.deepcopy(experiment_setup)\n",
    "\n",
    "        experiment_setup_.update({'cost_params': [cost_params_]})\n",
    "\n",
    "        # Initialize Experiment\n",
    "        experiment = Experiment(global_weightsmodel, GwSAA, **experiment_setup_)\n",
    "        \n",
    "        for product in products_:\n",
    "            \n",
    "            densities = [(weights_[product][w], samples_[product][s]) for (w,s) in zip(weights_[product], samples_[product])]\n",
    "\n",
    "            yTest = [actuals_[product][a] for a in actuals_[product]]\n",
    "\n",
    "            W1[tau][cost_params_['CR']][product] = getWassersteinDistances(densities, yTest, 1)\n",
    "            \n",
    "            meta[tau][cost_params_['CR']][product] = {'CR': cost_params_['CR'], 'product': product, 'tau': tau}"
   ]
  },
  {
   "cell_type": "code",
   "execution_count": 51,
   "id": "6d0e0e9c-c3c1-4971-9aa9-ccf76431ae94",
   "metadata": {},
   "outputs": [],
   "source": [
    "W1_results_GwSAA = copy.deepcopy(W1)"
   ]
  },
  {
   "cell_type": "code",
   "execution_count": 72,
   "id": "5f0a5505-6cae-4358-a996-965422b37c4c",
   "metadata": {},
   "outputs": [],
   "source": [
    "# Restructure along CR and products\n",
    "W1={}\n",
    "OptTau={}\n",
    "for CR in [0.50, 0.75, 0.90]:\n",
    "    W1[CR]={}\n",
    "    OptTau[CR]={}\n",
    "    for tau in taus:\n",
    "        for product in W1_results_GwSAA[tau][CR]:\n",
    "            W1[CR][product] = W1_results_GwSAA[tau][CR][product]\n",
    "            OptTau[CR][product] = copy.deepcopy(tau)\n",
    "            \n",
    "# Order\n",
    "W1_ordered={}\n",
    "OptTau_ordered={}\n",
    "for CR in [0.50, 0.75, 0.90]:\n",
    "    W1_ordered[CR]={}\n",
    "    OptTau_ordered[CR]={}\n",
    "    for product in products:\n",
    "        W1_ordered[CR][product] = W1[CR][product]\n",
    "        OptTau_ordered[CR][product] = OptTau[CR][product]"
   ]
  },
  {
   "cell_type": "code",
   "execution_count": 74,
   "id": "4250a884-687a-49cd-8dd4-ebc24a874422",
   "metadata": {},
   "outputs": [],
   "source": [
    "W1_results_GwSAA = copy.deepcopy(W1_ordered)"
   ]
  },
  {
   "cell_type": "code",
   "execution_count": null,
   "id": "98a0d47d-da62-47c0-bf09-81220553483a",
   "metadata": {},
   "outputs": [],
   "source": []
  },
  {
   "cell_type": "code",
   "execution_count": null,
   "id": "aefbdd2e-8134-436c-9202-40f109cdc7d4",
   "metadata": {},
   "outputs": [],
   "source": []
  },
  {
   "cell_type": "code",
   "execution_count": 94,
   "id": "46c87e48-b676-483b-9842-7dcf60ea1f13",
   "metadata": {},
   "outputs": [],
   "source": [
    "### GwSAA"
   ]
  },
  {
   "cell_type": "code",
   "execution_count": null,
   "id": "37065bc3-1ebe-4eca-ba49-bd74034428da",
   "metadata": {},
   "outputs": [],
   "source": [
    "W1 = {}\n",
    "meta = {}\n",
    "\n",
    "for tau in taus:   \n",
    "    \n",
    "    W1[tau] = {}\n",
    "    meta[tau] = {}\n",
    "\n",
    "    # Load preprocessed data (alternatively, data can be preprocessed here)\n",
    "    data = load(path_weightsmodel+'/global_data_tau'+str(tau)+'.joblib')\n",
    "\n",
    "    # Load weights\n",
    "    weights = load(path_weightsmodel+'/'+global_weightsmodel+'_weights_tau'+str(tau)+'.joblib') \n",
    "\n",
    "    # Preprocess experiment data\n",
    "    weights_, samples_, actuals_ = experiment.preprocess_data(data, weights)\n",
    "\n",
    "    # Initialize Experiment\n",
    "    experiment = Experiment(global_weightsmodel, GwSAA, **experiment_setup)\n",
    "\n",
    "    for product in products_:\n",
    "\n",
    "        densities = [(weights_[product][w], samples_[product][s]) for (w,s) in zip(weights_[product], samples_[product])]\n",
    "\n",
    "        yTest = [actuals_[product][a] for a in actuals_[product]]\n",
    "\n",
    "        W1[tau][product] = getWassersteinDistances(densities, yTest, 1)"
   ]
  },
  {
   "cell_type": "code",
   "execution_count": null,
   "id": "32d30f4a-82f3-418a-983d-490f6afcd5bf",
   "metadata": {},
   "outputs": [],
   "source": [
    "W1_results_GwSAA = copy.deepcopy(W1)"
   ]
  },
  {
   "cell_type": "code",
   "execution_count": 84,
   "id": "159a343b-7c06-4967-ba79-cc9ba7cb4758",
   "metadata": {},
   "outputs": [],
   "source": [
    "### wSAA"
   ]
  },
  {
   "cell_type": "code",
   "execution_count": 85,
   "id": "1d7dd256-4346-4d31-83eb-e4d16e8e8fe4",
   "metadata": {},
   "outputs": [],
   "source": [
    "W1 = {}\n",
    "meta = {}\n",
    "\n",
    "for tau in taus:   \n",
    "    \n",
    "    W1[tau] = {}\n",
    "    meta[tau] = {}\n",
    "\n",
    "    # Load preprocessed data (alternatively, data can be preprocessed here)\n",
    "    data = load(path_weightsmodel+'/local_data_tau'+str(tau)+'.joblib')\n",
    "\n",
    "    # Load weights\n",
    "    weights = load(path_weightsmodel+'/'+local_weightsmodel+'_weights_tau'+str(tau)+'.joblib') \n",
    "\n",
    "    # Preprocess experiment data\n",
    "    weights_, samples_, actuals_ = experiment.preprocess_data(data, weights)\n",
    "\n",
    "    # Initialize Experiment\n",
    "    experiment = Experiment(local_weightsmodel, wSAA, **experiment_setup)\n",
    "        \n",
    "    for product in products:\n",
    "\n",
    "        densities = [(weights_[product][w], samples_[product][s]) for (w,s) in zip(weights_[product], samples_[product])]\n",
    "\n",
    "        yTest = [actuals_[product][a] for a in actuals_[product]]\n",
    "\n",
    "        W1[tau][product] = getWassersteinDistances(densities, yTest, 1)"
   ]
  },
  {
   "cell_type": "code",
   "execution_count": 86,
   "id": "1742e9e1-3ae3-4890-9a85-ce90f129866f",
   "metadata": {},
   "outputs": [],
   "source": [
    "W1_results_wSAA = copy.deepcopy(W1)"
   ]
  },
  {
   "cell_type": "code",
   "execution_count": 88,
   "id": "ccbed18e-bfe5-4fcd-9809-46b94cff585b",
   "metadata": {},
   "outputs": [],
   "source": [
    "### SAA"
   ]
  },
  {
   "cell_type": "code",
   "execution_count": 90,
   "id": "918e0223-b37d-400b-ad99-4f4a4029d521",
   "metadata": {},
   "outputs": [],
   "source": [
    "W1 = {}\n",
    "meta = {}\n",
    "\n",
    "for tau in taus:   \n",
    "    \n",
    "    W1[tau] = {}\n",
    "    meta[tau] = {}\n",
    "\n",
    "    # Load preprocessed data (alternatively, data can be preprocessed here)\n",
    "    data = load(path_weightsmodel+'/local_data_tau'+str(tau)+'.joblib')\n",
    "\n",
    "    # Preprocess experiment data\n",
    "    samples_, actuals_ = experiment.preprocess_data(data)\n",
    "\n",
    "    # Initialize Experiment\n",
    "    experiment = Experiment(local_weightsmodel, SAA, **experiment_setup)\n",
    "        \n",
    "    for product in products:\n",
    "\n",
    "        densities = [(1/len(samples_[product][s]), samples_[product][s]) for s in samples_[product]]\n",
    "\n",
    "        yTest = [actuals_[product][a] for a in actuals_[product]]\n",
    "\n",
    "        W1[tau][product] = getWassersteinDistances(densities, yTest, 1)"
   ]
  },
  {
   "cell_type": "code",
   "execution_count": 91,
   "id": "d5769357-ae72-4edb-955d-80920cc0cac2",
   "metadata": {},
   "outputs": [],
   "source": [
    "W1_results_SAA = copy.deepcopy(W1)"
   ]
  },
  {
   "cell_type": "code",
   "execution_count": null,
   "id": "53f657c6-09d6-4afc-975e-1579203ea59d",
   "metadata": {},
   "outputs": [],
   "source": []
  },
  {
   "cell_type": "code",
   "execution_count": null,
   "id": "ae290969-1c6e-48e3-9263-70023603ff77",
   "metadata": {},
   "outputs": [],
   "source": [
    "## Normalize -- by SAA with same tau\n",
    "def normalize_W(W1, W1_SAA, taus, products):\n",
    "\n",
    "    W1_normalized = {}\n",
    "    W1_normalized_median = {}\n",
    "    W1_normalized_mean = {}\n",
    "\n",
    "    for tau in taus:\n",
    "        for product in products:\n",
    "            W1_normalized[tau][product] = W1[tau][product] / W1_SAA[tau][product]\n",
    "            W1_normalized_median[tau][product] = np.median(W1[tau][product] / W1_SAA[tau][product])\n",
    "            W1_normalized_mean[tau][product] = np.mean(W1[tau][product] / W1_SAA[tau][product])\n",
    "            \n",
    "    return W1_normalized, W1_normalized_median, W1_normalized_mean"
   ]
  },
  {
   "cell_type": "code",
   "execution_count": null,
   "id": "ccc6f965-d4b7-4b5a-83a3-d15002de391c",
   "metadata": {},
   "outputs": [],
   "source": [
    "res = normalize_W(W1_results_GwSAA, W1_results_SAA, taus, products)\n",
    "W1_GwSAA_normalized, W1_GwSAA_normalized_median, W1_GwSAA_normalized_mean = res\n",
    "\n",
    "res = normalize_W(W1_results_wSAA, W1_results_SAA, taus, products):\n",
    "W1_wSAA_normalized, W1_wSAA_normalized_median, W1_wSAA_normalized_mean = res"
   ]
  },
  {
   "cell_type": "code",
   "execution_count": null,
   "id": "bc5a9338-1191-4eb4-9f71-04b17cd0412b",
   "metadata": {},
   "outputs": [],
   "source": []
  },
  {
   "cell_type": "code",
   "execution_count": null,
   "id": "8a3d457a-b245-4d5e-b1d7-d2125819420a",
   "metadata": {},
   "outputs": [],
   "source": []
  },
  {
   "cell_type": "code",
   "execution_count": null,
   "id": "46d63f53-a8fe-4a94-b138-779f145da68d",
   "metadata": {},
   "outputs": [],
   "source": []
  },
  {
   "cell_type": "code",
   "execution_count": null,
   "id": "7080349d-2d10-4e45-b6ee-1bd107175460",
   "metadata": {},
   "outputs": [],
   "source": []
  },
  {
   "cell_type": "code",
   "execution_count": null,
   "id": "bf507822-87a3-4c99-a1bb-a874a6efbd3a",
   "metadata": {},
   "outputs": [],
   "source": []
  },
  {
   "cell_type": "code",
   "execution_count": null,
   "id": "df549ad0-1b91-4ea7-be30-b96a9c0846f2",
   "metadata": {},
   "outputs": [],
   "source": []
  },
  {
   "cell_type": "code",
   "execution_count": null,
   "id": "740f6b7e-7d21-461b-b579-8e89e3858076",
   "metadata": {},
   "outputs": [],
   "source": []
  },
  {
   "cell_type": "code",
   "execution_count": null,
   "id": "8bdf8912-6dbb-4d94-91f9-1ad39735abcc",
   "metadata": {},
   "outputs": [],
   "source": []
  },
  {
   "cell_type": "code",
   "execution_count": null,
   "id": "970261a2-0eb8-4582-a2f2-60acbd9376ab",
   "metadata": {},
   "outputs": [],
   "source": []
  },
  {
   "cell_type": "code",
   "execution_count": null,
   "id": "0bdbe0cd-b588-459b-8e82-1557b236ad0d",
   "metadata": {},
   "outputs": [],
   "source": []
  },
  {
   "cell_type": "code",
   "execution_count": null,
   "id": "1b936ec1-256e-4857-bbd4-20edf91e4ceb",
   "metadata": {},
   "outputs": [],
   "source": []
  },
  {
   "cell_type": "code",
   "execution_count": null,
   "id": "f816caa3-594a-4330-9ca6-f4cd973dc5a7",
   "metadata": {},
   "outputs": [],
   "source": []
  },
  {
   "cell_type": "code",
   "execution_count": null,
   "id": "ea71eefa-1dda-4873-a678-5b83a318f87f",
   "metadata": {},
   "outputs": [],
   "source": []
  },
  {
   "cell_type": "code",
   "execution_count": null,
   "id": "5b01588f-3d8c-4522-8033-d068f855787e",
   "metadata": {},
   "outputs": [],
   "source": [
    "## Normalize -- by SAA with best tau of SAA"
   ]
  },
  {
   "cell_type": "code",
   "execution_count": null,
   "id": "e5d04074-65a4-4595-89e9-ddcc5f8ef4da",
   "metadata": {},
   "outputs": [],
   "source": []
  },
  {
   "cell_type": "code",
   "execution_count": null,
   "id": "8a77ff4d-fc23-48ed-aaba-a476f282e045",
   "metadata": {},
   "outputs": [],
   "source": []
  },
  {
   "cell_type": "code",
   "execution_count": null,
   "id": "ec3dd7dd-b3e1-4288-8124-9547f7118881",
   "metadata": {},
   "outputs": [],
   "source": []
  },
  {
   "cell_type": "code",
   "execution_count": null,
   "id": "a9431744-f172-4d09-bce0-bd05163199f8",
   "metadata": {},
   "outputs": [],
   "source": []
  },
  {
   "cell_type": "code",
   "execution_count": null,
   "id": "46339887-e884-4c55-a99d-a409dfc8a141",
   "metadata": {},
   "outputs": [],
   "source": [
    "#####################################################################################################"
   ]
  },
  {
   "cell_type": "code",
   "execution_count": null,
   "id": "9b9ca9aa-e0bd-49f3-b8b7-7af361ba7df1",
   "metadata": {},
   "outputs": [],
   "source": []
  },
  {
   "cell_type": "code",
   "execution_count": null,
   "id": "3070e1aa-07ef-4db2-bf52-5330c44c3c72",
   "metadata": {},
   "outputs": [],
   "source": []
  },
  {
   "cell_type": "code",
   "execution_count": null,
   "id": "c584ecb1-88ce-4f68-8864-bebab09e9ff1",
   "metadata": {},
   "outputs": [],
   "source": []
  },
  {
   "cell_type": "code",
   "execution_count": null,
   "id": "305ee52a-d872-43f8-a29b-0c4c003e489f",
   "metadata": {},
   "outputs": [],
   "source": []
  },
  {
   "cell_type": "code",
   "execution_count": null,
   "id": "ebbbb0f8-717b-427b-961f-1d5b2751762f",
   "metadata": {},
   "outputs": [],
   "source": []
  },
  {
   "cell_type": "markdown",
   "id": "81414547-7fd3-431c-b414-5cd5712e1107",
   "metadata": {},
   "source": [
    "## Practical Insights: Choosing the Rolling Horizon"
   ]
  },
  {
   "cell_type": "code",
   "execution_count": null,
   "id": "f38b882d-13a9-48b0-89ce-0dd3a8843fd4",
   "metadata": {},
   "outputs": [],
   "source": []
  },
  {
   "cell_type": "code",
   "execution_count": null,
   "id": "d1308378-80c8-4f4d-8834-e8cb9696f068",
   "metadata": {},
   "outputs": [],
   "source": []
  },
  {
   "cell_type": "code",
   "execution_count": null,
   "id": "6ae5b850-651f-45ba-bed8-fe659d9893a2",
   "metadata": {},
   "outputs": [],
   "source": []
  },
  {
   "cell_type": "code",
   "execution_count": null,
   "id": "b9f1b032-8642-4b98-8577-27c82539da48",
   "metadata": {},
   "outputs": [],
   "source": []
  },
  {
   "cell_type": "code",
   "execution_count": null,
   "id": "6fd837e0-aa51-4f7b-8b73-1a7856244126",
   "metadata": {},
   "outputs": [],
   "source": []
  },
  {
   "cell_type": "markdown",
   "id": "84a42d10-ffd2-44af-b229-efcfe6f1250c",
   "metadata": {},
   "source": [
    "# BACKUP"
   ]
  },
  {
   "cell_type": "code",
   "execution_count": null,
   "id": "05ec801c-ff43-4c8f-a82d-324ea19a2156",
   "metadata": {},
   "outputs": [],
   "source": []
  },
  {
   "cell_type": "code",
   "execution_count": null,
   "id": "4f352a84-8bf4-4f1c-ba3d-c804a51103d6",
   "metadata": {},
   "outputs": [],
   "source": []
  },
  {
   "cell_type": "code",
   "execution_count": null,
   "id": "5d1bc377-2acb-480f-97d4-d42033818d5b",
   "metadata": {},
   "outputs": [],
   "source": [
    "### OLD HYPER PARAMS ###"
   ]
  },
  {
   "cell_type": "code",
   "execution_count": null,
   "id": "4759e905-636b-4779-abe0-c6409757be67",
   "metadata": {},
   "outputs": [],
   "source": [
    "# Rolling Horizon Global Weighted SAA (GwSAA)\n",
    "results = evaluation.concatenate_results(path_results+'/'+GwSAA+'_old_hyper_params', GwSAA+'_old_hyper_params', products, taus)\n",
    "results_agg = evaluation.aggregate_results(results, ['CR', 'tau', 'product'])"
   ]
  },
  {
   "cell_type": "code",
   "execution_count": null,
   "id": "dde83cb8-090a-449d-8ed5-10433306d88b",
   "metadata": {},
   "outputs": [],
   "source": [
    "results_agg.groupby(['CR', 'product']).agg({'cost': min}).reset_index().groupby(['CR']).agg({'cost': sum})"
   ]
  },
  {
   "cell_type": "code",
   "execution_count": null,
   "id": "ba4a9881-f3c8-4ab8-a745-3a564844d0c0",
   "metadata": {},
   "outputs": [],
   "source": []
  },
  {
   "cell_type": "code",
   "execution_count": null,
   "id": "ae3e5b95-6672-41f5-8907-9f45670ddd8b",
   "metadata": {},
   "outputs": [],
   "source": [
    "results_GwSAA_best = evaluation.best_tau(results_agg, results_ExPost, groupby=['CR', 'product'])"
   ]
  },
  {
   "cell_type": "code",
   "execution_count": null,
   "id": "74f9a9db-0244-4a8f-a2d9-c0dfb816f7cc",
   "metadata": {},
   "outputs": [],
   "source": [
    "results_GwSAA_best.groupby(['CR']).agg({'cost': sum}).reset_index()"
   ]
  },
  {
   "cell_type": "code",
   "execution_count": null,
   "id": "40586e86-d538-435a-9135-57f72c9fb368",
   "metadata": {},
   "outputs": [],
   "source": [
    "results_GwSAA_best = pd.merge(left=results_GwSAA_best, right=results_SAA_best[['CR', 'product', 'cost']], on=['CR', 'product'], suffixes=('','_SAA'))"
   ]
  },
  {
   "cell_type": "code",
   "execution_count": null,
   "id": "e45ef291-6176-42f3-b5be-41e682c60bd4",
   "metadata": {},
   "outputs": [],
   "source": [
    "results_perProduct = copy.deepcopy(results_GwSAA_best)\n",
    "results_perProduct['medianRelCost'] = (\n",
    "    (results_perProduct.cost == results_perProduct.cost_SAA) * 1  \n",
    "    + (results_perProduct.cost != results_perProduct.cost_SAA) * (results_perProduct.cost / results_perProduct.cost_SAA)\n",
    ")\n",
    "results_perProduct = results_perProduct.groupby(['CR']).agg({'medianRelCost': np.median}).reset_index()\n",
    "results_perProduct['diffToSAAinPercent'] = np.around((results_perProduct.medianRelCost - 1)*100, 1)\n",
    "results_perProduct[['CR', 'medianRelCost', 'diffToSAAinPercent']]"
   ]
  },
  {
   "cell_type": "code",
   "execution_count": null,
   "id": "504e9d67-dd29-41c6-9fee-2eec2f0519a9",
   "metadata": {},
   "outputs": [],
   "source": [
    "\tCR\tmodel\tmedianRelCost\tdiffToSAAinPercent\n",
    "0\t0.50\tGwSAA\t0.884712\t-11.5\n",
    "1\t0.50\tGwSAAR\t0.859650\t-14.0\n",
    "2\t0.50\twSAA\t0.915127\t-8.5\n",
    "3\t0.50\twSAAR\t0.862736\t-13.7\n",
    "4\t0.75\tGwSAA\t0.851111\t-14.9\n",
    "5\t0.75\tGwSAAR\t0.828619\t-17.1\n",
    "6\t0.75\twSAA\t0.892095\t-10.8\n",
    "7\t0.75\twSAAR\t0.831109\t-16.9\n",
    "8\t0.90\tGwSAA\t0.831216\t-16.9\n",
    "9\t0.90\tGwSAAR\t0.816914\t-18.3\n",
    "10\t0.90\twSAA\t0.865269\t-13.5\n",
    "11\t0.90\twSAAR\t0.804951\t-19.5"
   ]
  },
  {
   "cell_type": "code",
   "execution_count": null,
   "id": "3a93a90a-9fe0-4304-8265-58c07ef77528",
   "metadata": {},
   "outputs": [],
   "source": []
  },
  {
   "cell_type": "code",
   "execution_count": null,
   "id": "3809116b-79e3-4131-9a61-50b49878c471",
   "metadata": {},
   "outputs": [],
   "source": []
  },
  {
   "cell_type": "code",
   "execution_count": null,
   "id": "8a5c9ecf-8a94-48b5-aa23-f372e8ec5815",
   "metadata": {},
   "outputs": [],
   "source": []
  },
  {
   "cell_type": "code",
   "execution_count": null,
   "id": "b976f4ae-a8bb-46d1-af2c-37b14b1711e4",
   "metadata": {},
   "outputs": [],
   "source": []
  },
  {
   "cell_type": "code",
   "execution_count": null,
   "id": "6f24edb8-0222-4b2c-9d75-87c33dff54b7",
   "metadata": {},
   "outputs": [],
   "source": []
  },
  {
   "cell_type": "code",
   "execution_count": null,
   "id": "fb71028f-65fc-4a84-b1db-b54208464d87",
   "metadata": {},
   "outputs": [],
   "source": [
    "### OLD OLD PARAMS ###"
   ]
  },
  {
   "cell_type": "code",
   "execution_count": null,
   "id": "0fa5875e-b4f8-4b8b-90e0-ddfcfb314e67",
   "metadata": {},
   "outputs": [],
   "source": [
    "### Function to concatenate all results\n",
    "def concatenate_results(path, name, products, taus=[None], es=[None]):\n",
    "\n",
    "    \"\"\"\n",
    "    ...\n",
    "\n",
    "    \"\"\"\n",
    "\n",
    "    results = pd.DataFrame()\n",
    "\n",
    "    # For each product (SKU) k=1,...,M\n",
    "    for product in products:\n",
    "\n",
    "        # For each look-ahead tau=0,...,4\n",
    "        for tau in taus:\n",
    "\n",
    "            # For each uncertainty set specification  e=1,...,12\n",
    "            for e in es:\n",
    "\n",
    "                if not e is None:\n",
    "\n",
    "                    file_name = path+'/'+name+'_e'+str(e).replace('.', '')+'_SKU'+str(product)+'_tau'+str(tau)+'.csv'\n",
    "\n",
    "                    # Check if results exist   \n",
    "                    if os.path.exists(file_name):\n",
    "                        results = pd.concat([results, pd.read_csv(file_name)])\n",
    "\n",
    "                else:\n",
    "\n",
    "                    file_name = path+'/'+name+'_SKU'+str(product)+'_tau'+str(tau)+'.csv'\n",
    "\n",
    "                    # Check if results exist   \n",
    "                    if os.path.exists(file_name):\n",
    "                        results = pd.concat([results, pd.read_csv(file_name)])\n",
    "\n",
    "    return results"
   ]
  },
  {
   "cell_type": "code",
   "execution_count": null,
   "id": "96f6cb6d-73f6-4dd6-9388-8f512728d32b",
   "metadata": {},
   "outputs": [],
   "source": [
    "# Rolling Horizon Global Weighted SAA (GwSAA)\n",
    "results_GwSAA_oldold = concatenate_results(path_results+'/_Archive/'+GwSAA+'_r_z_old_params', GwSAA+'_r_z_old_params', products, taus)"
   ]
  },
  {
   "cell_type": "code",
   "execution_count": null,
   "id": "a30ed0a4-0c6a-4d16-a2b2-1cc881a34e43",
   "metadata": {},
   "outputs": [],
   "source": [
    "results_GwSAA_oldold_best = results_GwSAA_oldold.groupby(['CR', 'tau', 'SKU']).agg({'cost': sum}).reset_index().groupby(['CR', 'SKU']).agg({'cost': min}).reset_index()"
   ]
  },
  {
   "cell_type": "code",
   "execution_count": null,
   "id": "9a535b53-2174-4664-9b3e-5286fb120f41",
   "metadata": {},
   "outputs": [],
   "source": [
    "results_GwSAA_oldold_best['product'] = copy.deepcopy(results_GwSAA_oldold_best.SKU)"
   ]
  },
  {
   "cell_type": "code",
   "execution_count": null,
   "id": "17060808-2dc9-4729-8120-b8625c21caac",
   "metadata": {},
   "outputs": [],
   "source": [
    "results_GwSAA_oldold_best = pd.merge(left=results_GwSAA_oldold_best, \n",
    "                                     right=results_SAA_best[['CR', 'product', 'cost']], \n",
    "                                     on=['CR', 'product'], suffixes=('','_SAA'))"
   ]
  },
  {
   "cell_type": "code",
   "execution_count": null,
   "id": "7f001505-0d43-44c3-8b08-b160c0e5f56a",
   "metadata": {},
   "outputs": [],
   "source": [
    "results_perProduct = copy.deepcopy(results_GwSAA_oldold_best)\n",
    "results_perProduct['medianRelCost'] = (\n",
    "    (results_perProduct.cost == results_perProduct.cost_SAA) * 1  \n",
    "    + (results_perProduct.cost != results_perProduct.cost_SAA) * (results_perProduct.cost / results_perProduct.cost_SAA)\n",
    ")\n",
    "results_perProduct = results_perProduct.groupby(['CR']).agg({'medianRelCost': np.median}).reset_index()\n",
    "results_perProduct['diffToSAAinPercent'] = np.around((results_perProduct.medianRelCost - 1)*100, 1)\n",
    "results_perProduct[['CR', 'medianRelCost', 'diffToSAAinPercent']]"
   ]
  },
  {
   "cell_type": "code",
   "execution_count": null,
   "id": "61f30788-b492-4577-9873-d050ee4cb013",
   "metadata": {},
   "outputs": [],
   "source": [
    "\tCR\tmodel\tmedianRelCost\tdiffToSAAinPercent\n",
    "0\t0.50\tGwSAA\t0.884712\t-11.5\n",
    "1\t0.50\tGwSAAR\t0.859650\t-14.0\n",
    "2\t0.50\twSAA\t0.915127\t-8.5\n",
    "3\t0.50\twSAAR\t0.862736\t-13.7\n",
    "4\t0.75\tGwSAA\t0.851111\t-14.9\n",
    "5\t0.75\tGwSAAR\t0.828619\t-17.1\n",
    "6\t0.75\twSAA\t0.892095\t-10.8\n",
    "7\t0.75\twSAAR\t0.831109\t-16.9\n",
    "8\t0.90\tGwSAA\t0.831216\t-16.9\n",
    "9\t0.90\tGwSAAR\t0.816914\t-18.3\n",
    "10\t0.90\twSAA\t0.865269\t-13.5\n",
    "11\t0.90\twSAAR\t0.804951\t-19.5"
   ]
  },
  {
   "cell_type": "code",
   "execution_count": null,
   "id": "0a98c2b1-e566-450b-8d4a-768ec832ae81",
   "metadata": {},
   "outputs": [],
   "source": [
    "results_total = results_GwSAA_oldold_best.groupby(['CR']).agg({'cost': sum, 'cost_SAA': sum}).reset_index()\n",
    "results_total['relTotalCost'] = results_total.cost / results_total.cost_SAA\n",
    "results_total['diffToSAAinPercent'] = np.around((results_total.relTotalCost - 1)*100, 1)\n",
    "results_total[['CR', 'relTotalCost', 'diffToSAAinPercent']]"
   ]
  },
  {
   "cell_type": "code",
   "execution_count": null,
   "id": "14c00757-7280-48b6-a6ec-ff5176cb82b6",
   "metadata": {},
   "outputs": [],
   "source": [
    "CR\tmodel\trelTotalCost\tdiffToSAAinPercent\n",
    "0\t0.50\tGwSAA\t0.749522\t-25.0\n",
    "1\t0.50\tGwSAAR\t0.756577\t-24.3\n",
    "2\t0.50\twSAA\t0.764865\t-23.5\n",
    "3\t0.50\twSAAR\t0.760803\t-23.9\n",
    "4\t0.75\tGwSAA\t0.692827\t-30.7\n",
    "5\t0.75\tGwSAAR\t0.677483\t-32.3\n",
    "6\t0.75\twSAA\t0.733764\t-26.6\n",
    "7\t0.75\twSAAR\t0.699986\t-30.0\n",
    "8\t0.90\tGwSAA\t0.583764\t-41.6\n",
    "9\t0.90\tGwSAAR\t0.535435\t-46.5\n",
    "10\t0.90\twSAA\t0.640875\t-35.9\n",
    "11\t0.90\twSAAR\t0.550761\t-44.9"
   ]
  },
  {
   "cell_type": "code",
   "execution_count": null,
   "id": "9d2e660d-55fc-41e6-892a-04e9bfb3b09a",
   "metadata": {},
   "outputs": [],
   "source": [
    "# Rolling Horizon Global Weighted SAA (GwSAA)\n",
    "results_GwSAAR_oldold = concatenate_results(path_results+'/_Archive/'+GwSAAR+'_r_z_old_params', GwSAAR+'_r_z_old_params', products, taus, es)"
   ]
  },
  {
   "cell_type": "code",
   "execution_count": null,
   "id": "42551e1e-fb34-4cd0-9196-09456adaccb4",
   "metadata": {},
   "outputs": [],
   "source": [
    "results_GwSAAR_oldold_best = results_GwSAAR_oldold.groupby(['CR', 'tau', 'e', 'SKU']).agg({'cost': sum}).reset_index().groupby(['CR', 'SKU']).agg({'cost': min}).reset_index()"
   ]
  },
  {
   "cell_type": "code",
   "execution_count": null,
   "id": "02c85493-25cd-4d3b-babd-89e3d9702604",
   "metadata": {},
   "outputs": [],
   "source": [
    "results_GwSAAR_oldold_best['product'] = copy.deepcopy(results_GwSAAR_oldold_best.SKU)"
   ]
  },
  {
   "cell_type": "code",
   "execution_count": null,
   "id": "7a3a2434-29c7-43f5-8f32-783d1eff4f32",
   "metadata": {},
   "outputs": [],
   "source": [
    "results_GwSAAR_oldold_best = pd.merge(left=results_GwSAAR_oldold_best, \n",
    "                                      right=results_SAA_best[['CR', 'product', 'cost']], \n",
    "                                      on=['CR', 'product'], suffixes=('','_SAA'))"
   ]
  },
  {
   "cell_type": "code",
   "execution_count": null,
   "id": "6c34f25e-874d-489d-b257-e80c0e83ef25",
   "metadata": {},
   "outputs": [],
   "source": [
    "results_perProduct = copy.deepcopy(results_GwSAAR_oldold_best)\n",
    "results_perProduct['medianRelCost'] = (\n",
    "    (results_perProduct.cost == results_perProduct.cost_SAA) * 1  \n",
    "    + (results_perProduct.cost != results_perProduct.cost_SAA) * (results_perProduct.cost / results_perProduct.cost_SAA)\n",
    ")\n",
    "results_perProduct = results_perProduct.groupby(['CR']).agg({'medianRelCost': np.median}).reset_index()\n",
    "results_perProduct['diffToSAAinPercent'] = np.around((results_perProduct.medianRelCost - 1)*100, 1)\n",
    "results_perProduct[['CR', 'medianRelCost', 'diffToSAAinPercent']]"
   ]
  },
  {
   "cell_type": "code",
   "execution_count": null,
   "id": "2415bc42-26e2-43a4-84b6-c91f95bb4c9f",
   "metadata": {},
   "outputs": [],
   "source": []
  },
  {
   "cell_type": "code",
   "execution_count": null,
   "id": "5eeb87cb-5e62-44f2-a73a-d635706ae6e5",
   "metadata": {},
   "outputs": [],
   "source": []
  },
  {
   "cell_type": "code",
   "execution_count": null,
   "id": "886e2291-44b6-4966-9bb9-8dca53fb3f4b",
   "metadata": {},
   "outputs": [],
   "source": []
  },
  {
   "cell_type": "code",
   "execution_count": null,
   "id": "d0f32ae0-b1ba-4e6d-a85b-b01121c17b41",
   "metadata": {},
   "outputs": [],
   "source": []
  },
  {
   "cell_type": "code",
   "execution_count": null,
   "id": "a911ad65-0b69-4c36-8562-c92f6881ce65",
   "metadata": {},
   "outputs": [],
   "source": []
  },
  {
   "cell_type": "code",
   "execution_count": null,
   "id": "2c021628-ea30-42bf-9043-e11b6c736233",
   "metadata": {},
   "outputs": [],
   "source": []
  },
  {
   "cell_type": "code",
   "execution_count": null,
   "id": "243a4b5d-0de0-4ddf-a519-0a2073f96c4c",
   "metadata": {},
   "outputs": [],
   "source": []
  },
  {
   "cell_type": "code",
   "execution_count": null,
   "id": "ab9d0a43-e789-4500-adb5-a10a4f44f1ef",
   "metadata": {},
   "outputs": [],
   "source": [
    "def prescriptive_performance(cost, cost_SAA):\n",
    "    \n",
    "    pq = (cost == cost_SAA) * 1  + (cost != cost_SAA) * (cost / cost_SAA)\n",
    "    \n",
    "    return pq"
   ]
  },
  {
   "cell_type": "code",
   "execution_count": null,
   "id": "00d76b17-fc87-4e11-8e69-be2d9437e6a9",
   "metadata": {},
   "outputs": [],
   "source": [
    "def predictive_performance():\n",
    "    \n",
    "    return None"
   ]
  },
  {
   "cell_type": "code",
   "execution_count": null,
   "id": "81ec334a-882c-4dc2-91e3-c487ba05b20f",
   "metadata": {},
   "outputs": [],
   "source": []
  },
  {
   "cell_type": "code",
   "execution_count": null,
   "id": "b05a692e-6881-49d8-823a-45b8be05b213",
   "metadata": {},
   "outputs": [],
   "source": []
  },
  {
   "cell_type": "code",
   "execution_count": null,
   "id": "20f06ce3-da15-4c5b-94e2-7fa70fc52c01",
   "metadata": {},
   "outputs": [],
   "source": [
    "joblib.load()"
   ]
  },
  {
   "cell_type": "code",
   "execution_count": null,
   "id": "fd4abae0-5870-4921-8d61-3f5cb48e9ce2",
   "metadata": {},
   "outputs": [],
   "source": []
  },
  {
   "cell_type": "code",
   "execution_count": null,
   "id": "98151f3b-725e-4720-ba50-57469234db7f",
   "metadata": {},
   "outputs": [],
   "source": []
  },
  {
   "cell_type": "code",
   "execution_count": null,
   "id": "f5f1bc37-820d-45d4-b0c6-c22375967064",
   "metadata": {},
   "outputs": [],
   "source": []
  },
  {
   "cell_type": "code",
   "execution_count": null,
   "id": "fcf73305-1557-4bd4-82b0-5c0c9ff181b7",
   "metadata": {},
   "outputs": [],
   "source": []
  },
  {
   "cell_type": "code",
   "execution_count": null,
   "id": "dc3a9b8c-3d73-44f6-b3ff-f48b64f6f385",
   "metadata": {},
   "outputs": [],
   "source": []
  },
  {
   "cell_type": "code",
   "execution_count": null,
   "id": "52131047-d930-470e-8a7d-d37eb9bb6a45",
   "metadata": {},
   "outputs": [],
   "source": []
  },
  {
   "cell_type": "code",
   "execution_count": null,
   "id": "bc376f6a-b1a5-4bb1-8997-ff3875216c85",
   "metadata": {},
   "outputs": [],
   "source": []
  },
  {
   "cell_type": "code",
   "execution_count": null,
   "id": "7511e354-6589-4f20-8445-e0a7ca0c0455",
   "metadata": {},
   "outputs": [],
   "source": [
    "########################################################################################################################"
   ]
  },
  {
   "cell_type": "code",
   "execution_count": null,
   "id": "e232c4c2-7efb-4d0e-97cd-86d7109cb850",
   "metadata": {},
   "outputs": [],
   "source": [
    "# Rolling Horizon Global Weighted SAA (GwSAA) - old hyper params\n",
    "results = evaluation.concatenate_results('/home/fesc/DDDInventoryControl/Data/Results/'+GwSAA+'_old_hyper_params', GwSAA+'_old_hyper_params', products, taus)\n",
    "results.to_csv('/home/fesc/DDDInventoryControl/Data/Results/'+GwSAA+'_old_hyper_params'+'_results.csv', sep=',', index=False)\n",
    "results_agg = evaluation.aggregate_results(results, ['CR', 'tau', 'product'])\n",
    "results_agg.to_csv('/home/fesc/DDDInventoryControl/Data/Results/'+GwSAA+'_old_hyper_params'+'_results_summary.csv', sep=',', index=False)"
   ]
  },
  {
   "cell_type": "code",
   "execution_count": null,
   "id": "abcd5407-ae44-4e9a-b377-8ca706f9ae3a",
   "metadata": {},
   "outputs": [],
   "source": [
    "# Rolling Horizon Global Robust Weighted SAA (GwSAA-R)\n",
    "results = evaluation.concatenate_results('/home/fesc/DDDInventoryControl/Data/Results/WithModelCV/'+GwSAAR+'_for_model_cv', GwSAAR+'_for_model_cv', products, taus, es)\n",
    "results.to_csv('/home/fesc/DDDInventoryControl/Data/Results/WithModelCV/'+GwSAAR+'_for_model_cv'+'_results.csv', sep=',', index=False)\n",
    "results_agg = evaluation.aggregate_results(results, ['CR', 'tau', 'e', 'product'])\n",
    "results_agg.to_csv('/home/fesc/DDDInventoryControl/Data/Results/WithModelCV/'+GwSAAR+'_for_model_cv'+'_results_summary.csv', sep=',', index=False)"
   ]
  },
  {
   "cell_type": "code",
   "execution_count": null,
   "id": "b46df19a-4bbc-4097-9bdf-cf113517adee",
   "metadata": {},
   "outputs": [],
   "source": [
    "# Rolling Horizon Global Robust Weighted SAA (GwSAA-R) - old hyper params\n",
    "results_CR50 = evaluation.concatenate_results('/home/fesc/DDDInventoryControl/Data/Results/'+GwSAAR+'_old_hyper_params_CR50', GwSAAR+'_old_hyper_params_CR50', products, taus, es)\n",
    "results_CR75 = evaluation.concatenate_results('/home/fesc/DDDInventoryControl/Data/Results/'+GwSAAR+'_old_hyper_params_CR75', GwSAAR+'_old_hyper_params_CR75', products, taus, es)\n",
    "results_CR90 = evaluation.concatenate_results('/home/fesc/DDDInventoryControl/Data/Results/'+GwSAAR+'_old_hyper_params_CR90', GwSAAR+'_old_hyper_params_CR90', products, taus, es)\n",
    "results = pd.concat([results_CR50, results_CR75, results_CR90]).reset_index(drop=True)\n",
    "results.to_csv('/home/fesc/DDDInventoryControl/Data/Results/'+GwSAAR+'_old_hyper_params'+'_results.csv', sep=',', index=False)\n",
    "results_agg = evaluation.aggregate_results(results, ['CR', 'tau', 'e', 'product'])\n",
    "results_agg.to_csv('/home/fesc/DDDInventoryControl/Data/Results/'+GwSAAR+'_old_hyper_params'+'_results_summary.csv', sep=',', index=False)"
   ]
  },
  {
   "cell_type": "code",
   "execution_count": null,
   "id": "57a1e152-fe45-43d2-bc84-e2d857185b2c",
   "metadata": {},
   "outputs": [],
   "source": [
    "# Rolling Horizon Local Robust Weighted SAA (wSAA-R) - max norm\n",
    "es = [x/10 for x in range(1, 30+1, 1)] \n",
    "results_CR50 = evaluation.concatenate_results('/home/fesc/DDDInventoryControl/Data/Results/WithModelCV/wSAAR_CR50', 'wSAAR_CR50', products, taus, es)\n",
    "results_CR75 = evaluation.concatenate_results('/home/fesc/DDDInventoryControl/Data/Results/WithModelCV/wSAAR_CR75', 'wSAAR_CR75', products, taus, es)\n",
    "results_CR90 = evaluation.concatenate_results('/home/fesc/DDDInventoryControl/Data/Results/WithModelCV/wSAAR_CR90', 'wSAAR_CR90', products, taus, es)\n",
    "results = pd.concat([results_CR50, results_CR75, results_CR90]).reset_index(drop=True)\n",
    "results.to_csv('/home/fesc/DDDInventoryControl/Data/Results/WithModelCV/wSAAR_results.csv', sep=',', index=False)\n",
    "results_agg = evaluation.aggregate_results(results, ['CR', 'tau', 'e', 'product'])\n",
    "results_agg.to_csv('/home/fesc/DDDInventoryControl/Data/Results/WithModelCV/wSAAR_results_summary.csv', sep=',', index=False)"
   ]
  },
  {
   "cell_type": "code",
   "execution_count": null,
   "id": "fefaeff0-5a1e-4d56-81ed-d06b891aff37",
   "metadata": {},
   "outputs": [],
   "source": [
    "## CV"
   ]
  },
  {
   "cell_type": "code",
   "execution_count": null,
   "id": "eaf4af21-3bdc-4d26-9b9a-2262fcc0150d",
   "metadata": {},
   "outputs": [],
   "source": [
    "# Load aggregated results\n",
    "results_GwSAA = pd.read_csv('/home/fesc/DDDInventoryControl/Data/Results/WithModelCV/'+GwSAA+'_for_model_cv'+'_results_summary.csv')\n",
    "results_wSAA = pd.read_csv('/home/fesc/DDDInventoryControl/Data/Results/WithModelCV/'+wSAA+'_for_model_cv'+'_results_summary.csv')\n",
    "results_GwSAAR = pd.read_csv('/home/fesc/DDDInventoryControl/Data/Results/WithModelCV/'+GwSAAR+'_for_model_cv'+'_results_summary.csv')\n",
    "results_wSAAR = pd.read_csv('/home/fesc/DDDInventoryControl/Data/Results/WithModelCV/'+wSAAR+'_for_model_cv'+'_results_summary.csv')\n",
    "results_SAA = pd.read_csv('/home/fesc/DDDInventoryControl/Data/Results/WithModelCV/'+SAA+'_for_model_cv'+'_results_summary.csv')\n",
    "results_ExPost = pd.read_csv('/home/fesc/DDDInventoryControl/Data/Results/WithModelCV/'+ExPost+'_for_model_cv'+'_results_summary.csv')"
   ]
  },
  {
   "cell_type": "code",
   "execution_count": null,
   "id": "6406cbcc-bc5c-4ad5-b293-f47b88656617",
   "metadata": {},
   "outputs": [],
   "source": [
    "# Find best tau\n",
    "results_GwSAA_best = evaluation.best_tau(results_GwSAA, results_ExPost, groupby=['CR', 'product'])\n",
    "results_wSAA_best = evaluation.best_tau(results_wSAA, results_ExPost, groupby=['CR', 'product'])\n",
    "results_GwSAAR_best = evaluation.best_tau(results_GwSAAR, results_ExPost, groupby=['CR', 'product', 'e'])\n",
    "results_wSAAR_best = evaluation.best_tau(results_wSAAR, results_ExPost, groupby=['CR', 'product', 'e'])\n",
    "results_SAA_best = evaluation.best_tau(results_SAA, results_ExPost, groupby=['CR', 'product'])"
   ]
  },
  {
   "cell_type": "code",
   "execution_count": null,
   "id": "ff9e72a5-253f-4bc9-bbaa-519ae64b467f",
   "metadata": {},
   "outputs": [],
   "source": [
    "# Find best e given best tau for robust models\n",
    "results_GwSAAR_best = evaluation.best_e(results_GwSAAR_best, results_ExPost, groupby=['CR', 'product'])\n",
    "results_wSAAR_best = evaluation.best_e(results_wSAAR_best, results_ExPost, groupby=['CR', 'product'])"
   ]
  },
  {
   "cell_type": "code",
   "execution_count": null,
   "id": "289e7519-a512-4a9b-a365-54611062bbe8",
   "metadata": {},
   "outputs": [],
   "source": [
    "## APPLY"
   ]
  },
  {
   "cell_type": "code",
   "execution_count": null,
   "id": "3ff16330-31ff-4beb-860f-d0259360fc16",
   "metadata": {},
   "outputs": [],
   "source": [
    "# Load aggregated results\n",
    "results_GwSAA = pd.read_csv(path_results+'/'+GwSAA+'_results_summary.csv')\n",
    "#results_GwSAA = pd.read_csv(path_results+'/'+GwSAA+'_old_hyper_params_results_summary.csv')\n",
    "results_wSAA = pd.read_csv(path_results+'/'+wSAA+'_results_summary.csv')\n",
    "results_GwSAAR = pd.read_csv(path_results+'/'+GwSAAR+'_results_summary.csv')\n",
    "#results_GwSAAR = pd.read_csv(path_results+'/'+GwSAAR+'_old_hyper_params_results_summary.csv')\n",
    "#results_wSAAR = pd.read_csv(path_results+'/'+wSAAR+'_results_summary.csv')\n",
    "results_wSAAR = pd.read_csv(path_results+'/WithModelCV/'+wSAAR+'_results_summary.csv')\n",
    "results_SAA = pd.read_csv(path_results+'/'+SAA+'_results_summary.csv')\n",
    "results_ExPost = pd.read_csv(path_results+'/'+ExPost+'_results_summary.csv')"
   ]
  },
  {
   "cell_type": "code",
   "execution_count": null,
   "id": "db4ccbb8-f3ff-4b94-a7d2-54b512d5d6ce",
   "metadata": {},
   "outputs": [],
   "source": [
    "results_GwSAA_best_oos = pd.merge(left=results_GwSAA_best[['CR', 'tau', 'product']], right=results_GwSAA, on=['CR', 'tau', 'product'])"
   ]
  },
  {
   "cell_type": "code",
   "execution_count": null,
   "id": "106878b2-1cc1-4d23-8680-a8985f1dda87",
   "metadata": {},
   "outputs": [],
   "source": [
    "results_GwSAAR_best_oos = pd.merge(left=results_GwSAAR_best[['CR', 'tau', 'e', 'product']], right=results_GwSAAR, on=['CR', 'tau', 'e', 'product'])"
   ]
  },
  {
   "cell_type": "code",
   "execution_count": null,
   "id": "6ac4d281-75ea-4307-b2ef-7740fe2b2532",
   "metadata": {},
   "outputs": [],
   "source": [
    "results_wSAA_best_oos = pd.merge(left=results_wSAA_best[['CR', 'tau', 'product']], right=results_wSAA, on=['CR', 'tau', 'product'])"
   ]
  },
  {
   "cell_type": "code",
   "execution_count": null,
   "id": "c7b9ca5e-5135-49df-9aa4-8eb35e6cb60d",
   "metadata": {},
   "outputs": [],
   "source": [
    "#results_wSAAR_best_oos = pd.merge(left=results_wSAAR_best[['CR', 'tau', 'e', 'product']], right=results_wSAAR, on=['CR', 'tau', 'e', 'product'])"
   ]
  },
  {
   "cell_type": "code",
   "execution_count": null,
   "id": "9c9659d1-76c0-45f7-be5b-e3f7b8cd7a5a",
   "metadata": {},
   "outputs": [],
   "source": [
    "results_wSAAR_best_oos = copy.deepcopy(results_wSAAR)"
   ]
  },
  {
   "cell_type": "code",
   "execution_count": null,
   "id": "b2557b36-ff59-4d69-94e0-cb7c6db26a64",
   "metadata": {},
   "outputs": [],
   "source": [
    "results_SAA_best_oos = pd.merge(left=results_SAA_best[['CR', 'tau', 'product']], right=results_SAA, on=['CR', 'tau', 'product'])"
   ]
  },
  {
   "cell_type": "code",
   "execution_count": null,
   "id": "5310918c-aa4c-4982-a045-2fb881d02b3e",
   "metadata": {},
   "outputs": [],
   "source": []
  },
  {
   "cell_type": "code",
   "execution_count": null,
   "id": "98795afb-2bd1-44bb-874f-ae8c2d26bbc3",
   "metadata": {},
   "outputs": [],
   "source": [
    "# Combine to one results data set\n",
    "cols = ['model', 'CR', 'tau', 'e', 'product', 'K', 'u', 'h', 'b', \n",
    "        'I', 'q', 'I_q', 'y', 'I_q_y', 'c_o', 'c_s', 'cost',\n",
    "       'defaulted', 'solutions', 'gap', 'exec_time_sec', 'cpu_time_sec']\n",
    "\n",
    "results_GwSAA_best_oos['model'] = copy.deepcopy(GwSAA)\n",
    "results_GwSAA_best_oos['e'] = None\n",
    "results_GwSAA_best_oos = results_GwSAA_best_oos[cols]\n",
    "\n",
    "results_wSAA_best_oos['model'] = copy.deepcopy(wSAA)\n",
    "results_wSAA_best_oos['e'] = None\n",
    "results_wSAA_best_oos = results_wSAA_best_oos[cols]\n",
    "\n",
    "results_GwSAAR_best_oos['model'] = copy.deepcopy(GwSAAR)\n",
    "results_GwSAAR_best_oos = results_GwSAAR_best_oos[cols]\n",
    "\n",
    "results_wSAAR_best_oos['model'] = copy.deepcopy(wSAAR) \n",
    "results_wSAAR_best_oos = results_wSAAR_best_oos[cols]\n",
    "\n",
    "results = pd.concat([results_GwSAA_best_oos, results_wSAA_best_oos, results_GwSAAR_best_oos, results_wSAAR_best_oos])"
   ]
  },
  {
   "cell_type": "code",
   "execution_count": null,
   "id": "53af470d-b842-434c-a792-4dc251bded7a",
   "metadata": {},
   "outputs": [],
   "source": [
    "# Add SAA and ExPost\n",
    "results = pd.merge(left=results,\n",
    "                   right=results_SAA_best_oos[['CR', 'product', 'cost']],\n",
    "                   on=['CR', 'product'],\n",
    "                   suffixes=('', '_SAA'))"
   ]
  },
  {
   "cell_type": "code",
   "execution_count": null,
   "id": "064aa878-69a6-4174-af99-f8020e4b4fce",
   "metadata": {},
   "outputs": [],
   "source": [
    "# Total cost"
   ]
  },
  {
   "cell_type": "code",
   "execution_count": null,
   "id": "2d44ec44-cf45-43c4-a671-7bc31b37dd8c",
   "metadata": {},
   "outputs": [],
   "source": [
    "results_total = results.groupby(['CR', 'model']).agg({'cost': sum, 'cost_SAA': sum}).reset_index()\n",
    "results_total['relTotalCost'] = results_total.cost / results_total.cost_SAA\n",
    "results_total['diffToSAAinPercent'] = np.around((results_total.relTotalCost - 1)*100, 1)\n",
    "results_total[['CR', 'model', 'relTotalCost', 'diffToSAAinPercent']]"
   ]
  },
  {
   "cell_type": "code",
   "execution_count": null,
   "id": "c9292e5b-500a-4f02-bfe3-f7f2c2200c75",
   "metadata": {},
   "outputs": [],
   "source": [
    "# Per product - median"
   ]
  },
  {
   "cell_type": "code",
   "execution_count": null,
   "id": "76aecf00-dfdd-4925-b5df-979ce587e90f",
   "metadata": {},
   "outputs": [],
   "source": [
    "results_perProduct = copy.deepcopy(results)\n",
    "results_perProduct['medianRelCost'] = (\n",
    "    (results_perProduct.cost == results_perProduct.cost_SAA) * 1  \n",
    "    + (results_perProduct.cost != results_perProduct.cost_SAA) * (results_perProduct.cost / results_perProduct.cost_SAA)\n",
    ")\n",
    "results_perProduct = results_perProduct.groupby(['CR', 'model']).agg({'medianRelCost': np.median}).reset_index()\n",
    "results_perProduct['diffToSAAinPercent'] = np.around((results_perProduct.medianRelCost - 1)*100, 1)\n",
    "results_perProduct[['CR', 'model', 'medianRelCost', 'diffToSAAinPercent']]"
   ]
  },
  {
   "cell_type": "code",
   "execution_count": null,
   "id": "c60d1b4a-2e6e-4b91-a5d8-c2e6dc83641f",
   "metadata": {},
   "outputs": [],
   "source": [
    "# Per product - mean"
   ]
  },
  {
   "cell_type": "code",
   "execution_count": null,
   "id": "abb864e6-d9d5-477b-a36a-602ea403f09b",
   "metadata": {},
   "outputs": [],
   "source": [
    "results_perProduct = copy.deepcopy(results)\n",
    "results_perProduct['meanRelCost'] = (\n",
    "    (results_perProduct.cost == results_perProduct.cost_SAA) * 1  \n",
    "    + (results_perProduct.cost != results_perProduct.cost_SAA) * (results_perProduct.cost / results_perProduct.cost_SAA)\n",
    ")\n",
    "results_perProduct = results_perProduct.groupby(['CR', 'model']).agg({'meanRelCost': np.mean}).reset_index()\n",
    "results_perProduct['diffToSAAinPercent'] = np.around((results_perProduct.meanRelCost - 1)*100, 3)\n",
    "results_perProduct[['CR', 'model', 'meanRelCost', 'diffToSAAinPercent']]"
   ]
  },
  {
   "cell_type": "code",
   "execution_count": null,
   "id": "4a633685-ee34-46e8-abf1-88d0ce3dba5e",
   "metadata": {},
   "outputs": [],
   "source": []
  },
  {
   "cell_type": "code",
   "execution_count": null,
   "id": "3cb193d9-51d7-4be5-b0b8-acddf3a82c9a",
   "metadata": {},
   "outputs": [],
   "source": []
  },
  {
   "cell_type": "code",
   "execution_count": null,
   "id": "863f4d62-428b-4ae7-8d2b-86c9226d73ad",
   "metadata": {},
   "outputs": [],
   "source": []
  },
  {
   "cell_type": "code",
   "execution_count": null,
   "id": "1f0631cb-bc49-469c-8098-3d700fc247f5",
   "metadata": {},
   "outputs": [],
   "source": []
  },
  {
   "cell_type": "code",
   "execution_count": null,
   "id": "85575b5e-c57a-4f9c-bcef-ad1cb98947d1",
   "metadata": {},
   "outputs": [],
   "source": []
  },
  {
   "cell_type": "code",
   "execution_count": null,
   "id": "90896a1b-150c-4555-89db-6d0e900ba7dc",
   "metadata": {},
   "outputs": [],
   "source": [
    "test = pd.merge(left=results.loc[results.model=='GwSAA'], right=results.loc[results.model=='wSAA'], \n",
    "                on=['CR', 'product'], suffixes=('_model', '_benchmark'))"
   ]
  },
  {
   "cell_type": "code",
   "execution_count": null,
   "id": "dfa594a3-dcc2-4b9f-bf44-90f682ff2586",
   "metadata": {},
   "outputs": [],
   "source": [
    "results_perProduct = copy.deepcopy(test)\n",
    "results_perProduct['medianRelCost'] = (\n",
    "    (results_perProduct.cost_model == results_perProduct.cost_benchmark) * 1  \n",
    "    + (results_perProduct.cost_model != results_perProduct.cost_benchmark) * (results_perProduct.cost_model / results_perProduct.cost_benchmark)\n",
    ")\n",
    "results_perProduct = results_perProduct.groupby(['CR']).agg({'medianRelCost': np.median}).reset_index()\n",
    "results_perProduct['diffinPercent'] = np.around((results_perProduct.medianRelCost - 1)*100, 1)\n",
    "results_perProduct[['CR', 'medianRelCost', 'diffinPercent']]"
   ]
  },
  {
   "cell_type": "code",
   "execution_count": null,
   "id": "f9d76453-5f41-4aab-8066-8a8788d7296d",
   "metadata": {},
   "outputs": [],
   "source": []
  }
 ],
 "metadata": {
  "kernelspec": {
   "display_name": "DDDInventoryControl",
   "language": "python",
   "name": "dddinventorycontrol"
  },
  "language_info": {
   "codemirror_mode": {
    "name": "ipython",
    "version": 3
   },
   "file_extension": ".py",
   "mimetype": "text/x-python",
   "name": "python",
   "nbconvert_exporter": "python",
   "pygments_lexer": "ipython3",
   "version": "3.8.15"
  }
 },
 "nbformat": 4,
 "nbformat_minor": 5
}
