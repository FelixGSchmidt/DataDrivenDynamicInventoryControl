{
 "cells": [
  {
   "cell_type": "markdown",
   "id": "5dd648f4-d213-4288-a8a7-2dfacb420889",
   "metadata": {},
   "source": [
    "# Imports"
   ]
  },
  {
   "cell_type": "code",
   "execution_count": 27,
   "id": "ec6f6426-35da-47c6-b50f-269f72aca747",
   "metadata": {},
   "outputs": [],
   "source": [
    "# Import utils\n",
    "import numpy as np\n",
    "import pandas as pd\n",
    "import copy\n",
    "import time\n",
    "import datetime as dt\n",
    "import pickle\n",
    "import json\n",
    "from pathlib import Path\n",
    "import joblib\n",
    "from joblib import dump, load, Parallel, delayed\n",
    "import os\n",
    "import itertools\n",
    "import contextlib\n",
    "from tqdm import tqdm\n",
    "\n",
    "# Import Weights Model\n",
    "import WeightsModel3\n",
    "from WeightsModel3 import PreProcessing\n",
    "from WeightsModel3 import RandomForestWeightsModel\n",
    "from WeightsModel3 import RollingHorizonGlobalTrainingAndSampling\n",
    "\n",
    "# Import (Rolling Horizon) Weighted SAA models\n",
    "from WeightedSAA3 import WeightedSAA\n",
    "from WeightedSAA3 import RobustWeightedSAA\n",
    "from WeightedSAA3 import RobustWeightedSAA2\n",
    "from WeightedSAA3 import RollingHorizonOptimization"
   ]
  },
  {
   "cell_type": "code",
   "execution_count": 28,
   "id": "1bc50d20-9603-4eef-a57c-22c6335aa830",
   "metadata": {},
   "outputs": [],
   "source": [
    "### Function to concatenate all results\n",
    "def concatenate_results(path_to_save, name_to_save, SKUs, taus=[None], es=[None]):\n",
    "    \n",
    "    results = pd.DataFrame()\n",
    "    \n",
    "    # For each product (SKU) k=1,...,M\n",
    "    for SKU in SKUs:\n",
    "        \n",
    "        # For each look-ahead tau=0,...,4\n",
    "        for tau in taus:\n",
    "            \n",
    "            # For each uncertainty set specification  e=1,...,12\n",
    "            for e in es:\n",
    "                \n",
    "                if not e is None:\n",
    "                    \n",
    "                    file_name = path_to_save+'/'+name_to_save+'_e'+str(e).replace('.', '')+'_SKU'+str(SKU)+'_tau'+str(tau)+'.csv'\n",
    "                    \n",
    "                    # Check if results exist   \n",
    "                    if os.path.exists(file_name):\n",
    "                        results = pd.concat([results, pd.read_csv(file_name)])\n",
    "                    \n",
    "                else:\n",
    "                    \n",
    "                    file_name = path_to_save+'/'+name_to_save+'_SKU'+str(SKU)+'_tau'+str(tau)+'.csv'\n",
    "            \n",
    "                    # Check if results exist   \n",
    "                    if os.path.exists(file_name):\n",
    "                        results = pd.concat([results, pd.read_csv(file_name)])\n",
    "    \n",
    "    return results"
   ]
  },
  {
   "cell_type": "code",
   "execution_count": 29,
   "id": "80eb6b40-79c1-4c64-a3e4-23fc954e8d0b",
   "metadata": {},
   "outputs": [],
   "source": [
    "def aggregate_results(results, groupby=['CR', 'tau', 'e', 'SKU']):\n",
    "        \n",
    "    # Aggregate results over periods t=1,...,T\n",
    "    results_aggregated = results.groupby(groupby).agg({\n",
    "        'MIPGap': lambda x: x.iloc[0],\n",
    "        'NumericFocus': lambda x: x.iloc[0],\n",
    "        'obj_improvement': lambda x: x.iloc[0],\n",
    "        'obj_timeout_sec': lambda x: x.iloc[0],\n",
    "        'obj_timeout_max_sec': lambda x: x.iloc[0],\n",
    "        'K': lambda x: x.iloc[0],\n",
    "        'u': lambda x: x.iloc[0],\n",
    "        'h': lambda x: x.iloc[0],\n",
    "        'b': lambda x: x.iloc[0],\n",
    "        'I': np.mean,\n",
    "        'q': np.mean,\n",
    "        'I_q': np.mean,\n",
    "        'y': np.mean,\n",
    "        'I_q_y': np.mean,\n",
    "        'c_o': sum,\n",
    "        'c_s': sum,\n",
    "        'cost': sum,\n",
    "        'defaulted': sum,\n",
    "        'solutions': lambda x: sum(x>0),\n",
    "        'gap': np.mean,\n",
    "        'exec_time_sec': np.mean,\n",
    "        'cpu_time_sec': np.mean\n",
    "    }).reset_index()\n",
    "\n",
    "    return results_aggregated"
   ]
  },
  {
   "cell_type": "markdown",
   "id": "402fba35-24f3-459e-ac49-ccfbdbdaaeb4",
   "metadata": {},
   "source": [
    "# General paths and parameters"
   ]
  },
  {
   "cell_type": "code",
   "execution_count": 30,
   "id": "bb3691eb-11e2-4b45-9f14-ec3f2ad16a31",
   "metadata": {},
   "outputs": [],
   "source": [
    "# Set folder names as global variables\n",
    "os.chdir('/home/fesc/MM/')\n",
    "global PATH_DATA, PATH_PARAMS, PATH_KERNELS, PATH_SAMPLES, PATH_RESULTS\n",
    "\n",
    "PATH_DATA = '/home/fesc/MM/Data'\n",
    "PATH_PARAMS  = '/home/fesc/MM/Data/Params'\n",
    "PATH_WEIGHTSMODEL = '/home/fesc/MM/Data/WeightsModel'\n",
    "PATH_SAMPLES = '/home/fesc/MM/Data/Samples'\n",
    "PATH_RESULTS = '/home/fesc/MM/Data/Results'"
   ]
  },
  {
   "cell_type": "code",
   "execution_count": 31,
   "id": "d56659e3-3eea-4f08-9d82-8c85927bf18b",
   "metadata": {},
   "outputs": [],
   "source": [
    "# Time period and SKU ranges\n",
    "T = 13                  # Planning horizon T\n",
    "ts = range(1,13+1)      # Periods t=1,...,T of the planning horizon\n",
    "taus = range(0,4+1)     # Look-aheads tau=0,...,4 to use\n",
    "es = [1,3,6,9,12]       # Uncertainty set specifications\n",
    "SKUs = range(1,460+1)   # Products (SKUs) k=1,...,M"
   ]
  },
  {
   "cell_type": "code",
   "execution_count": 6,
   "id": "5324e3a3-a1e5-4e85-91a0-8a0963021fc6",
   "metadata": {},
   "outputs": [],
   "source": [
    "# Rolling Horizon Global Weighted SAA (GwSAA)\n",
    "path_to_save_GwSAA = PATH_RESULTS+'/GwSAA_NEW'\n",
    "name_to_save_GwSAA = 'GwSAA_NEW'\n",
    "\n",
    "# Rolling Horizon Global Robust Weighted SAA (GwSAA-R)\n",
    "path_to_save_GwSAAR = PATH_RESULTS+'/GwSAAR_NEW'\n",
    "name_to_save_GwSAAR = 'GwSAAR_NEW'\n",
    "\n",
    "# Rolling Horizon Local Weighted SAA (wSAA)\n",
    "path_to_save_wSAA = PATH_RESULTS+'/wSAA_NEW'\n",
    "name_to_save_wSAA = 'wSAA_NEW'\n",
    "\n",
    "# Rolling Horizon Local Robust Weighted SAA (wSAA-R)\n",
    "path_to_save_wSAAR = PATH_RESULTS+'/wSAAR_NEW'\n",
    "name_to_save_wSAAR = 'wSAAR_NEW'\n",
    "\n",
    "# Rolling Horizon Local SAA (SAA)\n",
    "path_to_save_SAA = PATH_RESULTS+'/SAA_NEW'\n",
    "name_to_save_SAA = 'SAA_NEW'\n",
    "\n",
    "# Ex-post clairvoyant model\n",
    "path_to_save_ExPost = PATH_RESULTS+'/ExPost_NEW'\n",
    "name_to_save_ExPost = 'ExPost_NEW'"
   ]
  },
  {
   "cell_type": "markdown",
   "id": "8b6ecf58-d21a-485e-bcf6-583ab8430892",
   "metadata": {},
   "source": [
    "# Evaluation"
   ]
  },
  {
   "cell_type": "markdown",
   "id": "a9cb4a7f-6f7d-43c3-b8f6-5bf8e6cd92c9",
   "metadata": {},
   "source": [
    "## Post-processing"
   ]
  },
  {
   "cell_type": "markdown",
   "id": "b463227a-5c30-435c-8d3a-b6e1dbd85a15",
   "metadata": {},
   "source": [
    "### Concatenate and save"
   ]
  },
  {
   "cell_type": "code",
   "execution_count": null,
   "id": "e3b235b6-d980-4cb3-a137-6e01c09335a6",
   "metadata": {},
   "outputs": [],
   "source": [
    "# Rolling Horizon Global Weighted SAA (GwSAA)\n",
    "results = concatenate_results(path_to_save_GwSAA, name_to_save_GwSAA, SKUs, taus)\n",
    "file_name = path_to_save_GwSAA+'/'+name_to_save_GwSAA+'_results.csv'\n",
    "results.to_csv(file_name, sep=',', index=False)"
   ]
  },
  {
   "cell_type": "code",
   "execution_count": null,
   "id": "a2c6e79b-9f3b-4a88-82f8-a25b24ae3934",
   "metadata": {},
   "outputs": [],
   "source": [
    "# Rolling Horizon Global Robust Weighted SAA (GwSAA-R)\n",
    "results = concatenate_results(path_to_save_GwSAAR, name_to_save_GwSAAR, SKUs, taus, es)\n",
    "file_name = path_to_save_GwSAAR+'/'+name_to_save_GwSAAR+'_results.csv'\n",
    "results.to_csv(file_name, sep=',', index=False)"
   ]
  },
  {
   "cell_type": "code",
   "execution_count": null,
   "id": "0f58f435-407e-4189-b312-4dc560d031d2",
   "metadata": {},
   "outputs": [],
   "source": [
    "# Rolling Horizon Local Weighted SAA (wSAA)\n",
    "results = concatenate_results(path_to_save_wSAA, name_to_save_wSAA, SKUs, taus)\n",
    "file_name = path_to_save_wSAA+'/'+name_to_save_wSAA+'_results.csv'\n",
    "results.to_csv(file_name, sep=',', index=False)"
   ]
  },
  {
   "cell_type": "code",
   "execution_count": null,
   "id": "c599de2d-2d10-4b2f-b67e-7b1f4891dcc9",
   "metadata": {},
   "outputs": [],
   "source": [
    "# Rolling Horizon Local Robust Weighted SAA (wSAA-R)\n",
    "results = concatenate_results(path_to_save_wSAAR, name_to_save_wSAAR, SKUs, taus, es)\n",
    "file_name = path_to_save_wSAAR+'/'+name_to_save_wSAAR+'_results.csv'\n",
    "results.to_csv(file_name, sep=',', index=False)"
   ]
  },
  {
   "cell_type": "code",
   "execution_count": null,
   "id": "9b310045-5ca2-4971-8776-85ce578ee98b",
   "metadata": {},
   "outputs": [],
   "source": [
    "# Rolling Horizon Local SAA (SAA)\n",
    "results = concatenate_results(path_to_save_SAA, name_to_save_SAA, SKUs, taus)\n",
    "file_name = path_to_save_SAA+'/'+name_to_save_SAA+'_results.csv'\n",
    "results.to_csv(file_name, sep=',', index=False)"
   ]
  },
  {
   "cell_type": "code",
   "execution_count": null,
   "id": "0ccef1f5-eab1-4506-ba03-87f6b28e0408",
   "metadata": {},
   "outputs": [],
   "source": [
    "# Ex-post clairvoyant model\n",
    "results = concatenate_results(path_to_save_ExPost, name_to_save_ExPost, SKUs)\n",
    "file_name = path_to_save_ExPost+'/'+name_to_save_ExPost+'_results.csv'\n",
    "results.to_csv(file_name, sep=',', index=False)"
   ]
  },
  {
   "cell_type": "markdown",
   "id": "45d03697-b1d5-41ea-8414-0b7b47493ea6",
   "metadata": {},
   "source": [
    "### Load"
   ]
  },
  {
   "cell_type": "code",
   "execution_count": null,
   "id": "031332cd-56d9-48fb-b9d3-714f47c756ab",
   "metadata": {},
   "outputs": [],
   "source": [
    "# Rolling Horizon Global Weighted SAA (GwSAA)\n",
    "file_name = path_to_save_GwSAA+'/'+name_to_save_GwSAA+'_results.csv'\n",
    "results_GwSAA = pd.read_csv(file_name)\n",
    "#results_GwSAA['model'] = 'GwSAA'\n",
    "#results_GwSAA['e'] = 0"
   ]
  },
  {
   "cell_type": "code",
   "execution_count": null,
   "id": "d7e16697-15b5-4a55-8bb1-43e74a894ca1",
   "metadata": {},
   "outputs": [],
   "source": [
    "# Rolling Horizon Global Robust Weighted SAA (GwSAA-R)\n",
    "file_name = path_to_save_GwSAAR+'/'+name_to_save_GwSAAR+'_results.csv'\n",
    "results_GwSAAR = pd.read_csv(file_name)\n",
    "#results_GwSAAR['model'] = 'GwSAA-R'"
   ]
  },
  {
   "cell_type": "code",
   "execution_count": null,
   "id": "96f8bab9-a069-45bb-97a9-5c6dbffe005d",
   "metadata": {},
   "outputs": [],
   "source": [
    "# Rolling Horizon Local Weighted SAA (wSAA)\n",
    "file_name = path_to_save_wSAA+'/'+name_to_save_wSAA+'_results.csv'\n",
    "results_wSAA = pd.read_csv(file_name)\n",
    "#results_wSAA['model'] = 'wSAA'\n",
    "#results_wSAA['e'] = 0"
   ]
  },
  {
   "cell_type": "code",
   "execution_count": null,
   "id": "8a4a7c25-d4ff-4a9f-a555-1d61062e2f91",
   "metadata": {},
   "outputs": [],
   "source": [
    "# Rolling Horizon Local Robust Weighted SAA (wSAA-R)\n",
    "file_name = path_to_save_wSAAR+'/'+name_to_save_wSAAR+'_results.csv'\n",
    "results_wSAAR = pd.read_csv(file_name)\n",
    "#results_wSAAR['model'] = 'wSAA-R'"
   ]
  },
  {
   "cell_type": "code",
   "execution_count": null,
   "id": "c3325d1b-7ef0-4e0e-9657-ba826c921b55",
   "metadata": {},
   "outputs": [],
   "source": [
    "# Rolling Horizon Local SAA (SAA)\n",
    "file_name = path_to_save_SAA+'/'+name_to_save_SAA+'_results.csv'\n",
    "results_SAA = pd.read_csv(file_name)\n",
    "#results_SAA['model'] = 'SAA'\n",
    "#results_SAA['e'] = 0"
   ]
  },
  {
   "cell_type": "code",
   "execution_count": null,
   "id": "263694c1-dbfb-4084-9619-4b526e9845f4",
   "metadata": {},
   "outputs": [],
   "source": [
    "# Ex-post clairvoyant model\n",
    "file_name = path_to_save_ExPost+'/'+name_to_save_ExPost+'_results.csv'\n",
    "results_ExPost = pd.read_csv(file_name)\n",
    "#result_ExPost['model'] = 'ExPost'\n",
    "# result_ExPost['e'] = 0\n",
    "# results_ExPost = pd.DataFrame()\n",
    "# for tau in taus:\n",
    "#     result_ExPost['tau'] = tau\n",
    "#     results_ExPost = pd.concat([results_ExPost,result_ExPost])"
   ]
  },
  {
   "cell_type": "code",
   "execution_count": null,
   "id": "fe6221b2-5b61-40f3-924f-5b7817425ad8",
   "metadata": {},
   "outputs": [],
   "source": []
  },
  {
   "cell_type": "markdown",
   "id": "b6922a4e-e862-41c9-a295-79dcec15f19f",
   "metadata": {},
   "source": [
    "### Aggregate"
   ]
  },
  {
   "cell_type": "code",
   "execution_count": null,
   "id": "08e64d81-3a6c-4c87-a3be-d296cce3febb",
   "metadata": {},
   "outputs": [],
   "source": [
    "# Aggregate results over periods t=1,...,T\n",
    "results_agg_GwSAA = aggregate_results(results_GwSAA, ['CR', 'tau', 'SKU'])\n",
    "results_agg_GwSAAR = aggregate_results(results_GwSAAR, ['CR', 'tau', 'e', 'SKU'])\n",
    "results_agg_wSAA = aggregate_results(results_wSAA, ['CR', 'tau', 'SKU'])\n",
    "results_agg_wSAAR = aggregate_results(results_wSAAR, ['CR', 'tau', 'e', 'SKU'])\n",
    "results_agg_SAA = aggregate_results(results_SAA, ['CR', 'tau', 'SKU'])\n",
    "results_agg_ExPost = aggregate_results(results_ExPost, ['CR', 'SKU'])"
   ]
  },
  {
   "cell_type": "code",
   "execution_count": null,
   "id": "3493fe65-8602-4a01-9dee-485b4180b007",
   "metadata": {},
   "outputs": [],
   "source": []
  },
  {
   "cell_type": "code",
   "execution_count": null,
   "id": "0054d082-fa9b-4b41-b12f-495e79413742",
   "metadata": {},
   "outputs": [],
   "source": []
  },
  {
   "cell_type": "code",
   "execution_count": 70,
   "id": "bfc2446a-f317-4c67-97fd-902947095e61",
   "metadata": {},
   "outputs": [],
   "source": [
    "path_to_save_GwSAA_z = PATH_RESULTS+'/GwSAA_NEW_z'\n",
    "name_to_save_GwSAA_z = 'GwSAA_NEW_z'\n",
    "tau=1"
   ]
  },
  {
   "cell_type": "code",
   "execution_count": 71,
   "id": "502244f8-997a-47a7-a4b6-a2a052193079",
   "metadata": {},
   "outputs": [],
   "source": [
    "results = concatenate_results(path_to_save_GwSAA_z, name_to_save_GwSAA_z, SKUs, taus)"
   ]
  },
  {
   "cell_type": "code",
   "execution_count": 72,
   "id": "b0228cdf-bd11-42b6-86b7-fb28c6463d28",
   "metadata": {},
   "outputs": [],
   "source": [
    "res_z = results.loc[results.tau==tau].groupby(['CR', 'tau', 'SKU']).agg({'cost': sum, 'y': sum}).reset_index()"
   ]
  },
  {
   "cell_type": "code",
   "execution_count": 73,
   "id": "fa447bd9-0e26-4167-9e43-b088ab791dce",
   "metadata": {},
   "outputs": [],
   "source": [
    "file_name = path_to_save_GwSAA+'/'+name_to_save_GwSAA+'_results.csv'\n",
    "results_GwSAA = pd.read_csv(file_name)"
   ]
  },
  {
   "cell_type": "code",
   "execution_count": 74,
   "id": "0b74d866-73cb-4cec-acf4-a2ed9b8fca39",
   "metadata": {},
   "outputs": [],
   "source": [
    "res = results_GwSAA.loc[results_GwSAA.tau==tau].groupby(['CR', 'tau', 'SKU']).agg({'cost': sum, 'y': sum}).reset_index()"
   ]
  },
  {
   "cell_type": "code",
   "execution_count": 75,
   "id": "861c9b28-7b06-4dba-a330-8b621b86969d",
   "metadata": {},
   "outputs": [],
   "source": [
    "test = pd.merge(left=res_z, right=res, on=['CR', 'tau', 'SKU'], suffixes=('_z',''))"
   ]
  },
  {
   "cell_type": "code",
   "execution_count": 76,
   "id": "934d906c-4202-42ee-8869-c29170f355d5",
   "metadata": {},
   "outputs": [],
   "source": [
    "test['diffs'] = test.cost_z / test.cost"
   ]
  },
  {
   "cell_type": "code",
   "execution_count": 77,
   "id": "5fa5b309-9022-4987-861a-9fe1ac37d83b",
   "metadata": {},
   "outputs": [
    {
     "data": {
      "text/html": [
       "<div>\n",
       "<style scoped>\n",
       "    .dataframe tbody tr th:only-of-type {\n",
       "        vertical-align: middle;\n",
       "    }\n",
       "\n",
       "    .dataframe tbody tr th {\n",
       "        vertical-align: top;\n",
       "    }\n",
       "\n",
       "    .dataframe thead th {\n",
       "        text-align: right;\n",
       "    }\n",
       "</style>\n",
       "<table border=\"1\" class=\"dataframe\">\n",
       "  <thead>\n",
       "    <tr style=\"text-align: right;\">\n",
       "      <th></th>\n",
       "      <th>CR</th>\n",
       "      <th>tau</th>\n",
       "      <th>SKU</th>\n",
       "      <th>cost_z</th>\n",
       "      <th>y_z</th>\n",
       "      <th>cost</th>\n",
       "      <th>y</th>\n",
       "      <th>diffs</th>\n",
       "    </tr>\n",
       "  </thead>\n",
       "  <tbody>\n",
       "    <tr>\n",
       "      <th>count</th>\n",
       "      <td>1380.000000</td>\n",
       "      <td>1380.0</td>\n",
       "      <td>1380.000000</td>\n",
       "      <td>1.380000e+03</td>\n",
       "      <td>1.380000e+03</td>\n",
       "      <td>1.380000e+03</td>\n",
       "      <td>1.380000e+03</td>\n",
       "      <td>1371.000000</td>\n",
       "    </tr>\n",
       "    <tr>\n",
       "      <th>mean</th>\n",
       "      <td>0.716667</td>\n",
       "      <td>1.0</td>\n",
       "      <td>230.500000</td>\n",
       "      <td>4.702462e+04</td>\n",
       "      <td>2.125522e+04</td>\n",
       "      <td>2.743990e+04</td>\n",
       "      <td>2.125522e+04</td>\n",
       "      <td>2.088664</td>\n",
       "    </tr>\n",
       "    <tr>\n",
       "      <th>std</th>\n",
       "      <td>0.165051</td>\n",
       "      <td>0.0</td>\n",
       "      <td>132.838387</td>\n",
       "      <td>2.230167e+05</td>\n",
       "      <td>1.061548e+05</td>\n",
       "      <td>2.008168e+05</td>\n",
       "      <td>1.061548e+05</td>\n",
       "      <td>7.433289</td>\n",
       "    </tr>\n",
       "    <tr>\n",
       "      <th>min</th>\n",
       "      <td>0.500000</td>\n",
       "      <td>1.0</td>\n",
       "      <td>1.000000</td>\n",
       "      <td>0.000000e+00</td>\n",
       "      <td>0.000000e+00</td>\n",
       "      <td>0.000000e+00</td>\n",
       "      <td>0.000000e+00</td>\n",
       "      <td>0.503683</td>\n",
       "    </tr>\n",
       "    <tr>\n",
       "      <th>25%</th>\n",
       "      <td>0.500000</td>\n",
       "      <td>1.0</td>\n",
       "      <td>115.750000</td>\n",
       "      <td>8.230000e+02</td>\n",
       "      <td>1.237500e+02</td>\n",
       "      <td>6.876250e+02</td>\n",
       "      <td>1.237500e+02</td>\n",
       "      <td>1.000000</td>\n",
       "    </tr>\n",
       "    <tr>\n",
       "      <th>50%</th>\n",
       "      <td>0.750000</td>\n",
       "      <td>1.0</td>\n",
       "      <td>230.500000</td>\n",
       "      <td>2.570250e+03</td>\n",
       "      <td>8.080000e+02</td>\n",
       "      <td>1.923250e+03</td>\n",
       "      <td>8.080000e+02</td>\n",
       "      <td>1.183756</td>\n",
       "    </tr>\n",
       "    <tr>\n",
       "      <th>75%</th>\n",
       "      <td>0.900000</td>\n",
       "      <td>1.0</td>\n",
       "      <td>345.250000</td>\n",
       "      <td>1.183538e+04</td>\n",
       "      <td>5.888250e+03</td>\n",
       "      <td>6.648000e+03</td>\n",
       "      <td>5.888250e+03</td>\n",
       "      <td>1.705594</td>\n",
       "    </tr>\n",
       "    <tr>\n",
       "      <th>max</th>\n",
       "      <td>0.900000</td>\n",
       "      <td>1.0</td>\n",
       "      <td>460.000000</td>\n",
       "      <td>3.297862e+06</td>\n",
       "      <td>1.751719e+06</td>\n",
       "      <td>5.256751e+06</td>\n",
       "      <td>1.751719e+06</td>\n",
       "      <td>158.084444</td>\n",
       "    </tr>\n",
       "  </tbody>\n",
       "</table>\n",
       "</div>"
      ],
      "text/plain": [
       "                CR     tau          SKU        cost_z           y_z  \\\n",
       "count  1380.000000  1380.0  1380.000000  1.380000e+03  1.380000e+03   \n",
       "mean      0.716667     1.0   230.500000  4.702462e+04  2.125522e+04   \n",
       "std       0.165051     0.0   132.838387  2.230167e+05  1.061548e+05   \n",
       "min       0.500000     1.0     1.000000  0.000000e+00  0.000000e+00   \n",
       "25%       0.500000     1.0   115.750000  8.230000e+02  1.237500e+02   \n",
       "50%       0.750000     1.0   230.500000  2.570250e+03  8.080000e+02   \n",
       "75%       0.900000     1.0   345.250000  1.183538e+04  5.888250e+03   \n",
       "max       0.900000     1.0   460.000000  3.297862e+06  1.751719e+06   \n",
       "\n",
       "               cost             y        diffs  \n",
       "count  1.380000e+03  1.380000e+03  1371.000000  \n",
       "mean   2.743990e+04  2.125522e+04     2.088664  \n",
       "std    2.008168e+05  1.061548e+05     7.433289  \n",
       "min    0.000000e+00  0.000000e+00     0.503683  \n",
       "25%    6.876250e+02  1.237500e+02     1.000000  \n",
       "50%    1.923250e+03  8.080000e+02     1.183756  \n",
       "75%    6.648000e+03  5.888250e+03     1.705594  \n",
       "max    5.256751e+06  1.751719e+06   158.084444  "
      ]
     },
     "execution_count": 77,
     "metadata": {},
     "output_type": "execute_result"
    }
   ],
   "source": [
    "test.describe()"
   ]
  },
  {
   "cell_type": "code",
   "execution_count": null,
   "id": "7d5eefaf-48f4-42fb-a39f-fffedded7dc6",
   "metadata": {},
   "outputs": [],
   "source": []
  },
  {
   "cell_type": "code",
   "execution_count": null,
   "id": "524181a7-befe-47cf-bbd2-a8948ff87794",
   "metadata": {},
   "outputs": [],
   "source": []
  },
  {
   "cell_type": "code",
   "execution_count": null,
   "id": "80642789-a887-465e-9ce2-0eb64f3683de",
   "metadata": {},
   "outputs": [],
   "source": []
  },
  {
   "cell_type": "markdown",
   "id": "ccb0c7df-2ae6-4716-806b-4b31299b2936",
   "metadata": {},
   "source": [
    "### Select"
   ]
  },
  {
   "cell_type": "code",
   "execution_count": null,
   "id": "cdd63139-38aa-4677-9957-2737ab845356",
   "metadata": {},
   "outputs": [],
   "source": [
    "#### Best tau per product"
   ]
  },
  {
   "cell_type": "code",
   "execution_count": null,
   "id": "111cf56d-78df-4e53-9702-0a92beace384",
   "metadata": {},
   "outputs": [],
   "source": [
    "def xxx(results_agg, results_agg_ExPost, groupby = ['CR', 'SKU']):\n",
    "\n",
    "    \"\"\"\n",
    "    \n",
    "    If groupby == ['CR', 'SKU', 'e']: then looks for best tau per product and per uncertainty set sepcification for given CR\n",
    "    If groupby == ['CR', 'SKU']: then looks for best tau per product for given CR\n",
    "    If groupby == ['CR']: looks for best tau across all products for given CR\n",
    "    If groupby == []: not implemented\n",
    "\n",
    "    \n",
    "    \"\"\"\n",
    "    \n",
    "    # Merge aggregated results with ex-post clairvoyant results\n",
    "    results_best_tau = pd.merge(left=results_agg,\n",
    "                                right=results_agg_ExPost[['CR', 'SKU', 'cost']],\n",
    "                                on=['CR', 'SKU'],\n",
    "                                suffixes=('', '_ExPost'))\n",
    "    \n",
    "    # Calculate gap to ex-post clairvoyant results\n",
    "    results_best_tau['gap'] = (\n",
    "        (results_best_tau.cost == results_best_tau.cost_ExPost) * 1 \n",
    "        + (results_best_tau.cost != results_best_tau.cost_ExPost) * (results_best_tau.cost / results_best_tau.cost_ExPost)\n",
    "    ) - 1\n",
    "    \n",
    "    # Calculate median gap per tau\n",
    "    results_best_tau = results_best_tau.groupby(groupby+['tau']).agg({'gap': np.median}).reset_index()\n",
    "\n",
    "    # Find tau that minimizes median gap\n",
    "    results_best_tau = results_best_tau.groupby(groupby).apply(\n",
    "        lambda df:  pd.Series({ 'best_tau': df.tau.iloc[np.argmin(df.gap)], 'best_gap': np.min(df.gap)})).reset_index()\n",
    "    \n",
    "    # Merge best tau back to original results for ex-post selection\n",
    "    results_best_tau = pd.merge(left=results_agg,\n",
    "                                right=results_best_tau,\n",
    "                                on=groupby)\n",
    "\n",
    "    # Select\n",
    "    results_best_tau = results_best_tau.loc[results_best_tau.tau==results_best_tau.best_tau]\n",
    "\n",
    "    return results_best_tau"
   ]
  },
  {
   "cell_type": "code",
   "execution_count": null,
   "id": "6e8753d2-ae63-4ae6-9840-0095336e0827",
   "metadata": {},
   "outputs": [],
   "source": [
    "res = xxx(results_agg_GwSAA, results_agg_ExPost, groupby=['CR'])"
   ]
  },
  {
   "cell_type": "code",
   "execution_count": null,
   "id": "faea100d-2842-43f6-9dc7-9e0b1278eb64",
   "metadata": {},
   "outputs": [],
   "source": [
    "res"
   ]
  },
  {
   "cell_type": "code",
   "execution_count": null,
   "id": "4a0b8aae-19e6-4472-9c6e-1bb131fae9d6",
   "metadata": {},
   "outputs": [],
   "source": [
    "res = xxx(results_agg_wSAA, results_agg_ExPost, groupby=['CR', 'SKU'])\n",
    "res.groupby(['CR']).agg({'cost': np.median}).reset_index()"
   ]
  },
  {
   "cell_type": "code",
   "execution_count": null,
   "id": "846e7b82-ec3c-4c73-872b-72a8003ef681",
   "metadata": {},
   "outputs": [],
   "source": [
    "res = xxx(results_agg_GwSAA, results_agg_ExPost, groupby=['CR', 'SKU'])\n",
    "res.groupby(['CR']).agg({'cost': np.median}).reset_index()"
   ]
  },
  {
   "cell_type": "code",
   "execution_count": null,
   "id": "dbc2d053-e517-4dd3-8e09-5388099006bf",
   "metadata": {},
   "outputs": [],
   "source": []
  },
  {
   "cell_type": "code",
   "execution_count": null,
   "id": "a50e6450-ff8c-4106-9661-e861e67467b1",
   "metadata": {},
   "outputs": [],
   "source": []
  },
  {
   "cell_type": "code",
   "execution_count": null,
   "id": "f7baa662-6297-49eb-9069-25239e7d7e16",
   "metadata": {},
   "outputs": [],
   "source": []
  },
  {
   "cell_type": "code",
   "execution_count": null,
   "id": "557eb9a3-c3c2-4e9a-9539-54a4858bcf3d",
   "metadata": {},
   "outputs": [],
   "source": []
  },
  {
   "cell_type": "code",
   "execution_count": null,
   "id": "73f08f88-450e-45df-9c70-86fa324f0503",
   "metadata": {},
   "outputs": [],
   "source": []
  },
  {
   "cell_type": "code",
   "execution_count": null,
   "id": "d083a016-90c5-4631-aef3-43591152b639",
   "metadata": {},
   "outputs": [],
   "source": []
  },
  {
   "cell_type": "code",
   "execution_count": null,
   "id": "c1e125f4-3a19-4c1e-9999-9a7510b2fe16",
   "metadata": {},
   "outputs": [],
   "source": [
    "res = xxx(results_agg_GwSAA, results_agg_ExPost, groupby=['CR', 'SKU'])"
   ]
  },
  {
   "cell_type": "code",
   "execution_count": null,
   "id": "f54ceb2c-2ed2-4802-9744-74e6cec03af1",
   "metadata": {},
   "outputs": [],
   "source": [
    "res.groupby(['CR']).agg({'cost': sum}).reset_index()"
   ]
  },
  {
   "cell_type": "code",
   "execution_count": null,
   "id": "a6d9f086-540c-458c-bf77-8fb1c2861941",
   "metadata": {},
   "outputs": [],
   "source": [
    "12884307.0 / 13177200.0"
   ]
  },
  {
   "cell_type": "code",
   "execution_count": null,
   "id": "284a4f2b-743f-45fa-9f1a-2109d05ccfb2",
   "metadata": {},
   "outputs": [],
   "source": [
    "res = results_agg_wSAAR.groupby(['CR', 'e', 'tau']).agg({'cost': sum}).reset_index()\n",
    "res.groupby(['CR']).agg({'cost': min}).reset_index()"
   ]
  },
  {
   "cell_type": "code",
   "execution_count": null,
   "id": "f8c5677a-b970-4317-b506-78b97206109c",
   "metadata": {},
   "outputs": [],
   "source": [
    "res = results_agg_GwSAA.groupby(['CR', 'tau']).agg({'cost': sum}).reset_index()\n",
    "res.groupby(['CR']).agg({'cost': min}).reset_index()"
   ]
  },
  {
   "cell_type": "code",
   "execution_count": null,
   "id": "db618f01-cbf8-45f8-95ca-847185d12d43",
   "metadata": {},
   "outputs": [],
   "source": [
    "res = results_agg_wSAA.groupby(['CR', 'tau']).agg({'cost': sum}).reset_index()\n",
    "res.groupby(['CR']).agg({'cost': min}).reset_index()"
   ]
  },
  {
   "cell_type": "code",
   "execution_count": null,
   "id": "6825fdf1-760f-42e2-8705-a24559d694c3",
   "metadata": {},
   "outputs": [],
   "source": [
    "res = results_agg_GwSAAR.groupby(['CR', 'e', 'tau']).agg({'cost': sum}).reset_index()\n",
    "res.groupby(['CR']).agg({'cost': min}).reset_index()"
   ]
  },
  {
   "cell_type": "code",
   "execution_count": null,
   "id": "ce7e9272-f855-49c2-9083-ce13d6368209",
   "metadata": {},
   "outputs": [],
   "source": [
    "res = results_agg_SAA.groupby(['CR', 'tau']).agg({'cost': sum}).reset_index()\n",
    "res.groupby(['CR']).agg({'cost': min}).reset_index()"
   ]
  },
  {
   "cell_type": "code",
   "execution_count": null,
   "id": "cbbb9ca3-aa5b-4651-a622-27590500b3a9",
   "metadata": {},
   "outputs": [],
   "source": [
    "14706950.5 / 20963542.5"
   ]
  },
  {
   "cell_type": "code",
   "execution_count": null,
   "id": "6054de6e-147a-420c-8ca5-b9e350f56c05",
   "metadata": {},
   "outputs": [],
   "source": [
    "13841047.0 / 20963542.5"
   ]
  },
  {
   "cell_type": "code",
   "execution_count": null,
   "id": "a684694c-daa8-47f1-abbd-a62d91467de3",
   "metadata": {},
   "outputs": [],
   "source": [
    "0.6602437064250949 / 0.7015489152179313"
   ]
  },
  {
   "cell_type": "code",
   "execution_count": null,
   "id": "6e376a4d-ae92-4125-897a-738769a5a382",
   "metadata": {},
   "outputs": [],
   "source": [
    "0.6602437064250949 - 0.7015489152179313"
   ]
  },
  {
   "cell_type": "code",
   "execution_count": null,
   "id": "ae7da64b-b771-47e5-81c3-80920b9de60a",
   "metadata": {},
   "outputs": [],
   "source": []
  },
  {
   "cell_type": "code",
   "execution_count": null,
   "id": "73c8a5a7-e75d-42a5-a45f-54f9b7830604",
   "metadata": {},
   "outputs": [],
   "source": [
    "1 - 13841047.0 / 14706950.5"
   ]
  },
  {
   "cell_type": "code",
   "execution_count": null,
   "id": "039f56f1-7d38-496b-a8dc-76b9d6358a2d",
   "metadata": {},
   "outputs": [],
   "source": []
  },
  {
   "cell_type": "code",
   "execution_count": null,
   "id": "4f44ec8a-536d-48aa-a4f3-c6f508e91f98",
   "metadata": {},
   "outputs": [],
   "source": []
  },
  {
   "cell_type": "code",
   "execution_count": null,
   "id": "84ca126e-ee6f-4fc9-8d46-06e74f5f86b7",
   "metadata": {},
   "outputs": [],
   "source": []
  },
  {
   "cell_type": "code",
   "execution_count": null,
   "id": "9538655f-24df-4567-9637-ace6c2ce5c7f",
   "metadata": {},
   "outputs": [],
   "source": []
  },
  {
   "cell_type": "code",
   "execution_count": null,
   "id": "f473e2b1-09e6-44f3-8981-077f7f85a023",
   "metadata": {},
   "outputs": [],
   "source": []
  },
  {
   "cell_type": "code",
   "execution_count": null,
   "id": "d2b3cfe4-8d06-4412-8cfd-656772a24f1f",
   "metadata": {},
   "outputs": [],
   "source": []
  },
  {
   "cell_type": "code",
   "execution_count": null,
   "id": "8040a036-acb0-4af8-a183-42f00b88f4f5",
   "metadata": {},
   "outputs": [],
   "source": []
  },
  {
   "cell_type": "code",
   "execution_count": null,
   "id": "241e010a-2adf-46fe-86fb-10082188b721",
   "metadata": {},
   "outputs": [],
   "source": [
    "xxx(results_agg_GwSAA, results_agg_ExPost)"
   ]
  },
  {
   "cell_type": "code",
   "execution_count": null,
   "id": "491fe0fb-7c61-4843-b8e3-c7bf4d566b45",
   "metadata": {},
   "outputs": [],
   "source": [
    "cols = ['CR', 'SKU', 'tau', 'cost']\n",
    "groupby = ['CR', 'tau']\n",
    "    \n",
    "# Merge aggregated results with ex-post clairvoyant results\n",
    "results_best_tau = pd.merge(left=results_agg_GwSAA[cols],\n",
    "                            right=results_agg_ExPost[['CR', 'SKU', 'cost']],\n",
    "                            on=['CR', 'SKU'],\n",
    "                            suffixes=('', '_ExPost'))"
   ]
  },
  {
   "cell_type": "code",
   "execution_count": null,
   "id": "46d0a7ec-286f-48bc-90db-71c94c6575a2",
   "metadata": {},
   "outputs": [],
   "source": [
    "# Calculate gap to ex-post clairvoyant results\n",
    "results_best_tau['gap'] = (\n",
    "    (results_best_tau.cost == results_best_tau.cost_ExPost) * 1 \n",
    "    + (results_best_tau.cost != results_best_tau.cost_ExPost) * (results_best_tau.cost / results_best_tau.cost_ExPost)\n",
    ") - 1\n",
    "\n",
    "# Calculate median gap per tau\n",
    "results_best_tau = results_best_tau.groupby(groupby).agg({'gap': np.median}).reset_index()"
   ]
  },
  {
   "cell_type": "code",
   "execution_count": null,
   "id": "ef27f999-d955-477a-a344-1c8a9a6a325a",
   "metadata": {},
   "outputs": [],
   "source": []
  },
  {
   "cell_type": "code",
   "execution_count": null,
   "id": "6933ef82-7d13-402a-affb-dd697cdb5036",
   "metadata": {},
   "outputs": [],
   "source": []
  },
  {
   "cell_type": "code",
   "execution_count": null,
   "id": "249987eb-1517-44ef-a119-c5529b694037",
   "metadata": {},
   "outputs": [],
   "source": []
  },
  {
   "cell_type": "code",
   "execution_count": null,
   "id": "fa8f90f7-b665-46a2-823d-b51f85fda1e4",
   "metadata": {},
   "outputs": [],
   "source": []
  },
  {
   "cell_type": "code",
   "execution_count": null,
   "id": "8c09d7f5-ff26-425a-ad40-9b4d1dd8a937",
   "metadata": {},
   "outputs": [],
   "source": []
  },
  {
   "cell_type": "code",
   "execution_count": null,
   "id": "947de99b-e5e4-403f-9bbd-a4e77e87ba66",
   "metadata": {},
   "outputs": [],
   "source": []
  },
  {
   "cell_type": "code",
   "execution_count": null,
   "id": "764ef0ae-92ad-4a19-af9f-2ed2c7e4e417",
   "metadata": {},
   "outputs": [],
   "source": [
    "results_GwSAA_best_tau = pd.merge(left=results_GwSAA.groupby(['CR', 'SKU', 'tau']).agg({'cost': sum}).reset_index(),\n",
    "                                  right=results_ExPost,\n",
    "                                  on=['CR', 'SKU', 'tau'],\n",
    "                                  suffixes=('', '_ExPost'))\n",
    "\n",
    "results_GwSAA_best_tau['gap'] = (\n",
    "    (results_GwSAA_best_tau.cost==results_GwSAA_best_tau.cost_ExPost)*1 \n",
    "    + (results_GwSAA_best_tau.cost!=results_GwSAA_best_tau.cost_ExPost)*(results_GwSAA_best_tau.cost/results_GwSAA_best_tau.cost_ExPost)\n",
    ")\n",
    "\n",
    "results_GwSAA_best_tau = results_GwSAA_best_tau.groupby(['CR', 'tau']).agg({'gap': np.median}).reset_index()\n",
    "\n",
    "results_GwSAA_best_tau = results_GwSAA_best_tau.groupby(['CR']).apply(\n",
    "    lambda df:  pd.Series({ 'best_tau': df.tau.iloc[np.argmin(df.gap)], 'best_gap': np.min(df.gap)})).reset_index()\n",
    "\n",
    "results_GwSAA_best_tau = pd.merge(left=results_GwSAA,\n",
    "                                  right=results_GwSAA_best_tau,\n",
    "                                  on=['CR'])\n",
    "\n",
    "results_GwSAA_best_tau = results_GwSAA_best_tau.loc[results_GwSAA_best_tau.tau==results_GwSAA_best_tau.best_tau]"
   ]
  },
  {
   "cell_type": "code",
   "execution_count": null,
   "id": "f33b3bd4-4bcf-4703-8998-ef56d6b1ca75",
   "metadata": {},
   "outputs": [],
   "source": []
  },
  {
   "cell_type": "code",
   "execution_count": null,
   "id": "990e4a2b-4310-4315-a637-3e8c9c25a043",
   "metadata": {},
   "outputs": [],
   "source": []
  },
  {
   "cell_type": "code",
   "execution_count": null,
   "id": "43a4eb47-d44f-4fa5-961e-b74d11c30552",
   "metadata": {},
   "outputs": [],
   "source": []
  },
  {
   "cell_type": "code",
   "execution_count": null,
   "id": "a2c6dcff-d63a-439c-84f0-2a5bffb1c3ec",
   "metadata": {},
   "outputs": [],
   "source": []
  },
  {
   "cell_type": "code",
   "execution_count": null,
   "id": "eaa8ca50-ac5b-4f90-bb36-08c355bc49ec",
   "metadata": {},
   "outputs": [],
   "source": []
  },
  {
   "cell_type": "code",
   "execution_count": null,
   "id": "45e7ca45-6661-4278-92b9-d85904afbc6c",
   "metadata": {},
   "outputs": [],
   "source": []
  },
  {
   "cell_type": "code",
   "execution_count": null,
   "id": "6da9a20f-239c-4f2f-9d2d-767fbab52102",
   "metadata": {},
   "outputs": [],
   "source": []
  },
  {
   "cell_type": "code",
   "execution_count": null,
   "id": "30030aff-2535-4cf2-8067-d366a28fd19b",
   "metadata": {},
   "outputs": [],
   "source": []
  },
  {
   "cell_type": "code",
   "execution_count": null,
   "id": "0fd649d8-c3cd-4595-b8bc-1b1995d753f6",
   "metadata": {},
   "outputs": [],
   "source": []
  },
  {
   "cell_type": "code",
   "execution_count": null,
   "id": "4093e6f0-f1d5-44f3-9782-fd81804cb23b",
   "metadata": {},
   "outputs": [],
   "source": []
  },
  {
   "cell_type": "code",
   "execution_count": null,
   "id": "a73e82ba-b192-4de0-8a20-6684f7b541b3",
   "metadata": {},
   "outputs": [],
   "source": []
  },
  {
   "cell_type": "code",
   "execution_count": null,
   "id": "51996d15-509a-45f3-9800-027842509705",
   "metadata": {},
   "outputs": [],
   "source": []
  },
  {
   "cell_type": "code",
   "execution_count": null,
   "id": "771c4649-7d4a-46cf-9280-48a901ca2073",
   "metadata": {},
   "outputs": [],
   "source": []
  },
  {
   "cell_type": "code",
   "execution_count": null,
   "id": "d4c32f52-2e53-4aea-938d-a9ac0422626b",
   "metadata": {},
   "outputs": [],
   "source": []
  },
  {
   "cell_type": "code",
   "execution_count": null,
   "id": "abbf240f-df97-48d4-aa9b-217b2d027cdc",
   "metadata": {},
   "outputs": [],
   "source": []
  },
  {
   "cell_type": "code",
   "execution_count": null,
   "id": "1edded45-1cab-473c-b58e-54cd60bf3a8d",
   "metadata": {},
   "outputs": [],
   "source": []
  },
  {
   "cell_type": "code",
   "execution_count": null,
   "id": "105ff1d1-672c-464e-a4d0-896518f8b051",
   "metadata": {},
   "outputs": [],
   "source": []
  },
  {
   "cell_type": "code",
   "execution_count": null,
   "id": "0f689434-4b05-4aa0-a37c-18b53f94083a",
   "metadata": {},
   "outputs": [],
   "source": []
  },
  {
   "cell_type": "code",
   "execution_count": null,
   "id": "307a1306-eee0-4a08-bd90-4c972d4f7b4c",
   "metadata": {},
   "outputs": [],
   "source": []
  },
  {
   "cell_type": "code",
   "execution_count": null,
   "id": "3f43c3ff-d890-4c50-b6ba-2c1a575bc3fb",
   "metadata": {},
   "outputs": [],
   "source": []
  },
  {
   "cell_type": "code",
   "execution_count": null,
   "id": "4b7a6506-6319-4ebc-967d-1e23c88f3ef7",
   "metadata": {},
   "outputs": [],
   "source": []
  },
  {
   "cell_type": "code",
   "execution_count": null,
   "id": "59b5354c-fa65-424b-8343-4c6ca5e75144",
   "metadata": {},
   "outputs": [],
   "source": []
  },
  {
   "cell_type": "code",
   "execution_count": null,
   "id": "31654538-8422-4290-bebc-e15b182a27b6",
   "metadata": {},
   "outputs": [],
   "source": []
  },
  {
   "cell_type": "code",
   "execution_count": null,
   "id": "3da0e767-79fd-49b4-8c61-e6fdef5240d4",
   "metadata": {},
   "outputs": [],
   "source": []
  },
  {
   "cell_type": "code",
   "execution_count": null,
   "id": "38c3ba93-d7be-429a-ac07-b944ef54e86d",
   "metadata": {},
   "outputs": [],
   "source": []
  },
  {
   "cell_type": "code",
   "execution_count": null,
   "id": "bc1a2374-96bb-4625-b809-34e67640bd44",
   "metadata": {},
   "outputs": [],
   "source": []
  },
  {
   "cell_type": "code",
   "execution_count": null,
   "id": "ba735060-35ad-464a-b915-1827f1c70015",
   "metadata": {},
   "outputs": [],
   "source": []
  },
  {
   "cell_type": "code",
   "execution_count": null,
   "id": "67548c67-1ca8-4a11-8eba-6d97778bc675",
   "metadata": {},
   "outputs": [],
   "source": [
    "cols = results_GwSAA.columns\n",
    "results = pd.concat([results_GwSAA[cols], results_GwSAAR[cols], results_wSAA[cols], results_wSAAR[cols], results_SAA[cols], results_ExPost[cols]])"
   ]
  },
  {
   "cell_type": "code",
   "execution_count": null,
   "id": "f4d72b5c-9cb6-460d-85b8-0fb2f9f054fa",
   "metadata": {},
   "outputs": [],
   "source": [
    "cols = results_GwSAA.columns\n",
    "results = pd.concat([results_GwSAA[cols], results_GwSAAR_best[cols], results_wSAA[cols], results_wSAAR_best[cols], results_SAA[cols], results_ExPost[cols]])"
   ]
  },
  {
   "cell_type": "code",
   "execution_count": null,
   "id": "bcde63e7-310e-4c17-ac5f-0a34194616ac",
   "metadata": {},
   "outputs": [],
   "source": [
    "# Summarize results\n",
    "results_summary = results.groupby(['model', 'CR', 'tau', 'e', 'SKU']).agg({\n",
    "    'MIPGap': lambda x: x.iloc[0],\n",
    "    'NumericFocus': lambda x: x.iloc[0],\n",
    "    'obj_improvement': lambda x: x.iloc[0],\n",
    "    'obj_timeout_sec': lambda x: x.iloc[0],\n",
    "    'obj_timeout_max_sec': lambda x: x.iloc[0],\n",
    "    'K': lambda x: x.iloc[0],\n",
    "    'u': lambda x: x.iloc[0],\n",
    "    'h': lambda x: x.iloc[0],\n",
    "    'b': lambda x: x.iloc[0],\n",
    "    'I': np.mean,\n",
    "    'q': np.mean,\n",
    "    'I_q': np.mean,\n",
    "    'y': np.mean,\n",
    "    'I_q_y': np.mean,\n",
    "    'c_o': sum,\n",
    "    'c_s': sum,\n",
    "    'cost': sum,\n",
    "    'defaulted': sum,\n",
    "    'solutions': lambda x: sum(x>0),\n",
    "    'gap': np.mean,\n",
    "    'exec_time_sec': np.mean,\n",
    "    'cpu_time_sec': np.mean\n",
    "}).reset_index()"
   ]
  },
  {
   "cell_type": "code",
   "execution_count": null,
   "id": "b61a6655-2de9-418e-ae20-fd239a989517",
   "metadata": {},
   "outputs": [],
   "source": [
    "results_summary"
   ]
  },
  {
   "cell_type": "code",
   "execution_count": null,
   "id": "ffca2c57-a6cc-4b30-beaa-15af53677014",
   "metadata": {},
   "outputs": [],
   "source": [
    "# Ex-post best results\n",
    "results_eval = results_summary.groupby(['model', 'CR', 'SKU', 'tau']).agg({\n",
    "    'cost': min,\n",
    "}).reset_index().groupby(['model', 'CR', 'SKU']).agg({\n",
    "    'cost': min,\n",
    "}).reset_index()\n",
    "results_eval"
   ]
  },
  {
   "cell_type": "code",
   "execution_count": null,
   "id": "a5d8f286-3fb8-46fd-b690-417805ba1245",
   "metadata": {},
   "outputs": [],
   "source": [
    "results_eval_baseline = results_eval.loc[results_eval.model == 'SAA',['CR', 'SKU', 'cost']]\n",
    "results_eval_expost = results_eval.loc[results_eval.model == 'ExPost',['CR', 'SKU', 'cost']]\n",
    "\n",
    "results_eval = pd.merge(left=results_eval.loc[results_eval.model.isin(['GwSAA', 'GwSAA-R', 'wSAA', 'wSAA-R'])],\n",
    "                        right=results_eval_baseline,\n",
    "                        on=['CR', 'SKU'],\n",
    "                        suffixes=('', '_SAA'))\n",
    "\n",
    "results_eval = pd.merge(left=results_eval,\n",
    "                        right=results_eval_expost,\n",
    "                        on=['CR', 'SKU'],\n",
    "                        suffixes=('', '_ExPost'))"
   ]
  },
  {
   "cell_type": "code",
   "execution_count": null,
   "id": "bac24793-0c1c-4744-afaa-9cf4664c435e",
   "metadata": {},
   "outputs": [],
   "source": [
    "results_eval"
   ]
  },
  {
   "cell_type": "code",
   "execution_count": null,
   "id": "67517d42-43dc-4b1f-b7ef-e5f26893948f",
   "metadata": {},
   "outputs": [],
   "source": [
    "results_eval['pq'] = (\n",
    "    (results_eval.cost == results_eval.cost_SAA)*1 \n",
    "    + (results_eval.cost != results_eval.cost_SAA)*results_eval.cost/results_eval.cost_SAA\n",
    ")"
   ]
  },
  {
   "cell_type": "code",
   "execution_count": null,
   "id": "0654804b-eb9e-472c-87fd-945798710963",
   "metadata": {},
   "outputs": [],
   "source": [
    "results_eval.describe()"
   ]
  },
  {
   "cell_type": "code",
   "execution_count": null,
   "id": "1ca52c3f-1363-4102-9b3e-a36f56bffe40",
   "metadata": {},
   "outputs": [],
   "source": []
  },
  {
   "cell_type": "code",
   "execution_count": null,
   "id": "cb61d439-076e-4d59-ad44-34b005897a3e",
   "metadata": {},
   "outputs": [],
   "source": [
    "results_eval.groupby(['CR', 'model']).agg({'pq': np.median}).reset_index()"
   ]
  },
  {
   "cell_type": "code",
   "execution_count": null,
   "id": "e0b81503-b55a-4183-bff7-fafca92779a0",
   "metadata": {},
   "outputs": [],
   "source": []
  },
  {
   "cell_type": "code",
   "execution_count": null,
   "id": "8e3c475b-f8e0-4411-b66d-478f00d699c1",
   "metadata": {},
   "outputs": [],
   "source": [
    "totals = results_eval.groupby(['CR', 'model']).agg({'cost': sum, 'cost_SAA': sum}).reset_index()"
   ]
  },
  {
   "cell_type": "code",
   "execution_count": null,
   "id": "25db8424-7a87-4799-a49b-c8f7419659e2",
   "metadata": {},
   "outputs": [],
   "source": [
    "totals['pq'] = totals.cost / totals.cost_SAA"
   ]
  },
  {
   "cell_type": "code",
   "execution_count": null,
   "id": "050711da-091b-46e2-a684-7162b7965cc0",
   "metadata": {},
   "outputs": [],
   "source": [
    "totals"
   ]
  },
  {
   "cell_type": "code",
   "execution_count": null,
   "id": "e2411780-3861-4c0e-b0e8-5408ca842134",
   "metadata": {},
   "outputs": [],
   "source": []
  },
  {
   "cell_type": "code",
   "execution_count": null,
   "id": "bb40ad39-7811-47e3-94b4-8a48677e7dc3",
   "metadata": {},
   "outputs": [],
   "source": []
  },
  {
   "cell_type": "code",
   "execution_count": null,
   "id": "66303427-7af4-48d0-8de3-b80350f89262",
   "metadata": {},
   "outputs": [],
   "source": []
  },
  {
   "cell_type": "code",
   "execution_count": null,
   "id": "51d3359d-c63c-43ba-8645-685fa165c0f2",
   "metadata": {},
   "outputs": [],
   "source": []
  },
  {
   "cell_type": "code",
   "execution_count": null,
   "id": "577457d5-9692-4a2b-9d95-7e7df30a10ea",
   "metadata": {},
   "outputs": [],
   "source": []
  },
  {
   "cell_type": "code",
   "execution_count": null,
   "id": "fdc9fec8-eb2b-4ada-aba5-ea619f69d78b",
   "metadata": {},
   "outputs": [],
   "source": []
  },
  {
   "cell_type": "code",
   "execution_count": null,
   "id": "355899c7-f6d2-4021-935f-88fc121ad178",
   "metadata": {},
   "outputs": [],
   "source": []
  },
  {
   "cell_type": "code",
   "execution_count": null,
   "id": "19ce0ba8-a440-47b1-a1cf-4902773b26d9",
   "metadata": {},
   "outputs": [],
   "source": [
    "results_GwSAAR_best = pd.merge(left=results_GwSAAR.groupby(['CR', 'SKU', 'tau', 'e']).agg({'cost': sum}).reset_index(),\n",
    "                               right=results_ExPost,\n",
    "                               on=['CR', 'SKU', 'tau'],\n",
    "                               suffixes=('', '_ExPost'))\n",
    "\n",
    "results_GwSAAR_best['gap'] = (\n",
    "    (results_GwSAAR_best.cost==results_GwSAAR_best.cost_ExPost)*1 \n",
    "    + (results_GwSAAR_best.cost!=results_GwSAAR_best.cost_ExPost)*(results_GwSAAR_best.cost/results_GwSAAR_best.cost_ExPost)\n",
    ")\n",
    "\n",
    "results_GwSAAR_best = results_GwSAAR_best.groupby(['CR', 'tau', 'e']).agg({'gap': np.median}).reset_index()\n",
    "\n",
    "results_GwSAAR_best = results_GwSAAR_best.groupby(['CR', 'tau']).apply(\n",
    "    lambda df:  pd.Series({ 'best_e': df.e.iloc[np.argmin(df.gap)], 'best_gap': np.min(df.gap)})).reset_index()"
   ]
  },
  {
   "cell_type": "code",
   "execution_count": null,
   "id": "89a17599-699d-42ee-a608-201c9c7c50c6",
   "metadata": {},
   "outputs": [],
   "source": [
    "results_GwSAAR_best"
   ]
  },
  {
   "cell_type": "code",
   "execution_count": null,
   "id": "cec50cd9-1f4e-4a73-9a29-3235a90b823d",
   "metadata": {},
   "outputs": [],
   "source": [
    "results_GwSAAR_best = pd.merge(left=results_GwSAAR,\n",
    "                              right=results_GwSAAR_best,\n",
    "                              on=['CR', 'tau'])\n",
    "\n",
    "results_GwSAAR_best = results_GwSAAR_best.loc[results_GwSAAR_best.e==results_GwSAAR_best.best_e]"
   ]
  },
  {
   "cell_type": "code",
   "execution_count": null,
   "id": "2183308c-b8f7-463c-9a71-55e866b9bc41",
   "metadata": {},
   "outputs": [],
   "source": []
  },
  {
   "cell_type": "code",
   "execution_count": null,
   "id": "11bde381-2480-499a-a5ef-3cd618b3f513",
   "metadata": {},
   "outputs": [],
   "source": []
  },
  {
   "cell_type": "code",
   "execution_count": null,
   "id": "1fdc5969-761e-4076-a8d3-5c499415c0d5",
   "metadata": {},
   "outputs": [],
   "source": [
    "results_wSAAR_best = pd.merge(left=results_wSAAR.groupby(['CR', 'SKU', 'tau', 'e']).agg({'cost': sum}).reset_index(),\n",
    "                              right=results_ExPost,\n",
    "                              on=['CR', 'SKU', 'tau'],\n",
    "                              suffixes=('', '_ExPost'))\n",
    "\n",
    "results_wSAAR_best['gap'] = (\n",
    "    (results_wSAAR_best.cost==results_wSAAR_best.cost_ExPost)*1 \n",
    "    + (results_wSAAR_best.cost!=results_wSAAR_best.cost_ExPost)*(results_wSAAR_best.cost/results_wSAAR_best.cost_ExPost)\n",
    ")\n",
    "\n",
    "results_wSAAR_best = results_wSAAR_best.groupby(['CR', 'tau', 'e']).agg({'gap': np.median}).reset_index()\n",
    "\n",
    "results_wSAAR_best = results_wSAAR_best.groupby(['CR', 'tau']).apply(\n",
    "    lambda df:  pd.Series({ 'best_e': df.e.iloc[np.argmin(df.gap)], 'best_gap': np.min(df.gap)})).reset_index()"
   ]
  },
  {
   "cell_type": "code",
   "execution_count": null,
   "id": "1f98960c-cbd2-49ff-85bf-166e5b64ee79",
   "metadata": {},
   "outputs": [],
   "source": [
    "results_wSAAR_best"
   ]
  },
  {
   "cell_type": "code",
   "execution_count": null,
   "id": "6e6f9aaa-6d0e-46cb-9c5e-9516c236ac25",
   "metadata": {},
   "outputs": [],
   "source": [
    "results_wSAAR_best = pd.merge(left=results_wSAAR,\n",
    "                              right=results_wSAAR_best,\n",
    "                              on=['CR', 'tau'])\n",
    "\n",
    "results_wSAAR_best = results_wSAAR_best.loc[results_wSAAR_best.e==results_wSAAR_best.best_e]"
   ]
  },
  {
   "cell_type": "code",
   "execution_count": null,
   "id": "f9ec754f-1034-445e-a6f1-d28b83c0f452",
   "metadata": {},
   "outputs": [],
   "source": []
  },
  {
   "cell_type": "code",
   "execution_count": null,
   "id": "e2d0afcc-7c3e-4f0b-b1d3-c30febdd4460",
   "metadata": {},
   "outputs": [],
   "source": []
  },
  {
   "cell_type": "code",
   "execution_count": null,
   "id": "fd51c611-fd86-4de4-87e5-245907011595",
   "metadata": {},
   "outputs": [],
   "source": [
    "#### Choose ex-post tau"
   ]
  },
  {
   "cell_type": "code",
   "execution_count": null,
   "id": "36d49eca-ec64-4c90-832c-423cf13af439",
   "metadata": {},
   "outputs": [],
   "source": [
    "## Best per product"
   ]
  },
  {
   "cell_type": "code",
   "execution_count": null,
   "id": "ceaf2b90-750b-4234-8621-fe7d8299110d",
   "metadata": {},
   "outputs": [],
   "source": []
  },
  {
   "cell_type": "code",
   "execution_count": null,
   "id": "85c28e2a-4832-4f09-95e5-60e020979aef",
   "metadata": {},
   "outputs": [],
   "source": []
  },
  {
   "cell_type": "code",
   "execution_count": null,
   "id": "ddfbc091-e9c3-4272-a697-353f4e4e2519",
   "metadata": {},
   "outputs": [],
   "source": []
  },
  {
   "cell_type": "code",
   "execution_count": null,
   "id": "95d1e844-1eb4-4724-a5f4-14112b84b20c",
   "metadata": {},
   "outputs": [],
   "source": []
  },
  {
   "cell_type": "code",
   "execution_count": null,
   "id": "1f2e3127-832f-44b8-befb-143550d5051d",
   "metadata": {},
   "outputs": [],
   "source": [
    "## Best aross all"
   ]
  },
  {
   "cell_type": "code",
   "execution_count": null,
   "id": "8e20f936-ec16-472f-8f2a-c9617cee01ee",
   "metadata": {},
   "outputs": [],
   "source": [
    "results_GwSAA_best_tau = pd.merge(left=results_GwSAA.groupby(['CR', 'SKU', 'tau']).agg({'cost': sum}).reset_index(),\n",
    "                                  right=results_ExPost,\n",
    "                                  on=['CR', 'SKU', 'tau'],\n",
    "                                  suffixes=('', '_ExPost'))\n",
    "\n",
    "results_GwSAA_best_tau['gap'] = (\n",
    "    (results_GwSAA_best_tau.cost==results_GwSAA_best_tau.cost_ExPost)*1 \n",
    "    + (results_GwSAA_best_tau.cost!=results_GwSAA_best_tau.cost_ExPost)*(results_GwSAA_best_tau.cost/results_GwSAA_best_tau.cost_ExPost)\n",
    ")\n",
    "\n",
    "results_GwSAA_best_tau = results_GwSAA_best_tau.groupby(['CR', 'tau']).agg({'gap': np.median}).reset_index()\n",
    "\n",
    "results_GwSAA_best_tau = results_GwSAA_best_tau.groupby(['CR']).apply(\n",
    "    lambda df:  pd.Series({ 'best_tau': df.tau.iloc[np.argmin(df.gap)], 'best_gap': np.min(df.gap)})).reset_index()\n",
    "\n",
    "results_GwSAA_best_tau = pd.merge(left=results_GwSAA,\n",
    "                                  right=results_GwSAA_best_tau,\n",
    "                                  on=['CR'])\n",
    "\n",
    "results_GwSAA_best_tau = results_GwSAA_best_tau.loc[results_GwSAA_best_tau.tau==results_GwSAA_best_tau.best_tau]"
   ]
  },
  {
   "cell_type": "code",
   "execution_count": null,
   "id": "a47c1225-fe3b-4c7e-b1e5-abb1dbf4cb7e",
   "metadata": {},
   "outputs": [],
   "source": [
    "results_wSAA_best_tau = pd.merge(left=results_wSAA.groupby(['CR', 'SKU', 'tau']).agg({'cost': sum}).reset_index(),\n",
    "                                  right=results_ExPost,\n",
    "                                  on=['CR', 'SKU', 'tau'],\n",
    "                                  suffixes=('', '_ExPost'))\n",
    "\n",
    "results_wSAA_best_tau['gap'] = (\n",
    "    (results_wSAA_best_tau.cost==results_wSAA_best_tau.cost_ExPost)*1 \n",
    "    + (results_wSAA_best_tau.cost!=results_wSAA_best_tau.cost_ExPost)*(results_wSAA_best_tau.cost/results_wSAA_best_tau.cost_ExPost)\n",
    ")\n",
    "\n",
    "results_wSAA_best_tau = results_wSAA_best_tau.groupby(['CR', 'tau']).agg({'gap': np.median}).reset_index()\n",
    "\n",
    "results_wSAA_best_tau = results_wSAA_best_tau.groupby(['CR']).apply(\n",
    "    lambda df:  pd.Series({ 'best_tau': df.tau.iloc[np.argmin(df.gap)], 'best_gap': np.min(df.gap)})).reset_index()\n",
    "\n",
    "results_wSAA_best_tau = pd.merge(left=results_wSAA,\n",
    "                                  right=results_wSAA_best_tau,\n",
    "                                  on=['CR'])\n",
    "\n",
    "results_wSAA_best_tau = results_wSAA_best_tau.loc[results_wSAA_best_tau.tau==results_wSAA_best_tau.best_tau]"
   ]
  },
  {
   "cell_type": "code",
   "execution_count": null,
   "id": "f3b0b1fb-315b-4d59-add5-fd3b5d3d1e10",
   "metadata": {},
   "outputs": [],
   "source": []
  },
  {
   "cell_type": "code",
   "execution_count": null,
   "id": "23135fe9-9181-443f-bbe4-7ba75caf0343",
   "metadata": {},
   "outputs": [],
   "source": []
  },
  {
   "cell_type": "code",
   "execution_count": null,
   "id": "21d4ab88-5354-4ee0-b71d-9db3320b8017",
   "metadata": {},
   "outputs": [],
   "source": []
  },
  {
   "cell_type": "code",
   "execution_count": null,
   "id": "f3dc7ad1-63ef-41e2-a17b-8b8b488e6a33",
   "metadata": {},
   "outputs": [],
   "source": [
    "results_GwSAAR_best = pd.merge(left=results_GwSAAR.groupby(['CR', 'SKU', 'tau', 'e']).agg({'cost': sum}).reset_index(),\n",
    "                               right=results_ExPost,\n",
    "                               on=['CR', 'SKU', 'tau'],\n",
    "                               suffixes=('', '_ExPost'))\n",
    "\n",
    "results_GwSAAR_best['gap'] = (\n",
    "    (results_GwSAAR_best.cost==results_GwSAAR_best.cost_ExPost)*1 \n",
    "    + (results_GwSAAR_best.cost!=results_GwSAAR_best.cost_ExPost)*(results_GwSAAR_best.cost/results_GwSAAR_best.cost_ExPost)\n",
    ")\n",
    "\n",
    "results_GwSAAR_best = results_GwSAAR_best.groupby(['CR', 'tau', 'e']).agg({'gap': np.median}).reset_index()\n",
    "\n",
    "results_GwSAAR_best = results_GwSAAR_best.groupby(['CR']).apply(\n",
    "    lambda df:  pd.Series({'best_tau': df.tau.iloc[np.argmin(df.gap)], \n",
    "                           'best_e': df.e.iloc[np.argmin(df.gap)], \n",
    "                           'best_gap': np.min(df.gap)})).reset_index()\n"
   ]
  },
  {
   "cell_type": "code",
   "execution_count": null,
   "id": "f9be7e13-c507-465a-b218-003b58799aec",
   "metadata": {},
   "outputs": [],
   "source": [
    "\n",
    "results_GwSAAR_best = pd.merge(left=results_GwSAAR,\n",
    "                              right=results_GwSAAR_best,\n",
    "                              on=['CR', 'tau'])\n",
    "\n",
    "results_GwSAAR_best = results_GwSAAR_best.loc[results_GwSAAR_best.e==results_GwSAAR_best.best_e]"
   ]
  },
  {
   "cell_type": "code",
   "execution_count": null,
   "id": "714cfee4-709a-4921-8cad-f97479b0b710",
   "metadata": {},
   "outputs": [],
   "source": [
    "results_GwSAAR_best"
   ]
  },
  {
   "cell_type": "code",
   "execution_count": null,
   "id": "afd30d08-c2dc-4845-b22a-13b530dfa5c7",
   "metadata": {},
   "outputs": [],
   "source": []
  },
  {
   "cell_type": "code",
   "execution_count": null,
   "id": "9d245c52-54db-415d-8d59-9b9bd6a78255",
   "metadata": {},
   "outputs": [],
   "source": []
  },
  {
   "cell_type": "code",
   "execution_count": null,
   "id": "dad32208-dba6-4cfd-8880-6b2d5624fc7a",
   "metadata": {},
   "outputs": [],
   "source": []
  },
  {
   "cell_type": "code",
   "execution_count": null,
   "id": "7865e6b1-8c05-46b6-b66a-e91d85aa915f",
   "metadata": {},
   "outputs": [],
   "source": []
  },
  {
   "cell_type": "code",
   "execution_count": null,
   "id": "128c53e3-6c6c-4448-a544-ef8c11a77abd",
   "metadata": {},
   "outputs": [],
   "source": []
  },
  {
   "cell_type": "code",
   "execution_count": null,
   "id": "2d4bd691-0c3b-4e9d-9937-6ac6fdea3a64",
   "metadata": {},
   "outputs": [],
   "source": []
  },
  {
   "cell_type": "code",
   "execution_count": null,
   "id": "f4bf0268-dc84-4824-9714-34a0b342c04f",
   "metadata": {},
   "outputs": [],
   "source": []
  },
  {
   "cell_type": "code",
   "execution_count": null,
   "id": "f2d48af8-c7ba-43f2-be48-88e0c2bd5924",
   "metadata": {},
   "outputs": [],
   "source": []
  },
  {
   "cell_type": "code",
   "execution_count": null,
   "id": "24b4c381-6adb-4758-b3f5-63acc85e86b8",
   "metadata": {},
   "outputs": [],
   "source": []
  },
  {
   "cell_type": "code",
   "execution_count": null,
   "id": "4eec1188-e5b3-4395-8b28-26dbd25a7fa5",
   "metadata": {},
   "outputs": [],
   "source": []
  },
  {
   "cell_type": "code",
   "execution_count": null,
   "id": "c3b83cbe-264e-4721-9979-7484b255f1ef",
   "metadata": {},
   "outputs": [],
   "source": []
  },
  {
   "cell_type": "code",
   "execution_count": null,
   "id": "52e0caf9-09f7-402e-b86c-c2512ab97b5d",
   "metadata": {},
   "outputs": [],
   "source": []
  },
  {
   "cell_type": "code",
   "execution_count": null,
   "id": "fb2f383f-7149-4f64-969b-73ef60946882",
   "metadata": {},
   "outputs": [],
   "source": []
  },
  {
   "cell_type": "code",
   "execution_count": null,
   "id": "bae6c559-eb38-4fd1-b696-cc90c290a10c",
   "metadata": {},
   "outputs": [],
   "source": []
  },
  {
   "cell_type": "code",
   "execution_count": null,
   "id": "f38ab322-3bbd-4a82-b08a-5389b93e1d7e",
   "metadata": {},
   "outputs": [],
   "source": []
  },
  {
   "cell_type": "code",
   "execution_count": null,
   "id": "04a103b7-0278-4c8a-9b43-a193cab89c05",
   "metadata": {},
   "outputs": [],
   "source": []
  },
  {
   "cell_type": "code",
   "execution_count": null,
   "id": "806e688f-4c9c-4914-969a-7e338e55b529",
   "metadata": {},
   "outputs": [],
   "source": []
  },
  {
   "cell_type": "code",
   "execution_count": null,
   "id": "82d3a0f7-0865-4933-ac52-9a5dbaa2aa3c",
   "metadata": {},
   "outputs": [],
   "source": []
  },
  {
   "cell_type": "code",
   "execution_count": null,
   "id": "46883e15-a491-4a1f-8844-843e0d9b6386",
   "metadata": {},
   "outputs": [],
   "source": [
    "fixed_params = results_summary.loc[(results_summary.tau==4) & (results_summary.e <= 1)]"
   ]
  },
  {
   "cell_type": "code",
   "execution_count": null,
   "id": "e8a21b72-f2f4-4dee-90e0-89c6e5697b97",
   "metadata": {},
   "outputs": [],
   "source": [
    "fixed_params.groupby(['CR', 'model']).agg({'cost': sum}).reset_index()"
   ]
  },
  {
   "cell_type": "code",
   "execution_count": null,
   "id": "60fcf70c-a083-4066-8d9d-3bfe3812bb29",
   "metadata": {},
   "outputs": [],
   "source": []
  },
  {
   "cell_type": "code",
   "execution_count": null,
   "id": "a11d9450-fd2d-4b02-b87b-07d7ddbc32c9",
   "metadata": {},
   "outputs": [],
   "source": []
  },
  {
   "cell_type": "code",
   "execution_count": null,
   "id": "27c7a395-03d8-432f-9e8b-8bc73da24613",
   "metadata": {},
   "outputs": [],
   "source": []
  },
  {
   "cell_type": "code",
   "execution_count": null,
   "id": "7ef9219f-3f65-4333-bade-955701df63bf",
   "metadata": {},
   "outputs": [],
   "source": []
  },
  {
   "cell_type": "code",
   "execution_count": null,
   "id": "028681c0-8eb2-4fdf-b881-6b73e5f83ec6",
   "metadata": {},
   "outputs": [],
   "source": []
  },
  {
   "cell_type": "code",
   "execution_count": null,
   "id": "ecdd2c46-726e-4509-854b-dca2b8549163",
   "metadata": {},
   "outputs": [],
   "source": []
  },
  {
   "cell_type": "code",
   "execution_count": null,
   "id": "0e22cb73-737b-41ae-927d-32df12420c2b",
   "metadata": {},
   "outputs": [],
   "source": []
  },
  {
   "cell_type": "code",
   "execution_count": null,
   "id": "9135c527-e455-492e-9329-94ff432d77eb",
   "metadata": {},
   "outputs": [],
   "source": []
  },
  {
   "cell_type": "code",
   "execution_count": null,
   "id": "fcbc3941-c084-49f5-9708-4d8006a65fba",
   "metadata": {},
   "outputs": [],
   "source": []
  },
  {
   "cell_type": "code",
   "execution_count": null,
   "id": "0bd959d7-c37c-47b2-873e-6dc370dc31a7",
   "metadata": {},
   "outputs": [],
   "source": []
  },
  {
   "cell_type": "code",
   "execution_count": null,
   "id": "389f265c-3291-4a7c-bf26-77e4d4ba5b1a",
   "metadata": {},
   "outputs": [],
   "source": [
    "#### Choose ex-post e"
   ]
  },
  {
   "cell_type": "code",
   "execution_count": null,
   "id": "f1867547-3b25-4f85-a925-2326ce5dd02a",
   "metadata": {},
   "outputs": [],
   "source": [
    "## Best per product"
   ]
  },
  {
   "cell_type": "code",
   "execution_count": null,
   "id": "f5875d8a-6d5d-4f05-bd29-ec91d58468a2",
   "metadata": {},
   "outputs": [],
   "source": [
    "## Best aross all"
   ]
  },
  {
   "cell_type": "code",
   "execution_count": null,
   "id": "6e77d5ad-247b-4e6c-bd12-9a041e39c159",
   "metadata": {},
   "outputs": [],
   "source": [
    "results_GwSAAR_best = pd.merge(left=results_GwSAAR.groupby(['CR', 'SKU', 'tau', 'e']).agg({'cost': sum}).reset_index(),\n",
    "                               right=results_ExPost,\n",
    "                               on=['CR', 'SKU', 'tau'],\n",
    "                               suffixes=('', '_ExPost'))\n",
    "\n",
    "results_GwSAAR_best['gap'] = (\n",
    "    (results_GwSAAR_best.cost==results_GwSAAR_best.cost_ExPost)*1 \n",
    "    + (results_GwSAAR_best.cost!=results_GwSAAR_best.cost_ExPost)*(results_GwSAAR_best.cost/results_GwSAAR_best.cost_ExPost)\n",
    ")\n",
    "\n",
    "results_GwSAAR_best = results_GwSAAR_best.groupby(['CR', 'tau', 'e']).agg({'gap': np.median}).reset_index()\n",
    "\n",
    "results_GwSAAR_best = results_GwSAAR_best.groupby(['CR', 'tau']).apply(\n",
    "    lambda df:  pd.Series({ 'best_e': df.e.iloc[np.argmin(df.gap)], 'best_gap': np.min(df.gap)})).reset_index()\n",
    "\n",
    "results_GwSAAR_best = pd.merge(left=results_GwSAAR,\n",
    "                              right=results_GwSAAR_best,\n",
    "                              on=['CR', 'tau'])\n",
    "\n",
    "results_GwSAAR_best = results_GwSAAR_best.loc[results_GwSAAR_best.e==results_GwSAAR_best.best_e]"
   ]
  },
  {
   "cell_type": "code",
   "execution_count": null,
   "id": "c91fe653-fc15-422a-af59-c39724f9a824",
   "metadata": {},
   "outputs": [],
   "source": [
    "results_wSAAR_best = pd.merge(left=results_wSAAR.groupby(['CR', 'SKU', 'tau', 'e']).agg({'cost': sum}).reset_index(),\n",
    "                              right=results_ExPost,\n",
    "                              on=['CR', 'SKU', 'tau'],\n",
    "                              suffixes=('', '_ExPost'))\n",
    "\n",
    "results_wSAAR_best['gap'] = (\n",
    "    (results_wSAAR_best.cost==results_wSAAR_best.cost_ExPost)*1 \n",
    "    + (results_wSAAR_best.cost!=results_wSAAR_best.cost_ExPost)*(results_wSAAR_best.cost/results_wSAAR_best.cost_ExPost)\n",
    ")\n",
    "\n",
    "results_wSAAR_best = results_wSAAR_best.groupby(['CR', 'tau', 'e']).agg({'gap': np.median}).reset_index()\n",
    "\n",
    "results_wSAAR_best = results_wSAAR_best.groupby(['CR', 'tau']).apply(\n",
    "    lambda df:  pd.Series({ 'best_e': df.e.iloc[np.argmin(df.gap)], 'best_gap': np.min(df.gap)})).reset_index()"
   ]
  },
  {
   "cell_type": "code",
   "execution_count": null,
   "id": "bb3e3662-9e0f-41e8-90b8-edbcc997e537",
   "metadata": {},
   "outputs": [],
   "source": [
    "results_wSAAR_best = pd.merge(left=results_wSAAR,\n",
    "                              right=results_wSAAR_best,\n",
    "                              on=['CR', 'tau'])\n",
    "\n",
    "results_wSAAR_best = results_wSAAR_best.loc[results_wSAAR_best.e==results_wSAAR_best.best_e]"
   ]
  },
  {
   "cell_type": "code",
   "execution_count": null,
   "id": "be546e6b-a071-46ee-a67c-26d5083c71a8",
   "metadata": {},
   "outputs": [],
   "source": []
  },
  {
   "cell_type": "code",
   "execution_count": null,
   "id": "7038c4f4-d2cb-41e7-b451-23ad0ef44b5b",
   "metadata": {},
   "outputs": [],
   "source": []
  },
  {
   "cell_type": "code",
   "execution_count": null,
   "id": "73fdd0ce-2be5-4241-a124-60cb7effc595",
   "metadata": {},
   "outputs": [],
   "source": []
  },
  {
   "cell_type": "code",
   "execution_count": null,
   "id": "b2b35776-f8d6-4e29-ae75-69655ef780ff",
   "metadata": {},
   "outputs": [],
   "source": []
  },
  {
   "cell_type": "code",
   "execution_count": null,
   "id": "569b92a9-926d-4afc-8e63-3292cb22d473",
   "metadata": {},
   "outputs": [],
   "source": []
  },
  {
   "cell_type": "code",
   "execution_count": null,
   "id": "1305df01-da67-47bf-817f-af27f19270dd",
   "metadata": {},
   "outputs": [],
   "source": []
  },
  {
   "cell_type": "code",
   "execution_count": null,
   "id": "65653371-2feb-4bc1-bccc-8871dbb8ee74",
   "metadata": {},
   "outputs": [],
   "source": []
  },
  {
   "cell_type": "code",
   "execution_count": null,
   "id": "fb770edb-aa1e-47ce-bc76-d87ccb69b5e0",
   "metadata": {},
   "outputs": [],
   "source": []
  },
  {
   "cell_type": "code",
   "execution_count": null,
   "id": "d845a343-f9f2-4cfb-8a77-fb3789f84d5e",
   "metadata": {},
   "outputs": [],
   "source": []
  },
  {
   "cell_type": "code",
   "execution_count": null,
   "id": "90f9c707-5e9e-491c-b866-0259ffedd1ca",
   "metadata": {},
   "outputs": [],
   "source": []
  },
  {
   "cell_type": "code",
   "execution_count": null,
   "id": "e3c77078-b445-4d1b-9eee-d552e5601a5d",
   "metadata": {},
   "outputs": [],
   "source": []
  },
  {
   "cell_type": "code",
   "execution_count": null,
   "id": "d2871423-caab-4c0c-8894-b2dbea7ac17f",
   "metadata": {},
   "outputs": [],
   "source": []
  },
  {
   "cell_type": "code",
   "execution_count": null,
   "id": "cf229957-33d9-4941-84cc-f5cae4578b22",
   "metadata": {},
   "outputs": [],
   "source": [
    "results_summary.groupby(['CR', 'model', 'tau']).agg({'cost': sum}).reset_index()"
   ]
  },
  {
   "cell_type": "code",
   "execution_count": null,
   "id": "c98f8bdc-6e65-4fb5-977e-a4e092aa366c",
   "metadata": {},
   "outputs": [],
   "source": [
    "results_summary.groupby(['CR', 'model', 'tau']).agg({'cost': sum}).reset_index().groupby(['CR', 'model']).agg({'cost': min}).reset_index()"
   ]
  },
  {
   "cell_type": "code",
   "execution_count": null,
   "id": "3a77f2cd-35d4-4004-b8c1-f83a78a7625c",
   "metadata": {},
   "outputs": [],
   "source": [
    "results_summary.groupby(['CR', 'model', 'tau']).agg({'cost': sum}).reset_index().groupby(['CR', 'model']).agg({'cost': np.argmin}).reset_index()"
   ]
  },
  {
   "cell_type": "code",
   "execution_count": null,
   "id": "a4848030-aa6d-48f4-b4e0-4a900caa31cd",
   "metadata": {},
   "outputs": [],
   "source": []
  },
  {
   "cell_type": "code",
   "execution_count": null,
   "id": "d6975022-86ce-4972-9ff3-5ac2dcb6fffd",
   "metadata": {},
   "outputs": [],
   "source": []
  },
  {
   "cell_type": "code",
   "execution_count": null,
   "id": "bdac90e9-d983-42ae-bb57-f127c0b24f60",
   "metadata": {},
   "outputs": [],
   "source": []
  },
  {
   "cell_type": "code",
   "execution_count": null,
   "id": "2026a89a-1f7f-4471-81c6-86482b261a4c",
   "metadata": {},
   "outputs": [],
   "source": []
  },
  {
   "cell_type": "code",
   "execution_count": null,
   "id": "a299ec44-843c-4a4b-939a-e666a13f2135",
   "metadata": {},
   "outputs": [],
   "source": []
  },
  {
   "cell_type": "code",
   "execution_count": null,
   "id": "ce44c5b2-6ecf-4f71-a3f3-6f45b8417636",
   "metadata": {},
   "outputs": [],
   "source": []
  },
  {
   "cell_type": "code",
   "execution_count": null,
   "id": "32d0580a-d73c-4f01-a0b6-a5c82a24a569",
   "metadata": {},
   "outputs": [],
   "source": []
  },
  {
   "cell_type": "code",
   "execution_count": null,
   "id": "b0aa0a3d-d271-480c-8c97-d3849d0b1b3c",
   "metadata": {},
   "outputs": [],
   "source": []
  },
  {
   "cell_type": "code",
   "execution_count": null,
   "id": "8f0726b4-4462-408c-bb1d-32267a55cb52",
   "metadata": {},
   "outputs": [],
   "source": []
  },
  {
   "cell_type": "code",
   "execution_count": null,
   "id": "0e504d8d-3929-45c0-a136-caba0d74efe9",
   "metadata": {},
   "outputs": [],
   "source": []
  },
  {
   "cell_type": "code",
   "execution_count": null,
   "id": "6704201c-9c53-4474-ba1e-9d43c63133fa",
   "metadata": {},
   "outputs": [],
   "source": []
  },
  {
   "cell_type": "code",
   "execution_count": null,
   "id": "4302f4cc-e1f5-4c2b-8739-13bd0b8598ca",
   "metadata": {},
   "outputs": [],
   "source": []
  },
  {
   "cell_type": "code",
   "execution_count": null,
   "id": "124c5d89-538f-477d-b542-6e0146491895",
   "metadata": {},
   "outputs": [],
   "source": []
  },
  {
   "cell_type": "code",
   "execution_count": null,
   "id": "8dea1ade-a5f8-4b60-95ff-f81bdb682088",
   "metadata": {},
   "outputs": [],
   "source": [
    "# Aggregate results\n",
    "results = aggregateResults(taus, SKUs, experiment_params['path_to_save'], experiment_params['name_to_save'])\n",
    "results"
   ]
  },
  {
   "cell_type": "code",
   "execution_count": null,
   "id": "3be937fe-c507-4eee-b265-04cf4b2f06f6",
   "metadata": {},
   "outputs": [],
   "source": [
    "# Save aggregate results\n",
    "file_name = experiment_params['path_to_save']+'/'+experiment_params['name_to_save']+'_results.csv'\n",
    "results.to_csv(file_name, sep=',', index=False)"
   ]
  },
  {
   "cell_type": "code",
   "execution_count": null,
   "id": "8ab4e342-64a5-4209-9511-297be28b28f2",
   "metadata": {},
   "outputs": [],
   "source": [
    "# Summarize results\n",
    "results_summary = results.groupby(['SKU', 'CR', 'tau']).agg({\n",
    "    'MIPGap': lambda x: x.iloc[0],\n",
    "    'NumericFocus': lambda x: x.iloc[0],\n",
    "    'obj_improvement': lambda x: x.iloc[0],\n",
    "    'obj_timeout_sec': lambda x: x.iloc[0],\n",
    "    'obj_timeout_max_sec': lambda x: x.iloc[0],\n",
    "    'K': lambda x: x.iloc[0],\n",
    "    'u': lambda x: x.iloc[0],\n",
    "    'h': lambda x: x.iloc[0],\n",
    "    'b': lambda x: x.iloc[0],\n",
    "    'I': np.mean,\n",
    "    'q': np.mean,\n",
    "    'I_q': np.mean,\n",
    "    'y': np.mean,\n",
    "    'I_q_y': np.mean,\n",
    "    'c_o': sum,\n",
    "    'c_s': sum,\n",
    "    'cost': sum,\n",
    "    'defaulted': sum,\n",
    "    'solutions': lambda x: sum(x>0),\n",
    "    'gap': np.mean,\n",
    "    'exec_time_sec': np.mean,\n",
    "    'cpu_time_sec': np.mean\n",
    "}).reset_index()\n",
    "results_summary"
   ]
  },
  {
   "cell_type": "code",
   "execution_count": null,
   "id": "23cc9cf4-4341-4d8a-b8f0-7508d9dfb93d",
   "metadata": {},
   "outputs": [],
   "source": [
    "# Save summarized results\n",
    "file_name = experiment_params['path_to_save']+'/'+experiment_params['name_to_save']+'_results_summary.csv'\n",
    "results_summary.to_csv(file_name, sep=',', index=False)"
   ]
  },
  {
   "cell_type": "code",
   "execution_count": null,
   "id": "5ae7161c-df7f-4c1b-b2da-51a418811b23",
   "metadata": {},
   "outputs": [],
   "source": []
  },
  {
   "cell_type": "code",
   "execution_count": null,
   "id": "60a7382d-7a1a-4d36-8310-b2197c51f64d",
   "metadata": {},
   "outputs": [],
   "source": [
    "# Evaluate results\n",
    "results_evaluation = results_summary.groupby(['SKU', 'CR']).agg({\n",
    "    'cost': min\n",
    "}).reset_index()\n",
    "results_evaluation"
   ]
  },
  {
   "cell_type": "code",
   "execution_count": null,
   "id": "94d0b81f-e80f-4718-97ac-56b9446238ae",
   "metadata": {},
   "outputs": [],
   "source": [
    "# Save evaluated results\n",
    "file_name = experiment_params['path_to_save']+'/'+experiment_params['name_to_save']+'_results_evaluation.csv'\n",
    "results_evaluation.to_csv(file_name, sep=',', index=False)"
   ]
  },
  {
   "cell_type": "code",
   "execution_count": null,
   "id": "5883bb80-2c47-4d67-8a62-8dd74b7b2239",
   "metadata": {},
   "outputs": [],
   "source": []
  }
 ],
 "metadata": {
  "kernelspec": {
   "display_name": "multiPeriodInv",
   "language": "python",
   "name": "multiperiodinv"
  },
  "language_info": {
   "codemirror_mode": {
    "name": "ipython",
    "version": 3
   },
   "file_extension": ".py",
   "mimetype": "text/x-python",
   "name": "python",
   "nbconvert_exporter": "python",
   "pygments_lexer": "ipython3",
   "version": "3.8.3"
  }
 },
 "nbformat": 4,
 "nbformat_minor": 5
}
