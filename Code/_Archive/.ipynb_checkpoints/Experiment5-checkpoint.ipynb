{
 "cells": [
  {
   "cell_type": "markdown",
   "id": "fa32c966-eb6a-49ab-8484-fdd0b7e22e0a",
   "metadata": {},
   "source": [
    "# Imports"
   ]
  },
  {
   "cell_type": "code",
   "execution_count": 1,
   "id": "8b518e25-3378-4cde-9fca-4ea5cccd902e",
   "metadata": {},
   "outputs": [],
   "source": [
    "# Import utils\n",
    "import numpy as np\n",
    "import pandas as pd\n",
    "import copy\n",
    "import time\n",
    "import datetime as dt\n",
    "import pickle\n",
    "import json\n",
    "from pathlib import Path\n",
    "import joblib\n",
    "from joblib import dump, load, Parallel, delayed\n",
    "import os\n",
    "import itertools\n",
    "import contextlib\n",
    "from tqdm import tqdm\n",
    "\n",
    "# Import Weights Model\n",
    "import WeightsModel3\n",
    "from WeightsModel3 import PreProcessing\n",
    "from WeightsModel3 import RandomForestWeightsModel\n",
    "from WeightsModel3 import RollingHorizonGlobalTrainingAndSampling\n",
    "\n",
    "# Import (Rolling Horizon) Weighted SAA models\n",
    "from WeightedSAA3 import WeightedSAA\n",
    "from WeightedSAA3 import RobustWeightedSAA\n",
    "from WeightedSAA3 import RollingHorizonOptimization"
   ]
  },
  {
   "cell_type": "markdown",
   "id": "ea9d2455-3d8d-48f6-bee1-386b8cd57dbf",
   "metadata": {},
   "source": [
    "# Experiment functions\n",
    "\n",
    "We first define several functions for experiments over different choices for the look-ahead $\\tau$, cost parameter settings $\\{K,u,h,b\\}$, products (SKUs) $k=1,...,M$, and periods $t=1,...,T$ of the planning horizon."
   ]
  },
  {
   "cell_type": "code",
   "execution_count": 24,
   "id": "14f00834-9b52-4df8-8889-2bacbf8ad5f2",
   "metadata": {},
   "outputs": [],
   "source": [
    "### Function to extract global historical demand samples, weights, and actuals for each product and test period\n",
    "def prep_global_samples_and_weights(samples, weights, **kwargs):\n",
    "\n",
    "    \"\"\"\n",
    "    ...\n",
    "    \n",
    "    \"\"\"\n",
    "    \n",
    "    SKUs = kwargs.get('SKUs', range(1,460+1))\n",
    "    ts = kwargs.get('ts', range(1,13+1))\n",
    "    \n",
    "    # Samples     \n",
    "    samples_ = {}\n",
    "    for t in ts:\n",
    "        samples_[t] = samples[t]['y_train']\n",
    "\n",
    "    # Weights   \n",
    "    weights_ = {}\n",
    "    for SKU in SKUs:\n",
    "        weights_[SKU] = {}\n",
    "        for t in ts:\n",
    "            weights_[SKU][t] = weights[t][samples[t]['id_test'].SKU==SKU].flatten()\n",
    "\n",
    "    # Actuals\n",
    "    actuals_ = {}\n",
    "    for SKU in SKUs:\n",
    "        actuals_[SKU] = {}\n",
    "        for t in ts:\n",
    "            actuals_[SKU][t] = samples[t]['y_test'][samples[t]['id_test'].SKU==SKU].flatten()\n",
    "\n",
    "    return samples_, weights_, actuals_"
   ]
  },
  {
   "cell_type": "code",
   "execution_count": 25,
   "id": "75e1c018-de93-48d3-94c3-899d0ab21eda",
   "metadata": {},
   "outputs": [],
   "source": [
    "### Function to extract local historical demand samples, weights, and actuals for each product and test period\n",
    "def prep_local_samples_and_weights(samples, weights, **kwargs):\n",
    "\n",
    "    \"\"\"\n",
    "    ...\n",
    "    \n",
    "    \"\"\"\n",
    "    \n",
    "    SKUs = kwargs.get('SKUs', range(1,460+1))\n",
    "    ts = kwargs.get('ts', range(1,13+1))\n",
    "    \n",
    "    # Samples \n",
    "    samples_ = {}\n",
    "    for SKU in SKUs:\n",
    "        samples_[SKU] = {}\n",
    "        for t in ts:\n",
    "            samples_[SKU][t] = samples[SKU][t]['y_train']\n",
    "\n",
    "    # Weights   \n",
    "    weights_ = {}\n",
    "    for SKU in SKUs:\n",
    "        weights_[SKU] = {}\n",
    "        for t in ts:\n",
    "            weights_[SKU][t] = weights[SKU][t].flatten()\n",
    "\n",
    "    # Actuals\n",
    "    actuals_ = {}\n",
    "    for SKU in SKUs:\n",
    "        actuals_[SKU] = {}\n",
    "        for t in ts:\n",
    "            actuals_[SKU][t] = samples[SKU][t]['y_test'].flatten()\n",
    "\n",
    "    return samples_, weights_, actuals_"
   ]
  },
  {
   "cell_type": "code",
   "execution_count": 26,
   "id": "a21211e6-0f49-4a89-9b95-6f99fe23a7e6",
   "metadata": {},
   "outputs": [],
   "source": [
    "### Function to run an experiment over a list of given cost parameter settings and the specified model\n",
    "def run_experiment(wsaamodel, cost_params, samples, actuals, weights=None, epsilons=None, print_progress=False,\n",
    "                   path_to_save=None, name_to_save=None, return_results=True, **kwargs):\n",
    "    \n",
    "    \"\"\"\n",
    "    ...\n",
    "    \n",
    "    \"\"\"\n",
    "    \n",
    "    # Raise error if cost_params is not a list of dict(s)\n",
    "    if not type(cost_params)==list:\n",
    "        raise ValueError('Argument cost_params has to be a list of at least one dict with keys {K, u, h, b}')  \n",
    "            \n",
    "    # Timer\n",
    "    st_exec, st_cpu = time.time(), time.process_time()\n",
    "\n",
    "    # Status\n",
    "    if print_progress and 'SKU' in kwargs: print('SKU:', kwargs['SKU'])\n",
    "    \n",
    "    # Initialize\n",
    "    ropt, results = RollingHorizonOptimization(), pd.DataFrame()\n",
    "\n",
    "    # For each cost param setting\n",
    "    for cost_params_ in cost_params:\n",
    "\n",
    "        # Print progress\n",
    "        if print_progress: print('...cost param setting:', cost_params_)\n",
    "\n",
    "        # Apply (Weighted) SAA  model\n",
    "        wsaamodel.set_params(**{**kwargs, **cost_params_})\n",
    "        result = ropt.run(wsaamodel, samples, actuals, weights, epsilons)\n",
    "\n",
    "        # Store results\n",
    "        meta = pd.DataFrame({'CR': cost_params_['CR'], **kwargs}, index=list(range(len(samples))))\n",
    "        results = pd.concat([results, pd.concat([meta, result], axis=1)], axis=0)\n",
    "\n",
    "    # Save result as csv file\n",
    "    if not path_to_save is None and not name_to_save is None:\n",
    "        results.to_csv(path_or_buf=(path_to_save+'/'+name_to_save+'_SKU'+str(kwargs.get('SKU', None))+\n",
    "                                    '_tau'+str(kwargs.get('tau', None))+'.csv'), sep=',', index=False)\n",
    "\n",
    "    # Timer\n",
    "    exec_time_sec, cpu_time_sec = time.time() - st_exec, time.process_time() - st_cpu\n",
    "    \n",
    "    # Status\n",
    "    if print_progress: print('>>>> Done:', str(np.around(exec_time_sec/60,1)), 'minutes')\n",
    "\n",
    "    # Return  \n",
    "    return results if return_results else {'SKU': kwargs.get('SKU', None), 'exec_time_sec': exec_time_sec, 'cpu_time_sec': cpu_time_sec}"
   ]
  },
  {
   "cell_type": "code",
   "execution_count": 27,
   "id": "047a2caa-f987-43d1-9670-6f8ef2dcf863",
   "metadata": {},
   "outputs": [],
   "source": [
    "### Function to aggregate all results\n",
    "def aggregateResults(taus, SKUs, path_to_save, name_to_save):\n",
    "    \n",
    "    results = pd.DataFrame()\n",
    "    \n",
    "    # For each look-ahead tau=0,...,4\n",
    "    for tau in taus:\n",
    "        # For each product (SKU) k=1,...,M\n",
    "        for SKU in SKUs:\n",
    "            file_name = path_to_save+'/'+name_to_save+'_SKU'+str(SKU)+'_tau'+str(tau)+'.csv'\n",
    "            # Check if results exist   \n",
    "            if os.path.exists(file_name):\n",
    "                results = pd.concat([results, pd.read_csv(file_name)])\n",
    "\n",
    "    return(results)"
   ]
  },
  {
   "cell_type": "code",
   "execution_count": 28,
   "id": "b1938aee-dc52-4442-a1dc-34aee4f4db5c",
   "metadata": {},
   "outputs": [],
   "source": [
    "### Context manager (Credits: 'https://stackoverflow.com/questions/24983493/tracking-progress-of-joblib-parallel-execution')\n",
    "@contextlib.contextmanager\n",
    "def tqdm_joblib(tqdm_object):\n",
    "    \"\"\"Context manager to patch joblib to report into tqdm progress bar given as argument\"\"\"\n",
    "    class TqdmBatchCompletionCallback(joblib.parallel.BatchCompletionCallBack):\n",
    "        def __call__(self, *args, **kwargs):\n",
    "            tqdm_object.update(n=self.batch_size)\n",
    "            return super().__call__(*args, **kwargs)\n",
    "\n",
    "    old_batch_callback = joblib.parallel.BatchCompletionCallBack\n",
    "    joblib.parallel.BatchCompletionCallBack = TqdmBatchCompletionCallback\n",
    "    try:\n",
    "        yield tqdm_object\n",
    "    finally:\n",
    "        joblib.parallel.BatchCompletionCallBack = old_batch_callback\n",
    "        tqdm_object.close()"
   ]
  },
  {
   "cell_type": "markdown",
   "id": "f6d60c56-dbb7-42e2-a8b7-f478cb4dc818",
   "metadata": {},
   "source": [
    "# Paths and parameters"
   ]
  },
  {
   "cell_type": "code",
   "execution_count": 29,
   "id": "331e5ab6-1320-4122-be2b-84b7bb7f89b9",
   "metadata": {},
   "outputs": [],
   "source": [
    "# Set folder names as global variables\n",
    "os.chdir('/home/fesc/MM/')\n",
    "global PATH_DATA, PATH_PARAMS, PATH_KERNELS, PATH_SAMPLES, PATH_RESULTS\n",
    "\n",
    "PATH_DATA = '/home/fesc/MM/Data'\n",
    "PATH_PARAMS  = '/home/fesc/MM/Data/Params'\n",
    "PATH_WEIGHTSMODEL = '/home/fesc/MM/Data/WeightsModel'\n",
    "PATH_SAMPLES = '/home/fesc/MM/Data/Samples'\n",
    "PATH_RESULTS = '/home/fesc/MM/Data/Results'"
   ]
  },
  {
   "cell_type": "code",
   "execution_count": 36,
   "id": "acc9e008-b639-4b91-bdba-928cc0fa6405",
   "metadata": {},
   "outputs": [],
   "source": [
    "# Define experiment paramaters\n",
    "experiment_params = {\n",
    "            \n",
    "    # Cost param settings\n",
    "    'cost_params': [\n",
    "\n",
    "        {'CR': 0.50, 'K': 100, 'u': 0.5, 'h': 1, 'b': 1},\n",
    "        {'CR': 0.75, 'K': 100, 'u': 0.5, 'h': 1, 'b': 3},\n",
    "        {'CR': 0.90, 'K': 100, 'u': 0.5, 'h': 1, 'b': 9}\n",
    "\n",
    "    ],\n",
    "\n",
    "    # Gurobi meta params\n",
    "    'LogToConsole': 0, \n",
    "    'Threads': 1, \n",
    "    'NonConvex': 2, \n",
    "    'PSDTol': 1e-3, # 0.1%\n",
    "    'MIPGap': 1e-3, # 0.1%\n",
    "    'NumericFocus': 0, \n",
    "    'obj_improvement': 1e-3, # 0.1%\n",
    "    'obj_timeout_sec': 3*60, # 3 min\n",
    "    'obj_timeout_max_sec': 10*60, # 10 min\n",
    "\n",
    "    # Program meta params\n",
    "    'path_to_save': '',\n",
    "    'name_to_save': '',\n",
    "    'print_progress': False,\n",
    "    'return_results': False\n",
    "\n",
    "}"
   ]
  },
  {
   "cell_type": "code",
   "execution_count": 30,
   "id": "3a5e1dae-58c3-463d-bc4a-8cfbb4e60388",
   "metadata": {},
   "outputs": [],
   "source": [
    "# Time period and SKU ranges\n",
    "T = 13                  # Planning horizon T\n",
    "ts = range(1,13+1)      # Periods t=1,...,T of the planning horizon\n",
    "taus = range(0,4+1)     # Look-aheads tau=0,...,4 to use\n",
    "SKUs = range(1,460+1)   # Products (SKUs) k=1,...,M\n",
    "\n",
    "# Train/test split (first timePeriods of testing horizon)\n",
    "test_start = 114"
   ]
  },
  {
   "cell_type": "markdown",
   "id": "a137c0ad-6243-4390-bd1c-6aff2a2fca74",
   "metadata": {},
   "source": [
    "# Global Models\n",
    "\n",
    "The two global models (using 'Global Training and Sampling') are **Rolling Horizon Global Weighted SAA (GwSAA)**, which is our model, and **Rolling Horizon Global Robust Weighted SAA (GwSAA-R)**, which is the analogous model with robust extension.\n",
    "\n",
    "Given product $k$, period $t$, and look-ahead $\\tau$, both models apply Weighted SAA over the 'global' distribution $\\{\\{w_{j,t,\\tau}^{\\,i}(x_{k,t}^{\\,i}),(d_{j,t}^{\\,i},...,d_{j,t+\\tau}^{\\,i})\\}_{i=1}^{N_{j,t,\\tau}}\\}_{j=1}^{M}$, with weight functions $w_{j,t,\\tau}(\\,\\cdot\\,)$ trained (once for all products) on data $S_{t,\\tau}^{\\,\\text{Global}}=\\{\\{(x_{j,t}^{\\,i},d_{j,t}^{\\,i},...,d_{j,t+\\tau}^{\\,i})\\}_{i=1}^{N_{j,t,\\tau}}\\}_{j=1}^{M}$."
   ]
  },
  {
   "cell_type": "markdown",
   "id": "d5d6c9b9-f722-44f1-8f73-dd8c964a2bbf",
   "metadata": {},
   "source": [
    "## Data Preprocessing\n",
    "\n",
    "We first load and pre-process the data. This includes reshaping demand time series into $(\\tau+1)$-periods rolling look-ahead horizon sequences.\n",
    "\n",
    "- **ID_Data** (pd.DataFrame) stores identifiers (in particular the product (SKU) identifier and the timePeriod (sale_yearweek) identifier)\n",
    "- **X_Data** (pd.DataFrame) is the 'feature matrix', i.e., each row is a feature vector $x_{j,n}$ where n is the number of training observations (rows) in the data\n",
    "- **Y_Data** (pd.DataFrame) is the demand data $d_{j,n}$ (a times series per product)\n",
    "- **X_Data_Columns** (pd.DataFrame) provides 'selectors' for local vs. global feature sets"
   ]
  },
  {
   "cell_type": "code",
   "execution_count": null,
   "id": "807bbbf8-251d-4807-8915-3d90955a53f1",
   "metadata": {},
   "outputs": [],
   "source": [
    "# Weights model names\n",
    "weightsmodel_cv_name = 'cv_rfwm_global'\n",
    "weightsmodel_name = 'rfwm_global'"
   ]
  },
  {
   "cell_type": "code",
   "execution_count": null,
   "id": "3cd9a08d-e0c8-4d6d-b26f-44eef6d7633d",
   "metadata": {},
   "outputs": [],
   "source": [
    "# Read data\n",
    "ID_Data = pd.read_csv(PATH_DATA+'/ID_Data.csv')\n",
    "X_Data = pd.read_csv(PATH_DATA+'/X_Data.csv')\n",
    "X_Data_Columns = pd.read_csv(PATH_DATA+'/X_Data_Columns.csv')\n",
    "Y_Data = pd.read_csv(PATH_DATA+'/Y_Data.csv')"
   ]
  },
  {
   "cell_type": "code",
   "execution_count": null,
   "id": "ec22262b-07c2-4fc0-b32f-518b0163ed12",
   "metadata": {},
   "outputs": [],
   "source": [
    "# Select features\n",
    "X_Data_Columns = X_Data_Columns.loc[X_Data_Columns.Global == 'YES']\n",
    "X_Data = X_Data[X_Data_Columns.Feature.values]"
   ]
  },
  {
   "cell_type": "code",
   "execution_count": null,
   "id": "b67e9b65-8a57-4d7f-a994-a5249ae5563d",
   "metadata": {},
   "outputs": [],
   "source": [
    "# Ensure data is sorted by SKU and sale_yearweek for preprocessing\n",
    "data = pd.concat([ID_Data, X_Data, Y_Data], axis=1).sort_values(by=['SKU', 'sale_yearweek']).reset_index(drop=True)\n",
    "ID_Data = data[ID_Data.columns]\n",
    "X_Data = data[X_Data.columns]\n",
    "Y_Data = data[Y_Data.columns]\n",
    "\n",
    "# Create multi-period demand vectors\n",
    "data = pd.concat([ID_Data, Y_Data], axis=1)\n",
    "Y = {}\n",
    "for tau in taus:\n",
    "    Y['Y'+str(tau)] = data.groupby(['SKU']).shift(-tau)['Y']\n",
    "Y_Data = pd.DataFrame(Y)"
   ]
  },
  {
   "cell_type": "markdown",
   "id": "bd893890-6849-48fe-8568-5887a176f1c8",
   "metadata": {},
   "source": [
    "## Weights model\n",
    "\n",
    "The weights models - and thus the data used, weight functions, and weights per sample - are the same for the two global models **GwSAA** and **GwSAA-R**. First, we tune the hyper parameters of the random forest weights model for each given look-ahead $\\tau$ (as for each look-ahead $\\tau$ we have a different response for the multi-output random forest regressor). Second, we fit all weight functions (for each look-ahead $\\tau=0,...,4$ and over periods $t=1,...,T$) and generate all weights (for each look-ahead $\\tau=0,...,4$, over periods $t=1,...,T$, and for each product (SKU) $k=1,...,M$)."
   ]
  },
  {
   "cell_type": "markdown",
   "id": "d27bcee6-737b-4ac0-b412-837607c2edfb",
   "metadata": {},
   "source": [
    "### Tune weights model\n",
    "\n",
    "To tune the hyper parameters of the global random forest weights model, we use 3-fold rolling timeseries cross-validation on the training data and perform random search with 100 iterations over the specified hyper parameter search grid."
   ]
  },
  {
   "cell_type": "code",
   "execution_count": null,
   "id": "2b187aa7-4edd-4288-88ea-fe5a6ca96a33",
   "metadata": {},
   "outputs": [],
   "source": [
    "# Set parameters\n",
    "model_params = {\n",
    "    'oob_score': True,\n",
    "    'random_state': 12345,\n",
    "    'n_jobs': 4,\n",
    "    'verbose': 0\n",
    "}\n",
    "\n",
    "hyper_params_grid = {\n",
    "    'n_estimators': [1000],\n",
    "    'max_depth': [None],\n",
    "    'min_samples_split': [x for x in range(20, 1000, 20)],  \n",
    "    'min_samples_leaf': [x for x in range(10, 1000, 10)],  \n",
    "    'max_features': [x for x in range(8, 256, 8)],   \n",
    "    'max_leaf_nodes': [None],\n",
    "    'min_impurity_decrease': [0.0],\n",
    "    'bootstrap': [True],\n",
    "    'max_samples': [0.75, 0.80, 0.85, 0.90, 0.95, 1.00]\n",
    "}    \n",
    "\n",
    "\n",
    "tuning_params = {     \n",
    "    'n_iter': 100,\n",
    "    'scoring': {'MSE': 'neg_mean_squared_error'},\n",
    "    'return_train_score': True,\n",
    "    'refit': 'MSE',\n",
    "    'random_state': 12345,\n",
    "    'n_jobs': 8,\n",
    "    'verbose': 2\n",
    "}    \n",
    "\n",
    "random_search = True\n",
    "print_status = True"
   ]
  },
  {
   "cell_type": "code",
   "execution_count": null,
   "id": "6a9828a1-0293-4bdb-949d-fb5440c0b446",
   "metadata": {
    "tags": []
   },
   "outputs": [],
   "source": [
    "# For each look-ahead tau=0,...,4\n",
    "for tau in taus:\n",
    "    \n",
    "    # Initialize preprocessing module\n",
    "    pp = PreProcessing()\n",
    "        \n",
    "    # Select and reshape training and test data\n",
    "    args = {'train': (ID_Data.sale_yearweek < test_start), \n",
    "            'timePeriods': ID_Data.loc[(ID_Data.sale_yearweek < test_start)].sale_yearweek, \n",
    "            'maxTimePeriod': test_start-1, 'tau': tau}\n",
    "    \n",
    "    id_train = pp.train_test_split(ID_Data, **args)\n",
    "    X_train = pp.train_test_split(X_Data, **args, to_array=True)\n",
    "    y_train = pp.train_test_split(Y_Data, **args, rolling_horizon=[l for l in range(0,tau+1)], to_array=True)\n",
    "   \n",
    "    # Initialize\n",
    "    weightsmodel = RandomForestWeightsModel(model_params)\n",
    "\n",
    "    # CV search\n",
    "    cv_folds = pp.split_timeseries_cv(n_splits=3, timePeriods=id_train.sale_yearweek)\n",
    "    cv_results = weightsmodel.tune(X_train, y_train, cv_folds, hyper_params_grid, tuning_params, random_search, print_status)\n",
    "    weightsmodel.save_cv_result(path=PATH_WEIGHTSMODEL+'/'+weightsmodel_cv_name+'_tau'+str(tau)+'.joblib')"
   ]
  },
  {
   "cell_type": "markdown",
   "id": "135fff30-5122-4776-a507-85b29f06ecae",
   "metadata": {},
   "source": [
    "### Fit weights model and generate weights\n",
    "\n",
    "We now fit the global random forest weights model (i.e., the weight functions) for each $\\tau=0,...,4$ and over periods $t=1,...,T$. This is done across all products at once (global training). Then, for each $\\tau=0,...,4$ and over periods $t=1,...,T$, we generate for each product (SKU) $k=1,...,M$ the weights given the test feature $x_{k,t}$. This is done *jointly* across products (by using $x_{t}=(x_{1,t},...,x_{M,t})^{\\top}$) for computational efficiency - the weights for each individual product can be extracted afterwards."
   ]
  },
  {
   "cell_type": "code",
   "execution_count": null,
   "id": "bac397b5-6cd1-4b43-82c6-92cc48459b16",
   "metadata": {},
   "outputs": [],
   "source": [
    "# Set parameters\n",
    "model_params = {\n",
    "    'n_jobs': 32,\n",
    "    'verbose': 0\n",
    "}\n",
    "\n",
    "print_status = True"
   ]
  },
  {
   "cell_type": "code",
   "execution_count": null,
   "id": "453e4020-8b86-47b7-92b7-55861cb27f76",
   "metadata": {},
   "outputs": [],
   "source": [
    "# For each look-ahead tau=0,...,4\n",
    "for tau in taus:\n",
    "    \n",
    "    # Initialize\n",
    "    samples, weightfunctions, weightfunctions_times, weights, weights_times = {}, {}, {}, {}, {}\n",
    "        \n",
    "    # For each period t=1,...,T\n",
    "    for t in ts:\n",
    "\n",
    "        # Adjust look-ahead tau to account for end of horizon\n",
    "        tau_ = min(tau,T-t)\n",
    "        \n",
    "        # Status\n",
    "        print('#### Look-ahead tau='+str(tau)+' (tau\\'='+str(tau_)+'), period t='+str(t)+'...')\n",
    "        start_time = dt.datetime.now().replace(microsecond=0)\n",
    "                \n",
    "        # Generate samples, fit weight functions, and generate weights (based on tuned weights model)\n",
    "        weightsmodel = RandomForestWeightsModel()\n",
    "        weightsmodel.load_cv_result(path=PATH_WEIGHTSMODEL+'/'+weightsmodel_cv_name+'_tau'+str(tau_)+'.joblib')\n",
    "        res = weightsmodel.training_and_sampling(ID_Data, X_Data, Y_Data, tau=tau_, timePeriods=ID_Data.sale_yearweek,\n",
    "                                                 timePeriodsTestStart=test_start+t-1, model_params=model_params)\n",
    "        samples[t], weightfunctions[t], weightfunctions_times[t], weights[t], weights_times[t] = res\n",
    "        \n",
    "        # Status\n",
    "        print('...done in', dt.datetime.now().replace(microsecond=0) - start_time)    \n",
    "        \n",
    "    # Save\n",
    "    _ = joblib.dump(samples, PATH_WEIGHTSMODEL+'/'+weightsmodel_name+'_samples_tau'+str(tau)+'.joblib')  \n",
    "    _ = joblib.dump(weightfunctions, PATH_WEIGHTSMODEL+'/'+weightsmodel_name+'_weightfunctions_tau'+str(tau)+'.joblib')    \n",
    "    _ = joblib.dump(weightfunctions_times, PATH_WEIGHTSMODEL+'/'+weightsmodel_name+'_weightfunctions_times_tau'+str(tau)+'.joblib')    \n",
    "    _ = joblib.dump(weights, PATH_WEIGHTSMODEL+'/'+weightsmodel_name+'_weights_tau'+str(tau)+'.joblib')    \n",
    "    _ = joblib.dump(weights_times, PATH_WEIGHTSMODEL+'/'+weightsmodel_name+'_weights_times_tau'+str(tau)+'.joblib')    "
   ]
  },
  {
   "cell_type": "markdown",
   "id": "383db927-7544-4179-a25a-4a16269ed58e",
   "metadata": {},
   "source": [
    "## Optimization\n",
    "\n",
    "Description ..."
   ]
  },
  {
   "cell_type": "markdown",
   "id": "561b5a1c-c253-41b3-be40-866598943f7e",
   "metadata": {},
   "source": [
    "### Rolling Horizon Global Weighted SAA (GwSAA)\n",
    "\n",
    "The code below runs an experiment for all given products (SKUs) $k=1,...,M$ over a test planning horizon $t=1,...,T$ with $T=13$ for three different cost parameter settings $\\{K, u, h, b\\}$ that vary the critical ratio ($CR=\\frac{b}{b+h}$) of holding and backlogging yielding\n",
    "- $CR=0.50$: $\\{K=100, u=0.5, h=1, b=1\\}$\n",
    "- $CR=0.75$: $\\{K=100, u=0.5, h=1, b=3\\}$\n",
    "- $CR=0.90$: $\\{K=100, u=0.5, h=1, b=9\\}$"
   ]
  },
  {
   "cell_type": "code",
   "execution_count": null,
   "id": "235330d3-7c86-4e08-a06b-88876e4db2b7",
   "metadata": {},
   "outputs": [],
   "source": [
    "# Define experiment paramaters\n",
    "experiment_params = {\n",
    "            \n",
    "    # Cost param settings\n",
    "    'cost_params': [\n",
    "\n",
    "        {'CR': 0.50, 'K': 100, 'u': 0.5, 'h': 1, 'b': 1},\n",
    "        {'CR': 0.75, 'K': 100, 'u': 0.5, 'h': 1, 'b': 3},\n",
    "        {'CR': 0.90, 'K': 100, 'u': 0.5, 'h': 1, 'b': 9}\n",
    "\n",
    "    ],\n",
    "\n",
    "    # Gurobi meta params\n",
    "    'LogToConsole': 0, \n",
    "    'Threads': 1, \n",
    "    'NonConvex': 2, \n",
    "    'PSDTol': 1e-3, # 0.1%\n",
    "    'MIPGap': 1e-3, # 0.1%\n",
    "    'NumericFocus': 0, \n",
    "    'obj_improvement': 1e-3, # 0.1%\n",
    "    'obj_timeout_sec': 3*60, # 3 min\n",
    "    'obj_timeout_max_sec': 10*60, # 10 min\n",
    "\n",
    "    # Program meta params\n",
    "    'path_to_save': PATH_RESULTS+'/GwSAA_NEW',\n",
    "    'name_to_save': 'GwSAA_NEW',\n",
    "    'print_progress': False,\n",
    "    'return_results': False\n",
    "\n",
    "}"
   ]
  },
  {
   "cell_type": "code",
   "execution_count": null,
   "id": "5248f73a-8f0f-4b52-9d43-8f15a0aa0a53",
   "metadata": {},
   "outputs": [],
   "source": [
    "# Set path\n",
    "if not os.path.exists(experiment_params['path_to_save']): os.mkdir(experiment_params['path_to_save'])\n",
    "\n",
    "# For each look-ahead tau=0,...,4\n",
    "for tau in taus:\n",
    "    \n",
    "    # Prepare data\n",
    "    samples = joblib.load(PATH_WEIGHTSMODEL+'/'+weightsmodel_name+'_samples_tau'+str(tau)+'.joblib')\n",
    "    weights = joblib.load(PATH_WEIGHTSMODEL+'/'+weightsmodel_name+'_weights_tau'+str(tau)+'.joblib')\n",
    "\n",
    "    samples, weights, actuals = prep_global_samples_and_weights(samples, weights, SKUs=SKUs, ts=ts)\n",
    "    \n",
    "    # For each product (SKU) k=1,...,M\n",
    "    with tqdm_joblib(tqdm(desc='Progress', total=len(SKUs))) as progress_bar:\n",
    "        resultslog = Parallel(n_jobs=32)(delayed(run_experiment)(tau=tau, SKU=SKU, wsaamodel=WeightedSAA(), \n",
    "                                                                 samples=samples, weights=weights[SKU], actuals=actuals[SKU], \n",
    "                                                                 **experiment_params) for SKU in SKUs)"
   ]
  },
  {
   "cell_type": "code",
   "execution_count": null,
   "id": "9b117df4-7146-4e9c-b68a-cfa53f733c0c",
   "metadata": {},
   "outputs": [],
   "source": []
  },
  {
   "cell_type": "code",
   "execution_count": null,
   "id": "0d8a2396-c864-46cb-a662-f8b0539bdfbb",
   "metadata": {},
   "outputs": [],
   "source": []
  },
  {
   "cell_type": "code",
   "execution_count": null,
   "id": "3cc13c96-404d-413c-a435-a93b2ef21cf0",
   "metadata": {},
   "outputs": [],
   "source": []
  },
  {
   "cell_type": "code",
   "execution_count": null,
   "id": "f629abd8-9081-43e2-bc37-0ccd1c4b804c",
   "metadata": {},
   "outputs": [],
   "source": []
  },
  {
   "cell_type": "code",
   "execution_count": null,
   "id": "e4951e60-9650-4601-aaa6-0fca224d6239",
   "metadata": {},
   "outputs": [],
   "source": [
    "# Aggregate results\n",
    "results = aggregateResults(taus, SKUs, experiment_params['path_to_save'], experiment_params['name_to_save'])\n",
    "results"
   ]
  },
  {
   "cell_type": "code",
   "execution_count": null,
   "id": "c7507e64-01dd-4c98-bffe-30fe0cbc974c",
   "metadata": {},
   "outputs": [],
   "source": [
    "# Save aggregate results\n",
    "file_name = experiment_params['path_to_save']+'/'+experiment_params['name_to_save']+'_results.csv'\n",
    "results.to_csv(file_name, sep=',', index=False)"
   ]
  },
  {
   "cell_type": "code",
   "execution_count": null,
   "id": "71ee6e12-3455-49c0-a7ab-0bd57b0a88a2",
   "metadata": {},
   "outputs": [],
   "source": [
    "# Summarize results\n",
    "results_summary = results.groupby(['SKU', 'CR', 'tau']).agg({\n",
    "    'MIPGap': lambda x: x.iloc[0],\n",
    "    'NumericFocus': lambda x: x.iloc[0],\n",
    "    'obj_improvement': lambda x: x.iloc[0],\n",
    "    'obj_timeout_sec': lambda x: x.iloc[0],\n",
    "    'obj_timeout_max_sec': lambda x: x.iloc[0],\n",
    "    'K': lambda x: x.iloc[0],\n",
    "    'u': lambda x: x.iloc[0],\n",
    "    'h': lambda x: x.iloc[0],\n",
    "    'b': lambda x: x.iloc[0],\n",
    "    'I': np.mean,\n",
    "    'q': np.mean,\n",
    "    'I_q': np.mean,\n",
    "    'y': np.mean,\n",
    "    'I_q_y': np.mean,\n",
    "    'c_o': sum,\n",
    "    'c_s': sum,\n",
    "    'cost': sum,\n",
    "    'defaulted': sum,\n",
    "    'solutions': lambda x: sum(x>0),\n",
    "    'gap': np.mean,\n",
    "    'exec_time_sec': np.mean,\n",
    "    'cpu_time_sec': np.mean\n",
    "}).reset_index()\n",
    "results_summary"
   ]
  },
  {
   "cell_type": "code",
   "execution_count": null,
   "id": "885e9866-3374-471a-a1f7-7a60b4ee469f",
   "metadata": {},
   "outputs": [],
   "source": [
    "# Save summarized results\n",
    "file_name = experiment_params['path_to_save']+'/'+experiment_params['name_to_save']+'_results_summary.csv'\n",
    "results_summary.to_csv(file_name, sep=',', index=False)"
   ]
  },
  {
   "cell_type": "code",
   "execution_count": null,
   "id": "a1f523df-39b0-41c4-b52c-f3a133882e98",
   "metadata": {},
   "outputs": [],
   "source": []
  },
  {
   "cell_type": "code",
   "execution_count": null,
   "id": "9bee30ca-028d-4b1b-817e-28c743a70dc7",
   "metadata": {},
   "outputs": [],
   "source": [
    "# Evaluate results\n",
    "results_evaluation = results_summary.groupby(['SKU', 'CR']).agg({\n",
    "    'cost': min\n",
    "}).reset_index()\n",
    "results_evaluation"
   ]
  },
  {
   "cell_type": "code",
   "execution_count": null,
   "id": "7471ab79-ddae-424f-8aaa-e8348c8b9c9b",
   "metadata": {},
   "outputs": [],
   "source": [
    "# Save evaluated results\n",
    "file_name = experiment_params['path_to_save']+'/'+experiment_params['name_to_save']+'_results_evaluation.csv'\n",
    "results_evaluation.to_csv(file_name, sep=',', index=False)"
   ]
  },
  {
   "cell_type": "code",
   "execution_count": null,
   "id": "6612d9f6-7887-4b50-a02f-ab9196057e1b",
   "metadata": {},
   "outputs": [],
   "source": []
  },
  {
   "cell_type": "code",
   "execution_count": null,
   "id": "ba6121c6-d624-497b-8ecf-9ce21abb6f90",
   "metadata": {},
   "outputs": [],
   "source": []
  },
  {
   "cell_type": "code",
   "execution_count": null,
   "id": "09835147-c0d7-411b-969f-f148e5afa1af",
   "metadata": {},
   "outputs": [],
   "source": []
  },
  {
   "cell_type": "code",
   "execution_count": null,
   "id": "7efc4387-c9f5-4e6e-9548-8f4c6f53bede",
   "metadata": {},
   "outputs": [],
   "source": []
  },
  {
   "cell_type": "code",
   "execution_count": null,
   "id": "75456055-48ef-487c-925a-808404d35535",
   "metadata": {},
   "outputs": [],
   "source": []
  },
  {
   "cell_type": "code",
   "execution_count": null,
   "id": "a287505f-69c3-446b-a7cc-621666c96273",
   "metadata": {},
   "outputs": [],
   "source": []
  },
  {
   "cell_type": "markdown",
   "id": "0f990e6a-3366-45d5-8ccf-bdc88876c5fc",
   "metadata": {},
   "source": [
    "### Rolling Horizon Global Robust Weighted SAA (GwSAA-R)\n",
    "\n",
    "Description ..."
   ]
  },
  {
   "cell_type": "code",
   "execution_count": null,
   "id": "1109908f-979e-4e89-8c96-3bd91ad43f23",
   "metadata": {},
   "outputs": [],
   "source": []
  },
  {
   "cell_type": "code",
   "execution_count": null,
   "id": "9b7b6628-604f-402e-8992-edf3368ed8a3",
   "metadata": {},
   "outputs": [],
   "source": []
  },
  {
   "cell_type": "markdown",
   "id": "5d357c25-392d-4686-be11-9fd8a580f007",
   "metadata": {},
   "source": [
    "# Local Models\n",
    "\n",
    "The two local models (using 'Local Training and Sampling') are **Rolling Horizon Local Weighted SAA (wSAA)**, and **Rolling Horizon Local Robust Weighted SAA (wSAA-R)**, which is the analogous model with robust extension.\n",
    "\n",
    "Given product $k$, period $t$, and look-ahead $\\tau$, both models apply Weighted SAA over the 'local' distribution $\\{w_{k,t,\\tau}^{\\,i}(x_{k,t}^{\\,i}),(d_{k,t}^{\\,i},...,d_{k,t+\\tau}^{\\,i})\\}_{i=1}^{N_{k,t,\\tau}}$, with weight functions $w_{k,t,\\tau}(\\,\\cdot\\,)$ trained on data $S_{k,t,\\tau}^{\\,\\text{Local}}=\\{(x_{k,t}^{\\,i},d_{k,t}^{\\,i},...,d_{k,t+\\tau}^{\\,i})\\}_{i=1}^{N_{k,t,\\tau}}$ for each product $k=1,...,M$ separately."
   ]
  },
  {
   "cell_type": "markdown",
   "id": "a1793967-c0a7-49f9-afbe-3c2edc82a733",
   "metadata": {},
   "source": [
    "## Data Preprocessing\n",
    "\n",
    "We first load and pre-process the data. This includes reshaping demand time series into $(\\tau+1)$-periods rolling look-ahead horizon sequences.\n",
    "\n",
    "- **ID_Data** (pd.DataFrame) stores identifiers (in particular the product (SKU) identifier and the timePeriod (sale_yearweek) identifier)\n",
    "- **X_Data** (pd.DataFrame) is the 'feature matrix', i.e., each row is a feature vector $x_{j,n}$ where n is the number of training observations (rows) in the data\n",
    "- **Y_Data** (pd.DataFrame) is the demand data $d_{j,n}$ (a times series per product)\n",
    "- **X_Data_Columns** (pd.DataFrame) provides 'selectors' for local vs. global feature sets"
   ]
  },
  {
   "cell_type": "code",
   "execution_count": 31,
   "id": "91cde388-4e04-432e-a25f-c7c86ad4a54d",
   "metadata": {},
   "outputs": [],
   "source": [
    "# Weights model names\n",
    "weightsmodel_cv_name = 'cv_rfwm_local'\n",
    "weightsmodel_name = 'rfwm_local'"
   ]
  },
  {
   "cell_type": "code",
   "execution_count": 32,
   "id": "ed0c111f-7ccb-4ddb-aa74-41e9c671bace",
   "metadata": {},
   "outputs": [],
   "source": [
    "# Read data\n",
    "ID_Data = pd.read_csv(PATH_DATA+'/ID_Data.csv')\n",
    "X_Data = pd.read_csv(PATH_DATA+'/X_Data.csv')\n",
    "X_Data_Columns = pd.read_csv(PATH_DATA+'/X_Data_Columns.csv')\n",
    "Y_Data = pd.read_csv(PATH_DATA+'/Y_Data.csv')"
   ]
  },
  {
   "cell_type": "code",
   "execution_count": 33,
   "id": "598a27ac-fb86-4586-97e1-04fb33da5f5f",
   "metadata": {},
   "outputs": [],
   "source": [
    "# Select features\n",
    "X_Data_Columns = X_Data_Columns.loc[X_Data_Columns.Local == 'YES']\n",
    "X_Data = X_Data[X_Data_Columns.Feature.values]"
   ]
  },
  {
   "cell_type": "code",
   "execution_count": 34,
   "id": "badda3cf-e799-4d46-9fcf-af3ec6dac26b",
   "metadata": {},
   "outputs": [],
   "source": [
    "# Ensure data is sorted by SKU and sale_yearweek for preprocessing\n",
    "data = pd.concat([ID_Data, X_Data, Y_Data], axis=1).sort_values(by=['SKU', 'sale_yearweek']).reset_index(drop=True)\n",
    "\n",
    "ID_Data = data[ID_Data.columns]\n",
    "X_Data = data[X_Data.columns]\n",
    "Y_Data = data[Y_Data.columns]"
   ]
  },
  {
   "cell_type": "code",
   "execution_count": 35,
   "id": "f2044675-b66d-42d9-ab1d-24cd56e81dff",
   "metadata": {},
   "outputs": [],
   "source": [
    "# Create multi-period demand vectors\n",
    "data = pd.concat([ID_Data, Y_Data], axis=1)\n",
    "Y = {}\n",
    "for tau in taus:\n",
    "    Y['Y'+str(tau)] = data.groupby(['SKU']).shift(-tau)['Y']\n",
    "Y_Data = pd.DataFrame(Y)"
   ]
  },
  {
   "cell_type": "markdown",
   "id": "5be213da-406b-4e42-8699-2f5973a9c767",
   "metadata": {},
   "source": [
    "## Weights model\n",
    "\n",
    "The weights model - and thus the data used, weight functions, and weights per sample - are the same for the two local models **wSAA** and **wSAA-R**. First, we tune the hyper parameters of the random forest weights model for each given look-ahead $\\tau$ (as for each look-ahead $\\tau$ we have a different response for the multi-output random forest regressor) and for each product (SKU) $k=1,...,M$ separately. Second, we fit all weight functions (for each look-ahead $\\tau=0,...,4$ and over periods $t=1,...,T$) for each product (SKU) $k=1,...,M$ separately and generate all weights (for each look-ahead $\\tau=0,...,4$, over periods $t=1,...,T$, and for each product (SKU) $k=1,...,M$ separatey)."
   ]
  },
  {
   "cell_type": "markdown",
   "id": "c3f0442f-cdaa-47ad-a691-4b2aac018b30",
   "metadata": {},
   "source": [
    "### Tune weights model\n",
    "\n",
    "To tune the hyper parameters of the local random forest weights model for each product (SKU) $k=1,...,M$, we use 3-fold rolling timeseries cross-validation on the training data and perform random search with 100 iterations over the specified hyper parameter search grid."
   ]
  },
  {
   "cell_type": "code",
   "execution_count": null,
   "id": "26653420-33b5-4569-8397-2da1590e53ed",
   "metadata": {},
   "outputs": [],
   "source": [
    "# Set parameters to tune random forest weights kernels\n",
    "model_params = {\n",
    "    'oob_score': True,\n",
    "    'random_state': 12345,\n",
    "    'n_jobs': 1,\n",
    "    'verbose': 0\n",
    "}\n",
    "\n",
    "hyper_params_grid = {\n",
    "    'n_estimators': [100, 200, 300],\n",
    "    'max_depth': [None],\n",
    "    'min_samples_split': [x for x in range(2, 20, 1)],  \n",
    "    'min_samples_leaf': [x for x in range(2, 10, 1)],  \n",
    "    'max_features': [x for x in range(8, 256, 8)],   \n",
    "    'max_leaf_nodes': [None],\n",
    "    'min_impurity_decrease': [0.0],\n",
    "    'bootstrap': [True],\n",
    "    'max_samples': [0.75, 0.80, 0.85, 0.90, 0.95, 1.00]\n",
    "}    \n",
    "\n",
    "\n",
    "tuning_params = {     \n",
    "    'n_iter': 100,\n",
    "    'scoring': {'MSE': 'neg_mean_squared_error'},\n",
    "    'return_train_score': True,\n",
    "    'refit': 'MSE',\n",
    "    'random_state': 12345,\n",
    "    'n_jobs': 32,\n",
    "    'verbose': 0\n",
    "}    \n",
    "\n",
    "random_search = True\n",
    "print_status = False"
   ]
  },
  {
   "cell_type": "code",
   "execution_count": null,
   "id": "c381d48c-ccee-44df-9335-7595ae2c48f8",
   "metadata": {},
   "outputs": [],
   "source": [
    "# For each look-ahead tau=0,...,4\n",
    "for tau in taus:\n",
    "    \n",
    "    # Status\n",
    "    print('Look-ahead tau='+str(tau)+'...')\n",
    "    start_time = dt.datetime.now().replace(microsecond=0)\n",
    "    \n",
    "    # Initialize\n",
    "    cv_results = {}\n",
    "    \n",
    "    # For each product (SKU) k=1,...,M\n",
    "    for SKU in SKUs:\n",
    "\n",
    "        # Initialize preprocessing module\n",
    "        pp = PreProcessing()\n",
    "\n",
    "        # Select and reshape training and test data\n",
    "        args = {'train': (ID_Data.SKU == SKU) & (ID_Data.sale_yearweek < test_start), \n",
    "                'timePeriods': ID_Data.loc[(ID_Data.SKU == SKU) & (ID_Data.sale_yearweek < test_start)].sale_yearweek, \n",
    "                'maxTimePeriod': test_start-1, 'tau': tau}\n",
    "\n",
    "        id_train = pp.train_test_split(ID_Data, **args)\n",
    "        X_train = pp.train_test_split(X_Data, **args, to_array=True)\n",
    "        y_train = pp.train_test_split(Y_Data, **args, rolling_horizon=[l for l in range(0,tau+1)], to_array=True)\n",
    "\n",
    "        # Initialize\n",
    "        weightsmodel = RandomForestWeightsModel(model_params)\n",
    "\n",
    "        # CV search\n",
    "        cv_folds = pp.split_timeseries_cv(n_splits=3, timePeriods=id_train.sale_yearweek)\n",
    "        cv_results[SKU] = weightsmodel.tune(X_train, y_train, cv_folds, hyper_params_grid, \n",
    "                                            tuning_params, random_search, print_status)\n",
    "        \n",
    "        # Status\n",
    "        print('SKU '+str(SKU)+' of '+str(len(SKUs))+' in', dt.datetime.now().replace(microsecond=0) - start_time, end='\\r', flush=True)\n",
    "\n",
    "    # Save\n",
    "    _ = joblib.dump(cv_results, PATH_WEIGHTSMODEL+'/'+weightsmodel_cv_name+'_tau'+str(tau)+'.joblib')\n",
    "    print('')"
   ]
  },
  {
   "cell_type": "code",
   "execution_count": null,
   "id": "e3c9d14f-f766-4546-8fe1-9d270a8f1851",
   "metadata": {},
   "outputs": [],
   "source": []
  },
  {
   "cell_type": "code",
   "execution_count": null,
   "id": "df9175e7-f225-4ca3-abd1-657d8f9c6100",
   "metadata": {},
   "outputs": [],
   "source": []
  },
  {
   "cell_type": "code",
   "execution_count": null,
   "id": "63f9835a-6e85-4318-8a36-8d474eb20a0a",
   "metadata": {},
   "outputs": [],
   "source": []
  },
  {
   "cell_type": "markdown",
   "id": "a74f1c7a-4494-4191-858a-231dc1ba9fd0",
   "metadata": {},
   "source": [
    "### Fit weights model and generate weights\n",
    "\n",
    "We now fit a local random forest weights model (i.e., the weight functions) for each $\\tau=0,...,4$, period $t=1,...,T$, and product (SKU) $k=1,...,M$ separately (local training). Then, for each $\\tau=0,...,4$, period $t=1,...,T$, and product (SKU) $k=1,...,M$ separately, we generate the weights given the test feature $x_{k,t}$. This is done *separately* for each product (SKU) $k=1,...,M$."
   ]
  },
  {
   "cell_type": "code",
   "execution_count": 9,
   "id": "0410060e-ec5e-4f5d-8da2-7a81da076ad1",
   "metadata": {},
   "outputs": [],
   "source": [
    "# Set parameters\n",
    "model_params = {\n",
    "    'n_jobs': 32,\n",
    "    'verbose': 0\n",
    "}\n",
    "\n",
    "print_status = True"
   ]
  },
  {
   "cell_type": "code",
   "execution_count": 10,
   "id": "f806721b-465b-4edf-b312-a88245d9b425",
   "metadata": {},
   "outputs": [
    {
     "name": "stdout",
     "output_type": "stream",
     "text": [
      "Look-ahead tau=0...\n",
      "SKU 460 of 460 in 0:43:49\n",
      "Look-ahead tau=1...\n",
      "SKU 460 of 460 in 0:45:11\n",
      "Look-ahead tau=2...\n",
      "SKU 460 of 460 in 0:42:45\n",
      "Look-ahead tau=3...\n",
      "SKU 460 of 460 in 0:39:13\n",
      "Look-ahead tau=4...\n",
      "SKU 460 of 460 in 0:42:28\n"
     ]
    }
   ],
   "source": [
    "# For each look-ahead tau=0,...,4\n",
    "for tau in taus:\n",
    "    \n",
    "    # Status\n",
    "    print('Look-ahead tau='+str(tau)+'...')\n",
    "    start_time = dt.datetime.now().replace(microsecond=0)\n",
    "    \n",
    "    # Initialize\n",
    "    samples, weightfunctions, weightfunctions_times, weights, weights_times = {}, {}, {}, {}, {}\n",
    "    \n",
    "    # For each product (SKU) k=1,...,M\n",
    "    for SKU in SKUs:\n",
    "        \n",
    "        # Initialize\n",
    "        samples[SKU], weightfunctions[SKU], weightfunctions_times[SKU], weights[SKU], weights_times[SKU] = {}, {}, {}, {}, {}\n",
    "        \n",
    "        # For each period t=1,...,T\n",
    "        for t in ts:\n",
    "        \n",
    "            # Adjust look-ahead tau to account for end of horizon\n",
    "            tau_ = min(tau,T-t)\n",
    "\n",
    "            # Generate samples, fit weight functions, and generate weights (based on tuned weights model)\n",
    "            weightsmodel = RandomForestWeightsModel()\n",
    "            weightsmodel.load_cv_result(path=PATH_WEIGHTSMODEL+'/'+weightsmodel_cv_name+'_tau'+str(tau_)+'.joblib', SKU=SKU)\n",
    "            res = weightsmodel.training_and_sampling(ID_Data.loc[ID_Data.SKU==SKU], X_Data.loc[ID_Data.SKU==SKU], Y_Data.loc[ID_Data.SKU==SKU], \n",
    "                                                     tau=tau_, timePeriods=ID_Data.loc[ID_Data.SKU==SKU].sale_yearweek, \n",
    "                                                     timePeriodsTestStart=test_start+t-1, model_params=model_params)\n",
    "            samples[SKU][t], weightfunctions[SKU][t], weightfunctions_times[SKU][t], weights[SKU][t], weights_times[SKU][t] = res\n",
    "\n",
    "        # Status\n",
    "        print('SKU '+str(SKU)+' of '+str(len(SKUs))+' in', dt.datetime.now().replace(microsecond=0) - start_time, end='\\r', flush=True)\n",
    "        \n",
    "    # Save\n",
    "    _ = joblib.dump(samples, PATH_WEIGHTSMODEL+'/'+weightsmodel_name+'_samples_tau'+str(tau)+'.joblib')  \n",
    "    _ = joblib.dump(weightfunctions, PATH_WEIGHTSMODEL+'/'+weightsmodel_name+'_weightfunctions_tau'+str(tau)+'.joblib')    \n",
    "    _ = joblib.dump(weightfunctions_times, PATH_WEIGHTSMODEL+'/'+weightsmodel_name+'_weightfunctions_times_tau'+str(tau)+'.joblib')    \n",
    "    _ = joblib.dump(weights, PATH_WEIGHTSMODEL+'/'+weightsmodel_name+'_weights_tau'+str(tau)+'.joblib')    \n",
    "    _ = joblib.dump(weights_times, PATH_WEIGHTSMODEL+'/'+weightsmodel_name+'_weights_times_tau'+str(tau)+'.joblib')\n",
    "    print('')"
   ]
  },
  {
   "cell_type": "code",
   "execution_count": null,
   "id": "c5b01089-6eb4-4f3b-ba47-6033359ebd0e",
   "metadata": {},
   "outputs": [],
   "source": []
  },
  {
   "cell_type": "code",
   "execution_count": null,
   "id": "a728f6aa-920c-43af-aef0-d752f81ab0c4",
   "metadata": {},
   "outputs": [],
   "source": []
  },
  {
   "cell_type": "code",
   "execution_count": null,
   "id": "db6b8616-e29f-44f4-9197-de0967bd29a8",
   "metadata": {},
   "outputs": [],
   "source": []
  },
  {
   "cell_type": "code",
   "execution_count": null,
   "id": "2b63be97-ab9b-46e8-91ea-e6b3b095c5e4",
   "metadata": {},
   "outputs": [],
   "source": []
  },
  {
   "cell_type": "code",
   "execution_count": null,
   "id": "dcb185b9-4f7b-4389-a46c-d43ae45113d3",
   "metadata": {},
   "outputs": [],
   "source": []
  },
  {
   "cell_type": "code",
   "execution_count": null,
   "id": "6443f285-ba55-4476-91f5-3c28ccd8c8af",
   "metadata": {},
   "outputs": [],
   "source": []
  },
  {
   "cell_type": "code",
   "execution_count": null,
   "id": "17e2cc73-8c42-484b-9191-6f15fc6a38e8",
   "metadata": {},
   "outputs": [],
   "source": []
  },
  {
   "cell_type": "code",
   "execution_count": null,
   "id": "05082cfc-8c77-47d8-85d9-eeb7fd8cf063",
   "metadata": {},
   "outputs": [],
   "source": []
  },
  {
   "cell_type": "markdown",
   "id": "177c4b64-a7ff-4b64-8e95-ddcd851acca5",
   "metadata": {},
   "source": [
    "### Rolling Horizon Local Weighted SAA (wSAA)\n",
    "\n",
    "The code below runs an experiment for all given products (SKUs) $k=1,...,M$ over a test planning horizon $t=1,...,T$ with $T=13$ for three different cost parameter settings $\\{K, u, h, b\\}$ that vary the critical ratio ($CR=\\frac{b}{b+h}$) of holding and backlogging yielding\n",
    "- $CR=0.50$: $\\{K=100, u=0.5, h=1, b=1\\}$\n",
    "- $CR=0.75$: $\\{K=100, u=0.5, h=1, b=3\\}$\n",
    "- $CR=0.90$: $\\{K=100, u=0.5, h=1, b=9\\}$"
   ]
  },
  {
   "cell_type": "code",
   "execution_count": null,
   "id": "c86228ea-cc1f-447a-a3f1-ff95887b38ee",
   "metadata": {},
   "outputs": [],
   "source": [
    "# Define experiment paramaters\n",
    "experiment_params = {\n",
    "            \n",
    "    # Cost param settings\n",
    "    'cost_params': [\n",
    "\n",
    "        {'CR': 0.50, 'K': 100, 'u': 0.5, 'h': 1, 'b': 1},\n",
    "        {'CR': 0.75, 'K': 100, 'u': 0.5, 'h': 1, 'b': 3},\n",
    "        {'CR': 0.90, 'K': 100, 'u': 0.5, 'h': 1, 'b': 9}\n",
    "\n",
    "    ],\n",
    "\n",
    "    # Gurobi meta params\n",
    "    'LogToConsole': 0, \n",
    "    'Threads': 1, \n",
    "    'NonConvex': 2, \n",
    "    'PSDTol': 1e-3, # 0.1%\n",
    "    'MIPGap': 1e-3, # 0.1%\n",
    "    'NumericFocus': 0, \n",
    "    'obj_improvement': 1e-3, # 0.1%\n",
    "    'obj_timeout_sec': 3*60, # 3 min\n",
    "    'obj_timeout_max_sec': 10*60, # 10 min\n",
    "\n",
    "    # Program meta params\n",
    "    'path_to_save': PATH_RESULTS+'/wSAA_NEW',\n",
    "    'name_to_save': 'wSAA_NEW',\n",
    "    'print_progress': False,\n",
    "    'return_results': False\n",
    "\n",
    "}"
   ]
  },
  {
   "cell_type": "code",
   "execution_count": null,
   "id": "34e54514-7c62-4791-a34a-5f404b7dc986",
   "metadata": {},
   "outputs": [],
   "source": [
    "# Set path\n",
    "if not os.path.exists(experiment_params['path_to_save']): os.mkdir(experiment_params['path_to_save'])\n",
    "\n",
    "# For each look-ahead tau=0,...,4\n",
    "for tau in taus:\n",
    "    \n",
    "    # Prepare data\n",
    "    samples = joblib.load(PATH_WEIGHTSMODEL+'/'+weightsmodel_name+'_samples_tau'+str(tau)+'.joblib')\n",
    "    weights = joblib.load(PATH_WEIGHTSMODEL+'/'+weightsmodel_name+'_weights_tau'+str(tau)+'.joblib')\n",
    "\n",
    "    samples, weights, actuals = prep_local_samples_and_weights(samples, weights, SKUs=SKUs, ts=ts)\n",
    "    \n",
    "    # For each product (SKU) k=1,...,M\n",
    "    with tqdm_joblib(tqdm(desc='Progress', total=len(SKUs))) as progress_bar:\n",
    "        resultslog = Parallel(n_jobs=32)(delayed(run_experiment)(tau=tau, SKU=SKU, wsaamodel=WeightedSAA(), \n",
    "                                                                 samples=samples[SKU], weights=weights[SKU], actuals=actuals[SKU], \n",
    "                                                                 **experiment_params) for SKU in SKUs)"
   ]
  },
  {
   "cell_type": "code",
   "execution_count": 16,
   "id": "e24d2e6d-cbc8-4156-9f6d-8db11f19889a",
   "metadata": {},
   "outputs": [],
   "source": []
  },
  {
   "cell_type": "code",
   "execution_count": 17,
   "id": "5e5c5f05-9d61-483d-bc49-97f116d4c67a",
   "metadata": {},
   "outputs": [],
   "source": [
    "tau=3\n",
    "# Prepare data\n",
    "samples = joblib.load(PATH_WEIGHTSMODEL+'/'+weightsmodel_name+'_samples_tau'+str(tau)+'.joblib')\n",
    "weights = joblib.load(PATH_WEIGHTSMODEL+'/'+weightsmodel_name+'_weights_tau'+str(tau)+'.joblib')\n",
    "\n",
    "samples, weights, actuals = prep_local_samples_and_weights(samples, weights, SKUs=SKUs, ts=ts)"
   ]
  },
  {
   "cell_type": "markdown",
   "id": "d6a3ff83-6de0-4fad-8b99-a50eb9f3dd11",
   "metadata": {},
   "source": [
    "### Rolling Horizon Local Robust Weighted SAA (wSAA-R)\n",
    "\n",
    "Description ..."
   ]
  },
  {
   "cell_type": "markdown",
   "id": "650cf8f6-4fd6-4258-9498-759b49e4cbc0",
   "metadata": {
    "jp-MarkdownHeadingCollapsed": true,
    "tags": []
   },
   "source": [
    "# Baseline model: Rolling Horizon Local Weighted SAA (SAA)\n",
    "\n",
    "Description ..."
   ]
  },
  {
   "cell_type": "markdown",
   "id": "64b4a736-d792-468a-86a1-8c95976293ed",
   "metadata": {},
   "source": [
    "# Ex-post optimal model\n",
    "\n",
    "Description ..."
   ]
  },
  {
   "cell_type": "code",
   "execution_count": null,
   "id": "ac601b03-e908-4458-aa86-1a5564c1f7cf",
   "metadata": {},
   "outputs": [],
   "source": []
  },
  {
   "cell_type": "code",
   "execution_count": null,
   "id": "56e4d87f-b912-48bc-b7be-ef142b8c0478",
   "metadata": {},
   "outputs": [],
   "source": []
  },
  {
   "cell_type": "code",
   "execution_count": null,
   "id": "ed895ad6-cff6-4997-a860-04e657a4db83",
   "metadata": {},
   "outputs": [],
   "source": []
  },
  {
   "cell_type": "code",
   "execution_count": null,
   "id": "b7ad67c5-7e13-42b0-a384-f5c6bbd29ae7",
   "metadata": {},
   "outputs": [],
   "source": []
  },
  {
   "cell_type": "code",
   "execution_count": null,
   "id": "ac60cfa5-05ac-4ec6-9892-95ad722b9adc",
   "metadata": {},
   "outputs": [],
   "source": []
  },
  {
   "cell_type": "code",
   "execution_count": null,
   "id": "98d10eb6-98c8-49b9-8335-eac24a9e37c2",
   "metadata": {},
   "outputs": [],
   "source": []
  },
  {
   "cell_type": "code",
   "execution_count": null,
   "id": "d91ec46e-1bd4-4b0e-8a18-0c0caf340dd6",
   "metadata": {},
   "outputs": [],
   "source": []
  },
  {
   "cell_type": "code",
   "execution_count": null,
   "id": "6e49b4a4-51a2-4f0f-93ce-9c0e10d84277",
   "metadata": {},
   "outputs": [],
   "source": []
  },
  {
   "cell_type": "code",
   "execution_count": null,
   "id": "3d08ce33-6328-49c9-a5ec-0a00cf7c0ef5",
   "metadata": {},
   "outputs": [],
   "source": []
  },
  {
   "cell_type": "markdown",
   "id": "e7b49f5c-5c40-4d02-8cc5-c68995eed6f6",
   "metadata": {},
   "source": [
    "# ARCHIVE >>>"
   ]
  },
  {
   "cell_type": "code",
   "execution_count": null,
   "id": "17a847e9-c739-49b3-9db4-73395c5e5eb9",
   "metadata": {},
   "outputs": [],
   "source": []
  },
  {
   "cell_type": "markdown",
   "id": "dca49fba-6106-4448-a755-b7c22849d0a4",
   "metadata": {
    "tags": []
   },
   "source": [
    "# Functions"
   ]
  },
  {
   "cell_type": "markdown",
   "id": "d580d78a-d684-45ab-9ae3-f8125f284206",
   "metadata": {},
   "source": [
    "## Data preparation\n",
    "\n",
    "We first define a function that prepares the data needed for an experiment (depending on the model/approach). \n",
    "\n",
    "If no sampling strategy is provided via the optional argument 'sampling', no weights are retrieved, else 'global' or 'local' weights are retrieved and historical demands are prepared for 'global' or 'local' sampling, respectively. \n",
    "    \n",
    "If the optional argument 'e' is provided, the function additionally outputs 'epsilon' which is the uncertainty set threshold for robust optimization."
   ]
  },
  {
   "cell_type": "code",
   "execution_count": null,
   "id": "43c77ade-d552-4ebd-94d8-2ffcd075dddc",
   "metadata": {},
   "outputs": [],
   "source": [
    "## Prepare the data to a run an experiment over the full planning horizon\n",
    "def prep_data(SKU, tau, T, sale_yearweek, path_data, path_samples, **kwargs):\n",
    "\n",
    "    \"\"\"\n",
    "\n",
    "    This function prepares the data needed for (weighted, robust) optimization. If no sampling strategy is\n",
    "    provided via the optional argument 'sampling', no weights are retrieved, else 'global' or 'local' weights\n",
    "    are retrieved and historical demands are prepared for 'global' or 'local' sampling, respectively. If the\n",
    "    optional argument 'e' is provided, the function additionally outputs 'epsilon' which is the uncertainty\n",
    "    set threshold for robust optimization.\n",
    "\n",
    "    Arguments:\n",
    "\n",
    "        SKU: product (SKU) identifier\n",
    "        tau: length of rolling look-ahead horizon\n",
    "        T: Length T of the test horizon\n",
    "        sale_yearweek: Last sale_yearweek of training data\n",
    "        path_data: path of data\n",
    "        path_samples: path of samples\n",
    "\n",
    "    Optional arguments: \n",
    "\n",
    "        sampling: Sampling strategy (either 'global', 'local'), with\n",
    "            - 'global': uses weights generated with global training\n",
    "            - 'local': uses weights generated with local training\n",
    "        e: Robust uncertainty set threshold multiplier, with\n",
    "            - int: uses e as multiplier for product's in sample standard deviation as the uncertainty set threshold \n",
    "\n",
    "    Output:\n",
    "\n",
    "        y: demand data - np.array of shape (n_samples, n_periods)\n",
    "        ids_train: list of selector series (True/False of length n_samples) - list with lengths of the test horizon\n",
    "        ids_test: list of selector series (True/False of length n_samples) - list with lengths of the test horizon\n",
    "\n",
    "        weights (optional): list of weights (flat np.array of length ids_train of t'th test period) - list \n",
    "        with length of test horizon\n",
    "        epsilons (optional): list of epsilons - list with length of the test horizon\n",
    "\n",
    "    \"\"\"\n",
    "\n",
    "    # Demand samples\n",
    "    robj = pyreadr.read_r(path_data+'/Y_Data_mv_NEW.RData')\n",
    "    y_samples = np.array(robj['Y_Data_mv'])\n",
    "\n",
    "    # IDs of local demand samples\n",
    "    robj = pyreadr.read_r(path_data+'/ID_Data_NEW.RData')\n",
    "    ID_samples = robj['ID_Data']\n",
    "\n",
    "    # IDs of local demand samples\n",
    "    robj = pyreadr.read_r(path_samples+'/SKU'+str(SKU)+'/Static/TmpFiles'+\n",
    "                          str(tau)+'/ID_samples_k.RDS')\n",
    "    ID_samples_SKU = robj[None]\n",
    "\n",
    "    # If sampling strategy is provided\n",
    "    if 'sampling' in kwargs:\n",
    "\n",
    "        # Weights\n",
    "        with open(path_samples+'/SKU'+str(SKU)+'/Static/Weights'+\n",
    "                  str(tau)+'/weights_'+kwargs['sampling']+'_ij.p', 'rb') as f:\n",
    "            weighty_ij = pickle.load(f)\n",
    "        del f\n",
    "\n",
    "        # Demand samples for global sampling\n",
    "        if kwargs['sampling'] == 'global':\n",
    "            y = y_samples\n",
    "\n",
    "        # Demand samples for local sampling\n",
    "        if kwargs['sampling'] == 'local':\n",
    "            y = y_samples[ID_samples.SKU_API == ID_samples_SKU.SKU_API[0]]\n",
    "\n",
    "    # Default: local demand samples\n",
    "    else:\n",
    "        y = y_samples[ID_samples.SKU_API == ID_samples_SKU.SKU_API[0]]\n",
    "\n",
    "\n",
    "    # Reshape data for each t=1...T (i.e., each period of the test horizon)\n",
    "    ids_train = []\n",
    "    ids_test = []\n",
    "\n",
    "    weights = [] if 'sampling' in kwargs else None\n",
    "    epsilons = [] if 'e' in kwargs else None\n",
    "\n",
    "    # Iterate over t\n",
    "    for t in range(T):\n",
    "\n",
    "        # If sampling strategy is provided\n",
    "        if 'sampling' in kwargs:\n",
    "\n",
    "            # IDs of demand samples for global sampling\n",
    "            if kwargs['sampling'] == 'global':\n",
    "                ids_train = ids_train + [ID_samples.sale_yearweek < sale_yearweek+t]\n",
    "\n",
    "            # IDs of demand samples for local sampling\n",
    "            if kwargs['sampling'] == 'local':\n",
    "                ids_train = ids_train + [(ID_samples.SKU_API == ID_samples_SKU.SKU_API[0]) &\n",
    "                                         (ID_samples.sale_yearweek < sale_yearweek+t)]                   \n",
    "\n",
    "            # Weights for global/local\n",
    "            weights = weights + [weighty_ij[t+1]]\n",
    "\n",
    "        # Default: IDs of demand samples for local sampling\n",
    "        else:\n",
    "            ids_train = ids_train + [(ID_samples.SKU_API == ID_samples_SKU.SKU_API[0]) &\n",
    "                                         (ID_samples.sale_yearweek < sale_yearweek+t)]\n",
    "\n",
    "\n",
    "\n",
    "        # IDs of demand samples for testing \n",
    "        ids_test = ids_test + [(ID_samples.SKU_API == ID_samples_SKU.SKU_API[0]) &\n",
    "                                         (ID_samples.sale_yearweek == sale_yearweek+t)]\n",
    "\n",
    "\n",
    "        # If e is provided, calculate robust optimization parameter epsilon\n",
    "        if 'e' in kwargs:\n",
    "            epsilons = epsilons + [kwargs['e']*np.std(y_samples[(ID_samples.SKU_API == ID_samples_SKU.SKU_API[0]) &\n",
    "                                                                (ID_samples.sale_yearweek < sale_yearweek+t),0])]\n",
    "\n",
    "\n",
    "    # Return\n",
    "    return y, ids_train, ids_test, weights, epsilons"
   ]
  },
  {
   "cell_type": "markdown",
   "id": "5b3eae89-6882-4d16-a921-5da051806bf7",
   "metadata": {},
   "source": [
    "## Experiment wrapper\n",
    "\n",
    "We now define a 'wrapper' function that iterates the experiment for a given SKU over differen cost parameter settins and lengths of the rolling look-ahead horizon tau.\n",
    "\n",
    "If the parameter sampling is provided (either 'global' or 'local), the function uses the specified sampling strategy. Else, SAA is performed. If the multiplier 'e' for the uncertainty set threshold epsilon is provided, the function performs the robust extension.\n",
    " \n",
    "Where: epsilon[t] = e *  in-sample standard deviation of the current product (SKU).\n",
    "\n",
    "The function prepares and calls the experiment over t=1...T for each cost paramater setting and look-ahead horizon tau and then summarises the results including performance and performance meta inormation. It also saves the results in CSV format to the specified path and the function can also be used in parallel processing environments."
   ]
  },
  {
   "cell_type": "code",
   "execution_count": null,
   "id": "1f255241-2ab8-4370-90e6-a2a2a48dc2f5",
   "metadata": {},
   "outputs": [],
   "source": [
    "def run_experiments(SKU, **kwargs):\n",
    "    \n",
    "    \"\"\"\n",
    "    \n",
    "    Description ...\n",
    "    \n",
    "    \n",
    "    Arguments:\n",
    "    \n",
    "        SKU: product (SKU) identifier\n",
    "        sale_yearweek: Last sale_yearweek of training data\n",
    "        T: Length T of the test horizon\n",
    "        tau: List of lengths of rolling look-ahead horizons\n",
    "        cost_params: dictionary/dictionary of dictionaries of cost parameters {'CR', 'K', 'u', 'h', 'b'}\n",
    "        gurobi_params: dictionary of gurobi meta params {'LogToConsole', 'Threads', 'NonConvex' \n",
    "                                                         'PSDTol', 'MIPGap', 'NumericFocus',\n",
    "                                                         'obj_improvement', obj_timeout_sec'}\n",
    "        path: directory where results should be saved\n",
    "        model_name: model name for the file to save results\n",
    "        \n",
    "    Optional arguments:\n",
    "    \n",
    "        sampling: sampling strategy (either 'global' or 'local'); performs SAA if not provided\n",
    "        e: robust uncertainty set threshold multiplier; performs no robust extension if not provided\n",
    "    \n",
    "\n",
    "    \"\"\"\n",
    "  \n",
    "    st_exec = time.time()\n",
    "    st_cpu = time.process_time()\n",
    "    \n",
    "    # Print progress\n",
    "    if kwargs['print_progress']: \n",
    "        print('SKU:', SKU)\n",
    "    \n",
    "    # Initialize\n",
    "    rhopt = RollingHorizonOptimization()\n",
    "    results = pd.DataFrame()\n",
    "   \n",
    "    # For each cost param setting\n",
    "    for cost_params in kwargs['cost_params'].values():\n",
    "        \n",
    "        # Print progress\n",
    "        if kwargs['print_progress']: \n",
    "            print('... cost param setting:', cost_params)\n",
    "    \n",
    "        # For each rolling look-ahead horizon\n",
    "        for tau in kwargs['tau']:\n",
    "            \n",
    "            # Print progress\n",
    "            if kwargs['print_progress']: \n",
    "                print('...... look-ahead horizon:', tau)\n",
    "    \n",
    "            ## Weighted (Robust) SAA\n",
    "            if 'sampling' in kwargs:\n",
    "    \n",
    "                ## Weighted Robust SAA  \n",
    "                if 'e' in kwargs:\n",
    "\n",
    "                    # Prepare data\n",
    "                    data = prep_data(SKU, tau, kwargs['T'], kwargs['sale_yearweek'], PATH_DATA, PATH_SAMPLES, sampling=kwargs['sampling'], e=kwargs['e'])\n",
    "                    y, ids_train, ids_test, weights, epsilons = data\n",
    "                    \n",
    "                    # Create empty model\n",
    "                    wsaamodel = RobustWeightedSAA(**kwargs['gurobi_params'])\n",
    "\n",
    "                    # Run rolling horizon model over t=1...T\n",
    "                    result = rhopt.run(y, ids_train, ids_test, tau, wsaamodel, weights=weights, epsilons=epsilons, **cost_params)\n",
    "\n",
    "                ## Weighted SAA\n",
    "                else: \n",
    "                    \n",
    "                    # Prepare data\n",
    "                    data = prep_data(SKU, tau, kwargs['T'], kwargs['sale_yearweek'], PATH_DATA, PATH_SAMPLES, sampling=kwargs['sampling'])\n",
    "                    y, ids_train, ids_test, weights, _ = data\n",
    "                    \n",
    "                    # Create empty model\n",
    "                    wsaamodel = WeightedSAA(**kwargs['gurobi_params'])\n",
    "\n",
    "                    # Run rolling horizon model over t=1...T\n",
    "                    result = rhopt.run(y, ids_train, ids_test, tau, wsaamodel, weights=weights, **cost_params)\n",
    "\n",
    "\n",
    "            ## SAA\n",
    "            else:\n",
    "                \n",
    "                # Prepare data\n",
    "                data = prep_data(SKU, tau, kwargs['T'], kwargs['sale_yearweek'], PATH_DATA, PATH_SAMPLES)\n",
    "                y, ids_train, ids_test, _, _ = data\n",
    "\n",
    "                # Create empty model\n",
    "                wsaamodel = WeightedSAA(**kwargs['gurobi_params'])\n",
    "\n",
    "                # Run rolling horizon model over t=1...T\n",
    "                result = rhopt.run(y, ids_train, ids_test, tau, wsaamodel, **cost_params)\n",
    "\n",
    "            \n",
    "            ## ToDo: ExPost\n",
    "            \n",
    "            # Store result\n",
    "            meta = pd.DataFrame({\n",
    "\n",
    "                'SKU': np.repeat(SKU,kwargs['T']),\n",
    "                'n_periods': np.repeat(kwargs['T'],kwargs['T']),\n",
    "                'tau': np.repeat(tau,kwargs['T']),\n",
    "                'CR': np.repeat(cost_params['CR'],kwargs['T']),\n",
    "                'LogToConsole': np.repeat(kwargs['gurobi_params']['LogToConsole'],kwargs['T']),\n",
    "                'Threads': np.repeat(kwargs['gurobi_params']['Threads'],kwargs['T']),\n",
    "                'NonConvex': np.repeat(kwargs['gurobi_params']['NonConvex'],kwargs['T']),\n",
    "                'PSDTol': np.repeat(kwargs['gurobi_params']['PSDTol'],kwargs['T']),\n",
    "                'MIPGap': np.repeat(kwargs['gurobi_params']['MIPGap'],kwargs['T']),\n",
    "                'NumericFocus': np.repeat(kwargs['gurobi_params']['NumericFocus'],kwargs['T']),\n",
    "                'obj_improvement': np.repeat(kwargs['gurobi_params']['obj_improvement'],kwargs['T']),\n",
    "                'obj_timeout_sec': np.repeat(kwargs['gurobi_params']['obj_timeout_sec'],kwargs['T']),\n",
    "                'e': np.repeat(kwargs['e'],kwargs['T']) if 'e' in kwargs else np.repeat(0,kwargs['T']),\n",
    "                'epsilon': [epsilon for epsilon in epsilons] if 'e' in kwargs else np.repeat(0,kwargs['T'])\n",
    "            })\n",
    "\n",
    "            result = pd.concat([meta, result], axis=1)\n",
    "\n",
    "            # Store\n",
    "            if not results.empty:\n",
    "                results = results.append(result)   \n",
    "            else:\n",
    "                results = pd.DataFrame(result) \n",
    "\n",
    "    # Save result\n",
    "    save_log = results.to_csv(\n",
    "        path_or_buf=kwargs['path']+'/'+kwargs['model_name']+'_SKU'+str(SKU)+(('_e'+str(kwargs['e'])) if 'e' in kwargs else '')+'.csv', \n",
    "        sep=',', index=False\n",
    "    )\n",
    "    \n",
    "    \n",
    "    # Time\n",
    "    exec_time_sec = time.time() - st_exec\n",
    "    cpu_time_sec = time.process_time() - st_cpu\n",
    "    \n",
    "    # Print progress\n",
    "    if kwargs['print_progress']: \n",
    "        print('>>>> Done:',str(np.around(exec_time_sec/60,1)), 'minutes')\n",
    "\n",
    "    \n",
    "    # Returns results \n",
    "    if (kwargs['return_results'] if 'return_results' in kwargs else False):\n",
    "        return results\n",
    "    \n",
    "    # Returns a log\n",
    "    else:\n",
    "        return  {'SKU': SKU, 'exec_time_sec': exec_time_sec, 'cpu_time_sec': cpu_time_sec}"
   ]
  },
  {
   "cell_type": "markdown",
   "id": "2532f938-6661-4734-98cd-5b7aa7d4bf57",
   "metadata": {},
   "source": [
    "**Context Manager**\n",
    "\n",
    "This is a context manager for parellel execution with the purpose of reporting progress. \n",
    "\n",
    "Credits: https://stackoverflow.com/questions/24983493/tracking-progress-of-joblib-parallel-execution"
   ]
  },
  {
   "cell_type": "code",
   "execution_count": null,
   "id": "1bf2fc69-9614-41f2-ad27-0b6078b490c8",
   "metadata": {},
   "outputs": [],
   "source": [
    "@contextlib.contextmanager\n",
    "def tqdm_joblib(tqdm_object):\n",
    "    \"\"\"Context manager to patch joblib to report into tqdm progress bar given as argument\"\"\"\n",
    "    class TqdmBatchCompletionCallback(joblib.parallel.BatchCompletionCallBack):\n",
    "        def __call__(self, *args, **kwargs):\n",
    "            tqdm_object.update(n=self.batch_size)\n",
    "            return super().__call__(*args, **kwargs)\n",
    "\n",
    "    old_batch_callback = joblib.parallel.BatchCompletionCallBack\n",
    "    joblib.parallel.BatchCompletionCallBack = TqdmBatchCompletionCallback\n",
    "    try:\n",
    "        yield tqdm_object\n",
    "    finally:\n",
    "        joblib.parallel.BatchCompletionCallBack = old_batch_callback\n",
    "        tqdm_object.close()"
   ]
  },
  {
   "cell_type": "markdown",
   "id": "98b7e458-5bba-4046-bf24-ffc7549a60a2",
   "metadata": {},
   "source": [
    "# Experiments"
   ]
  },
  {
   "cell_type": "code",
   "execution_count": null,
   "id": "348e1f45-1946-49c5-a349-b2fa61f84038",
   "metadata": {},
   "outputs": [],
   "source": [
    "# Set folder names as global variables\n",
    "os.chdir('/home/fesc/')\n",
    "global PATH_DATA, PATH_PARAMS, PATH_SAMPLES, PATH_RESULTS\n",
    "\n",
    "PATH_DATA = '/home/fesc/MM/Data'\n",
    "PATH_PARAMS  = '/home/fesc/MM/Data/Params'\n",
    "PATH_SAMPLES = '/home/fesc/MM/Data/Samples'\n",
    "PATH_RESULTS = '/home/fesc/MM/Data/Results'"
   ]
  },
  {
   "cell_type": "markdown",
   "id": "071d2716-7e73-44b0-8638-495396631708",
   "metadata": {},
   "source": [
    "For the models specified, the code below runs the experiment for all given products (SKUs) and over parameter settings (e.g., cost parameters, horizon parameters, etc.). In total, we have 460 products (SKUs) with each 3 different cost parameter settings varying the critical ratio (CR) of holding and backlogging cost being {CR=0.50, CR=0.75, CR=0.90) and each 5 different lengths of the rolling look-ahead horizon tau being {1,2,3,4,5}."
   ]
  },
  {
   "cell_type": "code",
   "execution_count": null,
   "id": "b2de95eb-8805-4058-9ade-cf44df063ea8",
   "metadata": {},
   "outputs": [],
   "source": []
  },
  {
   "cell_type": "code",
   "execution_count": null,
   "id": "5bcf16ec-85e8-463c-8412-e799ecc98abc",
   "metadata": {},
   "outputs": [],
   "source": []
  },
  {
   "cell_type": "code",
   "execution_count": null,
   "id": "98bd0fb0-24f8-4d8d-898c-708c78596074",
   "metadata": {},
   "outputs": [],
   "source": []
  },
  {
   "cell_type": "code",
   "execution_count": null,
   "id": "81d24684-ce5c-4aca-994f-7fa83a6e4d93",
   "metadata": {},
   "outputs": [],
   "source": []
  },
  {
   "cell_type": "code",
   "execution_count": null,
   "id": "151f0fa2-8eb3-43b1-b4cb-1d91bc87f4fc",
   "metadata": {},
   "outputs": [],
   "source": []
  },
  {
   "cell_type": "code",
   "execution_count": null,
   "id": "58dfb295-09e1-4ccd-a160-2728f2763b4b",
   "metadata": {},
   "outputs": [],
   "source": []
  },
  {
   "cell_type": "code",
   "execution_count": null,
   "id": "5c98c011-52ad-42d2-9913-85ce0d2c8db5",
   "metadata": {},
   "outputs": [],
   "source": []
  },
  {
   "cell_type": "code",
   "execution_count": null,
   "id": "bf6220d9-9f02-48de-b71f-dfb706c1efc8",
   "metadata": {},
   "outputs": [],
   "source": []
  },
  {
   "cell_type": "code",
   "execution_count": null,
   "id": "b8514c0d-973c-4356-9dd0-1d2beb0f0b13",
   "metadata": {},
   "outputs": [],
   "source": []
  },
  {
   "cell_type": "code",
   "execution_count": null,
   "id": "3fd3f1e4-6fb1-4789-8938-8c460062007d",
   "metadata": {},
   "outputs": [],
   "source": []
  },
  {
   "cell_type": "code",
   "execution_count": null,
   "id": "e511dade-b55b-40ab-b480-632d4a8d3772",
   "metadata": {},
   "outputs": [],
   "source": []
  },
  {
   "cell_type": "code",
   "execution_count": null,
   "id": "6280ad54-a22b-4f76-94d6-3542400ff7f0",
   "metadata": {},
   "outputs": [],
   "source": []
  },
  {
   "cell_type": "markdown",
   "id": "3fb96850-14f2-4cd0-a08c-0d54018b13c6",
   "metadata": {},
   "source": [
    "## (a) Rolling Horizon Global Weighted SAA"
   ]
  },
  {
   "cell_type": "code",
   "execution_count": null,
   "id": "fafc2baf-dc67-4cea-a8bd-3c9c9575c2bb",
   "metadata": {},
   "outputs": [],
   "source": [
    "# Define paramaters\n",
    "params = {\n",
    "            \n",
    "    # Sampling strategy\n",
    "    'sampling': 'global',\n",
    "\n",
    "    # Last sale_yearweek of training data\n",
    "    'sale_yearweek': 114,\n",
    "\n",
    "    # Length T of the test horizon\n",
    "    'T': 13,\n",
    "\n",
    "    # Lengths of rolling look-ahead horizons\n",
    "    'tau': [1,2,3,4,5],\n",
    "\n",
    "    # Cost param settings\n",
    "    'cost_params': {\n",
    "\n",
    "        1: {'CR': 0.50, 'K': 100, 'u': 0.5, 'h': 1, 'b': 1},\n",
    "        2: {'CR': 0.75, 'K': 100, 'u': 0.5, 'h': 1, 'b': 3},\n",
    "        3: {'CR': 0.90, 'K': 100, 'u': 0.5, 'h': 1, 'b': 9}\n",
    "\n",
    "    },\n",
    "\n",
    "    # Gurobi meta params\n",
    "    'gurobi_params': {\n",
    "\n",
    "        'LogToConsole': 1, \n",
    "        'Threads': 1, \n",
    "        'NonConvex': 2, \n",
    "        'PSDTol': 1e-3, # 0.1%\n",
    "        'MIPGap': 1e-3, # 0.1%\n",
    "        'NumericFocus': 0, \n",
    "        'obj_improvement': 1e-3, # 0.1%\n",
    "        'obj_timeout_sec': 3*60, # 3 min\n",
    "        'obj_timeout_max_sec': 10*60, # 10 min\n",
    "\n",
    "    },\n",
    "    \n",
    "    'path': PATH_RESULTS+'/GwSAA',\n",
    "    'model_name': 'GwSAA',\n",
    "    \n",
    "    'print_progress': False,\n",
    "    'return_results': False\n",
    "    \n",
    "}"
   ]
  },
  {
   "cell_type": "code",
   "execution_count": null,
   "id": "0baa9fdc-cdc9-45d9-9ec7-ea46b8c65d60",
   "metadata": {},
   "outputs": [],
   "source": [
    "# Set path\n",
    "#os.mkdir(params['path'])\n",
    "       \n",
    "# Specify number of cores to use for parallel execution\n",
    "n_jobs = 32\n",
    "\n",
    "# Specify range of products (SKUs) to iterate over\n",
    "SKU_range = range(1,460+1)\n",
    "\n",
    "# Run for each product (SKU) in parallel\n",
    "with tqdm_joblib(tqdm(desc='Progress', total=len(SKU_range))) as progress_bar:\n",
    "    resultslog = Parallel(n_jobs=n_jobs)(delayed(run_experiments)(SKU, **params)\n",
    "                                         for SKU in SKU_range)"
   ]
  },
  {
   "cell_type": "markdown",
   "id": "32a9e3ff-505a-4d5c-b8ce-d06c3c434725",
   "metadata": {},
   "source": [
    "## (b) Rolling Horizon Global Robust Weighted SAA"
   ]
  },
  {
   "cell_type": "code",
   "execution_count": null,
   "id": "bb68ab7b-c496-4866-bc95-bf1393796064",
   "metadata": {
    "tags": []
   },
   "outputs": [],
   "source": [
    "# Define paramaters\n",
    "params = {\n",
    "            \n",
    "    # Sampling strategy\n",
    "    'sampling': 'global',\n",
    "\n",
    "    # Robust uncertainty set threshold multiplier\n",
    "    'e': None,\n",
    "\n",
    "    # Last sale_yearweek of training data\n",
    "    'sale_yearweek': 114,\n",
    "\n",
    "    # Length T of the test horizon\n",
    "    'T': 13,\n",
    "\n",
    "    # Lengths of rolling look-ahead horizons\n",
    "    'tau': [1,2,3,4,5],\n",
    "\n",
    "    # Cost param settings\n",
    "    'cost_params': {\n",
    "\n",
    "        1: {'CR': 0.50, 'K': 100, 'u': 0.5, 'h': 1, 'b': 1},\n",
    "        2: {'CR': 0.75, 'K': 100, 'u': 0.5, 'h': 1, 'b': 3},\n",
    "        3: {'CR': 0.90, 'K': 100, 'u': 0.5, 'h': 1, 'b': 9}\n",
    "\n",
    "    },\n",
    "\n",
    "    # Gurobi meta params\n",
    "    'gurobi_params': {\n",
    "\n",
    "        'LogToConsole': 1, \n",
    "        'Threads': 1, \n",
    "        'NonConvex': 2, \n",
    "        'PSDTol': 1e-3, # 0.1%\n",
    "        'MIPGap': 1e-3, # 0.1%\n",
    "        'NumericFocus': 3, \n",
    "        'obj_improvement': 1e-3, # 0.1%\n",
    "        'obj_timeout_sec': 3*60, # 3 min\n",
    "        'obj_timeout_max_sec': 10*60, # 10 min\n",
    "\n",
    "    },\n",
    "    \n",
    "    'path': PATH_RESULTS+'/GwSAAR',\n",
    "    'model_name': 'GwSAAR',\n",
    "    \n",
    "    'print_progress': False,\n",
    "    'return_results': False\n",
    "    \n",
    "}"
   ]
  },
  {
   "cell_type": "code",
   "execution_count": null,
   "id": "ed3174e9-5624-4d33-a3f8-0e8d9b9239bd",
   "metadata": {},
   "outputs": [],
   "source": [
    "# Set path\n",
    "#os.mkdir(params['path'])\n",
    "\n",
    "# Specify number of cores to use for parallel execution\n",
    "n_jobs = 32\n",
    "\n",
    "# Specify range of products (SKUs) to iterate over\n",
    "SKU_range = range(1,460+1)\n",
    "\n",
    "# Uncertainty set\n",
    "params['e'] = 1\n",
    "\n",
    "# Run for each product (SKU) in parallel\n",
    "with tqdm_joblib(tqdm(desc='Progress', total=len(SKU_range))) as progress_bar:\n",
    "    resultslog = Parallel(n_jobs=n_jobs)(delayed(run_experiments)(SKU, **params)\n",
    "                                         for SKU in SKU_range)"
   ]
  },
  {
   "cell_type": "code",
   "execution_count": null,
   "id": "660891c5-6ae7-497f-b8e3-d1c7ca4bf334",
   "metadata": {},
   "outputs": [],
   "source": [
    "# Set path\n",
    "#os.mkdir(params['path'])\n",
    "\n",
    "# Specify number of cores to use for parallel execution\n",
    "n_jobs = 32\n",
    "\n",
    "# Specify range of products (SKUs) to iterate over\n",
    "SKU_range = range(1,460+1)\n",
    "\n",
    "# Uncertainty set\n",
    "params['e'] = 3\n",
    "\n",
    "# Run for each product (SKU) in parallel\n",
    "with tqdm_joblib(tqdm(desc='Progress', total=len(SKU_range))) as progress_bar:\n",
    "    resultslog = Parallel(n_jobs=n_jobs)(delayed(run_experiments)(SKU, **params)\n",
    "                                         for SKU in SKU_range)"
   ]
  },
  {
   "cell_type": "code",
   "execution_count": null,
   "id": "74d9ffa8-b71b-42d0-948f-261c2cf43e8f",
   "metadata": {},
   "outputs": [],
   "source": [
    "# Set path\n",
    "#os.mkdir(params['path'])\n",
    "\n",
    "# Specify number of cores to use for parallel execution\n",
    "n_jobs = 32\n",
    "\n",
    "# Specify range of products (SKUs) to iterate over\n",
    "SKU_range = range(1,460+1)\n",
    "\n",
    "# Uncertainty set\n",
    "params['e'] = 6\n",
    "\n",
    "# Run for each product (SKU) in parallel\n",
    "with tqdm_joblib(tqdm(desc='Progress', total=len(SKU_range))) as progress_bar:\n",
    "    resultslog = Parallel(n_jobs=n_jobs)(delayed(run_experiments)(SKU, **params)\n",
    "                                         for SKU in SKU_range)"
   ]
  },
  {
   "cell_type": "code",
   "execution_count": null,
   "id": "5d333fd7-2205-41f6-ba02-8b9ad3423dba",
   "metadata": {},
   "outputs": [],
   "source": [
    "# Set path\n",
    "#os.mkdir(params['path'])\n",
    "\n",
    "# Specify number of cores to use for parallel execution\n",
    "n_jobs = 32\n",
    "\n",
    "# Specify range of products (SKUs) to iterate over\n",
    "SKU_range = range(1,460+1)\n",
    "\n",
    "# Uncertainty set\n",
    "params['e'] = 12\n",
    "\n",
    "# Run for each product (SKU) in parallel\n",
    "with tqdm_joblib(tqdm(desc='Progress', total=len(SKU_range))) as progress_bar:\n",
    "    resultslog = Parallel(n_jobs=n_jobs)(delayed(run_experiments)(SKU, **params)\n",
    "                                         for SKU in SKU_range)"
   ]
  },
  {
   "cell_type": "markdown",
   "id": "e247fb17-e319-4f22-89d0-d501cf7fd57e",
   "metadata": {},
   "source": [
    "## (c) Rolling Horizon Local Weighted SAA"
   ]
  },
  {
   "cell_type": "code",
   "execution_count": null,
   "id": "ea6cd40e-3f31-4165-8e4d-732d4c80fc5a",
   "metadata": {},
   "outputs": [],
   "source": []
  },
  {
   "cell_type": "code",
   "execution_count": null,
   "id": "de9b2681-9963-42bc-a4ba-ef81a7617a83",
   "metadata": {},
   "outputs": [],
   "source": []
  },
  {
   "cell_type": "code",
   "execution_count": null,
   "id": "a3aadfac-9be4-46fa-ac39-d7600af7efae",
   "metadata": {},
   "outputs": [],
   "source": []
  },
  {
   "cell_type": "code",
   "execution_count": null,
   "id": "d4eefca2-a19e-4ca2-863e-9fb4e78ea492",
   "metadata": {},
   "outputs": [],
   "source": []
  },
  {
   "cell_type": "code",
   "execution_count": null,
   "id": "0ad2dff6-c250-4548-bd73-eb86f1759d26",
   "metadata": {},
   "outputs": [],
   "source": []
  },
  {
   "cell_type": "code",
   "execution_count": null,
   "id": "d18d3c93-2990-4d3c-80a1-bb61b72e675f",
   "metadata": {},
   "outputs": [],
   "source": []
  },
  {
   "cell_type": "code",
   "execution_count": null,
   "id": "ae87da40-1aba-4860-84a1-50bd73e3987e",
   "metadata": {},
   "outputs": [],
   "source": []
  },
  {
   "cell_type": "code",
   "execution_count": null,
   "id": "2e29a301-92f0-4277-a631-04ec06bbf0c2",
   "metadata": {},
   "outputs": [],
   "source": []
  },
  {
   "cell_type": "code",
   "execution_count": null,
   "id": "afcc7ab0-f9d9-4b81-a2d7-84422fa8e921",
   "metadata": {},
   "outputs": [],
   "source": []
  },
  {
   "cell_type": "code",
   "execution_count": null,
   "id": "9d9d3ea2-cc93-43a6-8c89-13e0a6c1ba41",
   "metadata": {},
   "outputs": [],
   "source": []
  },
  {
   "cell_type": "code",
   "execution_count": null,
   "id": "31ea453d-c9c7-4788-8ac5-ac68336a9fb3",
   "metadata": {},
   "outputs": [],
   "source": []
  },
  {
   "cell_type": "code",
   "execution_count": null,
   "id": "9d698200-1983-4b19-91ba-444707927b00",
   "metadata": {},
   "outputs": [],
   "source": []
  },
  {
   "cell_type": "code",
   "execution_count": null,
   "id": "ef8e8d69-7455-4776-8790-20889c536400",
   "metadata": {},
   "outputs": [],
   "source": []
  },
  {
   "cell_type": "code",
   "execution_count": null,
   "id": "dd429843-0d10-47ff-b51d-7a7f589cea63",
   "metadata": {},
   "outputs": [],
   "source": []
  },
  {
   "cell_type": "code",
   "execution_count": null,
   "id": "9242b746-5f4d-4b7a-a742-331aa3ce7fc7",
   "metadata": {},
   "outputs": [],
   "source": []
  },
  {
   "cell_type": "markdown",
   "id": "8e87157c-6ca5-4a32-8167-58ef8157cf63",
   "metadata": {},
   "source": [
    "## (d) Rolling Horizon Local Robust Weighted SAA"
   ]
  },
  {
   "cell_type": "code",
   "execution_count": null,
   "id": "8a285dcf-336f-4e50-895e-b40674d97403",
   "metadata": {},
   "outputs": [],
   "source": []
  },
  {
   "cell_type": "markdown",
   "id": "e1c5c2bc-09ac-45b9-beaf-5cf53add027d",
   "metadata": {},
   "source": [
    "## (e) Rolling Horizon SAA"
   ]
  },
  {
   "cell_type": "code",
   "execution_count": null,
   "id": "24b590a7-b6d4-4ae0-8959-f6ce47c0d719",
   "metadata": {},
   "outputs": [],
   "source": []
  },
  {
   "cell_type": "markdown",
   "id": "19ef9b42-8020-4edc-bd0d-90572f4fd299",
   "metadata": {},
   "source": [
    "## (f) Ex-post optimal, deterministic model"
   ]
  },
  {
   "cell_type": "code",
   "execution_count": null,
   "id": "ffbc32fa-8587-4786-9c27-c03abb1be851",
   "metadata": {},
   "outputs": [],
   "source": []
  },
  {
   "cell_type": "code",
   "execution_count": null,
   "id": "2fd44032-c175-4372-91b1-2af794f7cea1",
   "metadata": {},
   "outputs": [],
   "source": []
  },
  {
   "cell_type": "code",
   "execution_count": null,
   "id": "c5bec223-6f24-4171-8d1b-c404b872182a",
   "metadata": {},
   "outputs": [],
   "source": []
  },
  {
   "cell_type": "code",
   "execution_count": null,
   "id": "17c712f6-467c-4ede-8136-6e8caabac31e",
   "metadata": {},
   "outputs": [],
   "source": []
  },
  {
   "cell_type": "markdown",
   "id": "e4e18e40-563b-47ea-a061-c193cdc124cc",
   "metadata": {},
   "source": [
    "# Aggregate all results"
   ]
  },
  {
   "cell_type": "code",
   "execution_count": null,
   "id": "56455c70-3bf0-418c-be2d-cd054a8173a9",
   "metadata": {},
   "outputs": [],
   "source": []
  },
  {
   "cell_type": "code",
   "execution_count": null,
   "id": "81a70779-bbd4-41fe-805d-20a51e1536d1",
   "metadata": {},
   "outputs": [],
   "source": []
  },
  {
   "cell_type": "code",
   "execution_count": null,
   "id": "00c87923-e2e1-4da5-bf9f-366e20184ad9",
   "metadata": {},
   "outputs": [],
   "source": []
  },
  {
   "cell_type": "code",
   "execution_count": null,
   "id": "135a9898-a7d8-43e2-aded-0a5102f9d40a",
   "metadata": {},
   "outputs": [],
   "source": []
  },
  {
   "cell_type": "code",
   "execution_count": null,
   "id": "c7a48de9-f65f-4db5-950c-0be1ed49d6b7",
   "metadata": {},
   "outputs": [],
   "source": []
  },
  {
   "cell_type": "code",
   "execution_count": null,
   "id": "81a9daf8-66fe-46ff-bbe5-daa14d847001",
   "metadata": {},
   "outputs": [],
   "source": []
  },
  {
   "cell_type": "code",
   "execution_count": null,
   "id": "9e6a8a38-1144-49c5-84e8-e4a11c6bebfb",
   "metadata": {},
   "outputs": [],
   "source": []
  }
 ],
 "metadata": {
  "kernelspec": {
   "display_name": "multiPeriodInv",
   "language": "python",
   "name": "multiperiodinv"
  },
  "language_info": {
   "codemirror_mode": {
    "name": "ipython",
    "version": 3
   },
   "file_extension": ".py",
   "mimetype": "text/x-python",
   "name": "python",
   "nbconvert_exporter": "python",
   "pygments_lexer": "ipython3",
   "version": "3.8.3"
  },
  "toc-autonumbering": false,
  "toc-showcode": false,
  "toc-showmarkdowntxt": false
 },
 "nbformat": 4,
 "nbformat_minor": 5
}
