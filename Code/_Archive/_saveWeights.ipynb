{
 "cells": [
  {
   "cell_type": "code",
   "execution_count": 6,
   "id": "dbe0d8ee-6015-4c4c-9df8-993b4ccbcd8a",
   "metadata": {},
   "outputs": [],
   "source": [
    "# Import utils\n",
    "import numpy as np\n",
    "import pandas as pd\n",
    "import copy\n",
    "import json\n",
    "import pickle\n",
    "from joblib import dump, load, Parallel, delayed\n",
    "import os"
   ]
  },
  {
   "cell_type": "code",
   "execution_count": 17,
   "id": "9f49ca7b-34bd-4b30-bf98-f6cd6f594019",
   "metadata": {},
   "outputs": [],
   "source": [
    "# Set folder names\n",
    "PATH_DATA = '/home/fesc/Data'\n",
    "PATH_PARAMS  = '/home/fesc/Data/Params'\n",
    "PATH_SAMPLES = '/home/fesc/Data/Samples'\n",
    "PATH_RESULTS = '/home/fesc/Data/Results'\n",
    "\n",
    "## Configure\n",
    "model_config = {\n",
    "    \n",
    "    'model_type': 'WeightedSAA', # Use 'SAA' or 'WeightedSAA'\n",
    "    'decision_rules': '', # Use 'LDR' or ''\n",
    "    'scale': True,\n",
    "\n",
    "    'SKU_range': range(1,460+1),\n",
    "    'T_horizon_rolling_range': range(1,5+1),\n",
    "\n",
    "    'PATH_DATA': PATH_DATA,\n",
    "    'PATH_SAMPLES': PATH_SAMPLES,\n",
    "    'PATH_RESULTS': PATH_RESULTS\n",
    "    \n",
    "}"
   ]
  },
  {
   "cell_type": "code",
   "execution_count": 19,
   "id": "f3591edf-19c0-474a-9d6e-699d8faf4eda",
   "metadata": {},
   "outputs": [],
   "source": [
    "weights = {}\n",
    "\n",
    "for SKU in model_config['SKU_range']:\n",
    "    \n",
    "    weights[SKU] = {}\n",
    "    \n",
    "    print('SKU:', SKU)\n",
    "    \n",
    "    for T_horizon_rolling in model_config['T_horizon_rolling_range']:\n",
    "        \n",
    "        weights[SKU]\n",
    "\n",
    "        if model_config['scale']:\n",
    "            z='_z'\n",
    "        else:\n",
    "            z=''\n",
    "\n",
    "        with open(model_config['PATH_SAMPLES']+'/SKU'+str(SKU)+'/Static/Weights'+str(T_horizon_rolling)+'/weights_global'+z+'_ij.p', 'rb') as f:\n",
    "            weights_ij = pickle.load(f)\n",
    "        del f\n",
    "        \n",
    "        weights[SKU][T_horizon_rolling] = weights_ij\n"
   ]
  },
  {
   "cell_type": "code",
   "execution_count": 24,
   "id": "a35bdc5f-8df4-4adc-afd5-73d6f553dc4f",
   "metadata": {},
   "outputs": [],
   "source": [
    "# Save weights\n",
    "with open(PATH_SAMPLES+'/StaticWeightedSAA_global_z_weights.p', 'wb') as fp:\n",
    "    pickle.dump(weights, fp, protocol=pickle.HIGHEST_PROTOCOL)"
   ]
  }
 ],
 "metadata": {
  "kernelspec": {
   "display_name": "DDDInventoryControl",
   "language": "python",
   "name": "dddinventorycontrol"
  },
  "language_info": {
   "codemirror_mode": {
    "name": "ipython",
    "version": 3
   },
   "file_extension": ".py",
   "mimetype": "text/x-python",
   "name": "python",
   "nbconvert_exporter": "python",
   "pygments_lexer": "ipython3",
   "version": "3.8.15"
  }
 },
 "nbformat": 4,
 "nbformat_minor": 5
}
