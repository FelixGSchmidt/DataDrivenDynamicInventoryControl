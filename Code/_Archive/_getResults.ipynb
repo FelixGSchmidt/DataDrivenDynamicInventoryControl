{
 "cells": [
  {
   "cell_type": "code",
   "execution_count": 1,
   "id": "56961873-285d-4405-a578-3be0a3b88897",
   "metadata": {},
   "outputs": [],
   "source": [
    "# Import utils\n",
    "import numpy as np\n",
    "import pandas as pd\n",
    "import seaborn as sns\n",
    "import copy\n",
    "import time\n",
    "import datetime as dt\n",
    "import pickle\n",
    "import pyreadr\n",
    "import json\n",
    "import pickle\n",
    "from joblib import dump, load, Parallel, delayed\n",
    "import os"
   ]
  },
  {
   "cell_type": "markdown",
   "id": "dc248d80-c371-43d5-a9a5-0f4de88541d5",
   "metadata": {},
   "source": [
    "**Aggregate results**"
   ]
  },
  {
   "cell_type": "code",
   "execution_count": 2,
   "id": "c66c1f37-419d-4c2d-93a0-0066ee9ae08a",
   "metadata": {},
   "outputs": [],
   "source": [
    "def aggregateResults(taus, SKUs, path):\n",
    "    \n",
    "    results = pd.DataFrame()\n",
    "    \n",
    "    # For all SKUs\n",
    "    for tau in taus:\n",
    "        for SKU in SKUs:\n",
    "            # Check if results exist   \n",
    "            if os.path.exists(path+'/GwSAA_NEW_SKU'+str(SKU)+'_tau'+str(tau)+'.csv'):\n",
    "                results = pd.concat([results, pd.read_csv(path+'/GwSAA_NEW_SKU'+str(SKU)+'_tau'+str(tau)+'.csv')])\n",
    "\n",
    "    return(results)"
   ]
  },
  {
   "cell_type": "code",
   "execution_count": 3,
   "id": "8eceb64a-e66a-4462-9c23-8f1306ccad52",
   "metadata": {},
   "outputs": [],
   "source": [
    "results_ = aggregateResults(taus=range(0,4+1), SKUs=range(1,460+1), path='/home/fesc/MM/Data/Results/GwSAA_NEW')"
   ]
  },
  {
   "cell_type": "code",
   "execution_count": 4,
   "id": "a093ca66-cb3e-4310-a4cc-dd5744bbbebb",
   "metadata": {},
   "outputs": [
    {
     "data": {
      "text/html": [
       "<div>\n",
       "<style scoped>\n",
       "    .dataframe tbody tr th:only-of-type {\n",
       "        vertical-align: middle;\n",
       "    }\n",
       "\n",
       "    .dataframe tbody tr th {\n",
       "        vertical-align: top;\n",
       "    }\n",
       "\n",
       "    .dataframe thead th {\n",
       "        text-align: right;\n",
       "    }\n",
       "</style>\n",
       "<table border=\"1\" class=\"dataframe\">\n",
       "  <thead>\n",
       "    <tr style=\"text-align: right;\">\n",
       "      <th></th>\n",
       "      <th>tau</th>\n",
       "      <th>cpu_time_sec</th>\n",
       "    </tr>\n",
       "  </thead>\n",
       "  <tbody>\n",
       "    <tr>\n",
       "      <th>0</th>\n",
       "      <td>0</td>\n",
       "      <td>0.448852</td>\n",
       "    </tr>\n",
       "    <tr>\n",
       "      <th>1</th>\n",
       "      <td>1</td>\n",
       "      <td>6.801693</td>\n",
       "    </tr>\n",
       "    <tr>\n",
       "      <th>2</th>\n",
       "      <td>2</td>\n",
       "      <td>14.792114</td>\n",
       "    </tr>\n",
       "    <tr>\n",
       "      <th>3</th>\n",
       "      <td>3</td>\n",
       "      <td>23.583061</td>\n",
       "    </tr>\n",
       "    <tr>\n",
       "      <th>4</th>\n",
       "      <td>4</td>\n",
       "      <td>31.550038</td>\n",
       "    </tr>\n",
       "  </tbody>\n",
       "</table>\n",
       "</div>"
      ],
      "text/plain": [
       "   tau  cpu_time_sec\n",
       "0    0      0.448852\n",
       "1    1      6.801693\n",
       "2    2     14.792114\n",
       "3    3     23.583061\n",
       "4    4     31.550038"
      ]
     },
     "execution_count": 4,
     "metadata": {},
     "output_type": "execute_result"
    }
   ],
   "source": [
    "results_.groupby('tau').agg({'cpu_time_sec': np.mean}).reset_index()"
   ]
  },
  {
   "cell_type": "code",
   "execution_count": 5,
   "id": "7cff06bf-4b2c-4a92-a5c7-64884dd88c91",
   "metadata": {},
   "outputs": [
    {
     "data": {
      "text/html": [
       "<div>\n",
       "<style scoped>\n",
       "    .dataframe tbody tr th:only-of-type {\n",
       "        vertical-align: middle;\n",
       "    }\n",
       "\n",
       "    .dataframe tbody tr th {\n",
       "        vertical-align: top;\n",
       "    }\n",
       "\n",
       "    .dataframe thead th {\n",
       "        text-align: right;\n",
       "    }\n",
       "</style>\n",
       "<table border=\"1\" class=\"dataframe\">\n",
       "  <thead>\n",
       "    <tr style=\"text-align: right;\">\n",
       "      <th></th>\n",
       "      <th>CR</th>\n",
       "      <th>tau</th>\n",
       "      <th>cost</th>\n",
       "    </tr>\n",
       "  </thead>\n",
       "  <tbody>\n",
       "    <tr>\n",
       "      <th>0</th>\n",
       "      <td>0.50</td>\n",
       "      <td>0</td>\n",
       "      <td>7886867.5</td>\n",
       "    </tr>\n",
       "    <tr>\n",
       "      <th>1</th>\n",
       "      <td>0.50</td>\n",
       "      <td>1</td>\n",
       "      <td>8250549.0</td>\n",
       "    </tr>\n",
       "    <tr>\n",
       "      <th>2</th>\n",
       "      <td>0.50</td>\n",
       "      <td>2</td>\n",
       "      <td>8245974.5</td>\n",
       "    </tr>\n",
       "    <tr>\n",
       "      <th>3</th>\n",
       "      <td>0.50</td>\n",
       "      <td>3</td>\n",
       "      <td>8312738.5</td>\n",
       "    </tr>\n",
       "    <tr>\n",
       "      <th>4</th>\n",
       "      <td>0.50</td>\n",
       "      <td>4</td>\n",
       "      <td>8323042.0</td>\n",
       "    </tr>\n",
       "    <tr>\n",
       "      <th>5</th>\n",
       "      <td>0.75</td>\n",
       "      <td>0</td>\n",
       "      <td>9782447.5</td>\n",
       "    </tr>\n",
       "    <tr>\n",
       "      <th>6</th>\n",
       "      <td>0.75</td>\n",
       "      <td>1</td>\n",
       "      <td>11941609.5</td>\n",
       "    </tr>\n",
       "    <tr>\n",
       "      <th>7</th>\n",
       "      <td>0.75</td>\n",
       "      <td>2</td>\n",
       "      <td>12145166.5</td>\n",
       "    </tr>\n",
       "    <tr>\n",
       "      <th>8</th>\n",
       "      <td>0.75</td>\n",
       "      <td>3</td>\n",
       "      <td>12195129.0</td>\n",
       "    </tr>\n",
       "    <tr>\n",
       "      <th>9</th>\n",
       "      <td>0.75</td>\n",
       "      <td>4</td>\n",
       "      <td>12176231.5</td>\n",
       "    </tr>\n",
       "    <tr>\n",
       "      <th>10</th>\n",
       "      <td>0.90</td>\n",
       "      <td>0</td>\n",
       "      <td>13841047.0</td>\n",
       "    </tr>\n",
       "    <tr>\n",
       "      <th>11</th>\n",
       "      <td>0.90</td>\n",
       "      <td>1</td>\n",
       "      <td>17674898.5</td>\n",
       "    </tr>\n",
       "    <tr>\n",
       "      <th>12</th>\n",
       "      <td>0.90</td>\n",
       "      <td>2</td>\n",
       "      <td>18668369.5</td>\n",
       "    </tr>\n",
       "    <tr>\n",
       "      <th>13</th>\n",
       "      <td>0.90</td>\n",
       "      <td>3</td>\n",
       "      <td>18590957.5</td>\n",
       "    </tr>\n",
       "    <tr>\n",
       "      <th>14</th>\n",
       "      <td>0.90</td>\n",
       "      <td>4</td>\n",
       "      <td>18930501.0</td>\n",
       "    </tr>\n",
       "  </tbody>\n",
       "</table>\n",
       "</div>"
      ],
      "text/plain": [
       "      CR  tau        cost\n",
       "0   0.50    0   7886867.5\n",
       "1   0.50    1   8250549.0\n",
       "2   0.50    2   8245974.5\n",
       "3   0.50    3   8312738.5\n",
       "4   0.50    4   8323042.0\n",
       "5   0.75    0   9782447.5\n",
       "6   0.75    1  11941609.5\n",
       "7   0.75    2  12145166.5\n",
       "8   0.75    3  12195129.0\n",
       "9   0.75    4  12176231.5\n",
       "10  0.90    0  13841047.0\n",
       "11  0.90    1  17674898.5\n",
       "12  0.90    2  18668369.5\n",
       "13  0.90    3  18590957.5\n",
       "14  0.90    4  18930501.0"
      ]
     },
     "execution_count": 5,
     "metadata": {},
     "output_type": "execute_result"
    }
   ],
   "source": [
    "results_.groupby(['CR', 'tau']).agg({'cost': sum}).reset_index()"
   ]
  },
  {
   "cell_type": "code",
   "execution_count": 107,
   "id": "9af32dd2-fdd2-4541-88f2-1081aeb35c58",
   "metadata": {},
   "outputs": [],
   "source": [
    "### Function to aggregate all results\n",
    "def aggregateResults(taus, SKUs, path_to_save, name_to_save):\n",
    "    \n",
    "    results = pd.DataFrame()\n",
    "    \n",
    "    # For each look-ahead tau=0,...,4\n",
    "    for tau in taus:\n",
    "        # For each product (SKU) k=1,...,M\n",
    "        for SKU in SKUs:\n",
    "            file_name = path_to_save+'/'+name_to_save+'_SKU'+str(SKU)+'_tau'+str(tau)+'.csv'\n",
    "            # Check if results exist   \n",
    "            if os.path.exists(file_name):\n",
    "                results = pd.concat([results, pd.read_csv(file_name)])\n",
    "\n",
    "    return(results)"
   ]
  },
  {
   "cell_type": "code",
   "execution_count": 108,
   "id": "8008dcba-120c-454e-87bd-f38e6b023964",
   "metadata": {},
   "outputs": [],
   "source": [
    "results = aggregateResults(taus=range(0,4+1), SKUs=range(1,460+1), path_to_save='/home/fesc/MM/Data/Results/GwSAAR_NEW', name_to_save='GwSAAR_NEW_e01')"
   ]
  },
  {
   "cell_type": "code",
   "execution_count": 109,
   "id": "fe78d764-71f9-4607-bca7-97406603b0be",
   "metadata": {},
   "outputs": [
    {
     "data": {
      "text/plain": [
       "0"
      ]
     },
     "execution_count": 109,
     "metadata": {},
     "output_type": "execute_result"
    }
   ],
   "source": [
    "sum(results.defaulted)"
   ]
  },
  {
   "cell_type": "code",
   "execution_count": 110,
   "id": "e62f770e-5d5e-4ae7-a04e-e01249513c96",
   "metadata": {},
   "outputs": [
    {
     "data": {
      "text/html": [
       "<div>\n",
       "<style scoped>\n",
       "    .dataframe tbody tr th:only-of-type {\n",
       "        vertical-align: middle;\n",
       "    }\n",
       "\n",
       "    .dataframe tbody tr th {\n",
       "        vertical-align: top;\n",
       "    }\n",
       "\n",
       "    .dataframe thead th {\n",
       "        text-align: right;\n",
       "    }\n",
       "</style>\n",
       "<table border=\"1\" class=\"dataframe\">\n",
       "  <thead>\n",
       "    <tr style=\"text-align: right;\">\n",
       "      <th></th>\n",
       "      <th>tau</th>\n",
       "      <th>cpu_time_sec</th>\n",
       "    </tr>\n",
       "  </thead>\n",
       "  <tbody>\n",
       "    <tr>\n",
       "      <th>0</th>\n",
       "      <td>0</td>\n",
       "      <td>0.763309</td>\n",
       "    </tr>\n",
       "    <tr>\n",
       "      <th>1</th>\n",
       "      <td>1</td>\n",
       "      <td>10.371175</td>\n",
       "    </tr>\n",
       "    <tr>\n",
       "      <th>2</th>\n",
       "      <td>2</td>\n",
       "      <td>21.432693</td>\n",
       "    </tr>\n",
       "    <tr>\n",
       "      <th>3</th>\n",
       "      <td>3</td>\n",
       "      <td>33.659885</td>\n",
       "    </tr>\n",
       "    <tr>\n",
       "      <th>4</th>\n",
       "      <td>4</td>\n",
       "      <td>44.479428</td>\n",
       "    </tr>\n",
       "  </tbody>\n",
       "</table>\n",
       "</div>"
      ],
      "text/plain": [
       "   tau  cpu_time_sec\n",
       "0    0      0.763309\n",
       "1    1     10.371175\n",
       "2    2     21.432693\n",
       "3    3     33.659885\n",
       "4    4     44.479428"
      ]
     },
     "execution_count": 110,
     "metadata": {},
     "output_type": "execute_result"
    }
   ],
   "source": [
    "results.groupby('tau').agg({'cpu_time_sec': np.mean}).reset_index()"
   ]
  },
  {
   "cell_type": "code",
   "execution_count": 111,
   "id": "827cefb4-fadf-430f-a93c-e97fd50e8072",
   "metadata": {},
   "outputs": [
    {
     "data": {
      "text/html": [
       "<div>\n",
       "<style scoped>\n",
       "    .dataframe tbody tr th:only-of-type {\n",
       "        vertical-align: middle;\n",
       "    }\n",
       "\n",
       "    .dataframe tbody tr th {\n",
       "        vertical-align: top;\n",
       "    }\n",
       "\n",
       "    .dataframe thead th {\n",
       "        text-align: right;\n",
       "    }\n",
       "</style>\n",
       "<table border=\"1\" class=\"dataframe\">\n",
       "  <thead>\n",
       "    <tr style=\"text-align: right;\">\n",
       "      <th></th>\n",
       "      <th>CR</th>\n",
       "      <th>tau</th>\n",
       "      <th>cost</th>\n",
       "    </tr>\n",
       "  </thead>\n",
       "  <tbody>\n",
       "    <tr>\n",
       "      <th>0</th>\n",
       "      <td>0.50</td>\n",
       "      <td>0</td>\n",
       "      <td>11007347.0</td>\n",
       "    </tr>\n",
       "    <tr>\n",
       "      <th>1</th>\n",
       "      <td>0.50</td>\n",
       "      <td>1</td>\n",
       "      <td>10622321.5</td>\n",
       "    </tr>\n",
       "    <tr>\n",
       "      <th>2</th>\n",
       "      <td>0.50</td>\n",
       "      <td>2</td>\n",
       "      <td>10563249.5</td>\n",
       "    </tr>\n",
       "    <tr>\n",
       "      <th>3</th>\n",
       "      <td>0.50</td>\n",
       "      <td>3</td>\n",
       "      <td>10533568.0</td>\n",
       "    </tr>\n",
       "    <tr>\n",
       "      <th>4</th>\n",
       "      <td>0.50</td>\n",
       "      <td>4</td>\n",
       "      <td>10536104.5</td>\n",
       "    </tr>\n",
       "    <tr>\n",
       "      <th>5</th>\n",
       "      <td>0.75</td>\n",
       "      <td>0</td>\n",
       "      <td>13507588.5</td>\n",
       "    </tr>\n",
       "    <tr>\n",
       "      <th>6</th>\n",
       "      <td>0.75</td>\n",
       "      <td>1</td>\n",
       "      <td>13061670.5</td>\n",
       "    </tr>\n",
       "    <tr>\n",
       "      <th>7</th>\n",
       "      <td>0.75</td>\n",
       "      <td>2</td>\n",
       "      <td>13093964.5</td>\n",
       "    </tr>\n",
       "    <tr>\n",
       "      <th>8</th>\n",
       "      <td>0.75</td>\n",
       "      <td>3</td>\n",
       "      <td>13009788.0</td>\n",
       "    </tr>\n",
       "    <tr>\n",
       "      <th>9</th>\n",
       "      <td>0.75</td>\n",
       "      <td>4</td>\n",
       "      <td>12968235.0</td>\n",
       "    </tr>\n",
       "    <tr>\n",
       "      <th>10</th>\n",
       "      <td>0.90</td>\n",
       "      <td>0</td>\n",
       "      <td>14884536.5</td>\n",
       "    </tr>\n",
       "    <tr>\n",
       "      <th>11</th>\n",
       "      <td>0.90</td>\n",
       "      <td>1</td>\n",
       "      <td>17720660.5</td>\n",
       "    </tr>\n",
       "    <tr>\n",
       "      <th>12</th>\n",
       "      <td>0.90</td>\n",
       "      <td>2</td>\n",
       "      <td>18515222.0</td>\n",
       "    </tr>\n",
       "    <tr>\n",
       "      <th>13</th>\n",
       "      <td>0.90</td>\n",
       "      <td>3</td>\n",
       "      <td>18392259.0</td>\n",
       "    </tr>\n",
       "    <tr>\n",
       "      <th>14</th>\n",
       "      <td>0.90</td>\n",
       "      <td>4</td>\n",
       "      <td>18764883.5</td>\n",
       "    </tr>\n",
       "  </tbody>\n",
       "</table>\n",
       "</div>"
      ],
      "text/plain": [
       "      CR  tau        cost\n",
       "0   0.50    0  11007347.0\n",
       "1   0.50    1  10622321.5\n",
       "2   0.50    2  10563249.5\n",
       "3   0.50    3  10533568.0\n",
       "4   0.50    4  10536104.5\n",
       "5   0.75    0  13507588.5\n",
       "6   0.75    1  13061670.5\n",
       "7   0.75    2  13093964.5\n",
       "8   0.75    3  13009788.0\n",
       "9   0.75    4  12968235.0\n",
       "10  0.90    0  14884536.5\n",
       "11  0.90    1  17720660.5\n",
       "12  0.90    2  18515222.0\n",
       "13  0.90    3  18392259.0\n",
       "14  0.90    4  18764883.5"
      ]
     },
     "execution_count": 111,
     "metadata": {},
     "output_type": "execute_result"
    }
   ],
   "source": [
    "results.groupby(['CR', 'tau']).agg({'cost': sum}).reset_index()"
   ]
  },
  {
   "cell_type": "code",
   "execution_count": null,
   "id": "5f8d26f1-af0a-4b12-b3e6-d7f44f61b56f",
   "metadata": {},
   "outputs": [],
   "source": []
  },
  {
   "cell_type": "code",
   "execution_count": 112,
   "id": "63932798-7a97-40d2-bd48-5afafacef8c9",
   "metadata": {},
   "outputs": [],
   "source": [
    "results = pd.DataFrame()\n",
    "\n",
    "for e in [0.1,1,3,6,12]:\n",
    "    result = aggregateResults(taus=range(0,4+1), SKUs=range(1,460+1), path_to_save='/home/fesc/MM/Data/Results/GwSAAR_NEW', name_to_save='GwSAAR_NEW_e'+str(e).replace('.', ''))\n",
    "    results = pd.concat([results, result])"
   ]
  },
  {
   "cell_type": "code",
   "execution_count": 113,
   "id": "08b1cad9-5837-473b-9552-04bb40d5b283",
   "metadata": {},
   "outputs": [
    {
     "data": {
      "text/html": [
       "<div>\n",
       "<style scoped>\n",
       "    .dataframe tbody tr th:only-of-type {\n",
       "        vertical-align: middle;\n",
       "    }\n",
       "\n",
       "    .dataframe tbody tr th {\n",
       "        vertical-align: top;\n",
       "    }\n",
       "\n",
       "    .dataframe thead th {\n",
       "        text-align: right;\n",
       "    }\n",
       "</style>\n",
       "<table border=\"1\" class=\"dataframe\">\n",
       "  <thead>\n",
       "    <tr style=\"text-align: right;\">\n",
       "      <th></th>\n",
       "      <th>CR</th>\n",
       "      <th>tau</th>\n",
       "      <th>SKU</th>\n",
       "      <th>e</th>\n",
       "      <th>LogToConsole</th>\n",
       "      <th>Threads</th>\n",
       "      <th>NonConvex</th>\n",
       "      <th>PSDTol</th>\n",
       "      <th>MIPGap</th>\n",
       "      <th>NumericFocus</th>\n",
       "      <th>...</th>\n",
       "      <th>I_q_y</th>\n",
       "      <th>c_o</th>\n",
       "      <th>c_s</th>\n",
       "      <th>cost</th>\n",
       "      <th>defaulted</th>\n",
       "      <th>status</th>\n",
       "      <th>solutions</th>\n",
       "      <th>gap</th>\n",
       "      <th>exec_time_sec</th>\n",
       "      <th>cpu_time_sec</th>\n",
       "    </tr>\n",
       "  </thead>\n",
       "  <tbody>\n",
       "    <tr>\n",
       "      <th>0</th>\n",
       "      <td>0.5</td>\n",
       "      <td>0</td>\n",
       "      <td>1</td>\n",
       "      <td>0.1</td>\n",
       "      <td>0</td>\n",
       "      <td>1</td>\n",
       "      <td>2</td>\n",
       "      <td>0.001</td>\n",
       "      <td>0.001</td>\n",
       "      <td>0</td>\n",
       "      <td>...</td>\n",
       "      <td>-366.0</td>\n",
       "      <td>299.5</td>\n",
       "      <td>366.0</td>\n",
       "      <td>665.5</td>\n",
       "      <td>False</td>\n",
       "      <td>2</td>\n",
       "      <td>2</td>\n",
       "      <td>3.386730e-06</td>\n",
       "      <td>1.873937</td>\n",
       "      <td>1.833220</td>\n",
       "    </tr>\n",
       "    <tr>\n",
       "      <th>1</th>\n",
       "      <td>0.5</td>\n",
       "      <td>0</td>\n",
       "      <td>1</td>\n",
       "      <td>0.1</td>\n",
       "      <td>0</td>\n",
       "      <td>1</td>\n",
       "      <td>2</td>\n",
       "      <td>0.001</td>\n",
       "      <td>0.001</td>\n",
       "      <td>0</td>\n",
       "      <td>...</td>\n",
       "      <td>-382.0</td>\n",
       "      <td>472.0</td>\n",
       "      <td>382.0</td>\n",
       "      <td>854.0</td>\n",
       "      <td>False</td>\n",
       "      <td>2</td>\n",
       "      <td>2</td>\n",
       "      <td>2.951400e-07</td>\n",
       "      <td>1.358953</td>\n",
       "      <td>1.358210</td>\n",
       "    </tr>\n",
       "    <tr>\n",
       "      <th>2</th>\n",
       "      <td>0.5</td>\n",
       "      <td>0</td>\n",
       "      <td>1</td>\n",
       "      <td>0.1</td>\n",
       "      <td>0</td>\n",
       "      <td>1</td>\n",
       "      <td>2</td>\n",
       "      <td>0.001</td>\n",
       "      <td>0.001</td>\n",
       "      <td>0</td>\n",
       "      <td>...</td>\n",
       "      <td>-439.0</td>\n",
       "      <td>477.0</td>\n",
       "      <td>439.0</td>\n",
       "      <td>916.0</td>\n",
       "      <td>False</td>\n",
       "      <td>2</td>\n",
       "      <td>2</td>\n",
       "      <td>5.391556e-07</td>\n",
       "      <td>1.279030</td>\n",
       "      <td>1.278291</td>\n",
       "    </tr>\n",
       "    <tr>\n",
       "      <th>3</th>\n",
       "      <td>0.5</td>\n",
       "      <td>0</td>\n",
       "      <td>1</td>\n",
       "      <td>0.1</td>\n",
       "      <td>0</td>\n",
       "      <td>1</td>\n",
       "      <td>2</td>\n",
       "      <td>0.001</td>\n",
       "      <td>0.001</td>\n",
       "      <td>0</td>\n",
       "      <td>...</td>\n",
       "      <td>-570.0</td>\n",
       "      <td>507.5</td>\n",
       "      <td>570.0</td>\n",
       "      <td>1077.5</td>\n",
       "      <td>False</td>\n",
       "      <td>2</td>\n",
       "      <td>2</td>\n",
       "      <td>7.070578e-08</td>\n",
       "      <td>1.275138</td>\n",
       "      <td>1.274421</td>\n",
       "    </tr>\n",
       "    <tr>\n",
       "      <th>4</th>\n",
       "      <td>0.5</td>\n",
       "      <td>0</td>\n",
       "      <td>1</td>\n",
       "      <td>0.1</td>\n",
       "      <td>0</td>\n",
       "      <td>1</td>\n",
       "      <td>2</td>\n",
       "      <td>0.001</td>\n",
       "      <td>0.001</td>\n",
       "      <td>0</td>\n",
       "      <td>...</td>\n",
       "      <td>-303.0</td>\n",
       "      <td>579.0</td>\n",
       "      <td>303.0</td>\n",
       "      <td>882.0</td>\n",
       "      <td>False</td>\n",
       "      <td>2</td>\n",
       "      <td>2</td>\n",
       "      <td>2.599698e-10</td>\n",
       "      <td>1.426661</td>\n",
       "      <td>1.425824</td>\n",
       "    </tr>\n",
       "    <tr>\n",
       "      <th>...</th>\n",
       "      <td>...</td>\n",
       "      <td>...</td>\n",
       "      <td>...</td>\n",
       "      <td>...</td>\n",
       "      <td>...</td>\n",
       "      <td>...</td>\n",
       "      <td>...</td>\n",
       "      <td>...</td>\n",
       "      <td>...</td>\n",
       "      <td>...</td>\n",
       "      <td>...</td>\n",
       "      <td>...</td>\n",
       "      <td>...</td>\n",
       "      <td>...</td>\n",
       "      <td>...</td>\n",
       "      <td>...</td>\n",
       "      <td>...</td>\n",
       "      <td>...</td>\n",
       "      <td>...</td>\n",
       "      <td>...</td>\n",
       "      <td>...</td>\n",
       "    </tr>\n",
       "    <tr>\n",
       "      <th>34</th>\n",
       "      <td>0.9</td>\n",
       "      <td>4</td>\n",
       "      <td>460</td>\n",
       "      <td>12.0</td>\n",
       "      <td>0</td>\n",
       "      <td>1</td>\n",
       "      <td>2</td>\n",
       "      <td>0.001</td>\n",
       "      <td>0.001</td>\n",
       "      <td>0</td>\n",
       "      <td>...</td>\n",
       "      <td>139.0</td>\n",
       "      <td>118.5</td>\n",
       "      <td>139.0</td>\n",
       "      <td>257.5</td>\n",
       "      <td>False</td>\n",
       "      <td>2</td>\n",
       "      <td>2</td>\n",
       "      <td>0.000000e+00</td>\n",
       "      <td>108.831292</td>\n",
       "      <td>105.506364</td>\n",
       "    </tr>\n",
       "    <tr>\n",
       "      <th>35</th>\n",
       "      <td>0.9</td>\n",
       "      <td>4</td>\n",
       "      <td>460</td>\n",
       "      <td>12.0</td>\n",
       "      <td>0</td>\n",
       "      <td>1</td>\n",
       "      <td>2</td>\n",
       "      <td>0.001</td>\n",
       "      <td>0.001</td>\n",
       "      <td>0</td>\n",
       "      <td>...</td>\n",
       "      <td>119.0</td>\n",
       "      <td>0.0</td>\n",
       "      <td>119.0</td>\n",
       "      <td>119.0</td>\n",
       "      <td>False</td>\n",
       "      <td>2</td>\n",
       "      <td>4</td>\n",
       "      <td>0.000000e+00</td>\n",
       "      <td>78.100415</td>\n",
       "      <td>77.641443</td>\n",
       "    </tr>\n",
       "    <tr>\n",
       "      <th>36</th>\n",
       "      <td>0.9</td>\n",
       "      <td>4</td>\n",
       "      <td>460</td>\n",
       "      <td>12.0</td>\n",
       "      <td>0</td>\n",
       "      <td>1</td>\n",
       "      <td>2</td>\n",
       "      <td>0.001</td>\n",
       "      <td>0.001</td>\n",
       "      <td>0</td>\n",
       "      <td>...</td>\n",
       "      <td>119.0</td>\n",
       "      <td>0.0</td>\n",
       "      <td>119.0</td>\n",
       "      <td>119.0</td>\n",
       "      <td>False</td>\n",
       "      <td>2</td>\n",
       "      <td>4</td>\n",
       "      <td>0.000000e+00</td>\n",
       "      <td>55.027118</td>\n",
       "      <td>50.367270</td>\n",
       "    </tr>\n",
       "    <tr>\n",
       "      <th>37</th>\n",
       "      <td>0.9</td>\n",
       "      <td>4</td>\n",
       "      <td>460</td>\n",
       "      <td>12.0</td>\n",
       "      <td>0</td>\n",
       "      <td>1</td>\n",
       "      <td>2</td>\n",
       "      <td>0.001</td>\n",
       "      <td>0.001</td>\n",
       "      <td>0</td>\n",
       "      <td>...</td>\n",
       "      <td>89.0</td>\n",
       "      <td>0.0</td>\n",
       "      <td>89.0</td>\n",
       "      <td>89.0</td>\n",
       "      <td>False</td>\n",
       "      <td>2</td>\n",
       "      <td>2</td>\n",
       "      <td>0.000000e+00</td>\n",
       "      <td>10.441515</td>\n",
       "      <td>10.351318</td>\n",
       "    </tr>\n",
       "    <tr>\n",
       "      <th>38</th>\n",
       "      <td>0.9</td>\n",
       "      <td>4</td>\n",
       "      <td>460</td>\n",
       "      <td>12.0</td>\n",
       "      <td>0</td>\n",
       "      <td>1</td>\n",
       "      <td>2</td>\n",
       "      <td>0.001</td>\n",
       "      <td>0.001</td>\n",
       "      <td>0</td>\n",
       "      <td>...</td>\n",
       "      <td>118.0</td>\n",
       "      <td>115.0</td>\n",
       "      <td>118.0</td>\n",
       "      <td>233.0</td>\n",
       "      <td>False</td>\n",
       "      <td>2</td>\n",
       "      <td>2</td>\n",
       "      <td>6.739478e-05</td>\n",
       "      <td>0.412807</td>\n",
       "      <td>0.408923</td>\n",
       "    </tr>\n",
       "  </tbody>\n",
       "</table>\n",
       "<p>448500 rows × 33 columns</p>\n",
       "</div>"
      ],
      "text/plain": [
       "     CR  tau  SKU     e  LogToConsole  Threads  NonConvex  PSDTol  MIPGap  \\\n",
       "0   0.5    0    1   0.1             0        1          2   0.001   0.001   \n",
       "1   0.5    0    1   0.1             0        1          2   0.001   0.001   \n",
       "2   0.5    0    1   0.1             0        1          2   0.001   0.001   \n",
       "3   0.5    0    1   0.1             0        1          2   0.001   0.001   \n",
       "4   0.5    0    1   0.1             0        1          2   0.001   0.001   \n",
       "..  ...  ...  ...   ...           ...      ...        ...     ...     ...   \n",
       "34  0.9    4  460  12.0             0        1          2   0.001   0.001   \n",
       "35  0.9    4  460  12.0             0        1          2   0.001   0.001   \n",
       "36  0.9    4  460  12.0             0        1          2   0.001   0.001   \n",
       "37  0.9    4  460  12.0             0        1          2   0.001   0.001   \n",
       "38  0.9    4  460  12.0             0        1          2   0.001   0.001   \n",
       "\n",
       "    NumericFocus  ...  I_q_y    c_o    c_s    cost  defaulted  status  \\\n",
       "0              0  ... -366.0  299.5  366.0   665.5      False       2   \n",
       "1              0  ... -382.0  472.0  382.0   854.0      False       2   \n",
       "2              0  ... -439.0  477.0  439.0   916.0      False       2   \n",
       "3              0  ... -570.0  507.5  570.0  1077.5      False       2   \n",
       "4              0  ... -303.0  579.0  303.0   882.0      False       2   \n",
       "..           ...  ...    ...    ...    ...     ...        ...     ...   \n",
       "34             0  ...  139.0  118.5  139.0   257.5      False       2   \n",
       "35             0  ...  119.0    0.0  119.0   119.0      False       2   \n",
       "36             0  ...  119.0    0.0  119.0   119.0      False       2   \n",
       "37             0  ...   89.0    0.0   89.0    89.0      False       2   \n",
       "38             0  ...  118.0  115.0  118.0   233.0      False       2   \n",
       "\n",
       "    solutions           gap  exec_time_sec  cpu_time_sec  \n",
       "0           2  3.386730e-06       1.873937      1.833220  \n",
       "1           2  2.951400e-07       1.358953      1.358210  \n",
       "2           2  5.391556e-07       1.279030      1.278291  \n",
       "3           2  7.070578e-08       1.275138      1.274421  \n",
       "4           2  2.599698e-10       1.426661      1.425824  \n",
       "..        ...           ...            ...           ...  \n",
       "34          2  0.000000e+00     108.831292    105.506364  \n",
       "35          4  0.000000e+00      78.100415     77.641443  \n",
       "36          4  0.000000e+00      55.027118     50.367270  \n",
       "37          2  0.000000e+00      10.441515     10.351318  \n",
       "38          2  6.739478e-05       0.412807      0.408923  \n",
       "\n",
       "[448500 rows x 33 columns]"
      ]
     },
     "execution_count": 113,
     "metadata": {},
     "output_type": "execute_result"
    }
   ],
   "source": [
    "results"
   ]
  },
  {
   "cell_type": "code",
   "execution_count": null,
   "id": "662713a1-12dc-4337-af9a-3fb80d7064fd",
   "metadata": {},
   "outputs": [],
   "source": []
  },
  {
   "cell_type": "code",
   "execution_count": 114,
   "id": "12d6772d-4564-4770-aece-3b00a19ea0a0",
   "metadata": {},
   "outputs": [
    {
     "data": {
      "text/html": [
       "<div>\n",
       "<style scoped>\n",
       "    .dataframe tbody tr th:only-of-type {\n",
       "        vertical-align: middle;\n",
       "    }\n",
       "\n",
       "    .dataframe tbody tr th {\n",
       "        vertical-align: top;\n",
       "    }\n",
       "\n",
       "    .dataframe thead th {\n",
       "        text-align: right;\n",
       "    }\n",
       "</style>\n",
       "<table border=\"1\" class=\"dataframe\">\n",
       "  <thead>\n",
       "    <tr style=\"text-align: right;\">\n",
       "      <th></th>\n",
       "      <th>CR</th>\n",
       "      <th>SKU</th>\n",
       "      <th>cost</th>\n",
       "    </tr>\n",
       "  </thead>\n",
       "  <tbody>\n",
       "    <tr>\n",
       "      <th>0</th>\n",
       "      <td>0.5</td>\n",
       "      <td>1</td>\n",
       "      <td>8795.5</td>\n",
       "    </tr>\n",
       "    <tr>\n",
       "      <th>1</th>\n",
       "      <td>0.5</td>\n",
       "      <td>2</td>\n",
       "      <td>13170.5</td>\n",
       "    </tr>\n",
       "    <tr>\n",
       "      <th>2</th>\n",
       "      <td>0.5</td>\n",
       "      <td>3</td>\n",
       "      <td>23854.0</td>\n",
       "    </tr>\n",
       "    <tr>\n",
       "      <th>3</th>\n",
       "      <td>0.5</td>\n",
       "      <td>4</td>\n",
       "      <td>1208800.5</td>\n",
       "    </tr>\n",
       "    <tr>\n",
       "      <th>4</th>\n",
       "      <td>0.5</td>\n",
       "      <td>5</td>\n",
       "      <td>21273.5</td>\n",
       "    </tr>\n",
       "    <tr>\n",
       "      <th>...</th>\n",
       "      <td>...</td>\n",
       "      <td>...</td>\n",
       "      <td>...</td>\n",
       "    </tr>\n",
       "    <tr>\n",
       "      <th>1375</th>\n",
       "      <td>0.9</td>\n",
       "      <td>456</td>\n",
       "      <td>2720.0</td>\n",
       "    </tr>\n",
       "    <tr>\n",
       "      <th>1376</th>\n",
       "      <td>0.9</td>\n",
       "      <td>457</td>\n",
       "      <td>1479.5</td>\n",
       "    </tr>\n",
       "    <tr>\n",
       "      <th>1377</th>\n",
       "      <td>0.9</td>\n",
       "      <td>458</td>\n",
       "      <td>14792.5</td>\n",
       "    </tr>\n",
       "    <tr>\n",
       "      <th>1378</th>\n",
       "      <td>0.9</td>\n",
       "      <td>459</td>\n",
       "      <td>569.0</td>\n",
       "    </tr>\n",
       "    <tr>\n",
       "      <th>1379</th>\n",
       "      <td>0.9</td>\n",
       "      <td>460</td>\n",
       "      <td>676.5</td>\n",
       "    </tr>\n",
       "  </tbody>\n",
       "</table>\n",
       "<p>1380 rows × 3 columns</p>\n",
       "</div>"
      ],
      "text/plain": [
       "       CR  SKU       cost\n",
       "0     0.5    1     8795.5\n",
       "1     0.5    2    13170.5\n",
       "2     0.5    3    23854.0\n",
       "3     0.5    4  1208800.5\n",
       "4     0.5    5    21273.5\n",
       "...   ...  ...        ...\n",
       "1375  0.9  456     2720.0\n",
       "1376  0.9  457     1479.5\n",
       "1377  0.9  458    14792.5\n",
       "1378  0.9  459      569.0\n",
       "1379  0.9  460      676.5\n",
       "\n",
       "[1380 rows x 3 columns]"
      ]
     },
     "execution_count": 114,
     "metadata": {},
     "output_type": "execute_result"
    }
   ],
   "source": [
    "results_summary = results.groupby(['CR', 'tau', 'e', 'SKU']).agg({'cost': sum}).groupby(['CR', 'SKU']).agg({'cost': min}).reset_index()\n",
    "results_summary"
   ]
  },
  {
   "cell_type": "code",
   "execution_count": 115,
   "id": "0125d054-846a-4070-88ae-ccca47edbc9f",
   "metadata": {},
   "outputs": [
    {
     "data": {
      "text/html": [
       "<div>\n",
       "<style scoped>\n",
       "    .dataframe tbody tr th:only-of-type {\n",
       "        vertical-align: middle;\n",
       "    }\n",
       "\n",
       "    .dataframe tbody tr th {\n",
       "        vertical-align: top;\n",
       "    }\n",
       "\n",
       "    .dataframe thead th {\n",
       "        text-align: right;\n",
       "    }\n",
       "</style>\n",
       "<table border=\"1\" class=\"dataframe\">\n",
       "  <thead>\n",
       "    <tr style=\"text-align: right;\">\n",
       "      <th></th>\n",
       "      <th>CR</th>\n",
       "      <th>SKU</th>\n",
       "      <th>cost</th>\n",
       "    </tr>\n",
       "  </thead>\n",
       "  <tbody>\n",
       "    <tr>\n",
       "      <th>0</th>\n",
       "      <td>0.5</td>\n",
       "      <td>1</td>\n",
       "      <td>8690.0</td>\n",
       "    </tr>\n",
       "    <tr>\n",
       "      <th>1</th>\n",
       "      <td>0.5</td>\n",
       "      <td>2</td>\n",
       "      <td>13205.0</td>\n",
       "    </tr>\n",
       "    <tr>\n",
       "      <th>2</th>\n",
       "      <td>0.5</td>\n",
       "      <td>3</td>\n",
       "      <td>23133.0</td>\n",
       "    </tr>\n",
       "    <tr>\n",
       "      <th>3</th>\n",
       "      <td>0.5</td>\n",
       "      <td>4</td>\n",
       "      <td>1530609.5</td>\n",
       "    </tr>\n",
       "    <tr>\n",
       "      <th>4</th>\n",
       "      <td>0.5</td>\n",
       "      <td>5</td>\n",
       "      <td>21404.5</td>\n",
       "    </tr>\n",
       "    <tr>\n",
       "      <th>...</th>\n",
       "      <td>...</td>\n",
       "      <td>...</td>\n",
       "      <td>...</td>\n",
       "    </tr>\n",
       "    <tr>\n",
       "      <th>1375</th>\n",
       "      <td>0.9</td>\n",
       "      <td>456</td>\n",
       "      <td>2891.0</td>\n",
       "    </tr>\n",
       "    <tr>\n",
       "      <th>1376</th>\n",
       "      <td>0.9</td>\n",
       "      <td>457</td>\n",
       "      <td>1382.0</td>\n",
       "    </tr>\n",
       "    <tr>\n",
       "      <th>1377</th>\n",
       "      <td>0.9</td>\n",
       "      <td>458</td>\n",
       "      <td>14727.5</td>\n",
       "    </tr>\n",
       "    <tr>\n",
       "      <th>1378</th>\n",
       "      <td>0.9</td>\n",
       "      <td>459</td>\n",
       "      <td>588.0</td>\n",
       "    </tr>\n",
       "    <tr>\n",
       "      <th>1379</th>\n",
       "      <td>0.9</td>\n",
       "      <td>460</td>\n",
       "      <td>703.0</td>\n",
       "    </tr>\n",
       "  </tbody>\n",
       "</table>\n",
       "<p>1380 rows × 3 columns</p>\n",
       "</div>"
      ],
      "text/plain": [
       "       CR  SKU       cost\n",
       "0     0.5    1     8690.0\n",
       "1     0.5    2    13205.0\n",
       "2     0.5    3    23133.0\n",
       "3     0.5    4  1530609.5\n",
       "4     0.5    5    21404.5\n",
       "...   ...  ...        ...\n",
       "1375  0.9  456     2891.0\n",
       "1376  0.9  457     1382.0\n",
       "1377  0.9  458    14727.5\n",
       "1378  0.9  459      588.0\n",
       "1379  0.9  460      703.0\n",
       "\n",
       "[1380 rows x 3 columns]"
      ]
     },
     "execution_count": 115,
     "metadata": {},
     "output_type": "execute_result"
    }
   ],
   "source": [
    "_results_summary = results_.groupby(['CR', 'tau', 'SKU']).agg({'cost': sum}).groupby(['CR', 'SKU']).agg({'cost': min}).reset_index()\n",
    "_results_summary"
   ]
  },
  {
   "cell_type": "code",
   "execution_count": 116,
   "id": "c1b845fc-ad31-452e-ad2c-74ad5e0796a5",
   "metadata": {},
   "outputs": [
    {
     "data": {
      "text/html": [
       "<div>\n",
       "<style scoped>\n",
       "    .dataframe tbody tr th:only-of-type {\n",
       "        vertical-align: middle;\n",
       "    }\n",
       "\n",
       "    .dataframe tbody tr th {\n",
       "        vertical-align: top;\n",
       "    }\n",
       "\n",
       "    .dataframe thead th {\n",
       "        text-align: right;\n",
       "    }\n",
       "</style>\n",
       "<table border=\"1\" class=\"dataframe\">\n",
       "  <thead>\n",
       "    <tr style=\"text-align: right;\">\n",
       "      <th></th>\n",
       "      <th>cost</th>\n",
       "    </tr>\n",
       "    <tr>\n",
       "      <th>CR</th>\n",
       "      <th></th>\n",
       "    </tr>\n",
       "  </thead>\n",
       "  <tbody>\n",
       "    <tr>\n",
       "      <th>0.50</th>\n",
       "      <td>7115760.5</td>\n",
       "    </tr>\n",
       "    <tr>\n",
       "      <th>0.75</th>\n",
       "      <td>8927809.0</td>\n",
       "    </tr>\n",
       "    <tr>\n",
       "      <th>0.90</th>\n",
       "      <td>10657336.5</td>\n",
       "    </tr>\n",
       "  </tbody>\n",
       "</table>\n",
       "</div>"
      ],
      "text/plain": [
       "            cost\n",
       "CR              \n",
       "0.50   7115760.5\n",
       "0.75   8927809.0\n",
       "0.90  10657336.5"
      ]
     },
     "execution_count": 116,
     "metadata": {},
     "output_type": "execute_result"
    }
   ],
   "source": [
    "results_summary.groupby('CR').agg({'cost': sum})"
   ]
  },
  {
   "cell_type": "code",
   "execution_count": 117,
   "id": "d88d6edf-591b-439a-b50b-19e135620175",
   "metadata": {},
   "outputs": [
    {
     "data": {
      "text/html": [
       "<div>\n",
       "<style scoped>\n",
       "    .dataframe tbody tr th:only-of-type {\n",
       "        vertical-align: middle;\n",
       "    }\n",
       "\n",
       "    .dataframe tbody tr th {\n",
       "        vertical-align: top;\n",
       "    }\n",
       "\n",
       "    .dataframe thead th {\n",
       "        text-align: right;\n",
       "    }\n",
       "</style>\n",
       "<table border=\"1\" class=\"dataframe\">\n",
       "  <thead>\n",
       "    <tr style=\"text-align: right;\">\n",
       "      <th></th>\n",
       "      <th>cost</th>\n",
       "    </tr>\n",
       "    <tr>\n",
       "      <th>CR</th>\n",
       "      <th></th>\n",
       "    </tr>\n",
       "  </thead>\n",
       "  <tbody>\n",
       "    <tr>\n",
       "      <th>0.50</th>\n",
       "      <td>7439302.0</td>\n",
       "    </tr>\n",
       "    <tr>\n",
       "      <th>0.75</th>\n",
       "      <td>9415701.0</td>\n",
       "    </tr>\n",
       "    <tr>\n",
       "      <th>0.90</th>\n",
       "      <td>13177200.0</td>\n",
       "    </tr>\n",
       "  </tbody>\n",
       "</table>\n",
       "</div>"
      ],
      "text/plain": [
       "            cost\n",
       "CR              \n",
       "0.50   7439302.0\n",
       "0.75   9415701.0\n",
       "0.90  13177200.0"
      ]
     },
     "execution_count": 117,
     "metadata": {},
     "output_type": "execute_result"
    }
   ],
   "source": [
    "_results_summary.groupby('CR').agg({'cost': sum})"
   ]
  },
  {
   "cell_type": "code",
   "execution_count": null,
   "id": "6cbc28eb-0c36-4f40-a3ec-4a6567e80645",
   "metadata": {},
   "outputs": [],
   "source": []
  },
  {
   "cell_type": "code",
   "execution_count": 97,
   "id": "61389fc9-3bbd-4222-848b-ed1211e14517",
   "metadata": {},
   "outputs": [
    {
     "data": {
      "text/html": [
       "<div>\n",
       "<style scoped>\n",
       "    .dataframe tbody tr th:only-of-type {\n",
       "        vertical-align: middle;\n",
       "    }\n",
       "\n",
       "    .dataframe tbody tr th {\n",
       "        vertical-align: top;\n",
       "    }\n",
       "\n",
       "    .dataframe thead th {\n",
       "        text-align: right;\n",
       "    }\n",
       "</style>\n",
       "<table border=\"1\" class=\"dataframe\">\n",
       "  <thead>\n",
       "    <tr style=\"text-align: right;\">\n",
       "      <th></th>\n",
       "      <th>cost</th>\n",
       "    </tr>\n",
       "    <tr>\n",
       "      <th>CR</th>\n",
       "      <th></th>\n",
       "    </tr>\n",
       "  </thead>\n",
       "  <tbody>\n",
       "    <tr>\n",
       "      <th>0.50</th>\n",
       "      <td>1414.50</td>\n",
       "    </tr>\n",
       "    <tr>\n",
       "      <th>0.75</th>\n",
       "      <td>1882.00</td>\n",
       "    </tr>\n",
       "    <tr>\n",
       "      <th>0.90</th>\n",
       "      <td>2252.75</td>\n",
       "    </tr>\n",
       "  </tbody>\n",
       "</table>\n",
       "</div>"
      ],
      "text/plain": [
       "         cost\n",
       "CR           \n",
       "0.50  1414.50\n",
       "0.75  1882.00\n",
       "0.90  2252.75"
      ]
     },
     "execution_count": 97,
     "metadata": {},
     "output_type": "execute_result"
    }
   ],
   "source": [
    "results_summary.groupby('CR').agg({'cost': np.median})"
   ]
  },
  {
   "cell_type": "code",
   "execution_count": 98,
   "id": "89c7af48-9b48-4d61-acfe-a1e9ce48d5a3",
   "metadata": {},
   "outputs": [
    {
     "data": {
      "text/html": [
       "<div>\n",
       "<style scoped>\n",
       "    .dataframe tbody tr th:only-of-type {\n",
       "        vertical-align: middle;\n",
       "    }\n",
       "\n",
       "    .dataframe tbody tr th {\n",
       "        vertical-align: top;\n",
       "    }\n",
       "\n",
       "    .dataframe thead th {\n",
       "        text-align: right;\n",
       "    }\n",
       "</style>\n",
       "<table border=\"1\" class=\"dataframe\">\n",
       "  <thead>\n",
       "    <tr style=\"text-align: right;\">\n",
       "      <th></th>\n",
       "      <th>cost</th>\n",
       "    </tr>\n",
       "    <tr>\n",
       "      <th>CR</th>\n",
       "      <th></th>\n",
       "    </tr>\n",
       "  </thead>\n",
       "  <tbody>\n",
       "    <tr>\n",
       "      <th>0.50</th>\n",
       "      <td>1445.25</td>\n",
       "    </tr>\n",
       "    <tr>\n",
       "      <th>0.75</th>\n",
       "      <td>1849.75</td>\n",
       "    </tr>\n",
       "    <tr>\n",
       "      <th>0.90</th>\n",
       "      <td>2136.00</td>\n",
       "    </tr>\n",
       "  </tbody>\n",
       "</table>\n",
       "</div>"
      ],
      "text/plain": [
       "         cost\n",
       "CR           \n",
       "0.50  1445.25\n",
       "0.75  1849.75\n",
       "0.90  2136.00"
      ]
     },
     "execution_count": 98,
     "metadata": {},
     "output_type": "execute_result"
    }
   ],
   "source": [
    "_results_summary.groupby('CR').agg({'cost': np.median})"
   ]
  },
  {
   "cell_type": "code",
   "execution_count": 118,
   "id": "1079645d-2033-41f2-8975-36461dda3d31",
   "metadata": {},
   "outputs": [
    {
     "data": {
      "text/plain": [
       "0.1     505\n",
       "1.0     443\n",
       "3.0     312\n",
       "6.0      84\n",
       "12.0     36\n",
       "Name: 0, dtype: int64"
      ]
     },
     "execution_count": 118,
     "metadata": {},
     "output_type": "execute_result"
    }
   ],
   "source": [
    "pd.DataFrame(results.groupby(['CR', 'tau', 'e', 'SKU']).agg({'cost': sum}).reset_index().groupby(['CR', 'SKU']).apply(\n",
    "\n",
    "    lambda r: r.e.iloc[np.argmin(r.cost)]\n",
    "\n",
    ")).reset_index()[0].value_counts()"
   ]
  },
  {
   "cell_type": "code",
   "execution_count": null,
   "id": "a26349bf-ee40-4d8f-b273-abe0887746ad",
   "metadata": {},
   "outputs": [],
   "source": []
  },
  {
   "cell_type": "code",
   "execution_count": null,
   "id": "c88c88ad-09d2-4b6f-96bb-5c46f5565362",
   "metadata": {},
   "outputs": [],
   "source": [
    "0.33, 0.66, 1.0, 1.33, 1.66, 2, 2.33, 2.66, 3,"
   ]
  },
  {
   "cell_type": "code",
   "execution_count": null,
   "id": "67b9c4df-4609-4300-9786-ffb845dd56f3",
   "metadata": {},
   "outputs": [],
   "source": []
  },
  {
   "cell_type": "code",
   "execution_count": null,
   "id": "b6baaae5-a46f-4c20-8171-172654670d4f",
   "metadata": {},
   "outputs": [],
   "source": []
  },
  {
   "cell_type": "code",
   "execution_count": null,
   "id": "3f121b19-af4e-456f-a2d3-0de9cd7164e5",
   "metadata": {},
   "outputs": [],
   "source": []
  },
  {
   "cell_type": "code",
   "execution_count": null,
   "id": "be6af693-3ed8-460d-b23a-fd2f056d3bc4",
   "metadata": {},
   "outputs": [],
   "source": []
  },
  {
   "cell_type": "code",
   "execution_count": null,
   "id": "bc3e8c1a-a347-495d-8ee5-80ca0d3c45bc",
   "metadata": {},
   "outputs": [],
   "source": []
  },
  {
   "cell_type": "code",
   "execution_count": null,
   "id": "14624b37-f772-4306-83ff-e92f799baac6",
   "metadata": {},
   "outputs": [],
   "source": []
  },
  {
   "cell_type": "code",
   "execution_count": null,
   "id": "474b81de-4b92-4089-ab78-ecabfb7a4205",
   "metadata": {},
   "outputs": [],
   "source": []
  },
  {
   "cell_type": "code",
   "execution_count": null,
   "id": "860a2784-81f1-486e-875e-592ca19f2186",
   "metadata": {},
   "outputs": [],
   "source": []
  },
  {
   "cell_type": "code",
   "execution_count": null,
   "id": "b5787a9f-8ff6-4937-b60c-78e06074459d",
   "metadata": {},
   "outputs": [],
   "source": []
  },
  {
   "cell_type": "code",
   "execution_count": null,
   "id": "ade48d29-cc7c-41db-be4d-fb29594300ae",
   "metadata": {},
   "outputs": [],
   "source": [
    "def aggregateResults(SKU_range, e_range, path):\n",
    "    \n",
    "    results = pd.DataFrame()\n",
    "    \n",
    "    # For all SKUs\n",
    "    for SKU in SKU_range:\n",
    "        \n",
    "        # For all e\n",
    "        for e in e_range:\n",
    "\n",
    "            # Check if results exist   \n",
    "            if os.path.exists(PATH_RESULTS+'/GwSAAR_SKU'+str(SKU)+'_e'+str(e)+'.csv'):\n",
    "                results = pd.concat([results, pd.read_csv(PATH_RESULTS+'/GwSAAR_SKU'+str(SKU)+'_e'+str(e)+'.csv')])\n",
    "                \n",
    "    return(results)"
   ]
  },
  {
   "cell_type": "code",
   "execution_count": null,
   "id": "cdc6c00a-c776-4f4d-851d-ad8210fd8f1c",
   "metadata": {},
   "outputs": [],
   "source": [
    "def aggregateResults(SKU_range, e, path):\n",
    "    \n",
    "    results = pd.DataFrame()\n",
    "    \n",
    "    # For all SKUs\n",
    "    for SKU in SKU_range:\n",
    "\n",
    "        # Check if results exist   \n",
    "        if os.path.exists(PATH_RESULTS+'/GwSAAR_SKU'+str(SKU)+'_e'+str(e)+'_UPDATE_FINAL.csv'):\n",
    "            results = pd.concat([results, pd.read_csv(PATH_RESULTS+'/GwSAAR_SKU'+str(SKU)+'_e'+str(e)+'_UPDATE_FINAL.csv')])\n",
    "\n",
    "    return(results)"
   ]
  },
  {
   "cell_type": "code",
   "execution_count": null,
   "id": "e78154c9-4fb4-47c6-8d37-7594f5a43101",
   "metadata": {},
   "outputs": [],
   "source": [
    "PATH_RESULTS = '/home/fesc/MM/Data/Results/GwSAAR'\n",
    "\n",
    "# SKU range\n",
    "SKU_range = range(1,460+1)\n",
    "\n",
    "# SKU range\n",
    "e = 12\n",
    "\n",
    "Results = aggregateResults(SKU_range=SKU_range, e=e, path=PATH_RESULTS)"
   ]
  },
  {
   "cell_type": "code",
   "execution_count": null,
   "id": "77b0e506-9cd9-4520-806d-900247e1b5f0",
   "metadata": {},
   "outputs": [],
   "source": [
    "len(set(Results.SKU.values))"
   ]
  },
  {
   "cell_type": "code",
   "execution_count": null,
   "id": "648d7dcd-024e-413c-b6d1-5958a819a5cd",
   "metadata": {},
   "outputs": [],
   "source": [
    "sum(Results.defaulted) / len(Results)"
   ]
  },
  {
   "cell_type": "code",
   "execution_count": null,
   "id": "c3e2cb58-4ec2-4976-ba2c-153f5c753763",
   "metadata": {},
   "outputs": [],
   "source": [
    "PATH_RESULTS = '/home/fesc/MM/Data/Results/GwSAAR'\n",
    "SKU_range = range(1,460+1)\n",
    "missingSKUs = {}\n",
    "for e in [1,3,6,12]:\n",
    "    \n",
    "    Results = aggregateResults(SKU_range=SKU_range, e=e, path=PATH_RESULTS)\n",
    "    missingSKUs[e] = [i for i in range(1,460+1) if not i in Results.SKU.unique()]"
   ]
  },
  {
   "cell_type": "code",
   "execution_count": null,
   "id": "9770493a-f757-4c3b-8c7f-dec06e49a05d",
   "metadata": {},
   "outputs": [],
   "source": [
    "len(missingSKUs[1]), len(missingSKUs[3]), len(missingSKUs[6]), len(missingSKUs[12])"
   ]
  },
  {
   "cell_type": "code",
   "execution_count": null,
   "id": "0d7a31f0-2c83-4bf6-8509-7fcf3f953e8d",
   "metadata": {},
   "outputs": [],
   "source": [
    "missingSKUs[1]"
   ]
  },
  {
   "cell_type": "code",
   "execution_count": null,
   "id": "f83e6005-baea-4845-972c-a5505b7b6530",
   "metadata": {},
   "outputs": [],
   "source": [
    "missingSKUs[3]"
   ]
  },
  {
   "cell_type": "code",
   "execution_count": null,
   "id": "b1d87855-571f-4d3e-9063-cc4e8bf02356",
   "metadata": {},
   "outputs": [],
   "source": [
    "missingSKUs[6]"
   ]
  },
  {
   "cell_type": "code",
   "execution_count": null,
   "id": "b18a58e0-536c-4f7a-bae2-5fad2dfb33e9",
   "metadata": {},
   "outputs": [],
   "source": [
    "missingSKUs[12]"
   ]
  },
  {
   "cell_type": "code",
   "execution_count": null,
   "id": "79316713-8946-46df-a73b-dadff7b366fd",
   "metadata": {},
   "outputs": [],
   "source": []
  },
  {
   "cell_type": "code",
   "execution_count": null,
   "id": "53b1f99f-6cda-4cb9-9265-172665e7b808",
   "metadata": {},
   "outputs": [],
   "source": []
  },
  {
   "cell_type": "code",
   "execution_count": null,
   "id": "8a024ba8-a0d4-4e76-94ea-73a1216ca659",
   "metadata": {},
   "outputs": [],
   "source": []
  },
  {
   "cell_type": "code",
   "execution_count": null,
   "id": "97b74b89-e847-4646-9e45-015fb02c0d9c",
   "metadata": {},
   "outputs": [],
   "source": [
    "PATH_RESULTS = '/home/fesc/Data/Results/GwSAAR'\n",
    "\n",
    "# SKU range\n",
    "SKU_range = range(1,460+1)\n",
    "\n",
    "# SKU range\n",
    "e_range = [1,3,6,12]\n",
    "\n",
    "Results = aggregateResults(SKU_range=SKU_range, e_range=e_range, path=PATH_RESULTS)\n",
    "Results"
   ]
  },
  {
   "cell_type": "code",
   "execution_count": null,
   "id": "6b1736e1-4dde-4ffd-b296-9a5cf9ee7d3f",
   "metadata": {},
   "outputs": [],
   "source": [
    "# Save result\n",
    "save_log = Results.to_csv(\n",
    "    path_or_buf=PATH_RESULTS+'/Results_GwSAAR.csv', \n",
    "    sep=',', index=False\n",
    ")"
   ]
  },
  {
   "cell_type": "markdown",
   "id": "e16432be-2c2f-4b94-bbb5-78d9f04d36c0",
   "metadata": {},
   "source": [
    "**Check results**"
   ]
  },
  {
   "cell_type": "code",
   "execution_count": null,
   "id": "85a56ccd-dda3-4d6f-81a5-51e4c16856e9",
   "metadata": {},
   "outputs": [],
   "source": [
    "# Indicator if the period was solved (at least one solution)\n",
    "Results['periodSolved'] = Results.solutions>0"
   ]
  },
  {
   "cell_type": "code",
   "execution_count": null,
   "id": "e586ca43-6afa-48c2-a84c-9a25efbf7c13",
   "metadata": {},
   "outputs": [],
   "source": [
    "# Number of periods solved\n",
    "ResultsAgg = Results.groupby(['SKU', 'CR', 'e', 'tau']).agg({'periodSolved': sum}).reset_index()"
   ]
  },
  {
   "cell_type": "code",
   "execution_count": null,
   "id": "f5e5f07c-4055-41ea-bfcf-1d15a47ffa04",
   "metadata": {},
   "outputs": [],
   "source": [
    "#### Solved\n",
    "ResultsSolved = ResultsAgg.loc[ResultsAgg.periodSolved==13]\n",
    "ResultsSolved"
   ]
  },
  {
   "cell_type": "code",
   "execution_count": null,
   "id": "192f8b6e-5ab1-451e-beba-db8278f0077e",
   "metadata": {},
   "outputs": [],
   "source": [
    "#### Not solved\n",
    "\n",
    "# Full grid of results\n",
    "SKU_range = range(1,460+1)\n",
    "e_range = [1,3,6,12]\n",
    "CR_range = [0.5, 0.75, 0.9]\n",
    "tau_range = [1,2,3,4,5]\n",
    "\n",
    "Grid = np.array(np.meshgrid(SKU_range, e_range, CR_range, tau_range)).reshape(4,len(SKU_range)*len(e_range)*len(CR_range)*len(tau_range)).T\n",
    "Grid = pd.DataFrame(Grid, columns=['SKU', 'e', 'CR', 'tau']).astype({'SKU': int, 'e': int, 'tau': int})\n",
    "\n",
    "# Merge with problem solved\n",
    "Grid = pd.merge(\n",
    "    left = Grid, \n",
    "    right = ResultsSolved, \n",
    "    how = 'outer',\n",
    "    on = ['SKU', 'e', 'CR', 'tau']\n",
    ")\n",
    "\n",
    "# Result: problem not solved\n",
    "ResultsNotSolved = Grid.loc[np.isnan(Grid.periodSolved)]\n",
    "ResultsNotSolved"
   ]
  },
  {
   "cell_type": "code",
   "execution_count": null,
   "id": "0cfdef18-7865-487d-a9b1-13f011809db8",
   "metadata": {},
   "outputs": [],
   "source": [
    "ResultsNotSolved.loc[ResultsNotSolved.tau <= 2]"
   ]
  },
  {
   "cell_type": "code",
   "execution_count": null,
   "id": "e3e682a6-430c-4642-8e0b-79bb823092b5",
   "metadata": {},
   "outputs": [],
   "source": []
  },
  {
   "cell_type": "code",
   "execution_count": null,
   "id": "a0a62267-4ae9-4d7a-973d-ce79034e7336",
   "metadata": {},
   "outputs": [],
   "source": []
  },
  {
   "cell_type": "code",
   "execution_count": null,
   "id": "ff3885ff-b14d-4be2-8aa8-8aeb0d25b897",
   "metadata": {},
   "outputs": [],
   "source": []
  },
  {
   "cell_type": "code",
   "execution_count": null,
   "id": "4a16aec1-2291-49ba-b3dc-e435df5e4944",
   "metadata": {},
   "outputs": [],
   "source": []
  },
  {
   "cell_type": "code",
   "execution_count": null,
   "id": "42c4f6a4-1e7e-43f3-b0f4-e7fb95243933",
   "metadata": {},
   "outputs": [],
   "source": []
  },
  {
   "cell_type": "code",
   "execution_count": null,
   "id": "c2f2a709-8ddf-4902-badc-fae63d1dad58",
   "metadata": {},
   "outputs": [],
   "source": []
  },
  {
   "cell_type": "code",
   "execution_count": null,
   "id": "4a8174d2-36de-4a13-a013-2c8996d6a206",
   "metadata": {},
   "outputs": [],
   "source": []
  },
  {
   "cell_type": "code",
   "execution_count": null,
   "id": "0416e20a-a32e-43bf-a595-d9a67a524629",
   "metadata": {},
   "outputs": [],
   "source": [
    "################################################################################################################################\n",
    "################################################################################################################################\n",
    "################################################################################################################################\n",
    "################################################################################################################################\n",
    "################################################################################################################################"
   ]
  },
  {
   "cell_type": "code",
   "execution_count": null,
   "id": "4661969e-c24a-4c7a-a8c5-d87c468ec70e",
   "metadata": {},
   "outputs": [],
   "source": []
  },
  {
   "cell_type": "code",
   "execution_count": null,
   "id": "10d45409-4ec8-44ca-b9c3-9ebc18131137",
   "metadata": {},
   "outputs": [],
   "source": []
  },
  {
   "cell_type": "code",
   "execution_count": null,
   "id": "d3a26027-585e-422d-8e70-79f5d6c36414",
   "metadata": {},
   "outputs": [],
   "source": [
    "results_agg['solFound'] = results_agg.solFound == 13\n",
    "results_agg = results_agg.groupby(['SKU', 'CR']).agg({'solFound': sum}).reset_index()\n",
    "results_agg['solFound'] = results_agg.solFound > 0"
   ]
  },
  {
   "cell_type": "code",
   "execution_count": null,
   "id": "bf21c11f-c008-43b4-9fa4-b44178f363d5",
   "metadata": {},
   "outputs": [],
   "source": []
  },
  {
   "cell_type": "code",
   "execution_count": null,
   "id": "c386317c-bd16-4634-8a2a-bb4826a8ab7b",
   "metadata": {},
   "outputs": [],
   "source": [
    "results.columns"
   ]
  },
  {
   "cell_type": "code",
   "execution_count": null,
   "id": "9ddaecdc-39aa-47b9-96ef-e7b7256a188e",
   "metadata": {},
   "outputs": [],
   "source": []
  },
  {
   "cell_type": "code",
   "execution_count": null,
   "id": "ffd90f8d-4afa-4ad6-af1d-60c3c22cedd6",
   "metadata": {},
   "outputs": [],
   "source": []
  },
  {
   "cell_type": "code",
   "execution_count": null,
   "id": "e7f39d11-05f6-4bc3-af77-9868c147f6e9",
   "metadata": {},
   "outputs": [],
   "source": []
  },
  {
   "cell_type": "code",
   "execution_count": null,
   "id": "347c2174-6579-4ebe-88e8-c78ffd1501cf",
   "metadata": {},
   "outputs": [],
   "source": []
  },
  {
   "cell_type": "code",
   "execution_count": null,
   "id": "779d70bb-7c6d-4dc5-937e-14f5bab4c2ff",
   "metadata": {},
   "outputs": [],
   "source": []
  },
  {
   "cell_type": "code",
   "execution_count": null,
   "id": "02efd189-a8da-40ab-9fad-0f3e39164cb1",
   "metadata": {},
   "outputs": [],
   "source": [
    "results['solFound'] = (results.status == 2) + (results.status == 11)\n",
    "results_agg = results.groupby(['SKU', 'CR', 'tau']).agg({'solFound': sum}).reset_index()"
   ]
  },
  {
   "cell_type": "code",
   "execution_count": null,
   "id": "106d108a-230b-4124-bbea-69e95c94edb4",
   "metadata": {},
   "outputs": [],
   "source": [
    "results_agg['solFound'] = results_agg.solFound == 13\n",
    "results_agg = results_agg.groupby(['SKU', 'CR']).agg({'solFound': sum}).reset_index()\n",
    "results_agg['solFound'] = results_agg.solFound > 0"
   ]
  },
  {
   "cell_type": "code",
   "execution_count": null,
   "id": "eac6ceb8-bf8c-4a8c-9b39-fe98b78fc5a2",
   "metadata": {},
   "outputs": [],
   "source": [
    "results['solved'] = np.isnan(results.solutions) + (results.solutions==0)"
   ]
  },
  {
   "cell_type": "code",
   "execution_count": null,
   "id": "9ac78bfe-fbf2-42ae-829b-3365af6d27e5",
   "metadata": {},
   "outputs": [],
   "source": [
    "results['solved'] = results.solutions>0"
   ]
  },
  {
   "cell_type": "code",
   "execution_count": null,
   "id": "69ca6aed-4e7f-4255-88b6-9050db74c0a7",
   "metadata": {},
   "outputs": [],
   "source": [
    "results.loc[np.isnan(results.solutions)]"
   ]
  },
  {
   "cell_type": "code",
   "execution_count": null,
   "id": "581d7a14-db80-4319-a4ca-b39277a0e912",
   "metadata": {},
   "outputs": [],
   "source": [
    "len(results)"
   ]
  },
  {
   "cell_type": "code",
   "execution_count": null,
   "id": "11ad0ad3-6f94-4963-8ee3-1e169fb5b4f7",
   "metadata": {},
   "outputs": [],
   "source": [
    "sum(np.isnan(results.solutions) + (results.solutions==0))"
   ]
  },
  {
   "cell_type": "code",
   "execution_count": null,
   "id": "741a785c-7ebe-43ee-9132-cf235894d0a5",
   "metadata": {},
   "outputs": [],
   "source": [
    "sum(results.solutions>0)"
   ]
  },
  {
   "cell_type": "code",
   "execution_count": null,
   "id": "3d82e3e4-c658-426a-adab-051b13d09785",
   "metadata": {},
   "outputs": [],
   "source": [
    "sum(np.isnan(results.solutions))"
   ]
  },
  {
   "cell_type": "code",
   "execution_count": null,
   "id": "369ba000-f1a2-4749-81d0-e322653d14e5",
   "metadata": {},
   "outputs": [],
   "source": [
    "sum(results.solutions==0)"
   ]
  },
  {
   "cell_type": "code",
   "execution_count": null,
   "id": "dc98e4b7-2211-4ea4-9641-bf0abb342caf",
   "metadata": {},
   "outputs": [],
   "source": []
  },
  {
   "cell_type": "code",
   "execution_count": null,
   "id": "f5d8453b-abe6-4ea0-a2a5-8b8219168365",
   "metadata": {},
   "outputs": [],
   "source": [
    "PATH_RESULTS = '/home/fesc/Data/Results/GwSAA'\n",
    "\n",
    "# SKU range\n",
    "SKU_range = range(1,460+1)\n",
    "\n",
    "results = pd.DataFrame()\n",
    "\n",
    "# For all SKUs\n",
    "for SKU in SKU_range:\n",
    "      \n",
    "    # Check if results exist   \n",
    "    if os.path.exists(PATH_RESULTS+'/GwSAA_SKU'+str(SKU)+'.csv'):\n",
    "        results = results.append(pd.read_csv(PATH_RESULTS+'/GwSAA_SKU'+str(SKU)+'.csv'))"
   ]
  },
  {
   "cell_type": "code",
   "execution_count": null,
   "id": "c538c75f-f420-43bc-a7e2-e4ec2bd66410",
   "metadata": {},
   "outputs": [],
   "source": [
    "sum(results.solutions>0) == len(results)"
   ]
  },
  {
   "cell_type": "code",
   "execution_count": null,
   "id": "c5a127b4-a817-4671-8604-8bbdf4774098",
   "metadata": {},
   "outputs": [],
   "source": []
  },
  {
   "cell_type": "code",
   "execution_count": null,
   "id": "0cb8264b-ce56-4766-97b8-bd5893f9d6f0",
   "metadata": {},
   "outputs": [],
   "source": [
    "PATH_RESULTS = '/home/fesc/Data/Results/GwSAAR'\n",
    "\n",
    "# SKU range\n",
    "SKU_range = range(1,460+1)\n",
    "\n",
    "results = pd.DataFrame()\n",
    "\n",
    "# For all SKUs\n",
    "for SKU in SKU_range:\n",
    "      \n",
    "    # Check if results exist   \n",
    "    if os.path.exists(PATH_RESULTS+'/GwSAAR_SKU'+str(SKU)+'_e12.csv'):\n",
    "        results = results.append(pd.read_csv(PATH_RESULTS+'/GwSAAR_SKU'+str(SKU)+'_e12.csv'))"
   ]
  },
  {
   "cell_type": "code",
   "execution_count": null,
   "id": "4cac4f4e-e435-4e44-ad5d-2ca7e04704be",
   "metadata": {},
   "outputs": [],
   "source": [
    "PATH_RESULTS = '/home/fesc/Data/Results/GwSAAR'\n",
    "\n",
    "# SKU range\n",
    "SKU_range = range(1,460+1)\n",
    "\n",
    "fileExists = []\n",
    "SKUs = []\n",
    "\n",
    "# For all SKUs\n",
    "for SKU in SKU_range:\n",
    "      \n",
    "    # Check if results exist   \n",
    "    fileExists = fileExists + [os.path.exists(PATH_RESULTS+'/GwSAAR_SKU'+str(SKU)+'_e12.csv')]\n",
    "    SKUs = SKUs + [SKU]\n",
    "        \n",
    "        \n",
    "        \n",
    "ResultsCheck = pd.DataFrame({\n",
    "    'SKU': SKUs,\n",
    "    'fileExists': fileExists\n",
    "})"
   ]
  },
  {
   "cell_type": "code",
   "execution_count": null,
   "id": "f956f560-219f-4360-94f2-bef9c5274a64",
   "metadata": {},
   "outputs": [],
   "source": [
    "PATH_RESULTS = '/home/fesc/Data/Results/GwSAAR'\n",
    "\n",
    "# SKU range\n",
    "SKU_range = range(1,460+1)\n",
    "\n",
    "fileExists = []\n",
    "SKUs = []\n",
    "\n",
    "# For all SKUs\n",
    "for SKU in SKU_range:\n",
    "      \n",
    "    # Check if results exist   \n",
    "    fileExists = fileExists + [os.path.exists(PATH_RESULTS+'/GwSAAR_SKU'+str(SKU)+'_e12.csv')]\n",
    "    SKUs = SKUs + [SKU]\n",
    "        \n",
    "        \n",
    "        \n",
    "ResultsCheck = pd.DataFrame({\n",
    "    'SKU': SKUs,\n",
    "    'fileExists': fileExists\n",
    "})"
   ]
  },
  {
   "cell_type": "code",
   "execution_count": null,
   "id": "516c873c-4b65-482b-af80-3cbec3a5a436",
   "metadata": {},
   "outputs": [],
   "source": [
    "sum(ResultsCheck.fileExists)"
   ]
  },
  {
   "cell_type": "code",
   "execution_count": null,
   "id": "cd7ab916-db6e-410c-bbc0-474b18aede0c",
   "metadata": {},
   "outputs": [],
   "source": [
    "PATH_RESULTS = '/home/fesc/Data/Results/GwSAAR'\n",
    "\n",
    "# SKU range\n",
    "SKU_range = range(1,460+1)\n",
    "\n",
    "results = pd.DataFrame()\n",
    "\n",
    "# For all SKUs\n",
    "for SKU in SKU_range:\n",
    "      \n",
    "    # Check if results exist   \n",
    "    if os.path.exists(PATH_RESULTS+'/GwSAAR_SKU'+str(SKU)+'_e12.csv'):\n",
    "        results = results.append(pd.read_csv(PATH_RESULTS+'/GwSAAR_SKU'+str(SKU)+'_e12.csv'))"
   ]
  },
  {
   "cell_type": "code",
   "execution_count": null,
   "id": "797f2a75-c462-4dbf-b0dc-404eb5d6aa3e",
   "metadata": {},
   "outputs": [],
   "source": [
    "sum(results.status == 2) + sum(results.status == 11), len(results.status)"
   ]
  },
  {
   "cell_type": "code",
   "execution_count": null,
   "id": "e0b92823-5efa-4a1e-923e-c6b816f29160",
   "metadata": {},
   "outputs": [],
   "source": [
    "results['solFound'] = (results.status == 2) + (results.status == 11)\n",
    "results_agg = results.groupby(['SKU', 'CR', 'tau']).agg({'solFound': sum}).reset_index()"
   ]
  },
  {
   "cell_type": "code",
   "execution_count": null,
   "id": "cb546def-fad7-4d95-8f66-b38953b85719",
   "metadata": {},
   "outputs": [],
   "source": [
    "results_agg['solFound'] = results_agg.solFound == 13\n",
    "results_agg = results_agg.groupby(['SKU', 'CR']).agg({'solFound': sum}).reset_index()\n",
    "results_agg['solFound'] = results_agg.solFound > 0"
   ]
  },
  {
   "cell_type": "code",
   "execution_count": null,
   "id": "cad9ffd1-b2a2-44c6-844c-25ac9c696183",
   "metadata": {},
   "outputs": [],
   "source": [
    "sum(results_agg.solFound)"
   ]
  },
  {
   "cell_type": "code",
   "execution_count": null,
   "id": "12cd0cfd-07b6-4f13-9d5f-32999f921c24",
   "metadata": {},
   "outputs": [],
   "source": [
    "len(set(results.SKU)) * 3"
   ]
  },
  {
   "cell_type": "code",
   "execution_count": null,
   "id": "a2c2db20-0918-46f9-9101-117b3a071dbc",
   "metadata": {},
   "outputs": [],
   "source": [
    "results_agg = results_agg.groupby(['SKU']).agg({'solFound': sum}).reset_index()\n",
    "results_agg['solFound'] = results_agg.solFound == 3"
   ]
  },
  {
   "cell_type": "code",
   "execution_count": null,
   "id": "4c17c88b-3eda-422f-8219-7f4706caf5bb",
   "metadata": {},
   "outputs": [],
   "source": [
    "sum(results_agg.solFound)"
   ]
  },
  {
   "cell_type": "markdown",
   "id": "462fb326-8768-4c96-ac2f-015516ed631d",
   "metadata": {},
   "source": [
    "**Aggregating results**\n",
    "\n",
    "Aggregating results per product (SKU), CR, and tau..."
   ]
  },
  {
   "cell_type": "code",
   "execution_count": null,
   "id": "2942daca-4a72-4bc1-b536-7d31c442489a",
   "metadata": {},
   "outputs": [],
   "source": [
    "PATH_RESULTS = '/home/fesc/Data/Results/GwSAAR'\n",
    "\n",
    "# SKU range\n",
    "SKU_range = range(1,460+1)\n",
    "\n",
    "results = pd.DataFrame()\n",
    "\n",
    "# For all SKUs\n",
    "for SKU in SKU_range:\n",
    "      \n",
    "    # Check if results exist   \n",
    "    if os.path.exists(PATH_RESULTS+'/GwSAAR_SKU'+str(SKU)+'_e12.csv'):\n",
    "        results = results.append(pd.read_csv(PATH_RESULTS+'/GwSAAR_SKU'+str(SKU)+'_e12.csv'))"
   ]
  },
  {
   "cell_type": "code",
   "execution_count": null,
   "id": "6adc903a-a294-4ea2-83bb-ad23929f38c3",
   "metadata": {},
   "outputs": [],
   "source": [
    "results"
   ]
  },
  {
   "cell_type": "code",
   "execution_count": null,
   "id": "36c74c06-3346-4abf-9e05-3c0ef8778bf7",
   "metadata": {},
   "outputs": [],
   "source": [
    "# Save result\n",
    "save_log = results.to_csv(\n",
    "    path_or_buf=PATH_RESULTS+'/Results_GwSAAR_e12.csv', \n",
    "    sep=',', index=False\n",
    ")"
   ]
  },
  {
   "cell_type": "code",
   "execution_count": null,
   "id": "b405878d-e39d-4d67-ab0c-57c8539b8845",
   "metadata": {},
   "outputs": [],
   "source": [
    "# Save result\n",
    "save_log = results.to_csv(\n",
    "    path_or_buf=PATH_RESULTS+'/Results_GwSAA.csv', \n",
    "    sep=',', index=False\n",
    ")"
   ]
  },
  {
   "cell_type": "code",
   "execution_count": null,
   "id": "fbcec2f4-5c33-46f5-99cb-f8e512d0bb2f",
   "metadata": {},
   "outputs": [],
   "source": [
    "PATH_RESULTS"
   ]
  },
  {
   "cell_type": "code",
   "execution_count": null,
   "id": "c17e7e63-e641-442b-8986-bb496462cc69",
   "metadata": {},
   "outputs": [],
   "source": []
  },
  {
   "cell_type": "code",
   "execution_count": null,
   "id": "c5daf01e-cffb-49d2-84dc-db7f8cac6d0c",
   "metadata": {},
   "outputs": [],
   "source": []
  },
  {
   "cell_type": "markdown",
   "id": "dafc86db-b584-4c73-8599-7c661831047a",
   "metadata": {},
   "source": [
    "**Archive**"
   ]
  },
  {
   "cell_type": "code",
   "execution_count": null,
   "id": "76894f51-aad9-4c9e-81c7-0888435a6779",
   "metadata": {},
   "outputs": [],
   "source": []
  },
  {
   "cell_type": "code",
   "execution_count": null,
   "id": "2c43747d-bf29-4583-940e-efd13fc099de",
   "metadata": {},
   "outputs": [],
   "source": []
  },
  {
   "cell_type": "code",
   "execution_count": null,
   "id": "2a34d80b-24a1-4449-a108-f040ab381eae",
   "metadata": {},
   "outputs": [],
   "source": []
  },
  {
   "cell_type": "code",
   "execution_count": null,
   "id": "827b669d-a85f-4c3a-a497-b537e1215084",
   "metadata": {},
   "outputs": [],
   "source": []
  },
  {
   "cell_type": "code",
   "execution_count": null,
   "id": "2a2a4f87-3c60-4802-89cb-836015bfcc76",
   "metadata": {},
   "outputs": [],
   "source": []
  },
  {
   "cell_type": "code",
   "execution_count": null,
   "id": "3983be9c-5195-4706-925a-0aa339d8372f",
   "metadata": {},
   "outputs": [],
   "source": [
    "PATH_RESULTS = '/home/fesc/Data/Results/GwSAAR'\n",
    "\n",
    "# SKU range\n",
    "SKU_range = range(1,460+1)\n",
    "\n",
    "\n",
    "# For all SKUs\n",
    "for SKU in SKU_range:\n",
    "      \n",
    "    # Check if results exist   \n",
    "    results = pd.read_csv(PATH_RESULTS+'/GwSAAR_SKU'+str(SKU)+'_e3.csv')\n",
    "    results = results.drop(columns='Unnamed: 0')\n",
    "    # Save result\n",
    "    save_log = results.to_csv(\n",
    "        path_or_buf=PATH_RESULTS+'/GwSAAR_SKU'+str(SKU)+'_e3.csv', \n",
    "        sep=',', index=False\n",
    "    )\n",
    "\n",
    "    "
   ]
  },
  {
   "cell_type": "code",
   "execution_count": null,
   "id": "004d9140-392c-42b0-a198-b8e9c78d3597",
   "metadata": {},
   "outputs": [],
   "source": [
    "PATH_RESULTS = '/home/fesc/Data/Results/GwSAAR'\n",
    "\n",
    "# SKU range\n",
    "SKU_range = range(1,460+1)\n",
    "\n",
    "\n",
    "# For all SKUs\n",
    "for SKU in SKU_range:\n",
    "      \n",
    "    # Check if results exist   \n",
    "    results = pd.read_csv(PATH_RESULTS+'/GwSAAR_SKU'+str(SKU)+'_e3.csv')\n",
    "    results = results.rename(columns={'SL': 'CR'})\n",
    "    \n",
    "    # Save result\n",
    "    save_log = results.to_csv(\n",
    "        path_or_buf=PATH_RESULTS+'/GwSAAR_SKU'+str(SKU)+'_e3.csv', \n",
    "        sep=',', index=False\n",
    "    )\n",
    "\n",
    "    "
   ]
  },
  {
   "cell_type": "code",
   "execution_count": null,
   "id": "a57ca6ab-e2e3-4270-acb6-4607391c167a",
   "metadata": {},
   "outputs": [],
   "source": [
    "#results = results.drop(columns='Unnamed: 0')\n",
    "results.rename(columns={'SL': 'CR'})"
   ]
  },
  {
   "cell_type": "code",
   "execution_count": null,
   "id": "cc9735a5-bf99-488e-83f0-3ae6a271a1fd",
   "metadata": {},
   "outputs": [],
   "source": [
    "results"
   ]
  },
  {
   "cell_type": "code",
   "execution_count": null,
   "id": "0238efa3-25df-41c4-b968-865079dd9842",
   "metadata": {},
   "outputs": [],
   "source": [
    "# Save result\n",
    "save_log = results.to_csv(\n",
    "    path_or_buf=PATH_RESULTS+'/___GwSAAR_SKU'+str(SKU)+'_e1.csv', \n",
    "    sep=',', index=False\n",
    ")\n"
   ]
  },
  {
   "cell_type": "code",
   "execution_count": null,
   "id": "ccc8b3cb-5aac-41db-8188-1645cf4a0ddd",
   "metadata": {},
   "outputs": [],
   "source": []
  },
  {
   "cell_type": "code",
   "execution_count": null,
   "id": "beae7bf6-1c73-492f-a2f7-65dc1c25116a",
   "metadata": {},
   "outputs": [],
   "source": []
  },
  {
   "cell_type": "code",
   "execution_count": null,
   "id": "feacf0bb-da5e-4aac-9d70-00f587f7ee5c",
   "metadata": {},
   "outputs": [],
   "source": []
  },
  {
   "cell_type": "code",
   "execution_count": null,
   "id": "acc717d6-1212-471a-8b33-5c37a376c20d",
   "metadata": {},
   "outputs": [],
   "source": []
  },
  {
   "cell_type": "code",
   "execution_count": null,
   "id": "f45529ec-8f21-497f-941f-783d1287b08c",
   "metadata": {},
   "outputs": [],
   "source": [
    "PATH_RESULTS = '/home/fesc/Data/Results'\n",
    "model_type = 'WeightedSAA' # Use 'SAA' or 'WeightedSAA'\n",
    "sampling = 'global' # Use 'global' or 'local'\n",
    "scale = True # Use 'global' or 'local'\n",
    "if scale:\n",
    "    z='_z'\n",
    "else:\n",
    "    z=''\n",
    "\n",
    "SKU_range = range(1,460+1)\n",
    "#RO_range = [1,3,6,12,24,48]\n",
    "\n",
    "results = pd.DataFrame()\n",
    "\n",
    "for SKU in SKU_range:\n",
    "        results= results.append(pd.read_csv(PATH_RESULTS+'/SKU'+str(SKU)+\n",
    "                                            '/Static'+model_type+'_MultiPolicy_'+sampling+z+'.csv'))\n",
    "        \n",
    "        \n",
    "# for SKU in SKU_range:\n",
    "#     for RO in RO_range:\n",
    "#         results_RO = results_RO.append(pd.read_csv(PATH_RESULTS+'/SKU'+str(SKU)+\n",
    "#                                                    '/Static'+model_type+'_'+sampling+'_e'+str(RO)+'.csv'))\n",
    "        \n",
    "#results_local = pd.read_csv(PATH_RESULTS+'/StaticWeightedSAA_MultiPolicy_local_summary.csv')\n",
    "#results_global = pd.read_csv(PATH_RESULTS+'/StaticWeightedSAA_MultiPolicy_global_summary.csv')"
   ]
  },
  {
   "cell_type": "code",
   "execution_count": null,
   "id": "85a6287c-898e-44b2-9bd4-f5f53dede748",
   "metadata": {},
   "outputs": [],
   "source": [
    "results"
   ]
  },
  {
   "cell_type": "code",
   "execution_count": null,
   "id": "fb724b0a-19b3-4470-9e91-81fe8e5c8743",
   "metadata": {},
   "outputs": [],
   "source": [
    "results.to_csv(\n",
    "    path_or_buf=PATH_RESULTS+'/StaticWeightedSAA_MultiPolicy_global_z.csv', \n",
    "    sep=','\n",
    ")"
   ]
  },
  {
   "cell_type": "code",
   "execution_count": null,
   "id": "82bf6bb6-bf37-46fe-940f-57ab7ab7b065",
   "metadata": {},
   "outputs": [],
   "source": [
    "# results_RO.to_csv(\n",
    "#                 path_or_buf=PATH_RESULTS+'/StaticWeightedSAA_MultiPolicy_RO_local_summary.csv' , \n",
    "#                 sep=','\n",
    "#             )"
   ]
  },
  {
   "cell_type": "code",
   "execution_count": null,
   "id": "44b07434-e54b-4190-b765-5d47043fef37",
   "metadata": {},
   "outputs": [],
   "source": [
    "results_RO_agg = results_RO.groupby(['SKU', 'e_std', 'SL', 'T_horizon_rolling']).agg({'cost': sum}).groupby(\n",
    "   ['SKU', 'e_std', 'SL']).agg({'cost': min}).reset_index()\n",
    "\n",
    "results_RO_agg_best = results_RO.groupby(\n",
    "    ['SKU', 'e_std', 'SL', 'T_horizon_rolling']).agg({'cost': sum}).groupby(\n",
    "    ['SKU', 'T_horizon_rolling', 'SL']).agg({'cost': min}).groupby(\n",
    "    ['SKU', 'SL']).agg({'cost': min}).reset_index()\n",
    "\n",
    "results_local_agg = results_local.groupby(['SKU', 'SL', 'T_horizon_rolling']).agg({'cost': sum}).groupby(\n",
    "   ['SKU', 'SL']).agg({'cost': min}).reset_index()\n",
    "\n",
    "results_global_agg = results_global.groupby(['SKU', 'SL', 'T_horizon_rolling']).agg({'cost': sum}).groupby(\n",
    "   ['SKU', 'SL']).agg({'cost': min}).reset_index()"
   ]
  },
  {
   "cell_type": "code",
   "execution_count": null,
   "id": "97422ccd-6470-4a83-83e2-b058443dafeb",
   "metadata": {},
   "outputs": [],
   "source": [
    "results_RO_agg = results_RO_agg.pivot(index=['SKU', 'SL'], \n",
    "                     columns=['e_std'], \n",
    "                     values=['cost'])\n",
    "results_RO_agg.columns = results_RO_agg.columns.to_flat_index()\n",
    "results_RO_agg = results_RO_agg.reset_index()"
   ]
  },
  {
   "cell_type": "code",
   "execution_count": null,
   "id": "79daf097-6afd-4acb-9bc9-de897764b683",
   "metadata": {},
   "outputs": [],
   "source": [
    "# Merge\n",
    "result = results_RO_agg.merge(results_local_agg, on=['SKU', 'SL'])\n",
    "result = result.merge(results_global_agg, on=['SKU', 'SL'], suffixes=['_local', '_global'])\n",
    "result = result.merge(results_RO_agg_best, on=['SKU', 'SL'])\n",
    "result=result.rename(columns={'cost': 'cost_bestRO'})\n",
    "result = result.melt(id_vars=['SKU', 'SL'], var_name='model', value_name='cost')\n",
    "result"
   ]
  },
  {
   "cell_type": "code",
   "execution_count": null,
   "id": "215a70b7-a6fb-45ab-a6ef-cc74d5fe364d",
   "metadata": {},
   "outputs": [],
   "source": [
    "result.groupby(['SL', 'model']).agg({'cost': sum}).reset_index()"
   ]
  },
  {
   "cell_type": "code",
   "execution_count": null,
   "id": "dce8dfa4-400d-4f5a-854b-2df7c08ca8d6",
   "metadata": {},
   "outputs": [],
   "source": []
  },
  {
   "cell_type": "code",
   "execution_count": null,
   "id": "150d9716-e7f9-4bcd-baa5-562cf8346bc3",
   "metadata": {},
   "outputs": [],
   "source": [
    "# Import utils\n",
    "import numpy as np\n",
    "import pandas as pd\n",
    "import seaborn as sns\n",
    "import copy\n",
    "import time\n",
    "import datetime as dt\n",
    "import pickle\n",
    "import pyreadr\n",
    "import json\n",
    "from joblib import dump, load, Parallel, delayed\n",
    "import joblib as joblib\n",
    "import os\n",
    "import itertools\n",
    "import contextlib\n",
    "from tqdm import tqdm\n",
    "\n",
    "# Import ML tools\n",
    "import sklearn\n",
    "from sklearn.neighbors import KNeighborsRegressor"
   ]
  },
  {
   "cell_type": "code",
   "execution_count": null,
   "id": "8e8990fe-7596-42d5-ba24-fb908237305a",
   "metadata": {},
   "outputs": [],
   "source": [
    "# Set params\n",
    "params = {\n",
    "   \n",
    "    'SKU_range': range(1,460+1),\n",
    "    'T_horizon_rolling_range': range(1,5+1),\n",
    "    'T_horizon': 13,\n",
    "    'n_jobs': 32,\n",
    "    'k': 100,\n",
    "    'PATH_DATA': '/home/fesc/Data',\n",
    "    'PATH_PARAMS': '/home/fesc/Data/Params',\n",
    "    'PATH_SAMPLES': '/home/fesc/Data/Samples',\n",
    "    'PATH_RESULTS': '/home/fesc/Data/Results',\n",
    "    'PATH_KERNELS': '/home/fesc/Data/Kernels'\n",
    "}"
   ]
  },
  {
   "cell_type": "code",
   "execution_count": null,
   "id": "c6e89ec1-e4a5-492d-8a46-302faa767d71",
   "metadata": {},
   "outputs": [],
   "source": [
    "# Check if all weights where generated\n",
    "SKUs = []\n",
    "T_horizon_rollings = []\n",
    "fileExists = []\n",
    "timeLastModifieds = []\n",
    "\n",
    "for SKU in params['SKU_range']:\n",
    "    for T_horizon_rolling in params['T_horizon_rolling_range']:\n",
    "\n",
    "        path = params['PATH_SAMPLES']+'/SKU'+str(SKU)+'/Static/Weights'+str(T_horizon_rolling)+'/weights_global_MQRX_ij.p'    \n",
    "        fileCheck = os.path.exists(path)\n",
    "        \n",
    "        if fileCheck:\n",
    "            timeLastModified = os.path.getmtime(path)\n",
    "            timeLastModified = time.strftime('%Y-%m-%d-%H-%M-%S', time.gmtime(timeLastModified))\n",
    "        else:\n",
    "             timeLastModified = \"\"\n",
    "\n",
    "        SKUs = SKUs + [SKU]\n",
    "        T_horizon_rollings = T_horizon_rollings + [T_horizon_rolling]\n",
    "        fileExists = fileExists + [fileCheck]\n",
    "        timeLastModifieds = timeLastModifieds + [timeLastModified]\n",
    "\n",
    "        \n",
    "checkWeights = pd.DataFrame({\n",
    "    'SKU': SKUs,\n",
    "    'T_horizon_rolling': T_horizon_rolling,\n",
    "    'weightsExist': fileExists,\n",
    "    'timeLastModified': timeLastModifieds\n",
    "})"
   ]
  },
  {
   "cell_type": "code",
   "execution_count": null,
   "id": "1c03c042-b392-46df-8b33-21cb82cde7aa",
   "metadata": {},
   "outputs": [],
   "source": [
    "checkWeights.loc[checkWeights.weightsExist]"
   ]
  },
  {
   "cell_type": "code",
   "execution_count": null,
   "id": "6574ce3b-9dbf-4396-83a4-e9173c762850",
   "metadata": {},
   "outputs": [],
   "source": [
    "checkWeights.sort_values('timeLastModified')"
   ]
  },
  {
   "cell_type": "code",
   "execution_count": null,
   "id": "872b69f7-6f6b-48bd-9f5f-e0c42d8cc1cc",
   "metadata": {},
   "outputs": [],
   "source": []
  },
  {
   "cell_type": "code",
   "execution_count": null,
   "id": "60c34a37-6aee-42ab-8c3e-2dbfbd84710c",
   "metadata": {},
   "outputs": [],
   "source": []
  },
  {
   "cell_type": "code",
   "execution_count": null,
   "id": "e6ad4794-3685-4885-9431-b01a94b5fedb",
   "metadata": {},
   "outputs": [],
   "source": []
  },
  {
   "cell_type": "code",
   "execution_count": null,
   "id": "31c7441b-dd7d-44e0-b3f1-7cc8dea1282f",
   "metadata": {},
   "outputs": [],
   "source": [
    "PATH_RESULTS = '/home/fesc/Data/Results'\n",
    "model_type = 'WeightedSAA' # Use 'SAA' or 'WeightedSAA'\n",
    "sampling = 'global' # Use 'global' or 'local'\n",
    "\n",
    "\n",
    "# SKU range\n",
    "SKU_range = range(1,460+1)\n",
    "\n",
    "\n",
    "\n",
    "\n",
    "fileExists = []\n",
    "SKUs = []\n",
    "\n",
    "# For all SKUs\n",
    "for SKU in SKU_range:\n",
    "      \n",
    "    # Check if results exist   \n",
    "    fileExists = fileExists + [os.path.exists(PATH_RESULTS+'/SKU'+str(SKU)+'/StaticWeightedSAA_global_robust_e6_20220630.csv')]\n",
    "    SKUs = SKUs + [SKU]\n",
    "        \n",
    "        \n",
    "        \n",
    "ResultsCheck = pd.DataFrame({\n",
    "    'SKU': SKUs,\n",
    "    'fileExists': fileExists\n",
    "})\n",
    "\n",
    "\n"
   ]
  },
  {
   "cell_type": "code",
   "execution_count": null,
   "id": "71d4f89d-db9d-4342-8e03-56898ad634cd",
   "metadata": {},
   "outputs": [],
   "source": [
    "ResultsCheck.loc[ResultsCheck.fileExists == False]"
   ]
  },
  {
   "cell_type": "code",
   "execution_count": null,
   "id": "067c7b7f-611e-44bb-89ff-bc0b7a244487",
   "metadata": {},
   "outputs": [],
   "source": [
    "len(ResultsCheck.loc[ResultsCheck.fileExists == False])"
   ]
  },
  {
   "cell_type": "code",
   "execution_count": null,
   "id": "61c6a177-91f9-47c3-877c-30780c66e2ac",
   "metadata": {},
   "outputs": [],
   "source": [
    "PATH_RESULTS = '/home/fesc/Data/Results'\n",
    "model_type = 'WeightedSAA' # Use 'SAA' or 'WeightedSAA'\n",
    "sampling = 'global' # Use 'global' or 'local'\n",
    "\n",
    "\n",
    "# SKU range\n",
    "SKU_range = range(1,460+1)\n",
    "\n",
    "\n",
    "\n",
    "\n",
    "results = pd.DataFrame()\n",
    "\n",
    "# For all SKUs\n",
    "for SKU in SKU_range:\n",
    "      \n",
    "    # Check if results exist   \n",
    "    fileExists = fileExists + [os.path.exists(PATH_RESULTS+'/SKU'+str(SKU)+'/StaticWeightedSAA_global_robust_e1_20220630.csv')]\n",
    "    \n",
    "    if fileExists:\n",
    "        results= results.append(pd.read_csv(PATH_RESULTS+'/SKU'+str(SKU)+'/StaticWeightedSAA_global_robust_e1_20220630.csv'))\n",
    "        \n",
    "        \n",
    "        \n",
    "\n",
    "\n",
    "\n"
   ]
  },
  {
   "cell_type": "code",
   "execution_count": null,
   "id": "9ef9057b-0f66-4543-9e24-9d3445091e78",
   "metadata": {},
   "outputs": [],
   "source": [
    "results.to_csv(\n",
    "        path_or_buf=PATH_RESULTS+'/StaticWeightedSAA_global_robust_e1_20220630.csv', \n",
    "        sep=','\n",
    "    )"
   ]
  },
  {
   "cell_type": "code",
   "execution_count": null,
   "id": "d5bda812-a513-4273-ad8e-bb55670a7944",
   "metadata": {},
   "outputs": [],
   "source": []
  }
 ],
 "metadata": {
  "kernelspec": {
   "display_name": "DDDInventoryControl",
   "language": "python",
   "name": "dddinventorycontrol"
  },
  "language_info": {
   "codemirror_mode": {
    "name": "ipython",
    "version": 3
   },
   "file_extension": ".py",
   "mimetype": "text/x-python",
   "name": "python",
   "nbconvert_exporter": "python",
   "pygments_lexer": "ipython3",
   "version": "3.8.15"
  }
 },
 "nbformat": 4,
 "nbformat_minor": 5
}
