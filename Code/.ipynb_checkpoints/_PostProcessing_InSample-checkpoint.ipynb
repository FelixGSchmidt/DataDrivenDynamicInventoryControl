{
 "cells": [
  {
   "cell_type": "markdown",
   "id": "5dd648f4-d213-4288-a8a7-2dfacb420889",
   "metadata": {},
   "source": [
    "# Imports"
   ]
  },
  {
   "cell_type": "code",
   "execution_count": 1,
   "id": "ec6f6426-35da-47c6-b50f-269f72aca747",
   "metadata": {},
   "outputs": [],
   "source": [
    "# Import utils\n",
    "import numpy as np\n",
    "import pandas as pd\n",
    "import copy\n",
    "import time\n",
    "import datetime as dt\n",
    "import pickle\n",
    "import json\n",
    "from pathlib import Path\n",
    "import joblib\n",
    "from joblib import dump, load, Parallel, delayed\n",
    "import os\n",
    "import itertools\n",
    "import contextlib\n",
    "from tqdm import tqdm\n",
    "\n",
    "from Experiment import Experiment\n",
    "from Experiment import Evaluation"
   ]
  },
  {
   "cell_type": "code",
   "execution_count": 2,
   "id": "1a4eb4aa-5ce0-426f-b727-26e2a89d411b",
   "metadata": {},
   "outputs": [],
   "source": [
    "# Setup the experiment\n",
    "experiment_setup = dict(\n",
    "\n",
    "    # Set paths\n",
    "    path_data = '/home/fesc/DDDInventoryControl/Data',\n",
    "    path_weightsmodel = '/home/fesc/DDDInventoryControl/Data/WeightsModel',\n",
    "    path_results = '/home/fesc/DDDInventoryControl/Data/Results',\n",
    "    \n",
    "    # Weights models\n",
    "    global_weightsmodel = 'rfwm_global', \n",
    "    local_weightsmodel = 'rfwm_local', \n",
    "\n",
    "    # Optimization models\n",
    "    GwSAA = 'GwSAA',\n",
    "    GwSAAR = 'GwSAAR',\n",
    "    wSAA = 'wSAA',\n",
    "    wSAAR = 'wSAAR',\n",
    "    SAA = 'SAA',\n",
    "    ExPost = 'ExPost',\n",
    "    \n",
    "    # Set identifier of start period of testing horizon\n",
    "    timePeriodsTestStart = 114,\n",
    "\n",
    "    # Set product identifiers\n",
    "    products = range(1,460+1),   # Products (SKUs) k=1,...,M\n",
    "    \n",
    "    # Set problem params\n",
    "    T = 13,             # Planning horizon T\n",
    "    ts = range(1,13+1), # Periods t=1,...,T of the planning horizon\n",
    "    taus = [0,1,2,3,4], # Look-aheads tau=0,...,4\n",
    "    #es = [1,3,6,9,12],  # Uncertainty set specifications e=1,...,12\n",
    "    es = [0.33, 0.67, 1.00, 1.33, 1.67, 2.00, 2.33, 2.67, 3.00],\n",
    "       \n",
    "    # Set cost params\n",
    "    cost_params = [\n",
    "        {'CR': 0.50, 'K': 100, 'u': 0.5, 'h': 1, 'b': 1},\n",
    "        {'CR': 0.75, 'K': 100, 'u': 0.5, 'h': 1, 'b': 3},\n",
    "        {'CR': 0.90, 'K': 100, 'u': 0.5, 'h': 1, 'b': 9}\n",
    "    ]\n",
    ")\n",
    "\n",
    "# Make all experiment variables visible locally\n",
    "locals().update(experiment_setup)\n",
    "\n",
    "# Initialize Evaluation\n",
    "evaluation = Evaluation()"
   ]
  },
  {
   "cell_type": "markdown",
   "id": "27d945cf-5038-44f8-9efb-dbe7a90218cf",
   "metadata": {},
   "source": [
    "# I. Prescriptive performance results"
   ]
  },
  {
   "cell_type": "markdown",
   "id": "4286a5a4-faa9-4eda-becc-559b2fd032dc",
   "metadata": {},
   "source": [
    "## Concatenate and aggregate results per model"
   ]
  },
  {
   "cell_type": "markdown",
   "id": "3134261e-ce4d-4ed1-ac25-0d158a280f63",
   "metadata": {},
   "source": [
    "### In-sample results (within training horizon)"
   ]
  },
  {
   "cell_type": "code",
   "execution_count": 3,
   "id": "5615b9a9-f944-4012-8b77-55837cb8fd5d",
   "metadata": {},
   "outputs": [],
   "source": [
    "#path = path_results+'/InSample'\n",
    "path = copy.deepcopy(path_results)"
   ]
  },
  {
   "cell_type": "code",
   "execution_count": 4,
   "id": "b02cea8f-3033-442f-acc3-8648558536b7",
   "metadata": {},
   "outputs": [],
   "source": [
    "# Rolling Horizon Global Weighted SAA (GwSAA)\n",
    "results = evaluation.concatenate_results(path+'/'+GwSAA, GwSAA, products, taus)\n",
    "results.to_csv(path+'/'+GwSAA+'_results.csv', sep=',', index=False)\n",
    "results_agg = evaluation.aggregate_results(results, ['CR', 'tau', 'product'])\n",
    "results_agg.to_csv(path+'/'+GwSAA+'_results_summary.csv', sep=',', index=False)"
   ]
  },
  {
   "cell_type": "code",
   "execution_count": null,
   "id": "dde7d04a-8fba-4cf1-a1aa-cd407ba937be",
   "metadata": {},
   "outputs": [],
   "source": [
    "# Rolling Horizon Local Weighted SAA (wSAA)\n",
    "results = evaluation.concatenate_results(path+'/'+wSAA, wSAA, products, taus)\n",
    "results.to_csv(path+'/'+wSAA+'_results.csv', sep=',', index=False)\n",
    "results_agg = evaluation.aggregate_results(results, ['CR', 'tau', 'product'])\n",
    "results_agg.to_csv(path+'/'+wSAA+'_results_summary.csv', sep=',', index=False)"
   ]
  },
  {
   "cell_type": "code",
   "execution_count": null,
   "id": "089c5294-caea-4744-b99c-d04012b51ed1",
   "metadata": {},
   "outputs": [],
   "source": [
    "# Rolling Horizon Global Robust Weighted SAA (GwSAA-R)\n",
    "results = evaluation.concatenate_results(path+'/'+GwSAAR, GwSAAR, products, taus, es)\n",
    "results.to_csv(path+'/'+GwSAAR+'_results.csv', sep=',', index=False)\n",
    "results_agg = evaluation.aggregate_results(results, ['CR', 'tau', 'e', 'product'])\n",
    "results_agg.to_csv(path+'/'+GwSAAR+'_results_summary.csv', sep=',', index=False)"
   ]
  },
  {
   "cell_type": "code",
   "execution_count": null,
   "id": "143b29a4-ce79-4b17-a6f7-30d0c2b1e2b4",
   "metadata": {},
   "outputs": [],
   "source": [
    "# Rolling Horizon Local Robust Weighted SAA (wSAA-R)\n",
    "results = evaluation.concatenate_results(path+'/InSample/'+wSAAR, wSAAR, products, taus, es)\n",
    "results.to_csv(path+'/'+wSAAR+'_results.csv', sep=',', index=False)\n",
    "results_agg = evaluation.aggregate_results(results, ['CR', 'tau', 'e', 'product'])\n",
    "results_agg.to_csv(path+'/'+wSAAR+'_results_summary.csv', sep=',', index=False)"
   ]
  },
  {
   "cell_type": "code",
   "execution_count": null,
   "id": "e8abda88-55ce-450d-91d0-3ed9b6defee4",
   "metadata": {},
   "outputs": [],
   "source": [
    "# Rolling Horizon Local SAA (SAA)\n",
    "results = evaluation.concatenate_results(path+'/'+SAA, SAA, products, taus)\n",
    "results.to_csv(path+'/'+SAA+'_results.csv', sep=',', index=False)\n",
    "results_agg = evaluation.aggregate_results(results, ['CR', 'tau', 'product'])\n",
    "results_agg.to_csv(path+'/'+SAA+'_results_summary.csv', sep=',', index=False)"
   ]
  },
  {
   "cell_type": "code",
   "execution_count": null,
   "id": "9eda82ea-575e-4570-98ee-ac3a1a701c50",
   "metadata": {},
   "outputs": [],
   "source": [
    "# Ex-post Clairvoyant (ExPost)\n",
    "results = evaluation.concatenate_results(path+'/'+ExPost, ExPost, products, taus=[None])\n",
    "results.to_csv(path+'/'+ExPost+'_results.csv', sep=',', index=False)\n",
    "results_agg = evaluation.aggregate_results(results, ['CR', 'product'])\n",
    "results_agg.to_csv(path+'/'+ExPost+'_results_summary.csv', sep=',', index=False)"
   ]
  },
  {
   "cell_type": "code",
   "execution_count": 5,
   "id": "84b7cf5a-0f05-4037-8b2a-bcb562dddda5",
   "metadata": {},
   "outputs": [],
   "source": [
    "# Load aggregated results\n",
    "results_GwSAA = pd.read_csv(path+'/'+GwSAA+'_results_summary.csv')\n",
    "results_wSAA = pd.read_csv(path+'/'+wSAA+'_results_summary.csv')\n",
    "results_GwSAAR = pd.read_csv(path+'/'+GwSAAR+'_results_summary.csv')\n",
    "results_wSAAR = pd.read_csv(path+'/'+wSAAR+'_results_summary.csv')\n",
    "results_SAA = pd.read_csv(path+'/'+SAA+'_results_summary.csv')\n",
    "results_ExPost = pd.read_csv(path+'/'+ExPost+'_results_summary.csv')"
   ]
  },
  {
   "cell_type": "code",
   "execution_count": 6,
   "id": "e09cf6b6-c8f0-460d-b5fe-5fd2d322e820",
   "metadata": {},
   "outputs": [],
   "source": [
    "# Combine to one results data set\n",
    "cols = ['model', 'CR', 'tau', 'e', 'product', 'K', 'u', 'h', 'b', \n",
    "        'I', 'q', 'I_q', 'y', 'I_q_y', 'c_o', 'c_s', 'cost',\n",
    "       'defaulted', 'solutions', 'gap', 'exec_time_sec', 'cpu_time_sec']\n",
    "\n",
    "results_GwSAA['model'] = copy.deepcopy(GwSAA)\n",
    "results_GwSAA['e'] = None\n",
    "results_GwSAA = results_GwSAA[cols]\n",
    "\n",
    "results_wSAA['model'] = copy.deepcopy(wSAA)\n",
    "results_wSAA['e'] = None\n",
    "results_wSAA = results_wSAA[cols]\n",
    "\n",
    "results_GwSAAR['model'] = copy.deepcopy(GwSAAR)\n",
    "results_GwSAAR = results_GwSAAR[cols]\n",
    "\n",
    "results_wSAAR['model'] = copy.deepcopy(wSAAR) \n",
    "results_wSAAR = results_wSAAR[cols]\n",
    "\n",
    "results = pd.concat([results_GwSAA, results_wSAA, results_GwSAAR, results_wSAAR])"
   ]
  },
  {
   "cell_type": "code",
   "execution_count": 7,
   "id": "64f22dcc-d789-4aa4-a68d-b47c7a09bd07",
   "metadata": {},
   "outputs": [],
   "source": [
    "# Add SAA and ExPost\n",
    "results = pd.merge(left=results,\n",
    "                   right=results_SAA[['CR', 'product', 'cost']],\n",
    "                   on=['CR', 'product'],\n",
    "                   suffixes=('', '_SAA'))\n",
    "results = pd.merge(left=results,\n",
    "                   right=results_ExPost[['CR', 'product', 'cost']],\n",
    "                   on=['CR', 'product'],\n",
    "                   suffixes=('', '_ExPost'))"
   ]
  },
  {
   "cell_type": "code",
   "execution_count": null,
   "id": "561bdb3f-0484-4383-88c1-e6e9e3f8fddf",
   "metadata": {},
   "outputs": [],
   "source": [
    "# Save\n",
    "results.to_csv(path+'/Results_summary.csv', sep=',', index=False)"
   ]
  },
  {
   "cell_type": "markdown",
   "id": "da9232b7-1771-4494-ad5c-49a6a654dc6a",
   "metadata": {},
   "source": [
    "### Out-of-sample results (within test horizon)"
   ]
  },
  {
   "cell_type": "code",
   "execution_count": 3,
   "id": "0f089a45-e209-4dd6-a263-5895cf4c1c0c",
   "metadata": {},
   "outputs": [],
   "source": [
    "#path = path_results+'/OutOfSample'\n",
    "path = copy.deepcopy(path_results)"
   ]
  },
  {
   "cell_type": "code",
   "execution_count": 4,
   "id": "7ddfca16-8e79-40e4-9e5b-3eb898aebd0e",
   "metadata": {},
   "outputs": [],
   "source": [
    "# Rolling Horizon Global Weighted SAA (GwSAA)\n",
    "results = evaluation.concatenate_results(path+'/'+GwSAA, GwSAA, products, taus)\n",
    "results.to_csv(path+'/'+GwSAA+'_results.csv', sep=',', index=False)\n",
    "results_agg = evaluation.aggregate_results(results, ['CR', 'tau', 'product'])\n",
    "results_agg.to_csv(path+'/'+GwSAA+'_results_summary.csv', sep=',', index=False)"
   ]
  },
  {
   "cell_type": "code",
   "execution_count": null,
   "id": "5315ceba-18e4-4bef-adab-ce8c24799e32",
   "metadata": {},
   "outputs": [],
   "source": [
    "# Rolling Horizon Local Weighted SAA (wSAA)\n",
    "results = evaluation.concatenate_results(path+'/'+wSAA, wSAA, products, taus)\n",
    "results.to_csv(path+'/'+wSAA+'_results.csv', sep=',', index=False)\n",
    "results_agg = evaluation.aggregate_results(results, ['CR', 'tau', 'product'])\n",
    "results_agg.to_csv(path+'/'+wSAA+'_results_summary.csv', sep=',', index=False)"
   ]
  },
  {
   "cell_type": "code",
   "execution_count": null,
   "id": "bfaa2de0-9cc3-4fc6-8cc0-9b1535b217d4",
   "metadata": {},
   "outputs": [],
   "source": [
    "# Rolling Horizon Global Robust Weighted SAA (GwSAA-R)\n",
    "results = evaluation.concatenate_results(path+'/'+GwSAAR, GwSAAR, products, taus, es)\n",
    "results.to_csv(path+'/'+GwSAAR+'_results.csv', sep=',', index=False)\n",
    "results_agg = evaluation.aggregate_results(results, ['CR', 'tau', 'e', 'product'])\n",
    "results_agg.to_csv(path+'/'+GwSAAR+'_results_summary.csv', sep=',', index=False)"
   ]
  },
  {
   "cell_type": "code",
   "execution_count": null,
   "id": "f3eb464f-fe28-470f-8bbb-c9b1d0d671f0",
   "metadata": {},
   "outputs": [],
   "source": [
    "# Rolling Horizon Local Robust Weighted SAA (wSAA-R)\n",
    "results = evaluation.concatenate_results(path+'/InSample/'+wSAAR, wSAAR, products, taus, es)\n",
    "results.to_csv(path+'/'+wSAAR+'_results.csv', sep=',', index=False)\n",
    "results_agg = evaluation.aggregate_results(results, ['CR', 'tau', 'e', 'product'])\n",
    "results_agg.to_csv(path+'/'+wSAAR+'_results_summary.csv', sep=',', index=False)"
   ]
  },
  {
   "cell_type": "code",
   "execution_count": null,
   "id": "83e1d7b5-fd52-44ea-a6b5-4c1f1ae1568c",
   "metadata": {},
   "outputs": [],
   "source": [
    "# Rolling Horizon Local SAA (SAA)\n",
    "results = evaluation.concatenate_results(path+'/'+SAA, SAA, products, taus)\n",
    "results.to_csv(path+'/'+SAA+'_results.csv', sep=',', index=False)\n",
    "results_agg = evaluation.aggregate_results(results, ['CR', 'tau', 'product'])\n",
    "results_agg.to_csv(path+'/'+SAA+'_results_summary.csv', sep=',', index=False)"
   ]
  },
  {
   "cell_type": "code",
   "execution_count": null,
   "id": "fa6e3633-c377-4e98-b708-ec571b1180ad",
   "metadata": {},
   "outputs": [],
   "source": [
    "# Ex-post Clairvoyant (ExPost)\n",
    "results = evaluation.concatenate_results(path+'/'+ExPost, ExPost, products, taus=[None])\n",
    "results.to_csv(path+'/'+ExPost+'_results.csv', sep=',', index=False)\n",
    "results_agg = evaluation.aggregate_results(results, ['CR', 'product'])\n",
    "results_agg.to_csv(path+'/'+ExPost+'_results_summary.csv', sep=',', index=False)"
   ]
  },
  {
   "cell_type": "code",
   "execution_count": 5,
   "id": "71c0de99-7c00-4d90-a076-e5e6890360fb",
   "metadata": {},
   "outputs": [],
   "source": [
    "# Load aggregated results\n",
    "results_GwSAA = pd.read_csv(path+'/'+GwSAA+'_results_summary.csv')\n",
    "results_wSAA = pd.read_csv(path+'/'+wSAA+'_results_summary.csv')\n",
    "results_GwSAAR = pd.read_csv(path+'/'+GwSAAR+'_results_summary.csv')\n",
    "results_wSAAR = pd.read_csv(path+'/'+wSAAR+'_results_summary.csv')\n",
    "results_SAA = pd.read_csv(path+'/'+SAA+'_results_summary.csv')\n",
    "results_ExPost = pd.read_csv(path+'/'+ExPost+'_results_summary.csv')"
   ]
  },
  {
   "cell_type": "code",
   "execution_count": 6,
   "id": "c26be12b-dfbe-47e4-8b9d-ff9362ab7332",
   "metadata": {},
   "outputs": [],
   "source": [
    "# Combine to one results data set\n",
    "cols = ['model', 'CR', 'tau', 'e', 'product', 'K', 'u', 'h', 'b', \n",
    "        'I', 'q', 'I_q', 'y', 'I_q_y', 'c_o', 'c_s', 'cost',\n",
    "       'defaulted', 'solutions', 'gap', 'exec_time_sec', 'cpu_time_sec']\n",
    "\n",
    "results_GwSAA['model'] = copy.deepcopy(GwSAA)\n",
    "results_GwSAA['e'] = None\n",
    "results_GwSAA = results_GwSAA[cols]\n",
    "\n",
    "results_wSAA['model'] = copy.deepcopy(wSAA)\n",
    "results_wSAA['e'] = None\n",
    "results_wSAA = results_wSAA[cols]\n",
    "\n",
    "results_GwSAAR['model'] = copy.deepcopy(GwSAAR)\n",
    "results_GwSAAR = results_GwSAAR[cols]\n",
    "\n",
    "results_wSAAR['model'] = copy.deepcopy(wSAAR) \n",
    "results_wSAAR = results_wSAAR[cols]\n",
    "\n",
    "results = pd.concat([results_GwSAA, results_wSAA, results_GwSAAR, results_wSAAR])"
   ]
  },
  {
   "cell_type": "code",
   "execution_count": 7,
   "id": "b72d18f9-ce7f-4afd-920f-b30965e0b74b",
   "metadata": {},
   "outputs": [],
   "source": [
    "# Add SAA and ExPost\n",
    "results = pd.merge(left=results,\n",
    "                   right=results_SAA[['CR', 'product', 'cost']],\n",
    "                   on=['CR', 'product'],\n",
    "                   suffixes=('', '_SAA'))\n",
    "results = pd.merge(left=results,\n",
    "                   right=results_ExPost[['CR', 'product', 'cost']],\n",
    "                   on=['CR', 'product'],\n",
    "                   suffixes=('', '_ExPost'))"
   ]
  },
  {
   "cell_type": "code",
   "execution_count": null,
   "id": "46038db7-84ab-4ab6-a25c-48b07604aaab",
   "metadata": {},
   "outputs": [],
   "source": [
    "# Save\n",
    "results.to_csv(path+'/Results_summary.csv', sep=',', index=False)"
   ]
  },
  {
   "cell_type": "code",
   "execution_count": null,
   "id": "d564018c-fc2b-4e2a-b1e1-f41edcbf0357",
   "metadata": {},
   "outputs": [],
   "source": []
  },
  {
   "cell_type": "code",
   "execution_count": null,
   "id": "e944578e-1606-487c-93a0-192863dfd62c",
   "metadata": {},
   "outputs": [],
   "source": []
  },
  {
   "cell_type": "markdown",
   "id": "e5c37444-8ace-4a81-8c87-c14101ce3794",
   "metadata": {},
   "source": [
    "## Select model parameters ($\\tau$ and $e$)"
   ]
  },
  {
   "cell_type": "markdown",
   "id": "06528bd4-d47e-45bd-b343-53ec36f9e623",
   "metadata": {},
   "source": [
    "### In-sample results (within training horizon)"
   ]
  },
  {
   "cell_type": "code",
   "execution_count": null,
   "id": "fd3a7bc7-0270-4944-9f90-b70012608fb6",
   "metadata": {},
   "outputs": [],
   "source": [
    "#path = path_results+'/InSample'\n",
    "path = copy.deepcopy(path_results)"
   ]
  },
  {
   "cell_type": "code",
   "execution_count": null,
   "id": "446ff64f-2a37-4601-9729-db48f936ad0d",
   "metadata": {},
   "outputs": [],
   "source": [
    "# Load aggregated results\n",
    "results_GwSAA = pd.read_csv(path+'/'+GwSAA+'_results_summary.csv')\n",
    "results_wSAA = pd.read_csv(path+'/'+wSAA+'_results_summary.csv')\n",
    "results_GwSAAR = pd.read_csv(path+'/'+GwSAAR+'_results_summary.csv')\n",
    "results_wSAAR = pd.read_csv(path+'/'+wSAAR+'_results_summary.csv')\n",
    "results_SAA = pd.read_csv(path+'/'+SAA+'_results_summary.csv')\n",
    "results_ExPost = pd.read_csv(path+'/'+ExPost+'_results_summary.csv')"
   ]
  },
  {
   "cell_type": "code",
   "execution_count": null,
   "id": "4def5fdf-1cbc-4e5c-b644-69af7ad7c584",
   "metadata": {},
   "outputs": [],
   "source": [
    "# Find best tau\n",
    "results_GwSAA_best = evaluation.best_tau(results_GwSAA, results_ExPost, groupby=['CR', 'product'])\n",
    "results_wSAA_best = evaluation.best_tau(results_wSAA, results_ExPost, groupby=['CR', 'product'])\n",
    "results_GwSAAR_best = evaluation.best_tau(results_GwSAAR, results_ExPost, groupby=['CR', 'product', 'e'])\n",
    "results_wSAAR_best = evaluation.best_tau(results_wSAAR, results_ExPost, groupby=['CR', 'product', 'e'])\n",
    "results_SAA_best = evaluation.best_tau(results_SAA, results_ExPost, groupby=['CR', 'product'])"
   ]
  },
  {
   "cell_type": "code",
   "execution_count": null,
   "id": "484043f1-4927-491c-ac78-6a9dd838e3b5",
   "metadata": {},
   "outputs": [],
   "source": [
    "# Find best e given best tau for robust models\n",
    "results_GwSAAR_best = evaluation.best_e(results_GwSAAR_best, results_ExPost, groupby=['CR', 'product'])\n",
    "results_wSAAR_best = evaluation.best_e(results_wSAAR_best, results_ExPost, groupby=['CR', 'product'])"
   ]
  },
  {
   "cell_type": "code",
   "execution_count": null,
   "id": "98b8bca3-7a30-4593-8950-3e9140938e48",
   "metadata": {},
   "outputs": [],
   "source": [
    "# Combine to one results data set\n",
    "cols = ['model', 'CR', 'tau', 'e', 'product', 'K', 'u', 'h', 'b', \n",
    "        'I', 'q', 'I_q', 'y', 'I_q_y', 'c_o', 'c_s', 'cost',\n",
    "       'defaulted', 'solutions', 'gap', 'exec_time_sec', 'cpu_time_sec']\n",
    "\n",
    "results_GwSAA_best['model'] = copy.deepcopy(GwSAA)\n",
    "results_GwSAA_best['e'] = None\n",
    "results_GwSAA_best = results_GwSAA_best[cols]\n",
    "\n",
    "results_wSAA_best['model'] = copy.deepcopy(wSAA)\n",
    "results_wSAA_best['e'] = None\n",
    "results_wSAA_best = results_wSAA_best[cols]\n",
    "\n",
    "results_GwSAAR_best['model'] = copy.deepcopy(GwSAAR)\n",
    "results_GwSAAR_best = results_GwSAAR_best[cols]\n",
    "\n",
    "results_wSAAR_best['model'] = copy.deepcopy(wSAAR) \n",
    "results_wSAAR_best = results_wSAAR_best[cols]\n",
    "\n",
    "results = pd.concat([results_GwSAA_best, results_wSAA_best, results_GwSAAR_best, results_wSAAR_best])"
   ]
  },
  {
   "cell_type": "code",
   "execution_count": null,
   "id": "6401a77e-e714-4c4a-8dca-9ecdb5c9ed73",
   "metadata": {},
   "outputs": [],
   "source": [
    "# Add SAA and ExPost\n",
    "results = pd.merge(left=results,\n",
    "                   right=results_SAA_best[['CR', 'product', 'cost']],\n",
    "                   on=['CR', 'product'],\n",
    "                   suffixes=('', '_SAA'))\n",
    "results = pd.merge(left=results,\n",
    "                   right=results_ExPost[['CR', 'product', 'cost']],\n",
    "                   on=['CR', 'product'],\n",
    "                   suffixes=('', '_ExPost'))"
   ]
  },
  {
   "cell_type": "code",
   "execution_count": null,
   "id": "42af2e17-e5cb-4673-ba22-bddc8f7aa293",
   "metadata": {},
   "outputs": [],
   "source": [
    "# Save\n",
    "results.to_csv(path+'/Results_summary_best.csv', sep=',', index=False)"
   ]
  },
  {
   "cell_type": "markdown",
   "id": "33a0abf2-e293-4079-ad23-56b423c230b6",
   "metadata": {},
   "source": [
    "### Out-of-sample results (within test horizon)"
   ]
  },
  {
   "cell_type": "code",
   "execution_count": null,
   "id": "2dcae372-9861-45ac-9fbc-321a36cb0cac",
   "metadata": {},
   "outputs": [],
   "source": [
    "#path = path_results+'/OutOfSample'\n",
    "path = copy.deepcopy(path_results)"
   ]
  },
  {
   "cell_type": "markdown",
   "id": "9a13028f-ac70-4bed-8a1a-165003c98311",
   "metadata": {},
   "source": [
    "#### Ex-ante best model parameters"
   ]
  },
  {
   "cell_type": "code",
   "execution_count": null,
   "id": "d25c44d4-12f6-4ee1-871d-abc81480f297",
   "metadata": {},
   "outputs": [],
   "source": [
    "# Load ex-ante best results\n",
    "best_exante = read_csv(path_results+'/InSample/Results_summary_best.csv', sep=',', index=False)"
   ]
  },
  {
   "cell_type": "code",
   "execution_count": null,
   "id": "140a9f36-607f-4b2a-92fb-bf5b2616a179",
   "metadata": {},
   "outputs": [],
   "source": [
    "# Load aggregated results\n",
    "results_GwSAA = pd.read_csv(path+'/'+GwSAA+'_results_summary.csv')\n",
    "results_wSAA = pd.read_csv(path+'/'+wSAA+'_results_summary.csv')\n",
    "results_GwSAAR = pd.read_csv(path+'/'+GwSAAR+'_results_summary.csv')\n",
    "results_wSAAR = pd.read_csv(path+'/'+wSAAR+'_results_summary.csv')\n",
    "results_SAA = pd.read_csv(path+'/'+SAA+'_results_summary.csv')\n",
    "results_ExPost = pd.read_csv(path+'/'+ExPost+'_results_summary.csv')"
   ]
  },
  {
   "cell_type": "code",
   "execution_count": null,
   "id": "4c2ddf72-ce88-4f86-bfe9-c55a26790b8c",
   "metadata": {},
   "outputs": [],
   "source": [
    "# Combine to one results data set\n",
    "cols = ['model', 'CR', 'tau', 'e', 'product', 'K', 'u', 'h', 'b', \n",
    "        'I', 'q', 'I_q', 'y', 'I_q_y', 'c_o', 'c_s', 'cost',\n",
    "       'defaulted', 'solutions', 'gap', 'exec_time_sec', 'cpu_time_sec']\n",
    "\n",
    "results_GwSAA_best['model'] = copy.deepcopy(GwSAA)\n",
    "results_GwSAA_best['e'] = None\n",
    "results_GwSAA_best = results_GwSAA_best[cols]\n",
    "\n",
    "results_wSAA_best['model'] = copy.deepcopy(wSAA)\n",
    "results_wSAA_best['e'] = None\n",
    "results_wSAA_best = results_wSAA_best[cols]\n",
    "\n",
    "results_GwSAAR_best['model'] = copy.deepcopy(GwSAAR)\n",
    "results_GwSAAR_best = results_GwSAAR_best[cols]\n",
    "\n",
    "results_wSAAR_best['model'] = copy.deepcopy(wSAAR) \n",
    "results_wSAAR_best = results_wSAAR_best[cols]\n",
    "\n",
    "results = pd.concat([results_GwSAA_best, results_wSAA_best, results_GwSAAR_best, results_wSAAR_best])"
   ]
  },
  {
   "cell_type": "code",
   "execution_count": null,
   "id": "fa83a2cb-f362-4653-aa2b-4fa5138851c3",
   "metadata": {},
   "outputs": [],
   "source": [
    "# Add SAA and ExPost\n",
    "results = pd.merge(left=results,\n",
    "                   right=results_SAA_best[['CR', 'product', 'cost']],\n",
    "                   on=['CR', 'product'],\n",
    "                   suffixes=('', '_SAA'))\n",
    "results = pd.merge(left=results,\n",
    "                   right=results_ExPost[['CR', 'product', 'cost']],\n",
    "                   on=['CR', 'product'],\n",
    "                   suffixes=('', '_ExPost'))"
   ]
  },
  {
   "cell_type": "code",
   "execution_count": null,
   "id": "ce11a89c-3b54-4572-830e-bc167fedcd27",
   "metadata": {},
   "outputs": [],
   "source": [
    "# Select based on ex-ante best model paramaters\n",
    "results = pd.merge(left=best_exante[['CR', 'model', 'tau', 'e', 'product']],\n",
    "                   right=results,\n",
    "                   on=['CR', 'model', 'tau', 'e', 'product'])"
   ]
  },
  {
   "cell_type": "code",
   "execution_count": null,
   "id": "d7588c97-8dc8-4505-bb63-1c06de7a620a",
   "metadata": {},
   "outputs": [],
   "source": [
    "# Save\n",
    "results.to_csv(path+'/Results_summary_best_exante.csv', sep=',', index=False)"
   ]
  },
  {
   "cell_type": "markdown",
   "id": "fdb9198d-73c1-4e41-b1c7-20f481f26dd3",
   "metadata": {},
   "source": [
    "#### Ex-post best model paramaters"
   ]
  },
  {
   "cell_type": "code",
   "execution_count": null,
   "id": "2ab1e5dd-efb5-41f5-abd8-da63b62edfd1",
   "metadata": {},
   "outputs": [],
   "source": [
    "# Load aggregated results\n",
    "results_GwSAA = pd.read_csv(path+'/'+GwSAA+'_results_summary.csv')\n",
    "results_wSAA = pd.read_csv(path+'/'+wSAA+'_results_summary.csv')\n",
    "results_GwSAAR = pd.read_csv(path+'/'+GwSAAR+'_results_summary.csv')\n",
    "results_wSAAR = pd.read_csv(path+'/'+wSAAR+'_results_summary.csv')\n",
    "results_SAA = pd.read_csv(path+'/'+SAA+'_results_summary.csv')\n",
    "results_ExPost = pd.read_csv(path+'/'+ExPost+'_results_summary.csv')"
   ]
  },
  {
   "cell_type": "code",
   "execution_count": null,
   "id": "f62b3c25-7ef4-422c-a162-b646ee81c4c0",
   "metadata": {},
   "outputs": [],
   "source": [
    "# Find best tau\n",
    "results_GwSAA_best = evaluation.best_tau(results_GwSAA, results_ExPost, groupby=['CR', 'product'])\n",
    "results_wSAA_best = evaluation.best_tau(results_wSAA, results_ExPost, groupby=['CR', 'product'])\n",
    "results_GwSAAR_best = evaluation.best_tau(results_GwSAAR, results_ExPost, groupby=['CR', 'product', 'e'])\n",
    "results_wSAAR_best = evaluation.best_tau(results_wSAAR, results_ExPost, groupby=['CR', 'product', 'e'])\n",
    "results_SAA_best = evaluation.best_tau(results_SAA, results_ExPost, groupby=['CR', 'product'])"
   ]
  },
  {
   "cell_type": "code",
   "execution_count": null,
   "id": "b8819136-0424-4a96-a5de-7814140fefab",
   "metadata": {},
   "outputs": [],
   "source": [
    "# Find best e given best tau for robust models\n",
    "results_GwSAAR_best = evaluation.best_e(results_GwSAAR_best, results_ExPost, groupby=['CR', 'product'])\n",
    "results_wSAAR_best = evaluation.best_e(results_wSAAR_best, results_ExPost, groupby=['CR', 'product'])"
   ]
  },
  {
   "cell_type": "code",
   "execution_count": null,
   "id": "634d405b-c2f4-4acf-9983-77535b3fed78",
   "metadata": {},
   "outputs": [],
   "source": [
    "# Combine to one results data set\n",
    "cols = ['model', 'CR', 'tau', 'e', 'product', 'K', 'u', 'h', 'b', \n",
    "        'I', 'q', 'I_q', 'y', 'I_q_y', 'c_o', 'c_s', 'cost',\n",
    "       'defaulted', 'solutions', 'gap', 'exec_time_sec', 'cpu_time_sec']\n",
    "\n",
    "results_GwSAA_best['model'] = copy.deepcopy(GwSAA)\n",
    "results_GwSAA_best['e'] = None\n",
    "results_GwSAA_best = results_GwSAA_best[cols]\n",
    "\n",
    "results_wSAA_best['model'] = copy.deepcopy(wSAA)\n",
    "results_wSAA_best['e'] = None\n",
    "results_wSAA_best = results_wSAA_best[cols]\n",
    "\n",
    "results_GwSAAR_best['model'] = copy.deepcopy(GwSAAR)\n",
    "results_GwSAAR_best = results_GwSAAR_best[cols]\n",
    "\n",
    "results_wSAAR_best['model'] = copy.deepcopy(wSAAR) \n",
    "results_wSAAR_best = results_wSAAR_best[cols]\n",
    "\n",
    "results = pd.concat([results_GwSAA_best, results_wSAA_best, results_GwSAAR_best, results_wSAAR_best])"
   ]
  },
  {
   "cell_type": "code",
   "execution_count": null,
   "id": "b211d437-9bcc-458f-b5c0-42d011e164a2",
   "metadata": {},
   "outputs": [],
   "source": [
    "# Add SAA and ExPost\n",
    "results = pd.merge(left=results,\n",
    "                   right=results_SAA_best[['CR', 'product', 'cost']],\n",
    "                   on=['CR', 'product'],\n",
    "                   suffixes=('', '_SAA'))\n",
    "results = pd.merge(left=results,\n",
    "                   right=results_ExPost[['CR', 'product', 'cost']],\n",
    "                   on=['CR', 'product'],\n",
    "                   suffixes=('', '_ExPost'))"
   ]
  },
  {
   "cell_type": "code",
   "execution_count": null,
   "id": "8b4b9d51-3a3a-4d03-a519-c3749dd1de17",
   "metadata": {},
   "outputs": [],
   "source": [
    "# Save\n",
    "results.to_csv(path+'/Results_summary_best_expost.csv', sep=',', index=False)"
   ]
  },
  {
   "cell_type": "code",
   "execution_count": null,
   "id": "802de498-5d60-4aff-b4c5-a07ba3e07343",
   "metadata": {},
   "outputs": [],
   "source": []
  },
  {
   "cell_type": "markdown",
   "id": "f8789ea5-a633-4b23-9c55-b43114bd08e1",
   "metadata": {},
   "source": [
    "## Select models"
   ]
  },
  {
   "cell_type": "markdown",
   "id": "2b6c0c87-3d96-4d91-b6ad-51376249c59f",
   "metadata": {},
   "source": [
    "### In-sample results (within training horizon)"
   ]
  },
  {
   "cell_type": "code",
   "execution_count": null,
   "id": "2cbd523d-0cab-435d-bcdf-a5bb52d4c5be",
   "metadata": {},
   "outputs": [],
   "source": [
    "# Load results\n",
    "results = read_csv(path_results+'/InSample/Results_summary_best.csv', sep=',', index=False)"
   ]
  },
  {
   "cell_type": "code",
   "execution_count": null,
   "id": "a5c466b3-d790-4395-8ec8-ec3cafad1e15",
   "metadata": {},
   "outputs": [],
   "source": [
    "## ..."
   ]
  },
  {
   "cell_type": "code",
   "execution_count": null,
   "id": "9ecc9312-7d41-48bf-a1ad-e7ef988fc1fe",
   "metadata": {},
   "outputs": [],
   "source": [
    "## Share of products for per model selected"
   ]
  },
  {
   "cell_type": "code",
   "execution_count": null,
   "id": "b2825256-96a3-4be2-8573-80d04cf0bf86",
   "metadata": {},
   "outputs": [],
   "source": [
    "## Share of (ex-post optimal) cost) of products per model selected"
   ]
  },
  {
   "cell_type": "code",
   "execution_count": null,
   "id": "65c88aeb-97a5-402e-becb-e28427afbedd",
   "metadata": {},
   "outputs": [],
   "source": [
    "## Performance of model selection vs. individual models"
   ]
  },
  {
   "cell_type": "code",
   "execution_count": null,
   "id": "fbd5795b-30f0-4dc3-971b-6b5ce55c2fed",
   "metadata": {},
   "outputs": [],
   "source": [
    "## ..."
   ]
  },
  {
   "cell_type": "markdown",
   "id": "9ee0c082-d648-455f-9775-124594f8652f",
   "metadata": {},
   "source": [
    "### Out-of-sample results (within test horizon)"
   ]
  },
  {
   "cell_type": "markdown",
   "id": "50deb3bc-66e8-4795-927c-c4f615859476",
   "metadata": {},
   "source": [
    "#### Ex-ante best models"
   ]
  },
  {
   "cell_type": "code",
   "execution_count": null,
   "id": "ff86d1ee-3ce9-4805-a00f-2630d0962a9d",
   "metadata": {},
   "outputs": [],
   "source": [
    "# Load results\n",
    "results = read_csv(path_results+'/OutOfSample/Results_summary_best_exante.csv', sep=',', index=False)"
   ]
  },
  {
   "cell_type": "code",
   "execution_count": null,
   "id": "2c27d702-a189-4084-8e8e-79bf84740ebb",
   "metadata": {},
   "outputs": [],
   "source": [
    "## ..."
   ]
  },
  {
   "cell_type": "code",
   "execution_count": null,
   "id": "bc6efded-471e-4205-b075-8ed50c89ffe0",
   "metadata": {},
   "outputs": [],
   "source": [
    "## Share of products for per model selected"
   ]
  },
  {
   "cell_type": "code",
   "execution_count": null,
   "id": "a87c7920-2316-4d5b-8776-a2e7347c26dd",
   "metadata": {},
   "outputs": [],
   "source": [
    "## Share of (ex-post optimal) cost) of products per model selected"
   ]
  },
  {
   "cell_type": "code",
   "execution_count": null,
   "id": "02bc722f-a8b3-41de-86c4-5251ee10073f",
   "metadata": {},
   "outputs": [],
   "source": [
    "## Performance of model selection vs. individual models"
   ]
  },
  {
   "cell_type": "code",
   "execution_count": null,
   "id": "ac4eef8a-13d7-4b50-8fda-eb4d6f907fe2",
   "metadata": {},
   "outputs": [],
   "source": [
    "## ..."
   ]
  },
  {
   "cell_type": "markdown",
   "id": "a9ca37e9-f334-46b1-bc26-7f9335443a66",
   "metadata": {},
   "source": [
    "#### Ex-post best models"
   ]
  },
  {
   "cell_type": "code",
   "execution_count": null,
   "id": "28025388-4694-4013-900a-113492043a33",
   "metadata": {},
   "outputs": [],
   "source": [
    "# Load results\n",
    "results = read_csv(path_results+'/OutOfSample/Results_summary_best_expost.csv', sep=',', index=False)"
   ]
  },
  {
   "cell_type": "code",
   "execution_count": null,
   "id": "3b766729-42fd-44c0-a84f-f21c22f5dff6",
   "metadata": {},
   "outputs": [],
   "source": [
    "## ..."
   ]
  },
  {
   "cell_type": "code",
   "execution_count": null,
   "id": "dd39018d-8ec5-4de8-9277-75b4478c8507",
   "metadata": {},
   "outputs": [],
   "source": [
    "## Share of products for per model selected"
   ]
  },
  {
   "cell_type": "code",
   "execution_count": null,
   "id": "abd057eb-28e1-4400-aaaa-96ab02dbc059",
   "metadata": {},
   "outputs": [],
   "source": [
    "## Share of (ex-post optimal) cost) of products per model selected"
   ]
  },
  {
   "cell_type": "code",
   "execution_count": null,
   "id": "0b70b1c3-4c44-4d88-8f34-3bee72804f09",
   "metadata": {},
   "outputs": [],
   "source": [
    "## Performance of model selection vs. individual models"
   ]
  },
  {
   "cell_type": "code",
   "execution_count": null,
   "id": "17ec8042-e000-40dd-9bb4-b7d56ba53367",
   "metadata": {},
   "outputs": [],
   "source": [
    "## ..."
   ]
  },
  {
   "cell_type": "code",
   "execution_count": null,
   "id": "80ba5cbf-f001-4d72-bfc3-316de2772661",
   "metadata": {},
   "outputs": [],
   "source": []
  },
  {
   "cell_type": "code",
   "execution_count": null,
   "id": "c7c73a20-cd0b-4118-a64e-060e34414903",
   "metadata": {},
   "outputs": [],
   "source": []
  },
  {
   "cell_type": "markdown",
   "id": "46e55532-cdb0-4dbe-99bd-bbbd486e0e9e",
   "metadata": {},
   "source": [
    "# II. Predictive performance results"
   ]
  },
  {
   "cell_type": "markdown",
   "id": "9d22de5e-a3f6-4f66-b7d9-b7d4b42bbade",
   "metadata": {},
   "source": [
    "## In-sample results (within training horizon)"
   ]
  },
  {
   "cell_type": "code",
   "execution_count": null,
   "id": "30bdb480-f0ff-4d85-9838-3720580c6797",
   "metadata": {},
   "outputs": [],
   "source": [
    "#path = path_results+'/InSample'\n",
    "path = copy.deepcopy('')"
   ]
  },
  {
   "cell_type": "code",
   "execution_count": null,
   "id": "c1dc5940-eb52-4e8f-afcd-07e31f6eaf1d",
   "metadata": {},
   "outputs": [],
   "source": [
    "n_jobs=32"
   ]
  },
  {
   "cell_type": "code",
   "execution_count": null,
   "id": "1748e281-aa8b-4249-a870-e7689e63e0b6",
   "metadata": {},
   "outputs": [],
   "source": [
    "# Initialize\n",
    "results_global = {}\n",
    "results_local = {}\n",
    "\n",
    "# For each look-ahead tau=0,...,4\n",
    "for tau in taus:\n",
    "    \n",
    "    print('#### Look-ahead tau='+str(tau)+'...')\n",
    "    start_time = dt.datetime.now().replace(microsecond=0)\n",
    "\n",
    "    # Initialize Experiment\n",
    "    experiment = Experiment(**experiment_setup)\n",
    "    evaluation = Evaluation(**experiment_setup)\n",
    "    \n",
    "    # Initialize\n",
    "    results_global[tau] = {}\n",
    "    results_local[tau] = {}\n",
    "\n",
    "    # Load preprocessed data (alternatively, data can be preprocessed here)\n",
    "    data_global = load(path_weightsmodel+'/InSample/global_data_tau'+str(tau)+'.joblib')\n",
    "    data_local = load(path_weightsmodel+'/InSample/local_data_tau'+str(tau)+'.joblib')\n",
    "\n",
    "    # Load weights\n",
    "    weights_global = load(path_weightsmodel+'/InSample/'+global_weightsmodel+'_weights_tau'+str(tau)+'.joblib') \n",
    "    weights_local = load(path_weightsmodel+'/InSample/'+local_weightsmodel+'_weights_tau'+str(tau)+'.joblib') \n",
    "\n",
    "    # Preprocess experiment data\n",
    "    weights_global_, samples_global_, actuals_global_ = experiment.preprocess_data(data_global, weights_global)\n",
    "    weights_local_, samples_local_, actuals_local_ = experiment.preprocess_data(data_local, weights_local)\n",
    "\n",
    "    # Evaluation of predictive performance: global training and sampling\n",
    "    with experiment.tqdm_joblib(tqdm(desc='Progress', total=len(products))) as progress_bar:\n",
    "        results = Parallel(n_jobs=n_jobs)(delayed(evaluation.predictive_performance)(weights=weights_global_[product], \n",
    "                                                                                     samples=samples_global_[product], \n",
    "                                                                                     samples_saa=samples_local_[product], \n",
    "                                                                                     actuals=actuals_local_[product]) for product in products)\n",
    "        \n",
    "        \n",
    "    for p in range(len(results)):\n",
    "        results_global[tau][products[p]] = results[p]\n",
    "\n",
    "    # Evaluation of predictive performance: local training and sampling\n",
    "    with experiment.tqdm_joblib(tqdm(desc='Progress', total=len(products))) as progress_bar:\n",
    "        results = Parallel(n_jobs=n_jobs)(delayed(evaluation.predictive_performance)(weights=weights_local_[product], \n",
    "                                                                                     samples=samples_local_[product], \n",
    "                                                                                     samples_saa=samples_local_[product], \n",
    "                                                                                     actuals=actuals_local_[product]) for product in products)\n",
    "\n",
    "    for p in range(len(results)):\n",
    "        results_local[tau][products[p]] = results[p]\n",
    "        \n",
    "     # Status\n",
    "    print('...done in', dt.datetime.now().replace(microsecond=0) - start_time)  "
   ]
  },
  {
   "cell_type": "code",
   "execution_count": null,
   "id": "e080696e-0967-4d07-ab27-ef05e26e8b30",
   "metadata": {},
   "outputs": [],
   "source": [
    "# Post-processing \n",
    "results_rmsse_global, results_rmsse_local = [], []\n",
    "results_spl_global, results_spl_local = [], []\n",
    "   \n",
    "# For each look-ahead tau=0,...,5\n",
    "for tau in taus:\n",
    "    \n",
    "    result_rmsse_global, result_rmsse_local = [], []\n",
    "    result_spl_global, result_spl_local = [], []\n",
    "\n",
    "    # For each product (SKU) k=1,...,M\n",
    "    for product in products:\n",
    "        \n",
    "        # Get results\n",
    "        rmsse_global, spl_global = results_global[tau][product]\n",
    "        rmsse_local, spl_local = results_local[tau][product]\n",
    "        \n",
    "        # Append over products\n",
    "        result_rmsse_global += [rmsse_global]\n",
    "        result_spl_global += [pd.DataFrame({'tau': tau, 'product': product, 'u': spl_global.keys(), 'spl': spl_global.values()})]\n",
    " \n",
    "        result_rmsse_local += [rmsse_local]\n",
    "        result_spl_local += [pd.DataFrame({'tau': tau, 'product': product, 'u': spl_local.keys(), 'spl': spl_local.values()})]\n",
    "\n",
    "    # Append over tau\n",
    "    results_rmsse_global += [pd.DataFrame({'tau': tau, 'product': products, 'rmsse': result_rmsse_global})]\n",
    "    results_spl_global += [pd.concat(result_spl_global).reset_index(drop=True)]\n",
    "\n",
    "    results_rmsse_local += [pd.DataFrame({'tau': tau, 'product': products, 'rmsse': result_rmsse_local})]\n",
    "    results_spl_local += [pd.concat(result_spl_local).reset_index(drop=True)]\n",
    "\n",
    "# Finalize\n",
    "results_rmsse_global = pd.concat(results_rmsse_global).reset_index(drop=True)\n",
    "results_spl_global = pd.concat(results_spl_global).reset_index(drop=True)\n",
    "\n",
    "results_rmsse_local = pd.concat(results_rmsse_local).reset_index(drop=True)\n",
    "results_spl_local = pd.concat(results_spl_local).reset_index(drop=True)"
   ]
  },
  {
   "cell_type": "code",
   "execution_count": null,
   "id": "70607556-c5e4-47c3-ae39-97999dc46dfc",
   "metadata": {},
   "outputs": [],
   "source": [
    "# Save predictive performance results\n",
    "results_rmsse_global.to_csv(path_results+'/InSample/Predictive_performance_rmsse_global.csv', sep=',', index=False)\n",
    "results_spl_global.to_csv(path_results+'/InSample/Predictive_performance_spl_global.csv', sep=',', index=False)\n",
    "\n",
    "results_rmsse_local.to_csv(path_results+'/InSample/Predictive_performance_rmsse_local.csv', sep=',', index=False)\n",
    "results_spl_local.to_csv(path_results+'/InSample/Predictive_performance_spl_local.csv', sep=',', index=False)"
   ]
  },
  {
   "cell_type": "markdown",
   "id": "5bac7b2c-ab11-4a7b-962c-682530fa3c48",
   "metadata": {},
   "source": [
    "## Out-of-sample results (within test horizon)"
   ]
  },
  {
   "cell_type": "code",
   "execution_count": null,
   "id": "97de1164-7c75-441c-9898-0c387429a21f",
   "metadata": {},
   "outputs": [],
   "source": [
    "#path = path_results+'/OutOfSample'\n",
    "path = copy.deepcopy('')"
   ]
  },
  {
   "cell_type": "code",
   "execution_count": null,
   "id": "35988a4d-6c07-4a36-b3ed-faf36d2a7f69",
   "metadata": {},
   "outputs": [],
   "source": [
    "n_jobs=32"
   ]
  },
  {
   "cell_type": "code",
   "execution_count": null,
   "id": "a5c4dc00-6b49-44ce-abdf-5fda5bf1d799",
   "metadata": {},
   "outputs": [],
   "source": [
    "# Initialize\n",
    "results_global = {}\n",
    "results_local = {}\n",
    "\n",
    "# For each look-ahead tau=0,...,4\n",
    "for tau in taus:\n",
    "    \n",
    "    print('#### Look-ahead tau='+str(tau)+'...')\n",
    "    start_time = dt.datetime.now().replace(microsecond=0)\n",
    "\n",
    "    # Initialize Experiment\n",
    "    experiment = Experiment(**experiment_setup)\n",
    "    evaluation = Evaluation(**experiment_setup)\n",
    "    \n",
    "    # Initialize\n",
    "    results_global[tau] = {}\n",
    "    results_local[tau] = {}\n",
    "\n",
    "    # Load preprocessed data (alternatively, data can be preprocessed here)\n",
    "    data_global = load(path_weightsmodel+'/OutOfSample/global_data_tau'+str(tau)+'.joblib')\n",
    "    data_local = load(path_weightsmodel+'/OutOfSample/local_data_tau'+str(tau)+'.joblib')\n",
    "\n",
    "    # Load weights\n",
    "    weights_global = load(path_weightsmodel+'/OutOfSample/'+global_weightsmodel+'_weights_tau'+str(tau)+'.joblib') \n",
    "    weights_local = load(path_weightsmodel+'/OutOfSample/'+local_weightsmodel+'_weights_tau'+str(tau)+'.joblib') \n",
    "\n",
    "    # Preprocess experiment data\n",
    "    weights_global_, samples_global_, actuals_global_ = experiment.preprocess_data(data_global, weights_global)\n",
    "    weights_local_, samples_local_, actuals_local_ = experiment.preprocess_data(data_local, weights_local)\n",
    "\n",
    "    # Evaluation of predictive performance: global training and sampling\n",
    "    with experiment.tqdm_joblib(tqdm(desc='Progress', total=len(products))) as progress_bar:\n",
    "        results = Parallel(n_jobs=n_jobs)(delayed(evaluation.predictive_performance)(weights=weights_global_[product], \n",
    "                                                                                     samples=samples_global_[product], \n",
    "                                                                                     samples_saa=samples_local_[product], \n",
    "                                                                                     actuals=actuals_local_[product]) for product in products)\n",
    "        \n",
    "        \n",
    "    for p in range(len(results)):\n",
    "        results_global[tau][products[p]] = results[p]\n",
    "\n",
    "    # Evaluation of predictive performance: local training and sampling\n",
    "    with experiment.tqdm_joblib(tqdm(desc='Progress', total=len(products))) as progress_bar:\n",
    "        results = Parallel(n_jobs=n_jobs)(delayed(evaluation.predictive_performance)(weights=weights_local_[product], \n",
    "                                                                                     samples=samples_local_[product], \n",
    "                                                                                     samples_saa=samples_local_[product], \n",
    "                                                                                     actuals=actuals_local_[product]) for product in products)\n",
    "\n",
    "    for p in range(len(results)):\n",
    "        results_local[tau][products[p]] = results[p]\n",
    "        \n",
    "     # Status\n",
    "    print('...done in', dt.datetime.now().replace(microsecond=0) - start_time)  "
   ]
  },
  {
   "cell_type": "code",
   "execution_count": null,
   "id": "219fa7bc-1796-44ee-9c1b-6402e91fe199",
   "metadata": {},
   "outputs": [],
   "source": [
    "# Post-processing \n",
    "results_rmsse_global, results_rmsse_local = [], []\n",
    "results_spl_global, results_spl_local = [], []\n",
    "   \n",
    "# For each look-ahead tau=0,...,5\n",
    "for tau in taus:\n",
    "    \n",
    "    result_rmsse_global, result_rmsse_local = [], []\n",
    "    result_spl_global, result_spl_local = [], []\n",
    "\n",
    "    # For each product (SKU) k=1,...,M\n",
    "    for product in products:\n",
    "        \n",
    "        # Get results\n",
    "        rmsse_global, spl_global = results_global[tau][product]\n",
    "        rmsse_local, spl_local = results_local[tau][product]\n",
    "        \n",
    "        # Append over products\n",
    "        result_rmsse_global += [rmsse_global]\n",
    "        result_spl_global += [pd.DataFrame({'tau': tau, 'product': product, 'u': spl_global.keys(), 'spl': spl_global.values()})]\n",
    " \n",
    "        result_rmsse_local += [rmsse_local]\n",
    "        result_spl_local += [pd.DataFrame({'tau': tau, 'product': product, 'u': spl_local.keys(), 'spl': spl_local.values()})]\n",
    "\n",
    "    # Append over tau\n",
    "    results_rmsse_global += [pd.DataFrame({'tau': tau, 'product': products, 'rmsse': result_rmsse_global})]\n",
    "    results_spl_global += [pd.concat(result_spl_global).reset_index(drop=True)]\n",
    "\n",
    "    results_rmsse_local += [pd.DataFrame({'tau': tau, 'product': products, 'rmsse': result_rmsse_local})]\n",
    "    results_spl_local += [pd.concat(result_spl_local).reset_index(drop=True)]\n",
    "\n",
    "# Finalize\n",
    "results_rmsse_global = pd.concat(results_rmsse_global).reset_index(drop=True)\n",
    "results_spl_global = pd.concat(results_spl_global).reset_index(drop=True)\n",
    "\n",
    "results_rmsse_local = pd.concat(results_rmsse_local).reset_index(drop=True)\n",
    "results_spl_local = pd.concat(results_spl_local).reset_index(drop=True)"
   ]
  },
  {
   "cell_type": "code",
   "execution_count": null,
   "id": "ba9c5180-283b-41fd-b24b-226d4acee0bc",
   "metadata": {},
   "outputs": [],
   "source": [
    "# Save predictive performance results\n",
    "results_rmsse_global.to_csv(path_results+'/OutOfSample/Predictive_performance_rmsse_global.csv', sep=',', index=False)\n",
    "results_spl_global.to_csv(path_results+'/OutOfSample/Predictive_performance_spl_global.csv', sep=',', index=False)\n",
    "\n",
    "results_rmsse_local.to_csv(path_results+'/OutOfSample/Predictive_performance_rmsse_local.csv', sep=',', index=False)\n",
    "results_spl_local.to_csv(path_results+'/OutOfSample/Predictive_performance_spl_local.csv', sep=',', index=False)"
   ]
  },
  {
   "cell_type": "code",
   "execution_count": null,
   "id": "267148d0-d3d2-4f4a-a5a4-2fce06090f5c",
   "metadata": {},
   "outputs": [],
   "source": []
  },
  {
   "cell_type": "code",
   "execution_count": null,
   "id": "4498ac6d-ada0-40cd-9838-98c4f2531a20",
   "metadata": {},
   "outputs": [],
   "source": []
  },
  {
   "cell_type": "code",
   "execution_count": null,
   "id": "1bc288e0-c7e0-48f8-80ac-fab18e08eb65",
   "metadata": {},
   "outputs": [],
   "source": []
  },
  {
   "cell_type": "code",
   "execution_count": null,
   "id": "e31a9cdf-9cbb-4cc9-9c6a-ee1ebe54cb7f",
   "metadata": {},
   "outputs": [],
   "source": []
  },
  {
   "cell_type": "code",
   "execution_count": null,
   "id": "237be5e2-264e-4641-8723-89a36cb02718",
   "metadata": {},
   "outputs": [],
   "source": []
  },
  {
   "cell_type": "code",
   "execution_count": null,
   "id": "ea799bd9-1a34-472b-a9c1-deaab50467b0",
   "metadata": {},
   "outputs": [],
   "source": []
  },
  {
   "cell_type": "code",
   "execution_count": null,
   "id": "e3e21bbf-5873-4eaa-83b7-10601ee03217",
   "metadata": {},
   "outputs": [],
   "source": []
  },
  {
   "cell_type": "code",
   "execution_count": null,
   "id": "6722ad3a-9b1c-473e-a308-e317c59a340d",
   "metadata": {},
   "outputs": [],
   "source": []
  }
 ],
 "metadata": {
  "kernelspec": {
   "display_name": "DDDInventoryControl",
   "language": "python",
   "name": "dddinventorycontrol"
  },
  "language_info": {
   "codemirror_mode": {
    "name": "ipython",
    "version": 3
   },
   "file_extension": ".py",
   "mimetype": "text/x-python",
   "name": "python",
   "nbconvert_exporter": "python",
   "pygments_lexer": "ipython3",
   "version": "3.8.15"
  }
 },
 "nbformat": 4,
 "nbformat_minor": 5
}
